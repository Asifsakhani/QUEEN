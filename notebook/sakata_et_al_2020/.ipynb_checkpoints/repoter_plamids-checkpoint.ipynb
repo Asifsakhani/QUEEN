{
 "cells": [
  {
   "cell_type": "markdown",
   "metadata": {},
   "source": [
    "## Lentiviral base-editing reporter plasmids\n",
    "The C→T reporter circuit was designed to restore a mutated GTG start codon to ATG by C→T base editing of its antisense strand (Extended Data Fig. 2a). In the A→G reporter circuit, EGFP translation was designed to be released by destruction of a TAA stop codon to CAA by A→G base editing of the antisense strand (Extended Data Fig. 2b). To construct the lentiviral C→T base-editing reporter plasmid (pLV-SI-112) and its positive control plasmid (pRS112), reporter cassette fragments were amplified from pLV-eGFP (Addgene 36083) using primer sets 112-V4-BC2-FW/SI680 and RS204/SI627, respectively, and cloned into the EcoRI and BamHI sites of the pLVSIN-CMV-Puro backbone vector (Takara) using T4 DNA ligase (NEB). The lentiviral A→G base-editing reporter plasmid (pLV-SI-121) and its positive control plasmid (pLV-SI-122) were constructed similarly, where reporter cassettes were amplified using primer sets SI760/SI680 and SI761/SI680, respectively."
   ]
  },
  {
   "cell_type": "code",
   "execution_count": 1,
   "metadata": {},
   "outputs": [],
   "source": [
    "%matplotlib inline\n",
    "import sys \n",
    "sys.path.append(\"../../\")\n",
    "from dbrick import *\n",
    "from vis_dbricks import *"
   ]
  },
  {
   "cell_type": "code",
   "execution_count": 2,
   "metadata": {},
   "outputs": [],
   "source": [
    "pLV_eGFP   = Dbrick(record=\"input/addgene_36083.gbk\")\n",
    "pLVSIN_pur = Dbrick(record=\"input/pLVSIN-CMV_pur.gb\")\n",
    "BC2_FW = Dbrick(record=\"input/112-V4-BC2-FW.fasta\")\n",
    "SI680  = Dbrick(record=\"input/SI680.fasta\")"
   ]
  },
  {
   "cell_type": "code",
   "execution_count": 3,
   "metadata": {},
   "outputs": [
    {
     "name": "stdout",
     "output_type": "stream",
     "text": [
      "The region from start 4758 to end 5476 was extracted. Adapter sequneces were detected at both ends. Right redundant sequence is GGTGAATTCCCGAGCGTGTCAGGGTGACCG, Left redundant sequence is AATTGGATCC.\n",
      "New feature was added in the range of start 0 to end 49.\n",
      "New feature was added in the range of start 729 to end 759.\n",
      "The region from start 4 to end 755 was extracted.\n",
      "AATTCCCGA...GTAAG    \n",
      "    GGGCT...CATTCCTAG\n",
      "The region from start 2835 to end 2808 was extracted.\n",
      "GATCCAATT...CGGTG    \n",
      "    GTTAA...GCCACTTAA\n",
      "Joined Dbrick objects based on complementary sticky end of each DNA sequence. The sticky end is 'GATC'\n",
      "Circularization based on complementary sticky end between 3' end and 5' end. Sticky end is 'AATT'\n",
      "Feature_ID  Label                Type          Start  End   Strand  \n",
      "0           BC2_FW               primer        0      45    +       \n",
      "1           regulatory           regulatory    26     29    +       \n",
      "2           source               source        26     745   +       \n",
      "3           EGFP                 CDS           26     745   +       \n",
      "4           EGFP-N               primer_bind   70     92    -       \n",
      "5           EXFP-R               primer_bind   331    351   -       \n",
      "6           EGFP-C               primer_bind   678    700   +       \n",
      "7           SI680                primer        725    750   -       \n",
      "8           source               source        746    4     +       \n",
      "9           PGK promoter         promoter      760    1260  +       \n",
      "10          PuroR                CDS           1279   1879  +       \n",
      "11          WPRE                 misc_feature  1892   2481  +       \n",
      "12          Factor Xa site       CDS           2363   2375  -       \n",
      "13          3' LTR (Delta-U3)    LTR           2687   2921  +       \n",
      "14          M13 rev              primer_bind   3049   3066  -       \n",
      "15          lac operator         protein_bind  3073   3090  +       \n",
      "16          lac promoter         promoter      3097   3128  -       \n",
      "17          CAP binding site     protein_bind  3142   3164  +       \n",
      "18          ori                  rep_origin    3451   4040  -       \n",
      "19          AmpR                 CDS           4210   5071  -       \n",
      "20          AmpR promoter        promoter      5071   5176  -       \n",
      "21          SV40 poly(A) signal  polyA_signal  5223   5358  +       \n",
      "22          3' LTR               LTR           5525   6159  +       \n",
      "23          HIV-1 Psi            misc_feature  6205   6331  +       \n",
      "24          RRE                  misc_feature  6827   7061  +       \n",
      "25          cPPT/CTS             misc_feature  7552   7668  +       \n",
      "26          CMV enhancer         enhancer      7725   8029  +       \n",
      "27          CMV promoter         promoter      8029   8233  +       \n"
     ]
    }
   ],
   "source": [
    "#C→T base-editing reporter plasmid (pLV-SI-112) \n",
    "BamHI    = Dbrick(seq=\"GGATCC\")\n",
    "EcoRI    = Dbrick(seq=\"GAATTC\")\n",
    "insert   = pLV_eGFP[BC2_FW:SI680]\n",
    "insert.add_feature(BC2_FW, feature_type=\"primer\", qualifiers={\"label\":\"BC2_FW\"})\n",
    "insert.add_feature(SI680, feature_type=\"primer\", qualifiers={\"label\":\"SI680\"}, strand=-1)\n",
    "insert   = insert[EcoRI:BamHI]\n",
    "insert   = shell(insert, \"-AATTC/-----G\", \"G-----/CCTAG-\") #Make sticky end\n",
    "insert.view_seq()\n",
    "backbone = pLVSIN_pur[BamHI:EcoRI]\n",
    "#backbone = shell(backbone,\"-*****/----*\",\"-----*/*****-\") #Make sticky end with invalid stracture\n",
    "backbone   = shell(backbone, \"-*****/-----*\", \"*-----/*****-\") #Make sticky end\n",
    "backbone.view_seq()\n",
    "pLV_SI_112 = join_dbricks(insert,backbone,topology=\"circular\")\n",
    "pLV_SI_112.write(\"output/pLV-SI-112.gbk\")\n",
    "pLV_SI_112.view_features()"
   ]
  },
  {
   "cell_type": "code",
   "execution_count": 4,
   "metadata": {},
   "outputs": [
    {
     "name": "stdout",
     "output_type": "stream",
     "text": [
      "5..49:49 828 873 1828\n",
      "8..10:10 854 857 1828\n",
      "2..720:720 854 1573 1828\n",
      "1..240:500 1588 1828 1828\n"
     ]
    },
    {
     "data": {
      "image/png": "[encoded data removed]",
      "text/plain": [
       "<Figure size 216x176.4 with 1 Axes>"
      ]
     },
     "metadata": {
      "needs_background": "light"
     },
     "output_type": "display_data"
    }
   ],
   "source": [
    "fig = visualize(pLV_SI_112[7500:1000])"
   ]
  },
  {
   "cell_type": "code",
   "execution_count": 5,
   "metadata": {},
   "outputs": [
    {
     "name": "stdout",
     "output_type": "stream",
     "text": [
      "The region from start 4760 to end 5476 was extracted. Adapter sequneces were detected at both ends. Right redundant sequence is GGTGAATTCATGCCGAGCGTGTCAGGGTCATAAGGA, Left redundant sequence is AATTGGATCC.\n",
      "New feature was added in the range of start 0 to end 54.\n",
      "New feature was added in the range of start 733 to end 763.\n",
      "The region from start 4 to end 759 was extracted.\n",
      "Joined Dbrick objects based on complementary sticky end of each DNA sequence. The sticky end is 'GATC'\n",
      "Circularization based on complementary sticky end between 3' end and 5' end. Sticky end is 'AATT'\n"
     ]
    }
   ],
   "source": [
    "#A→G base-editing reporter plasmid (pLV-SI-121)\n",
    "SI760 = Dbrick(record=\"input/SI760.fasta\")\n",
    "insert = pLV_eGFP[SI760:SI680]\n",
    "insert.add_feature(SI760, feature_type=\"primer\", qualifiers={\"label\":\"RS760\"})\n",
    "insert.add_feature(SI680, feature_type=\"primer\", qualifiers={\"label\":\"SI680\"}, strand=-1)\n",
    "insert = insert[EcoRI:BamHI]\n",
    "insert = shell(insert, \"-*****/-----*\", \"*-----/*****-\")\n",
    "pRS112 = join_dbricks(insert, backbone, topology=\"circular\")\n",
    "pRS112.write(\"output/pLV-SI-121.gbk\")"
   ]
  },
  {
   "cell_type": "code",
   "execution_count": null,
   "metadata": {},
   "outputs": [],
   "source": []
  }
 ],
 "metadata": {
  "kernelspec": {
   "display_name": "Python 3",
   "language": "python",
   "name": "python3"
  },
  "language_info": {
   "codemirror_mode": {
    "name": "ipython",
    "version": 3
   },
   "file_extension": ".py",
   "mimetype": "text/x-python",
   "name": "python",
   "nbconvert_exporter": "python",
   "pygments_lexer": "ipython3",
   "version": "3.7.7"
  }
 },
 "nbformat": 4,
 "nbformat_minor": 4
}
