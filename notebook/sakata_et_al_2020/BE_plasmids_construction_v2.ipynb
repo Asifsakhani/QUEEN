{
 "cells": [
  {
   "cell_type": "code",
   "execution_count": 1,
   "id": "extensive-employment",
   "metadata": {},
   "outputs": [],
   "source": [
    "import sys \n",
    "sys.path.append(\"../../\")\n",
    "from dna import *"
   ]
  },
  {
   "cell_type": "markdown",
   "id": "furnished-intellectual",
   "metadata": {},
   "source": [
    "**pCMV-Target-AID construction**  \n",
    "The Target-AID plasmid (pCMV-Target-AID) was constructed by assembling two fragments encoding the N- and C-terminus halves of Target-AID, which were both amplified from pcDNA3.1_pCMV-nCas-PmCDA1-ugi pH1-gRNA(HPRT) (Addgene 79620) using primer pairs RS045/HM129 and HM128/RS046, respectively, with a backbone fragment amplified from pCMV-ABE7.10 using RS047/RS048. "
   ]
  },
  {
   "cell_type": "code",
   "execution_count": 2,
   "id": "renewable-trail",
   "metadata": {},
   "outputs": [],
   "source": [
    "pCMV_ABE             = DNA(record=\"input/addgene_102919.gbk\",project=\"pCMV_ABE\")\n",
    "pCMV_nCas_PmCDA1_ugi = DNA(record=\"input/addgene_79620.gbk\", project=\"pCMV-nCas-PmCDA1-ugi\")"
   ]
  },
  {
   "cell_type": "code",
   "execution_count": 3,
   "id": "unlikely-ocean",
   "metadata": {},
   "outputs": [],
   "source": [
    "leave_comment(\"The N-terminus of Target-AID was amplified from pcDNA3.1_pCMV-nCas-PmCDA1-ugi pH1-gRNA(HPRT) (Addgene 79620) using primer pairs RS045/HM129\")\n",
    "RS047 = DNA(record=\"input/RS047.fasta\", project=\"RS047\") \n",
    "RS048 = DNA(record=\"input/RS048.fasta\", project=\"RS048\")\n",
    "FW = pCMV_ABE.finddna(RS047.seq[-15:],key_attribute=\"sequence\")\n",
    "RV = pCMV_ABE.finddna(RS048.seq[-15:],key_attribute=\"sequence\")\n",
    "frag_1 = joindna(RS047, cropdna(pCMV_ABE,*FW,*RV), flipdna(RS048))"
   ]
  },
  {
   "cell_type": "code",
   "execution_count": 4,
   "id": "important-cardiff",
   "metadata": {},
   "outputs": [],
   "source": [
    "leave_comment(\"The C-terminus of Target-AID was amplified from pcDNA3.1_pCMV-nCas-PmCDA1-ugi pH1-gRNA(HPRT) (Addgene 79620) using primer pairs HM128/RS046\")\n",
    "RS045 = DNA(record=\"input/RS045.fasta\", project=\"RS045\") \n",
    "HM129 = DNA(record=\"input/HM129.fasta\", project=\"HM129\")\n",
    "FW = pCMV_nCas_PmCDA1_ugi.finddna(RS045.seq[-15:],key_attribute=\"sequence\")\n",
    "RV = pCMV_nCas_PmCDA1_ugi.finddna(HM129.seq[-15:],key_attribute=\"sequence\")\n",
    "frag_2 = joindna(RS045, cropdna(pCMV_nCas_PmCDA1_ugi,*FW,*RV), flipdna(HM129))"
   ]
  },
  {
   "cell_type": "code",
   "execution_count": 5,
   "id": "furnished-guard",
   "metadata": {},
   "outputs": [],
   "source": [
    "leave_comment(\"The backbone fragment was amplified from pCMV-ABE7.10 using RS047/RS048\")\n",
    "HM128 = DNA(record=\"input/HM128.fasta\", project=\"HM128\") \n",
    "RS046 = DNA(record=\"input/RS046.fasta\", project=\"RS046\")\n",
    "FW = pCMV_nCas_PmCDA1_ugi.finddna(HM128.seq[-15:],key_attribute=\"sequence\")\n",
    "RV = pCMV_nCas_PmCDA1_ugi.finddna(RS046.seq[-15:],key_attribute=\"sequence\")\n",
    "frag_3 = joindna(HM128, cropdna(pCMV_nCas_PmCDA1_ugi,*FW,*RV), flipdna(RS046))"
   ]
  },
  {
   "cell_type": "code",
   "execution_count": 6,
   "id": "assumed-factory",
   "metadata": {},
   "outputs": [],
   "source": [
    "leave_comment(\"The Target-AID plasmid (pCMV-Target-AID) was constructed by assembling two insert fragments and a backbone fragments.\")\n",
    "frag_1 = modifyends(frag_1,\"*{25}/-{25}\",\"-{25}/*{25}\") \n",
    "frag_2 = modifyends(frag_2,\"*{25}/-{25}\",\"-{28}/*{28}\")\n",
    "frag_3 = modifyends(frag_3,\"*{28}/-{28}\",\"-{25}/*{25}\")"
   ]
  },
  {
   "cell_type": "code",
   "execution_count": 7,
   "id": "excited-palmer",
   "metadata": {},
   "outputs": [
    {
     "name": "stdout",
     "output_type": "stream",
     "text": [
      "feature_id  qualifier:label     feature_type  start  end   strand  \n",
      "3100        pCMV-Target-AID     source        0      8752  +       \n",
      "100         null                source        35     3371  +       \n",
      "200         BGH-rev             primer_bind   37     55    -       \n",
      "300         bGH poly(A) signal  polyA_signal  43     268   +       \n",
      "400         M13 rev             primer_bind   338    355   -       \n",
      "500         M13 Reverse         primer_bind   338    355   -       \n",
      "600         M13/pUC Reverse     primer_bind   351    374   -       \n",
      "700         lac operator        protein_bind  362    379   +       \n",
      "800         lac promoter        promoter      386    417   -       \n",
      "900         CAP binding site    protein_bind  431    453   +       \n",
      "1000        L4440               primer_bind   569    587   -       \n",
      "1100        ori                 rep_origin    740    1329  -       \n",
      "1200        pBR322ori-F         primer_bind   820    840   -       \n",
      "1300        AmpR                CDS           1499   2360  -       \n",
      "1400        Amp-R               primer_bind   2122   2142  +       \n",
      "1500        AmpR promoter       promoter      2360   2465  -       \n",
      "1600        pRS-marker          primer_bind   2543   2563  -       \n",
      "1700        CMV enhancer        enhancer      2734   3114  +       \n",
      "1800        CMV promoter        promoter      3114   3318  +       \n",
      "1900        CMV-F               primer_bind   3268   3289  +       \n",
      "2000        T7                  primer_bind   3359   3371  +       \n",
      "2100        T7 promoter         promoter      3359   3371  +       \n",
      "2300        SV40 NLS            CDS           3411   3418  +       \n",
      "2400        null                source        3411   8741  +       \n",
      "2500        Cas9(D10A)          CDS           3442   7546  +       \n",
      "2700        SV40 NLS            CDS           7558   7579  +       \n",
      "2800        3xFLAG              CDS           7786   7852  +       \n",
      "2900        SV40 NLS            CDS           8485   8506  +       \n",
      "3000        UGI                 CDS           8512   8741  +       \n",
      "\n"
     ]
    }
   ],
   "source": [
    "pCMV_Target_AID = joindna(frag_1,frag_2,frag_3,topology=\"circular\",project=\"pCMV-Target-AID\")\n",
    "pCMV_Target_AID.writedna(\"pCMV-Target-AID.gbk\")\n",
    "pCMV_Target_AID.printfeature()"
   ]
  },
  {
   "cell_type": "code",
   "execution_count": 8,
   "id": "mexican-tomorrow",
   "metadata": {},
   "outputs": [
    {
     "name": "stdout",
     "output_type": "stream",
     "text": [
      "from dna import *\n",
      "DNA.dna_dict['pCMV_ABE'] = DNA(seq=None, record='input/addgene_102919.gbk', project='pCMV_ABE', topology='linear', format=None)\n",
      "DNA.dna_dict['pCMV-nCas-PmCDA1-ugi'] = DNA(seq=None, record='input/addgene_79620.gbk', project='pCMV-nCas-PmCDA1-ugi', topology='linear', format=None)\n",
      "\n",
      "#The N-terminus of Target-AID was amplified from pcDNA3.1_pCMV-nCas-PmCDA1-ugi pH1-gRNA(HPRT) (Addgene 79620) using primer pairs RS045/HM129\n",
      "DNA.dna_dict['RS047'] = DNA(seq=None, record='input/RS047.fasta', project='RS047', topology='linear', format=None)\n",
      "DNA.dna_dict['RS048'] = DNA(seq=None, record='input/RS048.fasta', project='RS048', topology='linear', format=None)\n",
      "DNA.dna_dict['pCMV_ABE_0'] = cropdna(DNA.dna_dict['pCMV_ABE'], start='5277/5277', end='8613/8613', project='pCMV_ABE')\n",
      "DNA.dna_dict['RS048_0'] = flipdna(DNA.dna_dict['RS048'], project='RS048')\n",
      "DNA.dna_dict['RS047_0'] = joindna(*[DNA.dna_dict['RS047'],DNA.dna_dict['pCMV_ABE_0'],DNA.dna_dict['RS048_0']], topology='linear', project='RS047')\n",
      "\n",
      "#The C-terminus of Target-AID was amplified from pcDNA3.1_pCMV-nCas-PmCDA1-ugi pH1-gRNA(HPRT) (Addgene 79620) using primer pairs HM128/RS046\n",
      "DNA.dna_dict['RS045'] = DNA(seq=None, record='input/RS045.fasta', project='RS045', topology='linear', format=None)\n",
      "DNA.dna_dict['HM129'] = DNA(seq=None, record='input/HM129.fasta', project='HM129', topology='linear', format=None)\n",
      "DNA.dna_dict['pCMV-nCas-PmCDA1-ugi_0'] = cropdna(DNA.dna_dict['pCMV-nCas-PmCDA1-ugi'], start='3914/3914', end='6442/6442', project='pCMV-nCas-PmCDA1-ugi')\n",
      "DNA.dna_dict['HM129_0'] = flipdna(DNA.dna_dict['HM129'], project='HM129')\n",
      "DNA.dna_dict['RS045_0'] = joindna(*[DNA.dna_dict['RS045'],DNA.dna_dict['pCMV-nCas-PmCDA1-ugi_0'],DNA.dna_dict['HM129_0']], topology='linear', project='RS045')\n",
      "\n",
      "#The backbone fragment was amplified from pCMV-ABE7.10 using RS047/RS048\n",
      "DNA.dna_dict['HM128'] = DNA(seq=None, record='input/HM128.fasta', project='HM128', topology='linear', format=None)\n",
      "DNA.dna_dict['RS046'] = DNA(seq=None, record='input/RS046.fasta', project='RS046', topology='linear', format=None)\n",
      "DNA.dna_dict['pCMV-nCas-PmCDA1-ugi_1'] = cropdna(DNA.dna_dict['pCMV-nCas-PmCDA1-ugi'], start='6484/6484', end='9244/9244', project='pCMV-nCas-PmCDA1-ugi')\n",
      "DNA.dna_dict['RS046_0'] = flipdna(DNA.dna_dict['RS046'], project='RS046')\n",
      "DNA.dna_dict['HM128_0'] = joindna(*[DNA.dna_dict['HM128'],DNA.dna_dict['pCMV-nCas-PmCDA1-ugi_1'],DNA.dna_dict['RS046_0']], topology='linear', project='HM128')\n",
      "\n",
      "#The Target-AID plasmid (pCMV-Target-AID) was constructed by assembling two insert fragments and a backbone fragments.\n",
      "DNA.dna_dict['RS047_1'] = modifyends(DNA.dna_dict['RS047_0'], left='*{25}/-{25}', right='-{25}/*{25}', project='RS047')\n",
      "DNA.dna_dict['RS045_1'] = modifyends(DNA.dna_dict['RS045_0'], left='*{25}/-{25}', right='-{28}/*{28}', project='RS045')\n",
      "DNA.dna_dict['HM128_1'] = modifyends(DNA.dna_dict['HM128_0'], left='*{28}/-{28}', right='-{25}/*{25}', project='HM128')\n",
      "DNA.dna_dict['pCMV-Target-AID'] = joindna(*[DNA.dna_dict['RS047_1'],DNA.dna_dict['RS045_1'],DNA.dna_dict['HM128_1']], topology='circular', project='pCMV-Target-AID')\n",
      "DNA.dna_dict['pCMV-Target-AID'].writedna('reconstructed_pCMV-Target-AID.gbk')\n"
     ]
    }
   ],
   "source": [
    "pCMV_Target_AID.exporthistory() "
   ]
  },
  {
   "cell_type": "code",
   "execution_count": 9,
   "id": "violent-drove",
   "metadata": {},
   "outputs": [
    {
     "name": "stdout",
     "output_type": "stream",
     "text": [
      "[\"DNA.dna_dict['pCMV-nCas-PmCDA1-ugi_2'] = DNA(seq=None, record='input/addgene_79620.gbk', project='pCMV-nCas-PmCDA1-ugi', topology='linear', format=None, comment='The Target-AID plasmid (pCMV-Target-AID) was constructed by assembling two insert fragments and a backbone fragments.')\"]\n"
     ]
    }
   ],
   "source": [
    "from dna import *\n",
    "DNA.dna_dict['pCMV_ABE'] = DNA(seq=None, record='input/addgene_102919.gbk', project='pCMV_ABE', topology='linear', format=None)\n",
    "DNA.dna_dict['pCMV-nCas-PmCDA1-ugi'] = DNA(seq=None, record='input/addgene_79620.gbk', project='pCMV-nCas-PmCDA1-ugi', topology='linear', format=None)\n",
    "\n",
    "#The N-terminus of Target-AID was amplified from pcDNA3.1_pCMV-nCas-PmCDA1-ugi pH1-gRNA(HPRT) (Addgene 79620) using primer pairs RS045/HM129\n",
    "DNA.dna_dict['RS047'] = DNA(seq=None, record='input/RS047.fasta', project='RS047', topology='linear', format=None)\n",
    "DNA.dna_dict['RS048'] = DNA(seq=None, record='input/RS048.fasta', project='RS048', topology='linear', format=None)\n",
    "DNA.dna_dict['pCMV_ABE_0'] = cropdna(DNA.dna_dict['pCMV_ABE'], start='5277/5277', end='8613/8613', project='pCMV_ABE')\n",
    "DNA.dna_dict['RS048_0'] = flipdna(DNA.dna_dict['RS048'], project='RS048')\n",
    "DNA.dna_dict['RS047_0'] = joindna(*[DNA.dna_dict['RS047'],DNA.dna_dict['pCMV_ABE_0'],DNA.dna_dict['RS048_0']], topology='linear', project='RS047')\n",
    "\n",
    "#The C-terminus of Target-AID was amplified from pcDNA3.1_pCMV-nCas-PmCDA1-ugi pH1-gRNA(HPRT) (Addgene 79620) using primer pairs HM128/RS046\n",
    "DNA.dna_dict['RS045'] = DNA(seq=None, record='input/RS045.fasta', project='RS045', topology='linear', format=None)\n",
    "DNA.dna_dict['HM129'] = DNA(seq=None, record='input/HM129.fasta', project='HM129', topology='linear', format=None)\n",
    "DNA.dna_dict['pCMV-nCas-PmCDA1-ugi_0'] = cropdna(DNA.dna_dict['pCMV-nCas-PmCDA1-ugi'], start='3914/3914', end='6442/6442', project='pCMV-nCas-PmCDA1-ugi')\n",
    "DNA.dna_dict['HM129_0'] = flipdna(DNA.dna_dict['HM129'], project='HM129')\n",
    "DNA.dna_dict['RS045_0'] = joindna(*[DNA.dna_dict['RS045'],DNA.dna_dict['pCMV-nCas-PmCDA1-ugi_0'],DNA.dna_dict['HM129_0']], topology='linear', project='RS045')\n",
    "\n",
    "#The backbone fragment was amplified from pCMV-ABE7.10 using RS047/RS048\n",
    "DNA.dna_dict['HM128'] = DNA(seq=None, record='input/HM128.fasta', project='HM128', topology='linear', format=None)\n",
    "DNA.dna_dict['RS046'] = DNA(seq=None, record='input/RS046.fasta', project='RS046', topology='linear', format=None)\n",
    "DNA.dna_dict['pCMV-nCas-PmCDA1-ugi_1'] = cropdna(DNA.dna_dict['pCMV-nCas-PmCDA1-ugi'], start='6484/6484', end='9244/9244', project='pCMV-nCas-PmCDA1-ugi')\n",
    "DNA.dna_dict['RS046_0'] = flipdna(DNA.dna_dict['RS046'], project='RS046')\n",
    "DNA.dna_dict['HM128_0'] = joindna(*[DNA.dna_dict['HM128'],DNA.dna_dict['pCMV-nCas-PmCDA1-ugi_1'],DNA.dna_dict['RS046_0']], topology='linear', project='HM128')\n",
    "\n",
    "#The Target-AID plasmid (pCMV-Target-AID) was constructed by assembling two insert fragments and a backbone fragments.\n",
    "DNA.dna_dict['RS047_1'] = modifyends(DNA.dna_dict['RS047_0'], left='*{25}/-{25}', right='-{25}/*{25}', project='RS047')\n",
    "DNA.dna_dict['RS045_1'] = modifyends(DNA.dna_dict['RS045_0'], left='*{25}/-{25}', right='-{28}/*{28}', project='RS045')\n",
    "DNA.dna_dict['HM128_1'] = modifyends(DNA.dna_dict['HM128_0'], left='*{28}/-{28}', right='-{25}/*{25}', project='HM128')\n",
    "DNA.dna_dict['pCMV-Target-AID'] = joindna(*[DNA.dna_dict['RS047_1'],DNA.dna_dict['RS045_1'],DNA.dna_dict['HM128_1']], topology='circular', project='pCMV-Target-AID')\n",
    "DNA.dna_dict['pCMV-Target-AID'].writedna('reconstructed_pCMV-Target-AID.gbk')"
   ]
  },
  {
   "cell_type": "markdown",
   "id": "married-singapore",
   "metadata": {},
   "source": [
    "**pCMV-Target-ACE construction**  \n",
    "The Target-ACE plasmid (pCMV-Target-ACE) was constructed with a fragment encoding a plasmid backbone as well as ABE7.10 amplified from pCMV-ABE7.10 using RS047/RS052 and a fragment encoding the C-terminus region of Target-AID amplified from pcDNA-pCMV-nCas9 using RS051/RS046."
   ]
  },
  {
   "cell_type": "code",
   "execution_count": 9,
   "id": "julian-stream",
   "metadata": {},
   "outputs": [],
   "source": [
    "#Extract each fragmet\n",
    "RS052 = DNA(record=\"input/RS052.fasta\", project=\"RS052\")\n",
    "FW = pCMV_ABE.finddna(RS047.seq[-15:],key_attribute=\"sequence\")\n",
    "RV = pCMV_ABE.finddna(RS052.seq[-15:],key_attribute=\"sequence\")\n",
    "frag_4 = joindna(RS047, cropdna(pCMV_ABE,*FW,*RV), flipdna(RS052))"
   ]
  },
  {
   "cell_type": "code",
   "execution_count": 10,
   "id": "satisfied-surgery",
   "metadata": {},
   "outputs": [],
   "source": [
    "RS051 = DNA(record=\"input/RS051.fasta\", project=\"RS051\")\n",
    "FW = pCMV_nCas_PmCDA1_ugi.finddna(RS051.seq[-15:],key_attribute=\"sequence\")\n",
    "RV = pCMV_nCas_PmCDA1_ugi.finddna(RS046.seq[-15:],key_attribute=\"sequence\")\n",
    "frag_5 = joindna(RS051, cropdna(pCMV_nCas_PmCDA1_ugi,*FW,*RV), flipdna(RS046))"
   ]
  },
  {
   "cell_type": "code",
   "execution_count": 11,
   "id": "verified-stanford",
   "metadata": {},
   "outputs": [],
   "source": [
    "frag_4 = modifyends(frag_4,\"*{25}/-{25}\",\"-{25}/*{25}\")\n",
    "frag_5 = modifyends(frag_5,\"*{25}/-{25}\",\"-{25}/*{25}\")"
   ]
  },
  {
   "cell_type": "code",
   "execution_count": 12,
   "id": "bright-stadium",
   "metadata": {},
   "outputs": [],
   "source": [
    "#Join fragments\n",
    "pCMV_Target_ACE = joindna(frag_4,frag_5,topology=\"circular\",project=\"pCMV-Target-ACE\")\n",
    "pCMV_Target_ACE.writedna(\"pCMV-Target-ACE.gbk\")"
   ]
  },
  {
   "cell_type": "markdown",
   "id": "pleased-november",
   "metadata": {},
   "source": [
    "**pCMV-Target-AIDmax construction**  \n",
    "To construct the Target-AIDmax plasmid (pCMV-Target-AIDmax), the pUC-optimized-PmCDA1-ugi plasmid encoding the codon-optimized C-terminal region of Target-AIDmax was first constructed by the gene synthesis service of GenScript. This C terminus fragment was then amplified with primer pair SI1304/SI1307 and assembled with a nCas9 fragment amplified from pCMV-BE4max using SI1308/SI1305 and a backbone fragment amplified from pCMV-ABEmax using SI1310/SI1309. "
   ]
  },
  {
   "cell_type": "code",
   "execution_count": 12,
   "id": "duplicate-disclaimer",
   "metadata": {},
   "outputs": [],
   "source": [
    "pCMV_ABEmax = DNA(record=\"input/addgene_112095.gbk\", project=\"pCMV-ABEmax\")\n",
    "pCMV_BE4max = DNA(record=\"input/addgene_112093.gbk\", project=\"pCMV-BE4max\")\n",
    "opt_pmCDA1_ugi = DNA(record=\"input/puc-optimized-pmcda1-ugi.gb\", project=\"opt-pmCDA1-ugi\")"
   ]
  },
  {
   "cell_type": "code",
   "execution_count": 13,
   "id": "environmental-yacht",
   "metadata": {},
   "outputs": [
    {
     "name": "stdout",
     "output_type": "stream",
     "text": [
      "[DNAfeature(FeatureLocation(ExactPosition(5846), ExactPosition(5861), strand=1), type='misc_feature')] [DNAfeature(FeatureLocation(ExactPosition(437), ExactPosition(452), strand=-1), type='misc_feature')]\n"
     ]
    }
   ],
   "source": [
    "SI1310 = DNA(record=\"input/SI1310.fasta\", project=\"SI1310\")\n",
    "SI1309 = DNA(record=\"input/SI1309.fasta\", project=\"SI1309\")\n",
    "FW = pCMV_ABEmax.finddna(SI1310.seq[-15:],key_attribute=\"sequence\")\n",
    "RV = pCMV_ABEmax.finddna(SI1309.seq[-15:],key_attribute=\"sequence\")\n",
    "print(FW,RV)\n",
    "frag_6 = joindna(SI1310, cropdna(pCMV_ABEmax,*FW,*RV), flipdna(SI1309))"
   ]
  },
  {
   "cell_type": "code",
   "execution_count": 14,
   "id": "developmental-optimization",
   "metadata": {},
   "outputs": [],
   "source": [
    "SI1308 = DNA(record=\"input/SI1308.fasta\", project=\"SI1308\")\n",
    "SI1305 = DNA(record=\"input/SI1305.fasta\", project=\"SI1305\")\n",
    "FW = pCMV_BE4max.finddna(SI1308.seq[-15:],key_attribute=\"sequence\")\n",
    "RV = pCMV_BE4max.finddna(SI1305.seq[-15:],key_attribute=\"sequence\")\n",
    "frag_7 = joindna(SI1308, cropdna(pCMV_BE4max,*FW,*RV), flipdna(SI1305))"
   ]
  },
  {
   "cell_type": "code",
   "execution_count": 15,
   "id": "boolean-clock",
   "metadata": {},
   "outputs": [],
   "source": [
    "SI1304 = DNA(record=\"input/SI1304.fasta\", project=\"SI1304\")\n",
    "SI1307 = DNA(record=\"input/SI1307.fasta\", project=\"SI1307\")\n",
    "FW = opt_pmCDA1_ugi.finddna(SI1304.seq[-15:],key_attribute=\"sequence\")\n",
    "RV = opt_pmCDA1_ugi.finddna(SI1307.seq[-15:],key_attribute=\"sequence\")\n",
    "frag_8 = joindna(SI1304, cropdna(opt_pmCDA1_ugi,*FW,*RV), flipdna(SI1307))"
   ]
  },
  {
   "cell_type": "code",
   "execution_count": 17,
   "id": "restricted-alliance",
   "metadata": {},
   "outputs": [
    {
     "name": "stdout",
     "output_type": "stream",
     "text": [
      "5' TGATAATGAGTTTAAACCCGCTGATCAGCC...TTCGAGTC---------------------- 3'\n",
      "3' ------------------------AGTCGG...AAGCTCAGTGGTTTCTTCTTCGCCTTTCAG 5'\n",
      "\n",
      "5' ACCAAAGAAGAAGCGGAAAGTCGACAAGAA...CGGATCGA---------------------- 3'\n",
      "3' ----------------------CTGTTCTT...GCCTAGCTGGACAGAGTCGACCCTCCACTG 5'\n",
      "\n",
      "5' CCTGTCTCAGCTGGGAGGTGACGGCGGAGG...ATGCTG------------------------ 3'\n",
      "3' ----------------------CCGCCTCC...TACGACACTATTACTCAAATTTGGGCGACT 5'\n",
      "\n"
     ]
    }
   ],
   "source": [
    "#Set end seqeunces at both ends\n",
    "frag_6 = modifyends(frag_6,\"*{24}/-{24}\",\"-{22}/*{22}\")\n",
    "frag_7 = modifyends(frag_7,\"*{22}/-{22}\",\"-{22}/*{22}\")\n",
    "frag_8 = modifyends(frag_8,\"*{22}/-{22}\",\"-{24}/*{24}\")\n",
    "frag_6.getdnaseq(display=True,whole=False,end_length=30)\n",
    "frag_7.getdnaseq(display=True,whole=False,end_length=30)\n",
    "frag_8.getdnaseq(display=True,whole=False,end_length=30)"
   ]
  },
  {
   "cell_type": "code",
   "execution_count": 19,
   "id": "academic-search",
   "metadata": {},
   "outputs": [],
   "source": [
    "pCMV_Target_AIDmax = joindna(frag_6,frag_7,frag_8,topology=\"circular\",project=\"pCMV-Target-AIDmax\")\n",
    "pCMV_Target_AIDmax.writedna(\"pCMV-Target-AIDmax.gbk\")"
   ]
  },
  {
   "cell_type": "markdown",
   "id": "possible-makeup",
   "metadata": {},
   "source": [
    "**pCMV-BE4max(C) construction**  \n",
    "The BE4max(C) plasmid (pCMV-BE4max(C)) was constructed to replace the C-terminal region of Target-AIDmax with the codon-optimized rAPOBEC1 and 2×UGI domains of BE4max. To this end, an nCas9 fragment obtained from pCMV-Target-AIDmax using SI447/SI1105 was assembled with rAPOBEC1 and 2×UGI fragments obtained from BE4max using SI1352/SI1357 and SI1359/SI1350, respectively, and a backbone obtained from pCMV-BE4max using SI1351/SI448. "
   ]
  },
  {
   "cell_type": "code",
   "execution_count": 16,
   "id": "organizational-concert",
   "metadata": {},
   "outputs": [],
   "source": [
    "frag_a = cropdna(pCMV_Target_AIDmax, 2123, 7813) #, #\n",
    "frag_b = cropdna(pCMV_BE4max, 464,  1149) #GATGACGATGACAAGTCTGG, #\n",
    "frag_c = cropdna(pCMV_BE4max, 5376, 5970) #ATCCTGTGGGCCACAGGCCTGAAG, $TAATGAGTTTAAACCCGCTGATC\n",
    "frag_d = cropdna(pCMV_BE4max, 5993, 8135) #TAATAA"
   ]
  },
  {
   "cell_type": "code",
   "execution_count": 17,
   "id": "fancy-approach",
   "metadata": {},
   "outputs": [],
   "source": [
    "frag_b = joindna(DNA(\"GATGACGATGACAAGTCTGG\"), frag_b)\n",
    "frag_c = joindna(DNA(\"ATCCTGTGGGCCACAGGCCTGAAG\"), frag_c, DNA(\"TAATGAGTTTAAACCCGCTGATC\"))\n",
    "frag_d = joindna(DNA(\"TAATAA\"), frag_d)"
   ]
  },
  {
   "cell_type": "code",
   "execution_count": 18,
   "id": "affiliated-partnership",
   "metadata": {},
   "outputs": [
    {
     "name": "stdout",
     "output_type": "stream",
     "text": [
      "5' GCCACATAGCAGAACTTTAAAAGTGCTCAT...GACATCGACTACAAG--------------- 3'\n",
      "3' -------------------------GAGTA...CTGTAGCTGATGTTCCTACTGCTACTGTTC 5'\n",
      "\n",
      "5' GATGACGATGACAAGTCTGGCTCCTCAGAG...CCCCAC------------------------ 3'\n",
      "3' ---------------AGACCGAGGAGTCTC...GGGGTGTAGGACACCCGGTGTCCGGACTTC 5'\n",
      "\n",
      "5' ATCCTGTGGGCCACAGGCCTGAAGACTAAT...AGTC-------------------------- 3'\n",
      "3' ------------------------TGATTA...TCAGATTATTACTCAAATTTGGGCGACTAG 5'\n",
      "\n",
      "5' TAATAATGAGTTTAAACCCGCTGATCAGCC...ACCGC------------------------- 3'\n",
      "3' --------------------------TCGG...TGGCGCGGTGTATCGTCTTGAAATTTTCAC 5'\n",
      "\n"
     ]
    }
   ],
   "source": [
    "frag_a = modifyends(frag_a,\"*{25}/-{25}\",\"-{15}/*{15}\")\n",
    "frag_b = modifyends(frag_b,\"*{15}/-{15}\",\"-{24}/*{24}\")\n",
    "frag_c = modifyends(frag_c,\"*{24}/-{24}\",\"-{26}/*{26}\")\n",
    "frag_d = modifyends(frag_d,\"*{26}/-{26}\",\"-{25}/*{25}\")\n",
    "frag_a.getdnaseq(display=True,whole=False,end_length=30)\n",
    "frag_b.getdnaseq(display=True,whole=False,end_length=30)\n",
    "frag_c.getdnaseq(display=True,whole=False,end_length=30)\n",
    "frag_d.getdnaseq(display=True,whole=False,end_length=30)"
   ]
  },
  {
   "cell_type": "code",
   "execution_count": 19,
   "id": "verbal-duncan",
   "metadata": {},
   "outputs": [],
   "source": [
    "pCMV_Target_BE4maxC = joindna(frag_a,frag_b,frag_c,frag_d,topology=\"circular\",project=\"pCMV-Target-BE4max(C)\")\n",
    "pCMV_Target_BE4maxC.writedna(\"pCMV-Target-BE4maxC.gbk\")"
   ]
  },
  {
   "cell_type": "markdown",
   "id": "western-client",
   "metadata": {},
   "source": [
    "**pCMV-Target-ACEmax construction**  \n",
    "The Target-ACEmax plasmid (pCMV-Target-ACEmax) was constructed by assembling an ABEmax fragment obtained from pCMV-ABEmax using SI945/SI1305, a fragment encoding the C-terminus region of Target-AIDmax obtained from pUC-optimized-PmCDA1-ugi using SI1304/SI1307, and a plasmid backbone obtained from pCMV-ABEmax using SI1310/SI1309. "
   ]
  },
  {
   "cell_type": "code",
   "execution_count": 29,
   "id": "former-cleanup",
   "metadata": {},
   "outputs": [],
   "source": [
    "frag_a = cropdna(pCMV_ABEmax, 5843, 465)\n",
    "frag_b = cropdna(pCMV_ABEmax, 362, 5754)\n",
    "frag_c = cropdna(opt_pmCDA1_ugi, 501, 1690)"
   ]
  },
  {
   "cell_type": "code",
   "execution_count": 30,
   "id": "needed-simulation",
   "metadata": {},
   "outputs": [],
   "source": [
    "frag_a = frag_a = joindna(DNA(\"TGATAA\"), frag_a)\n",
    "frag_c = joindna(DNA(\"CCTGTCTCAGCTGGGAGGTGA\"), frag_c, DNA(\"TAATGAGTTTAAACCCGCTGA\")) "
   ]
  },
  {
   "cell_type": "code",
   "execution_count": 31,
   "id": "variable-romania",
   "metadata": {},
   "outputs": [
    {
     "name": "stdout",
     "output_type": "stream",
     "text": [
      "5' TGATAATGAGTTTAAACCCGCTGATCAGCCTCGACTGTGCCTTCTAGTTGCCAGCCATCTGTTGTTTGCCCCTCCCCCGTGCCTTCCTTGACCCTGGAAGGTGCC...AG------------------------------------------------------------------------------------------------------- 3'\n",
      "3' ------------------------AGTCGGAGCTGACACGGAAGATCAACGGTCGGTAGACAACAAACGGGGAGGGGGCACGGAAGGAACTGGGACCTTCCACGG...TCTCTAGGCGCCGGCGATTATGCTGAGTGATATCCCTCTCGGCGGTGGTACTTTGCCTGTCGGCTGCCTTCGCTCAAGCTCAGTGGTTTCTTCTTCGCCTTTCAG 5'\n",
      "\n",
      "5' AGATCCGCGGCCGCTAATACGACTCACTATAGGGAGAGCCGCCACCATGAAACGGACAGCCGACGGAAGCGAGTTCGAGTCACCAAAGAAGAAGCGGAAAGTCTC...AAGAGGTACACCAGCACCAAAGAGGTGCTGGACGCCACCCTGATCCACCAGAGCATCACCGGCCTGTACGAGACACGGATCGA---------------------- 3'\n",
      "3' -------------------------------------------------------------------------------------------------------AG...TTCTCCATGTGGTCGTGGTTTCTCCACGACCTGCGGTGGGACTAGGTGGTCTCGTAGTGGCCGGACATGCTCTGTGCCTAGCTGGACAGAGTCGACCCTCCACTG 5'\n",
      "\n",
      "5' CCTGTCTCAGCTGGGAGGTGACGGCGGAGG...ATGCTG------------------------ 3'\n",
      "3' ----------------------CCGCCTCC...TACGACACTATTACTCAAATTTGGGCGACT 5'\n",
      "\n",
      "5' TAATAATGAGTTTAAACCCGCTGATCAGCC...ACCGC------------------------- 3'\n",
      "3' --------------------------TCGG...TGGCGCGGTGTATCGTCTTGAAATTTTCAC 5'\n",
      "\n"
     ]
    }
   ],
   "source": [
    "frag_a = modifyends(frag_a,\"*{24}/-{24}\",\"-{103}/*{103}\")\n",
    "frag_b = modifyends(frag_b,\"*{103}/-{103}\",\"-{22}/*{22}\")\n",
    "frag_c = modifyends(frag_c,\"*{22}/-{22}\",\"-{24}/*{24}\")\n",
    "#frag_a.getdnaseq(display=True,whole=False,end_length=30)\n",
    "#frag_b.getdnaseq(display=True,whole=False,end_length=30)\n",
    "#frag_c.getdnaseq(display=True,whole=False,end_length=30)\n",
    "#frag_d.getdnaseq(display=True,whole=False,end_length=30)"
   ]
  },
  {
   "cell_type": "code",
   "execution_count": 32,
   "id": "hollow-california",
   "metadata": {},
   "outputs": [],
   "source": [
    "pCMV_Target_ACEmax = joindna(frag_a,frag_b,frag_c,topology=\"circular\",project=\"pCMV-Target-ACEmax\")\n",
    "pCMV_Target_ACEmax.writedna(\"pCMV-Target-ACEmax.gbk\")"
   ]
  },
  {
   "cell_type": "markdown",
   "id": "white-mentor",
   "metadata": {},
   "source": [
    "**pCMV-ACBEmax construction**  \n",
    "the ACBEmax plasmid (pCMV-ACBEmax) was constructed by assembling an ABEmax fragment obtained from pCMV-Target-ACEmax using SI447/SI1105 with the three fragments encoding the rAPOBEC1 domain, 2×UGI domain, and the two backbone fragments that were prepared to construct pCMV-BE4max(C). "
   ]
  },
  {
   "cell_type": "code",
   "execution_count": null,
   "id": "centered-farming",
   "metadata": {},
   "outputs": [],
   "source": []
  }
 ],
 "metadata": {
  "kernelspec": {
   "display_name": "Python 3",
   "language": "python",
   "name": "python3"
  },
  "language_info": {
   "codemirror_mode": {
    "name": "ipython",
    "version": 3
   },
   "file_extension": ".py",
   "mimetype": "text/x-python",
   "name": "python",
   "nbconvert_exporter": "python",
   "pygments_lexer": "ipython3",
   "version": "3.9.1"
  }
 },
 "nbformat": 4,
 "nbformat_minor": 5
}
