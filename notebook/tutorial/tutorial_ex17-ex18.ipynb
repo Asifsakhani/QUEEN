{
 "cells": [
  {
   "cell_type": "markdown",
   "id": "understood-standing",
   "metadata": {},
   "source": [
    "**Example code 17: Insert EGFP fragment into a cloning site of pUC19.**  \n",
    "Simulate a ligation process by using .finddna, cropdna and, .finddna. First, digest pUC19 plasmid at SacI and SalI recognition sites. Add sticky end sequences to both ends of the EGFP fragment. The end sequences are a complement to the sticky ends generated SacI and SalI, respectively.  "
   ]
  },
  {
   "cell_type": "code",
   "execution_count": 1,
   "id": "million-rocket",
   "metadata": {},
   "outputs": [
    {
     "name": "stdout",
     "output_type": "stream",
     "text": [
      "5' ----CGAATT...ACGCCA---- 3'\n",
      "3' TCGAGCTTAA...TGCGGTTCGA 5'\n",
      "\n",
      "feature ID  qualifier:label  feature type  start position  end position  strand  \n",
      "0           EGFP             source        0               1080          +       \n",
      "Ins_1       EGFP             misc_feature  0               1080          +       \n",
      "\n",
      "5' AGCTTATGTC...ACTGAGAGCT 3'\n",
      "3' ----ATACAG...TGACTC---- 5'\n",
      "\n",
      "feature ID  qualifier:label   feature type  start position  end position  strand  \n",
      "0           dna               source        0               1090          +       \n",
      "100         EGFP              source        0               1090          +       \n",
      "2900        pUC19-EGFP        source        0               3727          +       \n",
      "200         EGFP              source        5               1085          +       \n",
      "300         EGFP              misc_feature  5               1085          +       \n",
      "400         MCS               misc_feature  1086            1097          +       \n",
      "500         lacZ-alpha        CDS           1086            1347          +       \n",
      "600         N.A.              source        1086            4             +       \n",
      "700         pUC19             source        1086            4             +       \n",
      "800         pUC19             source        1086            4             +       \n",
      "1000        M13 Forward       primer_bind   1097            1115          -       \n",
      "900         M13 fwd           primer_bind   1097            1114          -       \n",
      "1100        M13/pUC Forward   primer_bind   1106            1129          -       \n",
      "1200        pRS-marker        primer_bind   1322            1342          -       \n",
      "1300        pGEX 3'           primer_bind   1441            1464          +       \n",
      "1400        pBRforEco         primer_bind   1501            1520          -       \n",
      "1500        AmpR promoter     promoter      1587            1692          +       \n",
      "1600        AmpR              CDS           1692            2553          +       \n",
      "1700        Amp-R             primer_bind   1910            1930          -       \n",
      "1800        ori               rep_origin    2723            3312          +       \n",
      "1900        pBR322ori-F       primer_bind   3212            3232          +       \n",
      "2000        L4440             primer_bind   3465            3483          +       \n",
      "2100        CAP binding site  protein_bind  3599            3621          +       \n",
      "2200        lac promoter      promoter      3635            3666          +       \n",
      "2300        lac operator      protein_bind  3673            3690          +       \n",
      "2400        M13/pUC Reverse   primer_bind   3678            3701          +       \n",
      "2500        M13 rev           primer_bind   3697            3714          +       \n",
      "2600        M13 Reverse       primer_bind   3697            3714          +       \n",
      "2700        lacZ-alpha        CDS           3709            4             +       \n",
      "2800        MCS               misc_feature  3726            4             +       \n",
      "\n"
     ]
    }
   ],
   "source": [
    "import sys\n",
    "from dna import *\n",
    "HindIII = \"AAGCTT\" #A|AGCTT\n",
    "SacI    = \"GAGCTC\" #GTCGA|C\n",
    "\n",
    "#Import GenBabnk record\n",
    "plasmid = DNA(record=\"pUC19.gbk\")\n",
    "\n",
    "#Digest pUC19 plasmid by SacI and SalI\n",
    "site1 = plasmid.finddna(HindIII,attribute=\"sequence\", strand=1)[0]\n",
    "site2 = plasmid.finddna(SacI,attribute=\"sequence\", strand=1)[0]\n",
    "backbone = cropdna(plasmid,(site2.location.start+5,site2.location.start+1),(site1.location.start+1,site1.location.start+5))\n",
    "backbone.getdnaseq(display=True, whole=False, end_length=10)\n",
    "#Add sticy ends to EGFP fragment\n",
    "insert = DNA(record=\"EGFP.fasta\")\n",
    "insert = editdna(insert, key_attribute=\"sequence\", target_attribute=\"feature ID\", \n",
    "                 operation=createdna(\"Ins_1\"), destructive=False)\n",
    "insert = editdna(insert, key_attribute=\"feature ID\", query=\"Ins_1\", target_attribute=\"qualifier:label\", \n",
    "                 operation=createdna(\"EGFP\"), destructive=False)\n",
    "insert.printfeature()\n",
    "insert = modifyends(insert, \"AGCTT/----A\", \"GAGCT/C----\")\n",
    "insert.getdnaseq(display=True, whole=False, end_length=10)\n",
    "\n",
    "#Ligate insert and backbone and generate new plasmid\n",
    "new_plasmid = joindna(insert,backbone,topology=\"circular\", project=\"pUC19-EGFP\")\n",
    "new_plasmid.printfeature()\n",
    "new_plasmid.writedna(\"pUC19-EGFP.gbk\")"
   ]
  },
  {
   "cell_type": "code",
   "execution_count": 3,
   "id": "widespread-resident",
   "metadata": {},
   "outputs": [
    {
     "name": "stdout",
     "output_type": "stream",
     "text": [
      "from dna import *\n",
      "DNA.dna_dict['pUC19'] = DNA(seq=None, record='pUC19.gbk', project='pUC19', topology='linear', format=None)\n",
      "DNA.dna_dict['EGFP'] = DNA(seq=None, record='EGFP.fasta', project='EGFP', topology='linear', format=None)\n",
      "DNA.dna_dict['pUC19_0'] = cropdna(DNA.dna_dict['pUC19'], start=(681, 677), end=(632, 636), project='pUC19')\n",
      "DNA.dna_dict['EGFP_0'] = editdna(DNA.dna_dict['EGFP'], key_attribute='sequence', query=None, target_attribute='feature ID', operation=createdna(value='Ins_1'), comment='', destructive=False, project='EGFP')\n",
      "DNA.dna_dict['EGFP_1'] = editdna(DNA.dna_dict['EGFP_0'], key_attribute='feature ID', query='Ins_1', target_attribute='qualifier:label', operation=createdna(value='EGFP'), comment='', destructive=False, project='EGFP')\n",
      "DNA.dna_dict['EGFP_2'] = modifyends(DNA.dna_dict['EGFP_1'], left='AGCTT/----A', right='GAGCT/C----', project='EGFP')\n",
      "DNA.dna_dict['pUC19-EGFP'] = joindna(*[DNA.dna_dict['EGFP_2'],DNA.dna_dict['pUC19_0']], topology='circular', project='pUC19-EGFP')\n",
      "DNA.dna_dict['pUC19-EGFP'].writedna('reconstructed_pUC19-EGFP.gbk')\n"
     ]
    }
   ],
   "source": [
    "exporthistory(new_plasmid, output=None)"
   ]
  },
  {
   "cell_type": "code",
   "execution_count": null,
   "id": "expanded-april",
   "metadata": {},
   "outputs": [],
   "source": []
  }
 ],
 "metadata": {
  "kernelspec": {
   "display_name": "Python 3",
   "language": "python",
   "name": "python3"
  },
  "language_info": {
   "codemirror_mode": {
    "name": "ipython",
    "version": 3
   },
   "file_extension": ".py",
   "mimetype": "text/x-python",
   "name": "python",
   "nbconvert_exporter": "python",
   "pygments_lexer": "ipython3",
   "version": "3.9.1"
  }
 },
 "nbformat": 4,
 "nbformat_minor": 5
}
