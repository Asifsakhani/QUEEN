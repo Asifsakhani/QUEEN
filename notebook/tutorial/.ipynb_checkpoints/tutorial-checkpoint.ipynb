{
 "cells": [
  {
   "cell_type": "code",
   "execution_count": 6,
   "metadata": {},
   "outputs": [
    {
     "name": "stdout",
     "output_type": "stream",
     "text": [
      "circular\n"
     ]
    }
   ],
   "source": [
    "import sys \n",
    "sys.path.append(\"../../\")\n",
    "from dbrick import *\n",
    "from Bio.Alphabet import generic_dna\n",
    "from Bio.Seq import Seq\n",
    "brick = Dbrick(record=\"pUC19.gbk\")\n",
    "print(brick.topology)"
   ]
  },
  {
   "cell_type": "code",
   "execution_count": 7,
   "metadata": {},
   "outputs": [
    {
     "name": "stdout",
     "output_type": "stream",
     "text": [
      "Feature_ID  Label            Type         Start  End   Strand  Seq                      \n",
      "1           pBR322ori-F      primer_bind  117    137   +       GGGAAACGCCTGGTATCTTT     \n",
      "2           L4440            primer_bind  370    388   +       AGCGAGTCAGTGAGCGAG       \n",
      "6           M13/pUC Reverse  primer_bind  583    606   +       AGCGGATAACAATTTCACACAGG  \n",
      "7           M13 rev          primer_bind  602    619   +       CAGGAAACAGCTATGAC        \n",
      "8           M13 Reverse      primer_bind  602    619   +       CAGGAAACAGCTATGAC        \n",
      "11          M13 Forward      primer_bind  688    706   -       TGTAAAACGACGGCCAGT       \n",
      "12          M13 fwd          primer_bind  688    705   -       GTAAAACGACGGCCAGT        \n",
      "13          M13/pUC Forward  primer_bind  697    720   -       CCCAGTCACGACGTTGTAAAACG  \n",
      "14          pRS-marker       primer_bind  913    933   -       CGGCATCAGAGCAGATTGTA     \n",
      "15          pGEX 3'          primer_bind  1032   1055  +       CCGGGAGCTGCATGTGTCAGAGG  \n",
      "16          pBRforEco        primer_bind  1092   1111  -       AATAGGCGTATCACGAGGC      \n",
      "19          Amp-R            primer_bind  1501   1521  -       ATAATACCGCGCCACATAGC     \n"
     ]
    }
   ],
   "source": [
    "brick.print_features(with_seq=True, detail=True, feature_types=[\"primer_bind\"])\n",
    "brick.print_features(with_seq=True, detail=True, sep=\",\", output=\"feature_table.csv\")"
   ]
  },
  {
   "cell_type": "code",
   "execution_count": 8,
   "metadata": {},
   "outputs": [
    {
     "name": "stdout",
     "output_type": "stream",
     "text": [
      "Feature_ID  Label  Type          Start  End  Strand  Seq                                                        \n",
      "10          MCS    misc_feature  631    688  +       AAGCTTGCATGCCTGCAGGTCGACTCTAGAGGATCCCCGGGTACCGAGCTCGAATTC  \n"
     ]
    }
   ],
   "source": [
    "brick.print_features(feature_types=[\"misc_feature\"], with_seq=True)"
   ]
  },
  {
   "cell_type": "code",
   "execution_count": 9,
   "metadata": {},
   "outputs": [
    {
     "name": "stdout",
     "output_type": "stream",
     "text": [
      "New feature was added in the range of start 661 to end 667.\n",
      "New feature was added in the range of start 602 to end 619.\n",
      "Feature_ID  Label           Type          Start  End  Strand  Seq                                                        \n",
      "1           feat_test       misc_feature  100    120  +       ACGAGGGAGCTTCCAGGGGG                                       \n",
      "10          test_amplicon   misc_feature  602    619  +       CAGGAAACAGCTATGAC                                          \n",
      "12          MCS             misc_feature  631    688  +       AAGCTTGCATGCCTGCAGGTCGACTCTAGAGGATCCCCGGGTACCGAGCTCGAATTC  \n",
      "13          BamHI           misc_feature  661    667  +       GGATCC                                                     \n",
      "24          feat_on_origin  misc_feature  2680   10   +       CGAACTGAGATACCTA                                           \n"
     ]
    }
   ],
   "source": [
    "brick.add_feature(100, 120, qualifiers={\"label\":\"feat_test\"})\n",
    "brick.add_feature(2680, 10, qualifiers={\"label\":\"feat_on_origin\"})\n",
    "brick.add_feature(\"GGATCC\", qualifiers={\"label\":\"BamHI\"})\n",
    "brick.print_features(feature_types=[\"misc_feature\"], with_seq=True)"
   ]
  },
  {
   "cell_type": "code",
   "execution_count": null,
   "metadata": {},
   "outputs": [],
   "source": []
  }
 ],
 "metadata": {
  "kernelspec": {
   "display_name": "Python 3",
   "language": "python",
   "name": "python3"
  },
  "language_info": {
   "codemirror_mode": {
    "name": "ipython",
    "version": 3
   },
   "file_extension": ".py",
   "mimetype": "text/x-python",
   "name": "python",
   "nbconvert_exporter": "python",
   "pygments_lexer": "ipython3",
   "version": "3.7.7"
  }
 },
 "nbformat": 4,
 "nbformat_minor": 4
}
