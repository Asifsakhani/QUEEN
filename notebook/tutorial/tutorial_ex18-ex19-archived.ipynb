{
 "cells": [
  {
   "cell_type": "markdown",
   "metadata": {},
   "source": [
    "**Example code 17: Insert EGFP fragment into a cloning site of pGGA.**  \n",
    "Simulate the construction process of pGGA-EGFP. \n",
    "First, the pGGA plasmid is digested by BsaI and a backbone fragment is generated. Then, add adapter sequence including BsaI site to both ends of EGFP fragment and digest the fragment by BsaI. Finally, the EGFP fragment is inserted into the pGGA backbone fragment."
   ]
  },
  {
   "cell_type": "code",
   "execution_count": 1,
   "metadata": {},
   "outputs": [
    {
     "name": "stdout",
     "output_type": "stream",
     "text": [
      "feature_ID  qualifier:label  feature_type  start  end  strand  \n",
      "null        null             misc_feature  348    359  +       \n",
      "null        null             misc_feature  314    325  -       \n",
      "\n",
      "5' CCATTCCTGTAGTCTTCTTA...TTCGAAGACTTGGTAC---- 3'\n",
      "3' ----AGGACATCAGAAGAAT...AAGCTTCTGAACCATGCCTC 5'\n",
      "\n",
      "5' GGAGATGTCCACCAACTTAT...GAGCAGATTGTACTGA---- 3'\n",
      "3' ----TACAGGTGGTTGAATA...CTCGTCTAACATGACTGGTA 5'\n",
      "\n",
      "<dna.DNA object; project='pGGA-EGFP', length='3217 bp', topology='circular'> <dna.DNA object; project='pGGA', length='2137 bp', topology='linear'> <dna.DNA object; project='EGFP', length='1088 bp', topology='linear'>\n",
      "feature_ID  qualifier:label                  feature_type  start  end   strand  \n",
      "0           BsaI insert                      misc_feature  0      4     +       \n",
      "100         null                             source        0      2137  +       \n",
      "300         downstream MCS                   misc_feature  17     51    +       \n",
      "400         Cloning Analysis Reverse Primer  primer_bind   55     81    -       \n",
      "500         T7 promoter                      promoter      62     81    -       \n",
      "600         CmR                              CDS           191    851   -       \n",
      "700         cat promoter                     promoter      851    954   -       \n",
      "800         ori                              rep_origin    1054   1643  +       \n",
      "900         Forward (CW) Analysis Primer     primer_bind   2052   2079  +       \n",
      "1000        SP6 promoter                     promoter      2072   2091  +       \n",
      "1100        upstream MCS                     misc_feature  2101   2123  +       \n",
      "1200        BsaI insert                      misc_feature  2133   2137  +       \n",
      "1300        EGFP                             source        2133   3221  +       \n",
      "1400        EGFP                             misc_feature  2137   3217  +       \n",
      "\n"
     ]
    }
   ],
   "source": [
    "import sys\n",
    "sys.path.append(\"../../\")\n",
    "from dna import *\n",
    "\n",
    "#Import GenBabnk record\n",
    "plasmid = DNA(record=\"pGGA.gb\")\n",
    "\n",
    "#Digest pGGA plasmid by BsaI\n",
    "sites = plasmid.finddna(\"GGTCTC(1/5)\")\n",
    "plasmid.printfeature(sites)\n",
    "fragment, backbone = cutdna(plasmid,*sites)\n",
    "backbone.getdnaseq(display=True, whole=False, end_length=20)\n",
    "\n",
    "#Read EGFP and add EGFP annotation\n",
    "egfp = DNA(record=\"EGFP.fasta\")\n",
    "egfp = editdna(egfp, key_attribute=\"sequence\", target_attribute=\"feature ID\", \n",
    "                 operation=createattribute(\"insert1\"))\n",
    "egfp = editdna(egfp, key_attribute=\"feature ID\", query=\"insert1\", target_attribute=\"qualifier:label\", \n",
    "                 operation=createattribute(\"EGFP\"))\n",
    "\n",
    "#Add BsaI ends to EGFP fragment\n",
    "egfp = modifyends(egfp, \"GGTCTCGGGAG\", \"CCATGGAGACC\")\n",
    "\n",
    "#Digest EGFP fragment by Bsa\n",
    "sites = egfp.finddna(\"GGTCTC(1/5)\")\n",
    "edge1, insert, edge2 = cutdna(egfp,*sites)\n",
    "insert.getdnaseq(display=True, whole=False, end_length=20)\n",
    "\n",
    "#Ligate insert and backbone and generate new plasmid\n",
    "new_plasmid = joindna(backbone,insert, topology=\"circular\", project=\"pGGA-EGFP\")\n",
    "print(new_plasmid, backbone, insert) \n",
    "new_plasmid.printfeature()\n",
    "new_plasmid.writedna(\"pGGA-EGFP.gbk\")"
   ]
  },
  {
   "cell_type": "code",
   "execution_count": 2,
   "metadata": {},
   "outputs": [
    {
     "name": "stdout",
     "output_type": "stream",
     "text": [
      "from dna import *\n",
      "DNA.dna_dict['pGGA'] = DNA(seq=None, record='pGGA.gb', project='pGGA', topology='linear', format=None)\n",
      "DNA.dna_dict['pGGA_0'], DNA.dna_dict['pGGA_1'] = cutdna(DNA.dna_dict['pGGA'], '355/359', '314/318', project='pGGA')\n",
      "DNA.dna_dict['EGFP'] = DNA(seq=None, record='EGFP.fasta', project='EGFP', topology='linear', format=None)\n",
      "DNA.dna_dict['EGFP_0'] = editdna(DNA.dna_dict['EGFP'], key_attribute='sequence', query=None, target_attribute='feature ID', operation=createattribute(value='insert1'), project='EGFP', new_copy=True, comment='')\n",
      "DNA.dna_dict['EGFP_1'] = editdna(DNA.dna_dict['EGFP_0'], key_attribute='feature ID', query='insert1', target_attribute='qualifier:label', operation=createattribute(value='EGFP'), project='EGFP', new_copy=True, comment='')\n",
      "DNA.dna_dict['EGFP_2'] = modifyends(DNA.dna_dict['EGFP_1'], left='GGTCTCGGGAG', right='CCATGGAGACC', project='EGFP', comment='')\n",
      "DNA.dna_dict['EGFP_3'], DNA.dna_dict['EGFP_4'], DNA.dna_dict['EGFP_5'] = cutdna(DNA.dna_dict['EGFP_2'], '7/11', '1091/1095', project='EGFP')\n",
      "DNA.dna_dict['pGGA-EGFP'] = joindna(*[DNA.dna_dict['pGGA_1'],DNA.dna_dict['EGFP_4']], topology='circular', project='pGGA-EGFP', comment='')\n",
      "DNA.dna_dict['pGGA-EGFP'].writedna('reconstructed_pGGA-EGFP.gbk')\n"
     ]
    }
   ],
   "source": [
    "new_plasmid.exporthistory(output=None)"
   ]
  },
  {
   "cell_type": "code",
   "execution_count": 3,
   "metadata": {},
   "outputs": [],
   "source": [
    "from dna import *\n",
    "DNA.dna_dict['pGGA'] = DNA(seq=None, record='pGGA.gb', project='pGGA', topology='linear', format=None)\n",
    "DNA.dna_dict['pGGA_0'], DNA.dna_dict['pGGA_1'] = cutdna(DNA.dna_dict['pGGA'], '355/359', '314/318', project='pGGA')\n",
    "DNA.dna_dict['EGFP'] = DNA(seq=None, record='EGFP.fasta', project='EGFP', topology='linear', format=None)\n",
    "DNA.dna_dict['EGFP_0'] = editdna(DNA.dna_dict['EGFP'], key_attribute='sequence', query=None, target_attribute='feature ID', operation=createattribute(value='insert1'), project='EGFP', new_copy=True, comment='')\n",
    "DNA.dna_dict['EGFP_1'] = editdna(DNA.dna_dict['EGFP_0'], key_attribute='feature ID', query='insert1', target_attribute='qualifier:label', operation=createattribute(value='EGFP'), project='EGFP', new_copy=True, comment='')\n",
    "DNA.dna_dict['EGFP_2'] = modifyends(DNA.dna_dict['EGFP_1'], left='GGTCTCGGGAG', right='CCATGGAGACC', project='EGFP', comment='')\n",
    "DNA.dna_dict['EGFP_3'], DNA.dna_dict['EGFP_4'], DNA.dna_dict['EGFP_5'] = cutdna(DNA.dna_dict['EGFP_2'], '7/11', '1091/1095', project='EGFP')\n",
    "DNA.dna_dict['pGGA-EGFP'] = joindna(*[DNA.dna_dict['pGGA_1'],DNA.dna_dict['EGFP_4']], topology='circular', project='pGGA-EGFP', comment='')\n",
    "DNA.dna_dict['pGGA-EGFP'].writedna('reconstructed_pGGA-EGFP.gbk')"
   ]
  },
  {
   "cell_type": "code",
   "execution_count": null,
   "metadata": {},
   "outputs": [],
   "source": []
  }
 ],
 "metadata": {
  "kernelspec": {
   "display_name": "Python 3",
   "language": "python",
   "name": "python3"
  },
  "language_info": {
   "codemirror_mode": {
    "name": "ipython",
    "version": 3
   },
   "file_extension": ".py",
   "mimetype": "text/x-python",
   "name": "python",
   "nbconvert_exporter": "python",
   "pygments_lexer": "ipython3",
   "version": "3.9.1"
  }
 },
 "nbformat": 4,
 "nbformat_minor": 5
}
