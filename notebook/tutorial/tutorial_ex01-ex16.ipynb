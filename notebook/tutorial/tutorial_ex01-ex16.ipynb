{
 "cells": [
  {
   "cell_type": "code",
   "execution_count": 1,
   "id": "common-safety",
   "metadata": {},
   "outputs": [],
   "source": [
    "import sys \n",
    "sys.path.append(\"../../\")\n",
    "from dna import *"
   ]
  },
  {
   "cell_type": "markdown",
   "id": "communist-timer",
   "metadata": {},
   "source": [
    "**Example code 1: Create a blunt-end DNA object by specifying its sequence** "
   ]
  },
  {
   "cell_type": "code",
   "execution_count": 2,
   "id": "finnish-witch",
   "metadata": {},
   "outputs": [],
   "source": [
    "fragment = DNA(seq=\"CCGGTATGCGTCGA\") "
   ]
  },
  {
   "cell_type": "markdown",
   "id": "effective-quick",
   "metadata": {},
   "source": [
    "**Example code 2: Create a sticky-end DNA object by specifying its structure**"
   ]
  },
  {
   "cell_type": "code",
   "execution_count": 3,
   "id": "hired-arizona",
   "metadata": {},
   "outputs": [],
   "source": [
    "fragment = DNA(seq=\"CCGGTATGCG----/----ATACGCAGCT\") "
   ]
  },
  {
   "cell_type": "markdown",
   "id": "intellectual-parallel",
   "metadata": {},
   "source": [
    "**Example code 3: Create an annotated DNA object from GenBank format file**"
   ]
  },
  {
   "cell_type": "code",
   "execution_count": 4,
   "id": "formed-oxford",
   "metadata": {},
   "outputs": [
    {
     "name": "stdout",
     "output_type": "stream",
     "text": [
      "<dna.DNA object; project='pUC19', length='2686 bp', topology='circular'>\n"
     ]
    }
   ],
   "source": [
    "plasmid = DNA(record=\"pUC19.gbk\")\n",
    "print(plasmid)"
   ]
  },
  {
   "cell_type": "markdown",
   "id": "lyric-prayer",
   "metadata": {},
   "source": [
    "**Example code 4: Print a double-strand DNA sequence with sticky ends**"
   ]
  },
  {
   "cell_type": "code",
   "execution_count": 5,
   "id": "absent-auditor",
   "metadata": {},
   "outputs": [
    {
     "name": "stdout",
     "output_type": "stream",
     "text": [
      "5' CCGGTATGCG---- 3'\n",
      "3' ----ATACGCAGCT 5'\n"
     ]
    }
   ],
   "source": [
    "fragment.getdnaseq(display=True)"
   ]
  },
  {
   "cell_type": "markdown",
   "id": "ceramic-stopping",
   "metadata": {},
   "source": [
    "**Example code 5: Display all of the “primer_bind” features in a GenBank file**  "
   ]
  },
  {
   "cell_type": "code",
   "execution_count": 6,
   "id": "handmade-customs",
   "metadata": {},
   "outputs": [
    {
     "name": "stdout",
     "output_type": "stream",
     "text": [
      "feature ID  qualifier:label  feature type  start position  end position  strand  sequence                 \n",
      "100         pBR322ori-F      primer_bind   117             137           +       GGGAAACGCCTGGTATCTTT     \n",
      "200         L4440            primer_bind   370             388           +       AGCGAGTCAGTGAGCGAG       \n",
      "600         M13/pUC Reverse  primer_bind   583             606           +       AGCGGATAACAATTTCACACAGG  \n",
      "700         M13 rev          primer_bind   602             619           +       CAGGAAACAGCTATGAC        \n",
      "800         M13 Reverse      primer_bind   602             619           +       CAGGAAACAGCTATGAC        \n",
      "1100        M13 Forward      primer_bind   688             706           -       TGTAAAACGACGGCCAGT       \n",
      "1200        M13 fwd          primer_bind   688             705           -       GTAAAACGACGGCCAGT        \n",
      "1300        M13/pUC Forward  primer_bind   697             720           -       CCCAGTCACGACGTTGTAAAACG  \n",
      "1400        pRS-marker       primer_bind   913             933           -       CGGCATCAGAGCAGATTGTA     \n",
      "1500        pGEX 3'          primer_bind   1032            1055          +       CCGGGAGCTGCATGTGTCAGAGG  \n",
      "1600        pBRforEco        primer_bind   1092            1111          -       AATAGGCGTATCACGAGGC      \n",
      "1900        Amp-R            primer_bind   1501            1521          -       ATAATACCGCGCCACATAGC     \n",
      "\n"
     ]
    }
   ],
   "source": [
    "plasmid.printfeature(feature_type=[\"primer_bind\"], seq=True)"
   ]
  },
  {
   "cell_type": "markdown",
   "id": "celtic-geography",
   "metadata": {},
   "source": [
    "**Example code 6: Search for a DNA sequence with a regular expression**"
   ]
  },
  {
   "cell_type": "code",
   "execution_count": 7,
   "id": "furnished-detail",
   "metadata": {},
   "outputs": [
    {
     "name": "stdout",
     "output_type": "stream",
     "text": [
      "25\t48\t1\tGAAAGCGCCACGCTTCCCGAAGG\n",
      "55\t78\t1\tGCGGACAGGTATCCGGTAAGCGG\n",
      "83\t106\t1\tTCGGAACAGGAGAGCGCACGAGG\n",
      "107\t130\t1\tAGCTTCCAGGGGGAAACGCCTGG\n",
      "175\t198\t1\tCGATTTTTGTGATGCTCGTCAGG\n",
      "210\t233\t1\tATGGAAAAACGCCAGCAACGCGG\n",
      "239\t262\t1\tTACGGTTCCTGGCCTTTTGCTGG\n",
      "285\t308\t1\tTGCGTTATCCCCTGATTCTGTGG\n",
      "366\t389\t1\tGCGCAGCGAGTCAGTGAGCGAGG\n",
      "413\t436\t1\tAACCGCCTCTCCCCGCGCGTTGG\n",
      "443\t466\t1\tATTAATGCAGCTGGCACGACAGG\n",
      "507\t530\t1\tTGTGAGTTAGCTCACTCATTAGG\n",
      "537\t560\t1\tGGCTTTACACTTTATGCTTCCGG\n",
      "565\t588\t1\tATGTTGTGTGGAATTGTGAGCGG\n",
      "627\t650\t1\tCGCCAAGCTTGCATGCCTGCAGG\n",
      "670\t693\t1\tGGTACCGAGCTCGAATTCACTGG\n",
      "696\t719\t1\tTCGTTTTACAACGTCGTGACTGG\n",
      "756\t779\t1\tCACATCCCCCTTTCGCCAGCTGG\n",
      "815\t838\t1\tCAACAGTTGCGCAGCCTGAATGG\n",
      "860\t883\t1\tTTTCTCCTTACGCATCTGTGCGG\n",
      "963\t986\t1\tCACCCGCTGACGCGCCCTGACGG\n",
      "1013\t1036\t1\tAGACAAGCTGTGACCGTCTCCGG\n",
      "1069\t1092\t1\tACCGAAACGCGCGAGACGAAAGG\n",
      "1096\t1119\t1\tCGTGATACGCCTATTTTTATAGG\n",
      "1133\t1156\t1\tATAATGGTTTCTTAGACGTCAGG\n",
      "1160\t1183\t1\tACTTTTCGGGGAAATGTGCGCGG\n",
      "1254\t1277\t1\tTGCTTCAATAATATTGAAAAAGG\n",
      "1306\t1329\t1\tCGCCCTTATTCCCTTTTTTGCGG\n",
      "1345\t1368\t1\tTTTTGCTCACCCAGAAACGCTGG\n",
      "1375\t1398\t1\tAAAAGATGCTGAAGATCAGTTGG\n",
      "1402\t1425\t1\tACGAGTGGGTTACATCGAACTGG\n",
      "1487\t1510\t1\tACTTTTAAAGTTCTGCTATGTGG\n",
      "1514\t1537\t1\tGTATTATCCCGTATTGACGCCGG\n",
      "1561\t1584\t1\tACACTATTCTCAGAATGACTTGG\n",
      "1597\t1620\t1\tAGTCACAGAAAAGCATCTTACGG\n",
      "1657\t1680\t1\tAACCATGAGTGATAACACTGCGG\n",
      "1682\t1705\t1\tAACTTACTTCTGACAACGATCGG\n",
      "1720\t1743\t1\tAACCGCTTTTTTGCACAACATGG\n",
      "1749\t1772\t1\tATGTAACTCGCCTTGATCGTTGG\n",
      "1813\t1836\t1\tCACCACGATGCCTGTAGCAATGG\n",
      "1841\t1864\t1\tACGTTGCGCAAACTATTAACTGG\n",
      "1866\t1889\t1\tAACTACTTACTCTAGCTTCCCGG\n",
      "1891\t1914\t1\tACAATTAATAGACTGGATGGAGG\n",
      "1924\t1947\t1\tTGCAGGACCACTTCTGCGCTCGG\n",
      "1961\t1984\t1\tTGGTTTATTGCTGATAAATCTGG\n",
      "1985\t2008\t1\tGCCGGTGAGCGTGGGTCTCGCGG\n",
      "2012\t2035\t1\tATTGCAGCACTGGGGCCAGATGG\n",
      "2047\t2070\t1\tTATCGTAGTTATCTACACGACGG\n",
      "2096\t2119\t1\tAATAGACAGATCGCTGAGATAGG\n",
      "2187\t2210\t1\tAACTTCATTTTTAATTTAAAAGG\n",
      "2285\t2308\t1\tGACCCCGTAGAAAAGATCAAAGG\n",
      "2356\t2379\t1\tAAAAAAACCACCGCTACCAGCGG\n",
      "2401\t2424\t1\tGCTACCAACTCTTTTTCCGAAGG\n",
      "2462\t2485\t1\tCTTCTAGTGTAGCCGTAGTTAGG\n",
      "2527\t2550\t1\tTCTGCTAATCCTGTTACCAGTGG\n",
      "2561\t2584\t1\tGGCGATAAGTCGTGTCTTACCGG\n",
      "2587\t2610\t1\tGGACTCAAGACGATAGTTACCGG\n",
      "2614\t2637\t1\tGGCGCAGCGGTCGGGCTGAACGG\n",
      "2641\t2664\t1\tTTCGTGCACACAGCCCAGCTTGG\n",
      "2655\t2678\t-1\tGTAGGTCGTTCGCTCCAAGCTGG\n",
      "2606\t2629\t-1\tCCCGACCGCTGCGCCTTATCCGG\n",
      "2580\t2603\t-1\tCTATCGTCTTGAGTCCAACCCGG\n",
      "2556\t2579\t-1\tAAGACACGACTTATCGCCACTGG\n",
      "2521\t2544\t-1\tGTAACAGGATTAGCAGAGCGAGG\n",
      "2488\t2511\t-1\tGTGCTACAGAGTTCTTGAAGTGG\n",
      "2450\t2473\t-1\tTACACTAGAAGAACAGTATTTGG\n",
      "2417\t2440\t-1\tCTGCTGAAGCCAGTTACCTTCGG\n",
      "2390\t2413\t-1\tAGAGTTGGTAGCTCTTGATCCGG\n",
      "2366\t2389\t-1\tAAACAAACCACCGCTGGTAGCGG\n",
      "2321\t2344\t-1\tCAGATTACGCGCAGAAAAAAAGG\n",
      "2289\t2312\t-1\tAGATCCTTTGATCTTTTCTACGG\n",
      "2252\t2275\t-1\tTGGAACGAAAACTCACGTTAAGG\n",
      "2224\t2247\t-1\tTGGTCATGAGATTATCAAAAAGG\n",
      "2152\t2175\t-1\tAAAGTATATATGAGTAAACTTGG\n",
      "2121\t2144\t-1\tTTACCAATGCTTAATCAGTGAGG\n",
      "2044\t2067\t-1\tTCGTGTAGATAACTACGATACGG\n",
      "1986\t2009\t-1\tACCGCGAGACCCACGCTCACCGG\n",
      "1952\t1975\t-1\tTCAGCAATAAACCAGCCAGCCGG\n",
      "1885\t1908\t-1\tTCCAGTCTATTAATTGTTGCCGG\n",
      "1823\t1846\t-1\tAACGTTGTTGCCATTGCTACAGG\n",
      "1796\t1819\t-1\tGTGGTGTCACGCTCGTCGTTTGG\n",
      "1759\t1782\t-1\tGCTCCGGTTCCCAACGATCAAGG\n",
      "1722\t1745\t-1\tCCCCATGTTGTGCAAAAAAGCGG\n",
      "1680\t1703\t-1\tGATCGTTGTCAGAAGTAAGTTGG\n",
      "1653\t1676\t-1\tAGTGTTATCACTCATGGTTATGG\n",
      "1595\t1618\t-1\tGTAAGATGCTTTTCTGTGACTGG\n",
      "1555\t1578\t-1\tCATTCTGAGAATAGTGTATGCGG\n",
      "1522\t1545\t-1\tGCTCTTGCCCGGCGTCAATACGG\n",
      "1475\t1498\t-1\tACTTTAAAAGTGCTCATCATTGG\n",
      "1444\t1467\t-1\tCTTCGGGGCGAAAACTCTCAAGG\n",
      "1355\t1378\t-1\tTTTACTTTCACCAGCGTTTCTGG\n",
      "1317\t1340\t-1\tAAGGCAAAATGCCGCAAAAAAGG\n",
      "1245\t1268\t-1\tATATTATTGAAGCATTTATCAGG\n",
      "1187\t1210\t-1\tATTTAGAAAAATAAACAAATAGG\n",
      "1105\t1128\t-1\tTGACATTAACCTATAAAAATAGG\n",
      "1070\t1093\t-1\tCCCTTTCGTCTCGCGCGTTTCGG\n",
      "1032\t1055\t1\tCCGGGAGCTGCATGTGTCAGAGG\n",
      "1005\t1028\t-1\tGGTCACAGCTTGTCTGTAAGCGG\n",
      "978\t1001\t-1\tCGGGAGCAGACAAGCCCGTCAGG\n",
      "949\t972\t-1\tCAGCGGGTGTTGGCGGGTGTCGG\n",
      "892\t915\t-1\tTACTGAGAGTGCACCATATGCGG\n",
      "865\t888\t-1\tAAATACCGCACAGATGCGTAAGG\n",
      "829\t852\t-1\tTCAGGCGCCATTCGCCATTCAGG\n",
      "801\t824\t-1\tCAACTGTTGGGAAGGGCGATCGG\n",
      "771\t794\t-1\tCTCTTCGCTATTACGCCAGCTGG\n",
      "736\t759\t-1\tGTGCTGCAAGGCGATTAAGTTGG\n",
      "693\t716\t-1\tGTCACGACGTTGTAAAACGACGG\n",
      "667\t690\t-1\tGTGAATTCGAGCTCGGTACCCGG\n",
      "642\t665\t-1\tATCCTCTAGAGTCGACCTGCAGG\n",
      "618\t641\t-1\tATGCAAGCTTGGCGTAATCATGG\n",
      "556\t579\t-1\tATTCCACACAACATACGAGCCGG\n",
      "532\t555\t-1\tAGCATAAAGTGTAAAGCCTGGGG\n",
      "470\t493\t-1\tCTCACTGCCCGCTTTCCAGTCGG\n",
      "436\t459\t-1\tTGCCAGCTGCATTAATGAATCGG\n",
      "403\t426\t-1\tGGGAGAGGCGGTTTGCGTATTGG\n",
      "362\t385\t-1\tGCTCACTGACTCGCTGCGCTCGG\n",
      "323\t346\t-1\tAGCGGTATCAGCTCACTCAAAGG\n",
      "295\t318\t-1\tATACGGTTATCCACAGAATCAGG\n",
      "262\t285\t-1\tGGAAAGAACATGTGAGCAAAAGG\n",
      "233\t256\t-1\tAAAGGCCAGGAACCGTAAAAAGG\n",
      "207\t230\t-1\tCGTTGCTGGCGTTTTTCCATAGG\n",
      "159\t182\t-1\tAAAATCGACGCTCAAGTCAGAGG\n",
      "125\t148\t-1\tGACAGGACTATAAAGATACCAGG\n",
      "67\t90\t-1\tGTTCCGACCCTGCCGCTTACCGG\n",
      "41\t64\t-1\tCCTGTCCGCCTTTCTCCCTTCGG\n",
      "6\t29\t-1\tTTTCTCATAGCTCACGCTGTAGG\n"
     ]
    }
   ],
   "source": [
    "feature_list = plasmid.finddna(attribute=\"sequence\",query=\"[ATGC]{20}[ATGC]GG\")\n",
    "for feature in feature_list:\n",
    "    print(feature.location.start, feature.location.end, feature.location.strand, plasmid.getdnaseq(feature), sep=\"\\t\")"
   ]
  },
  {
   "cell_type": "markdown",
   "id": "falling-devon",
   "metadata": {},
   "source": [
    "**Example code 7: Search CDS features**"
   ]
  },
  {
   "cell_type": "code",
   "execution_count": 8,
   "id": "naked-intervention",
   "metadata": {},
   "outputs": [
    {
     "name": "stdout",
     "output_type": "stream",
     "text": [
      "type: CDS\n",
      "location: [614:938](+)\n",
      "qualifiers:\n",
      "    Key: codon_start, Value: ['1']\n",
      "    Key: gene, Value: ['lacZ fragment']\n",
      "    Key: label, Value: ['lacZ-alpha']\n",
      "    Key: product, Value: ['LacZ-alpha fragment of beta-galactosidase']\n",
      "    Key: translation, Value: ['MTMITPSLHACRSTLEDPRVPSSNSLAVVLQRRDWENPGVTQLNRLAAHPPFASWRNSEEARTDRPSQQLRSLNGEWRLMRYFLLTHLCGISHRIWCTLSTICSDAA']\n",
      "\n",
      "type: CDS\n",
      "location: [1283:2144](+)\n",
      "qualifiers:\n",
      "    Key: codon_start, Value: ['1']\n",
      "    Key: gene, Value: ['bla']\n",
      "    Key: label, Value: ['AmpR']\n",
      "    Key: note, Value: ['confers resistance to ampicillin, carbenicillin, and related antibiotics']\n",
      "    Key: product, Value: ['beta-lactamase']\n",
      "    Key: translation, Value: ['MSIQHFRVALIPFFAAFCLPVFAHPETLVKVKDAEDQLGARVGYIELDLNSGKILESFRPEERFPMMSTFKVLLCGAVLSRIDAGQEQLGRRIHYSQNDLVEYSPVTEKHLTDGMTVRELCSAAITMSDNTAANLLLTTIGGPKELTAFLHNMGDHVTRLDRWEPELNEAIPNDERDTTMPVAMATTLRKLLTGELLTLASRQQLIDWMEADKVAGPLLRSALPAGWFIADKSGAGERGSRGIIAALGPDGKPSRIVVIYTTGSQATMDERNRQIAEIGASLIKHW']\n",
      "\n"
     ]
    }
   ],
   "source": [
    "feature_list = plasmid.finddna(query=\"CDS\")\n",
    "for feature in feature_list:\n",
    "    print(feature)"
   ]
  },
  {
   "cell_type": "markdown",
   "id": "multiple-account",
   "metadata": {},
   "source": [
    "**Example code 8: Cut pUC19 plasmid at multiple positions \n",
    "Cut a circular 2,686-bp plasmid pUC19 with two positions to produce three linear fragments.**"
   ]
  },
  {
   "cell_type": "code",
   "execution_count": 9,
   "id": "increasing-reconstruction",
   "metadata": {},
   "outputs": [
    {
     "name": "stdout",
     "output_type": "stream",
     "text": [
      "<dna.DNA object; project='pUC19', length='1686 bp', topology='linear'>\n",
      "<dna.DNA object; project='pUC19', length='1000 bp', topology='linear'>\n"
     ]
    }
   ],
   "source": [
    "fragment1, fragment2 = cutdna(plasmid ,1000, 2000)\n",
    "print(fragment1)\n",
    "print(fragment2)"
   ]
  },
  {
   "cell_type": "markdown",
   "id": "sharing-beaver",
   "metadata": {},
   "source": [
    "**Example code 9: Crop a fragmented dna object in a specific region**\n",
    "If you want to get only fragment2, please use ```cropdna``` function as follows."
   ]
  },
  {
   "cell_type": "code",
   "execution_count": 10,
   "id": "valued-horror",
   "metadata": {},
   "outputs": [
    {
     "name": "stdout",
     "output_type": "stream",
     "text": [
      "<dna.DNA object; project='pUC19', length='1686 bp', topology='linear'>\n"
     ]
    }
   ],
   "source": [
    "fragment2 = cropdna(plasmid ,2000, 1000)\n",
    "print(fragment2)"
   ]
  },
  {
   "cell_type": "markdown",
   "id": "varied-glossary",
   "metadata": {},
   "source": [
    "**Example code 10: Simurate EcoRI digestion for pUC19 plasmid**  \n",
    "The recognition sequence where EcoRI cut is \"G↓AATTC\" and it is unique site in the pUC19 plasmid. First, search the EcoRI seqeunce from the pUC19 DNA sequence. Second, modify end sequence according to the cut end of EcoRI."
   ]
  },
  {
   "cell_type": "code",
   "execution_count": 11,
   "id": "timely-estimate",
   "metadata": {},
   "outputs": [
    {
     "name": "stdout",
     "output_type": "stream",
     "text": [
      "<dna.DNA object; project='pUC19', length='2690 bp', topology='linear'>\n",
      "5' AATTCACTGG...AGCTCG---- 3'\n",
      "3' ----GTGACC...TCGAGCTTAA 5'\n",
      "\n"
     ]
    }
   ],
   "source": [
    "site = plasmid.finddna(\"GAATTC\", attribute=\"sequence\", strand=1)[0] \n",
    "linear_plasmid = cutdna(plasmid, (site.location.start+1,site.location.start+5))[0]\n",
    "print(linear_plasmid)\n",
    "linear_plasmid.getdnaseq(display=True, whole=False, end_length=10)"
   ]
  },
  {
   "cell_type": "markdown",
   "id": "martial-rebound",
   "metadata": {},
   "source": [
    "**Example code 11: Trim single-stranded DNA on both ends to generate sticky ends**  \n",
    "Sticky ends can be generated by trimming single-stranded DNA sequences when their end structures are given by top and bottom strand strings with \"\\*\" and \"-\" separated by \"/.\" The letters \"-\" show nucleotide letters being trimmed and “\\*” shod nucleotide letters being remained. "
   ]
  },
  {
   "cell_type": "code",
   "execution_count": 12,
   "id": "cordless-waterproof",
   "metadata": {},
   "outputs": [
    {
     "name": "stdout",
     "output_type": "stream",
     "text": [
      "5' ACGAGGGAGCTTCCAGGGGG 3'\n",
      "3' TGCTCCCTCGAAGGTCCCCC 5'\n",
      "\n",
      "Trimmed\n",
      "5' ----GGGAGCTTCCAGGGGG 3'\n",
      "3' TGCTCCCTCGAAGGTCCC-- 5'\n"
     ]
    }
   ],
   "source": [
    "fragment = cropdna(plasmid, 100, 120)\n",
    "fragment.getdnaseq(display=True)\n",
    "print(\"\\nTrimmed\")\n",
    "fragment = modifyends(fragment, \"----/****\", \"**/--\")\n",
    "fragment.getdnaseq(display=True)"
   ]
  },
  {
   "cell_type": "markdown",
   "id": "active-attachment",
   "metadata": {},
   "source": [
    "The following code also can execute same process with the above one."
   ]
  },
  {
   "cell_type": "code",
   "execution_count": 13,
   "id": "willing-street",
   "metadata": {},
   "outputs": [
    {
     "name": "stdout",
     "output_type": "stream",
     "text": [
      "5' ----GGGAGCTTCCAGGGGG 3'\n",
      "3' TGCTCCCTCGAAGGTCCC-- 5'\n"
     ]
    }
   ],
   "source": [
    "fragment = cropdna(plasmid, (104,100), (120,118))\n",
    "fragment.getdnaseq(display=True)"
   ]
  },
  {
   "cell_type": "markdown",
   "id": "dried-adventure",
   "metadata": {},
   "source": [
    "A regex-like format can be used for the end stracture specification."
   ]
  },
  {
   "cell_type": "code",
   "execution_count": 14,
   "id": "brown-rugby",
   "metadata": {},
   "outputs": [
    {
     "name": "stdout",
     "output_type": "stream",
     "text": [
      "5' -----GGAGCTTCCAGGGGG 3'\n",
      "3' TGCTCCCTCGAAGGT----- 5'\n"
     ]
    }
   ],
   "source": [
    "fragment = cropdna(plasmid, 100, 120)\n",
    "fragment = modifyends(fragment, \"-{5}/*{5}\",\"*{5}/-{5}\")\n",
    "fragment.getdnaseq(display=True)"
   ]
  },
  {
   "cell_type": "markdown",
   "id": "raised-customer",
   "metadata": {},
   "source": [
    "If an invalid end sequence structure is given, error message will be returned. "
   ]
  },
  {
   "cell_type": "code",
   "execution_count": 15,
   "id": "furnished-reward",
   "metadata": {},
   "outputs": [
    {
     "ename": "TypeError",
     "evalue": "Please sepcify a proper sequence pattern for the 'left' argument",
     "output_type": "error",
     "traceback": [
      "\u001b[0;31m---------------------------------------------------------------------------\u001b[0m",
      "\u001b[0;31mTypeError\u001b[0m                                 Traceback (most recent call last)",
      "\u001b[0;32m<ipython-input-15-c2a81f3b7fbd>\u001b[0m in \u001b[0;36m<module>\u001b[0;34m\u001b[0m\n\u001b[1;32m      1\u001b[0m \u001b[0;31m#Source code (continued from the previous example)#\u001b[0m\u001b[0;34m\u001b[0m\u001b[0;34m\u001b[0m\u001b[0;34m\u001b[0m\u001b[0m\n\u001b[1;32m      2\u001b[0m \u001b[0mfragment\u001b[0m \u001b[0;34m=\u001b[0m \u001b[0mcropdna\u001b[0m\u001b[0;34m(\u001b[0m\u001b[0mfragment\u001b[0m\u001b[0;34m,\u001b[0m \u001b[0;36m100\u001b[0m\u001b[0;34m,\u001b[0m \u001b[0;36m120\u001b[0m\u001b[0;34m)\u001b[0m\u001b[0;34m\u001b[0m\u001b[0;34m\u001b[0m\u001b[0m\n\u001b[0;32m----> 3\u001b[0;31m \u001b[0mfragment\u001b[0m \u001b[0;34m=\u001b[0m \u001b[0mmodifyends\u001b[0m\u001b[0;34m(\u001b[0m\u001b[0mfragment\u001b[0m\u001b[0;34m,\u001b[0m\u001b[0;34m\"******/****--\"\u001b[0m\u001b[0;34m,\u001b[0m\u001b[0;34m\"----**/******\"\u001b[0m\u001b[0;34m)\u001b[0m\u001b[0;34m\u001b[0m\u001b[0;34m\u001b[0m\u001b[0m\n\u001b[0m",
      "\u001b[0;32m/Volumes/Mac_mini_ext/Dropbox (Yachie Lab)/HIDETO_MORI.LAB/Experiments/Project/Dbrick/github/dna.py\u001b[0m in \u001b[0;36mmodifyends\u001b[0;34m(dna, left, right, add, add_right, add_left, project, __direct)\u001b[0m\n\u001b[1;32m    776\u001b[0m         \u001b[0;32mpass\u001b[0m\u001b[0;34m\u001b[0m\u001b[0;34m\u001b[0m\u001b[0m\n\u001b[1;32m    777\u001b[0m     \u001b[0;32melse\u001b[0m\u001b[0;34m:\u001b[0m\u001b[0;34m\u001b[0m\u001b[0;34m\u001b[0m\u001b[0m\n\u001b[0;32m--> 778\u001b[0;31m         \u001b[0;32mraise\u001b[0m \u001b[0mTypeError\u001b[0m\u001b[0;34m(\u001b[0m\u001b[0;34m\"Please sepcify a proper sequence pattern for the 'left' argument\"\u001b[0m\u001b[0;34m)\u001b[0m\u001b[0;34m\u001b[0m\u001b[0;34m\u001b[0m\u001b[0m\n\u001b[0m\u001b[1;32m    779\u001b[0m \u001b[0;34m\u001b[0m\u001b[0m\n\u001b[1;32m    780\u001b[0m     \u001b[0;32mif\u001b[0m \u001b[0mpattern1\u001b[0m\u001b[0;34m.\u001b[0m\u001b[0mfullmatch\u001b[0m\u001b[0;34m(\u001b[0m\u001b[0mright_end\u001b[0m\u001b[0;34m)\u001b[0m \u001b[0;34m!=\u001b[0m \u001b[0;32mNone\u001b[0m \u001b[0;32mand\u001b[0m \u001b[0mpattern2\u001b[0m\u001b[0;34m.\u001b[0m\u001b[0msearch\u001b[0m\u001b[0;34m(\u001b[0m\u001b[0mright_end\u001b[0m\u001b[0;34m)\u001b[0m \u001b[0;32mis\u001b[0m \u001b[0;32mNone\u001b[0m \u001b[0;32mand\u001b[0m \u001b[0mpatternr1\u001b[0m\u001b[0;34m.\u001b[0m\u001b[0msearch\u001b[0m\u001b[0;34m(\u001b[0m\u001b[0mright_end\u001b[0m\u001b[0;34m)\u001b[0m \u001b[0;32mis\u001b[0m \u001b[0;32mNone\u001b[0m \u001b[0;32mand\u001b[0m \u001b[0mpatternr2\u001b[0m\u001b[0;34m.\u001b[0m\u001b[0msearch\u001b[0m\u001b[0;34m(\u001b[0m\u001b[0mright_end\u001b[0m\u001b[0;34m)\u001b[0m \u001b[0;32mis\u001b[0m \u001b[0;32mNone\u001b[0m\u001b[0;34m:\u001b[0m\u001b[0;34m\u001b[0m\u001b[0;34m\u001b[0m\u001b[0m\n",
      "\u001b[0;31mTypeError\u001b[0m: Please sepcify a proper sequence pattern for the 'left' argument"
     ]
    }
   ],
   "source": [
    "#Source code (continued from the previous example)#\n",
    "fragment = cropdna(fragment, 100, 120)\n",
    "fragment = modifyends(fragment,\"******/****--\",\"----**/******\")  "
   ]
  },
  {
   "cell_type": "markdown",
   "id": "visible-interaction",
   "metadata": {},
   "source": [
    "**Example code 12: Add sticky ends to a blunt end DNA object**  \n",
    "If end sequence structures are given with nucleotide letters, they are added to the DNA ends. The same operation can be achieved by the join function described later."
   ]
  },
  {
   "cell_type": "code",
   "execution_count": 16,
   "id": "sorted-banana",
   "metadata": {},
   "outputs": [
    {
     "name": "stdout",
     "output_type": "stream",
     "text": [
      "5' ---ATGCACGAGGGAGCTTCCAGGGGGTACG--- 3'\n",
      "3' ATGTACGTGCTCCCTCGAAGGTCCCCCATGCTAC 5'\n"
     ]
    }
   ],
   "source": [
    "fragment = cropdna(plasmid, 100, 120)\n",
    "fragment = modifyends(fragment,\"---ATGC/ATGTACG\",\"TACG---/ATGCTAC\")\n",
    "fragment.getdnaseq(display=True)"
   ]
  },
  {
   "cell_type": "markdown",
   "id": "median-terrorist",
   "metadata": {},
   "source": [
    "**Example code 13:  Flip ampicillin resistant gene in pUC19 plasmid**"
   ]
  },
  {
   "cell_type": "code",
   "execution_count": 17,
   "id": "mysterious-winning",
   "metadata": {},
   "outputs": [
    {
     "name": "stdout",
     "output_type": "stream",
     "text": [
      "<dna.DNA object; project='pUC19', length='1825 bp', topology='linear'> <dna.DNA object; project='pUC19', length='861 bp', topology='linear'>\n",
      "DNA.dna_dict['pUC19_144'] = joindna(*[DNA.dna_dict['pUC19_142'],DNA.dna_dict['pUC19_143']], topology='circular', project='pUC19')\n",
      "feature ID  qualifier:label  feature type  start position  end position  strand  \n",
      "900         lacZ-alpha       CDS           614             938           +       \n",
      "1800        AmpR             CDS           1283            2144          +       \n",
      "\n",
      "feature ID  qualifier:label  feature type  start position  end position  strand  \n",
      "1400        lacZ-alpha       CDS           1156            1480          +       \n",
      "2400        AmpR             CDS           1825            2686          -       \n",
      "\n"
     ]
    }
   ],
   "source": [
    "site = plasmid.finddna(\"AmpR\")[0]\n",
    "fragment1, fragment2 = cutdna(plasmid, site.location.start.position, site.location.end.position)\n",
    "print(fragment1, fragment2)\n",
    "fragment2   = flipdna(fragment2)\n",
    "new_plasmid = joindna(fragment1, fragment2, topology=\"circular\")\n",
    "plasmid.printfeature(feature_type=[\"CDS\"])\n",
    "new_plasmid.printfeature(feature_type=[\"CDS\"])"
   ]
  },
  {
   "cell_type": "markdown",
   "id": "internal-alias",
   "metadata": {},
   "source": [
    "**Example code 14: Convert feature type from ‘CDS’ to ‘gene’**"
   ]
  },
  {
   "cell_type": "code",
   "execution_count": 18,
   "id": "horizontal-sheriff",
   "metadata": {},
   "outputs": [
    {
     "name": "stdout",
     "output_type": "stream",
     "text": [
      "feature ID  qualifier:label  feature type  start position  end position  strand  \n",
      "900         lacZ-alpha       CDS           614             938           +       \n",
      "1800        AmpR             CDS           1283            2144          +       \n",
      "\n",
      "feature ID  qualifier:label  feature type  start position  end position  strand  \n",
      "900         lacZ-alpha       gene          614             938           +       \n",
      "1800        AmpR             gene          1283            2144          +       \n",
      "\n"
     ]
    }
   ],
   "source": [
    "plasmid.printfeature(feature_type=[\"CDS\"])\n",
    "new_plasmid = editdna(plasmid, key_attribute=\"feature type\", query=\"CDS\", target_attribute=\"feature type\", operation=replacedna(\"CDS\", \"gene\"), destructive=False)\n",
    "new_plasmid.printfeature(feature_type=[\"gene\"])"
   ]
  },
  {
   "cell_type": "markdown",
   "id": "surgical-quality",
   "metadata": {},
   "source": [
    "**Example code 15: Break start codon of the CDS features**"
   ]
  },
  {
   "cell_type": "code",
   "execution_count": 19,
   "id": "dental-apollo",
   "metadata": {},
   "outputs": [
    {
     "name": "stdout",
     "output_type": "stream",
     "text": [
      "lacZ-alpha: ATGACCATGA\n",
      "AmpR: ATGAGTATTC\n",
      "lacZ-alpha: GTGACCATGA\n",
      "AmpR: GTGAGTATTC\n",
      "type: CDS\n",
      "location: [614:938](+)\n",
      "qualifiers:\n",
      "    Key: codon_start, Value: ['1']\n",
      "    Key: editing_history, Value: [pUC19:lacZ-alpha:614..938]:0..3:ATG2GTG:324\n",
      "    Key: gene, Value: ['lacZ fragment']\n",
      "    Key: label, Value: ['lacZ-alpha']\n",
      "    Key: product, Value: ['LacZ-alpha fragment of beta-galactosidase']\n",
      "    Key: translation, Value: ['MTMITPSLHACRSTLEDPRVPSSNSLAVVLQRRDWENPGVTQLNRLAAHPPFASWRNSEEARTDRPSQQLRSLNGEWRLMRYFLLTHLCGISHRIWCTLSTICSDAA']\n",
      "\n",
      "type: CDS\n",
      "location: [1283:2144](+)\n",
      "qualifiers:\n",
      "    Key: codon_start, Value: ['1']\n",
      "    Key: editing_history, Value: [pUC19:AmpR:1283..2144]:0..3:ATG2GTG:861\n",
      "    Key: gene, Value: ['bla']\n",
      "    Key: label, Value: ['AmpR']\n",
      "    Key: note, Value: ['confers resistance to ampicillin, carbenicillin, and related antibiotics']\n",
      "    Key: product, Value: ['beta-lactamase']\n",
      "    Key: translation, Value: ['MSIQHFRVALIPFFAAFCLPVFAHPETLVKVKDAEDQLGARVGYIELDLNSGKILESFRPEERFPMMSTFKVLLCGAVLSRIDAGQEQLGRRIHYSQNDLVEYSPVTEKHLTDGMTVRELCSAAITMSDNTAANLLLTTIGGPKELTAFLHNMGDHVTRLDRWEPELNEAIPNDERDTTMPVAMATTLRKLLTGELLTLASRQQLIDWMEADKVAGPLLRSALPAGWFIADKSGAGERGSRGIIAALGPDGKPSRIVVIYTTGSQATMDERNRQIAEIGASLIKHW']\n",
      "\n"
     ]
    }
   ],
   "source": [
    "print(\"lacZ-alpha:\", plasmid.getdnaseq(plasmid.finddna(\"900\",\"feature_ID\")[0])[0:10])\n",
    "print(\"AmpR:\", plasmid.getdnaseq(plasmid.finddna(\"1800\",\"feature_ID\")[0])[0:10])\n",
    "new_plasmid = editdna(plasmid, key_attribute=\"feature type\", query=\"CDS\", target_attribute=\"sequence:!0..3!\", operation=replacedna(\"ATG\", \"GTG\"), destructive=False)\n",
    "print(\"lacZ-alpha:\", new_plasmid.getdnaseq(plasmid.finddna(\"900\",\"feature_ID\")[0])[0:10])\n",
    "print(\"AmpR:\", new_plasmid.getdnaseq(plasmid.finddna(\"1800\",\"feature_ID\")[0])[0:10])\n",
    "print(new_plasmid.finddna(\"900\", attribute=\"feature_ID\")[0])\n",
    "print(new_plasmid.finddna(\"1800\", attribute=\"feature_ID\")[0])"
   ]
  },
  {
   "cell_type": "markdown",
   "id": "compound-fifty",
   "metadata": {},
   "source": [
    "**Example code 15: Create new features where SpCas9 can bind.** "
   ]
  },
  {
   "cell_type": "code",
   "execution_count": 20,
   "id": "allied-status",
   "metadata": {},
   "outputs": [
    {
     "name": "stdout",
     "output_type": "stream",
     "text": [
      "feature ID         qualifier:label  feature type  start position  end position  strand  \n",
      "spCas9_target_125  N.A.             misc_bind     6               29            -       \n",
      "spCas9_target_124  N.A.             misc_bind     41              64            -       \n",
      "spCas9_target_1    N.A.             misc_bind     55              78            +       \n",
      "spCas9_target_123  N.A.             misc_bind     67              90            -       \n",
      "spCas9_target_2    N.A.             misc_bind     83              106           +       \n",
      "spCas9_target_3    N.A.             misc_bind     107             130           +       \n",
      "spCas9_target_122  N.A.             misc_bind     125             148           -       \n",
      "spCas9_target_121  N.A.             misc_bind     159             182           -       \n",
      "spCas9_target_4    N.A.             misc_bind     175             198           +       \n",
      "spCas9_target_120  N.A.             misc_bind     207             230           -       \n",
      "spCas9_target_5    N.A.             misc_bind     210             233           +       \n",
      "spCas9_target_119  N.A.             misc_bind     233             256           -       \n",
      "spCas9_target_6    N.A.             misc_bind     239             262           +       \n",
      "spCas9_target_118  N.A.             misc_bind     262             285           -       \n",
      "spCas9_target_7    N.A.             misc_bind     285             308           +       \n",
      "spCas9_target_117  N.A.             misc_bind     295             318           -       \n",
      "spCas9_target_116  N.A.             misc_bind     323             346           -       \n",
      "spCas9_target_115  N.A.             misc_bind     362             385           -       \n",
      "spCas9_target_8    N.A.             misc_bind     366             389           +       \n",
      "spCas9_target_114  N.A.             misc_bind     403             426           -       \n",
      "spCas9_target_9    N.A.             misc_bind     413             436           +       \n",
      "spCas9_target_113  N.A.             misc_bind     436             459           -       \n",
      "spCas9_target_10   N.A.             misc_bind     443             466           +       \n",
      "spCas9_target_112  N.A.             misc_bind     470             493           -       \n",
      "spCas9_target_11   N.A.             misc_bind     507             530           +       \n",
      "spCas9_target_111  N.A.             misc_bind     532             555           -       \n",
      "spCas9_target_12   N.A.             misc_bind     537             560           +       \n",
      "spCas9_target_110  N.A.             misc_bind     556             579           -       \n",
      "spCas9_target_13   N.A.             misc_bind     565             588           +       \n",
      "spCas9_target_109  N.A.             misc_bind     618             641           -       \n",
      "spCas9_target_14   N.A.             misc_bind     627             650           +       \n",
      "spCas9_target_108  N.A.             misc_bind     642             665           -       \n",
      "spCas9_target_107  N.A.             misc_bind     667             690           -       \n",
      "spCas9_target_15   N.A.             misc_bind     670             693           +       \n",
      "spCas9_target_106  N.A.             misc_bind     693             716           -       \n",
      "spCas9_target_16   N.A.             misc_bind     696             719           +       \n",
      "spCas9_target_105  N.A.             misc_bind     736             759           -       \n",
      "spCas9_target_17   N.A.             misc_bind     756             779           +       \n",
      "spCas9_target_104  N.A.             misc_bind     771             794           -       \n",
      "spCas9_target_103  N.A.             misc_bind     801             824           -       \n",
      "spCas9_target_18   N.A.             misc_bind     815             838           +       \n",
      "spCas9_target_102  N.A.             misc_bind     829             852           -       \n",
      "spCas9_target_19   N.A.             misc_bind     860             883           +       \n",
      "spCas9_target_101  N.A.             misc_bind     865             888           -       \n",
      "spCas9_target_100  N.A.             misc_bind     892             915           -       \n",
      "spCas9_target_99   N.A.             misc_bind     949             972           -       \n",
      "spCas9_target_20   N.A.             misc_bind     963             986           +       \n",
      "spCas9_target_98   N.A.             misc_bind     978             1001          -       \n",
      "spCas9_target_97   N.A.             misc_bind     1005            1028          -       \n",
      "spCas9_target_21   N.A.             misc_bind     1013            1036          +       \n",
      "spCas9_target_96   N.A.             misc_bind     1032            1055          +       \n",
      "spCas9_target_22   N.A.             misc_bind     1069            1092          +       \n",
      "spCas9_target_95   N.A.             misc_bind     1070            1093          -       \n",
      "spCas9_target_23   N.A.             misc_bind     1096            1119          +       \n",
      "spCas9_target_94   N.A.             misc_bind     1105            1128          -       \n",
      "spCas9_target_24   N.A.             misc_bind     1133            1156          +       \n",
      "spCas9_target_25   N.A.             misc_bind     1160            1183          +       \n",
      "spCas9_target_93   N.A.             misc_bind     1187            1210          -       \n",
      "spCas9_target_92   N.A.             misc_bind     1245            1268          -       \n",
      "spCas9_target_26   N.A.             misc_bind     1254            1277          +       \n",
      "spCas9_target_27   N.A.             misc_bind     1306            1329          +       \n",
      "spCas9_target_91   N.A.             misc_bind     1317            1340          -       \n",
      "spCas9_target_28   N.A.             misc_bind     1345            1368          +       \n",
      "spCas9_target_90   N.A.             misc_bind     1355            1378          -       \n",
      "spCas9_target_29   N.A.             misc_bind     1375            1398          +       \n",
      "spCas9_target_30   N.A.             misc_bind     1402            1425          +       \n",
      "spCas9_target_89   N.A.             misc_bind     1444            1467          -       \n",
      "spCas9_target_88   N.A.             misc_bind     1475            1498          -       \n",
      "spCas9_target_31   N.A.             misc_bind     1487            1510          +       \n",
      "spCas9_target_32   N.A.             misc_bind     1514            1537          +       \n",
      "spCas9_target_87   N.A.             misc_bind     1522            1545          -       \n",
      "spCas9_target_86   N.A.             misc_bind     1555            1578          -       \n",
      "spCas9_target_33   N.A.             misc_bind     1561            1584          +       \n",
      "spCas9_target_85   N.A.             misc_bind     1595            1618          -       \n",
      "spCas9_target_34   N.A.             misc_bind     1597            1620          +       \n",
      "spCas9_target_84   N.A.             misc_bind     1653            1676          -       \n",
      "spCas9_target_35   N.A.             misc_bind     1657            1680          +       \n",
      "spCas9_target_83   N.A.             misc_bind     1680            1703          -       \n",
      "spCas9_target_36   N.A.             misc_bind     1682            1705          +       \n",
      "spCas9_target_37   N.A.             misc_bind     1720            1743          +       \n",
      "spCas9_target_82   N.A.             misc_bind     1722            1745          -       \n",
      "spCas9_target_38   N.A.             misc_bind     1749            1772          +       \n",
      "spCas9_target_81   N.A.             misc_bind     1759            1782          -       \n",
      "spCas9_target_80   N.A.             misc_bind     1796            1819          -       \n",
      "spCas9_target_39   N.A.             misc_bind     1813            1836          +       \n",
      "spCas9_target_79   N.A.             misc_bind     1823            1846          -       \n",
      "spCas9_target_40   N.A.             misc_bind     1841            1864          +       \n",
      "spCas9_target_41   N.A.             misc_bind     1866            1889          +       \n",
      "spCas9_target_78   N.A.             misc_bind     1885            1908          -       \n",
      "spCas9_target_42   N.A.             misc_bind     1891            1914          +       \n",
      "spCas9_target_43   N.A.             misc_bind     1924            1947          +       \n",
      "spCas9_target_77   N.A.             misc_bind     1952            1975          -       \n",
      "spCas9_target_44   N.A.             misc_bind     1961            1984          +       \n",
      "spCas9_target_45   N.A.             misc_bind     1985            2008          +       \n",
      "spCas9_target_76   N.A.             misc_bind     1986            2009          -       \n",
      "spCas9_target_46   N.A.             misc_bind     2012            2035          +       \n",
      "spCas9_target_75   N.A.             misc_bind     2044            2067          -       \n",
      "spCas9_target_47   N.A.             misc_bind     2047            2070          +       \n",
      "spCas9_target_48   N.A.             misc_bind     2096            2119          +       \n",
      "spCas9_target_74   N.A.             misc_bind     2121            2144          -       \n",
      "spCas9_target_73   N.A.             misc_bind     2152            2175          -       \n",
      "spCas9_target_49   N.A.             misc_bind     2187            2210          +       \n",
      "spCas9_target_72   N.A.             misc_bind     2224            2247          -       \n",
      "spCas9_target_71   N.A.             misc_bind     2252            2275          -       \n",
      "spCas9_target_50   N.A.             misc_bind     2285            2308          +       \n",
      "spCas9_target_70   N.A.             misc_bind     2289            2312          -       \n",
      "spCas9_target_69   N.A.             misc_bind     2321            2344          -       \n",
      "spCas9_target_51   N.A.             misc_bind     2356            2379          +       \n",
      "spCas9_target_68   N.A.             misc_bind     2366            2389          -       \n",
      "spCas9_target_67   N.A.             misc_bind     2390            2413          -       \n",
      "spCas9_target_52   N.A.             misc_bind     2401            2424          +       \n",
      "spCas9_target_66   N.A.             misc_bind     2417            2440          -       \n",
      "spCas9_target_65   N.A.             misc_bind     2450            2473          -       \n",
      "spCas9_target_53   N.A.             misc_bind     2462            2485          +       \n",
      "spCas9_target_64   N.A.             misc_bind     2488            2511          -       \n",
      "spCas9_target_63   N.A.             misc_bind     2521            2544          -       \n",
      "spCas9_target_54   N.A.             misc_bind     2527            2550          +       \n",
      "spCas9_target_62   N.A.             misc_bind     2556            2579          -       \n",
      "spCas9_target_55   N.A.             misc_bind     2561            2584          +       \n",
      "spCas9_target_61   N.A.             misc_bind     2580            2603          -       \n",
      "spCas9_target_56   N.A.             misc_bind     2587            2610          +       \n",
      "spCas9_target_60   N.A.             misc_bind     2606            2629          -       \n",
      "spCas9_target_57   N.A.             misc_bind     2614            2637          +       \n",
      "spCas9_target_58   N.A.             misc_bind     2641            2664          +       \n",
      "spCas9_target_59   N.A.             misc_bind     2655            2678          -       \n",
      "\n"
     ]
    }
   ],
   "source": [
    "new_plasmid = editdna(plasmid, key_attribute=\"sequence\", query=\"[ATGC]{20}[ATGC]GG\", target_attribute=\"feature ID\", operation=createdna(\"spCas9_target\"), destructive=False)\n",
    "new_plasmid = editdna(new_plasmid, key_attribute=\"feature ID\", query=\"spCas9_target_[0-9]+\", target_attribute=\"feature type\", operation=replacedna(\"misc_bind\"), destructive=False)\n",
    "new_plasmid.printfeature(feature_type=[\"misc_bind\"])"
   ]
  }
 ],
 "metadata": {
  "kernelspec": {
   "display_name": "Python 3",
   "language": "python",
   "name": "python3"
  },
  "language_info": {
   "codemirror_mode": {
    "name": "ipython",
    "version": 3
   },
   "file_extension": ".py",
   "mimetype": "text/x-python",
   "name": "python",
   "nbconvert_exporter": "python",
   "pygments_lexer": "ipython3",
   "version": "3.9.1"
  }
 },
 "nbformat": 4,
 "nbformat_minor": 5
}
