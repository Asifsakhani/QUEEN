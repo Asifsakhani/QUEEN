{
 "cells": [
  {
   "cell_type": "code",
   "execution_count": 1,
   "metadata": {},
   "outputs": [],
   "source": [
    "import sys \n",
    "sys.path.append(\"../../\")\n",
    "from dna import *\n",
    "brick = DNA(seq=\"CCGGTATGCG----/----ATACGCAGCT\") "
   ]
  },
  {
   "cell_type": "code",
   "execution_count": 2,
   "metadata": {},
   "outputs": [
    {
     "name": "stdout",
     "output_type": "stream",
     "text": [
      "5' CCGGTATGCG---- 3'\n",
      "3' ----ATACGCAGCT 5'\n",
      "\n"
     ]
    }
   ],
   "source": [
    "brick.printdnaseq()"
   ]
  },
  {
   "cell_type": "code",
   "execution_count": 3,
   "metadata": {},
   "outputs": [
    {
     "name": "stdout",
     "output_type": "stream",
     "text": [
      "5' GAGATACCTACAGCGTGAGCTATGAGAAAGCGCCACGCTTCCCGAAGGGAGAAAGGCGGACAGGTATCCG 3'\n",
      "3' CTCTATGGATGTCGCACTCGATACTCTTTCGCGGTGCGAAGGGCTTCCCTCTTTCCGCCTGTCCATAGGC 5'\n",
      "\n",
      "5' GTAAGCGGCAGGGTCGGAACAGGAGAGCGCACGAGGGAGCTTCCAGGGGGAAACGCCTGGTATCTTTATA 3'\n",
      "3' CATTCGCCGTCCCAGCCTTGTCCTCTCGCGTGCTCCCTCGAAGGTCCCCCTTTGCGGACCATAGAAATAT 5'\n",
      "\n",
      "5' GTCCTGTCGGGTTTCGCCACCTCTGACTTGAGCGTCGATTTTTGTGATGCTCGTCAGGGGGGCGGAGCCT 3'\n",
      "3' CAGGACAGCCCAAAGCGGTGGAGACTGAACTCGCAGCTAAAAACACTACGAGCAGTCCCCCCGCCTCGGA 5'\n",
      "\n",
      "5' ATGGAAAAACGCCAGCAACGCGGCCTTTTTACGGTTCCTGGCCTTTTGCTGGCCTTTTGCTCACATGTTC 3'\n",
      "3' TACCTTTTTGCGGTCGTTGCGCCGGAAAAATGCCAAGGACCGGAAAACGACCGGAAAACGAGTGTACAAG 5'\n",
      "\n",
      "5' TTTCCTGCGTTATCCCCTGATTCTGTGGATAACCGTATTACCGCCTTTGAGTGAGCTGATACCGCTCGCC 3'\n",
      "3' AAAGGACGCAATAGGGGACTAAGACACCTATTGGCATAATGGCGGAAACTCACTCGACTATGGCGAGCGG 5'\n",
      "\n",
      "5' GCAGCCGAACGACCGAGCGCAGCGAGTCAGTGAGCGAGGAAGCGGAAGAGCGCCCAATACGCAAACCGCC 3'\n",
      "3' CGTCGGCTTGCTGGCTCGCGTCGCTCAGTCACTCGCTCCTTCGCCTTCTCGCGGGTTATGCGTTTGGCGG 5'\n",
      "\n",
      "5' TCTCCCCGCGCGTTGGCCGATTCATTAATGCAGCTGGCACGACAGGTTTCCCGACTGGAAAGCGGGCAGT 3'\n",
      "3' AGAGGGGCGCGCAACCGGCTAAGTAATTACGTCGACCGTGCTGTCCAAAGGGCTGACCTTTCGCCCGTCA 5'\n",
      "\n",
      "5' GAGCGCAACGCAATTAATGTGAGTTAGCTCACTCATTAGGCACCCCAGGCTTTACACTTTATGCTTCCGG 3'\n",
      "3' CTCGCGTTGCGTTAATTACACTCAATCGAGTGAGTAATCCGTGGGGTCCGAAATGTGAAATACGAAGGCC 5'\n",
      "\n",
      "5' CTCGTATGTTGTGTGGAATTGTGAGCGGATAACAATTTCACACAGGAAACAGCTATGACCATGATTACGC 3'\n",
      "3' GAGCATACAACACACCTTAACACTCGCCTATTGTTAAAGTGTGTCCTTTGTCGATACTGGTACTAATGCG 5'\n",
      "\n",
      "5' CAAGCTTGCATGCCTGCAGGTCGACTCTAGAGGATCCCCGGGTACCGAGCTCGAATTCACTGGCCGTCGT 3'\n",
      "3' GTTCGAACGTACGGACGTCCAGCTGAGATCTCCTAGGGGCCCATGGCTCGAGCTTAAGTGACCGGCAGCA 5'\n",
      "\n",
      "5' TTTACAACGTCGTGACTGGGAAAACCCTGGCGTTACCCAACTTAATCGCCTTGCAGCACATCCCCCTTTC 3'\n",
      "3' AAATGTTGCAGCACTGACCCTTTTGGGACCGCAATGGGTTGAATTAGCGGAACGTCGTGTAGGGGGAAAG 5'\n",
      "\n",
      "5' GCCAGCTGGCGTAATAGCGAAGAGGCCCGCACCGATCGCCCTTCCCAACAGTTGCGCAGCCTGAATGGCG 3'\n",
      "3' CGGTCGACCGCATTATCGCTTCTCCGGGCGTGGCTAGCGGGAAGGGTTGTCAACGCGTCGGACTTACCGC 5'\n",
      "\n",
      "5' AATGGCGCCTGATGCGGTATTTTCTCCTTACGCATCTGTGCGGTATTTCACACCGCATATGGTGCACTCT 3'\n",
      "3' TTACCGCGGACTACGCCATAAAAGAGGAATGCGTAGACACGCCATAAAGTGTGGCGTATACCACGTGAGA 5'\n",
      "\n",
      "5' CAGTACAATCTGCTCTGATGCCGCATAGTTAAGCCAGCCCCGACACCCGCCAACACCCGCTGACGCGCCC 3'\n",
      "3' GTCATGTTAGACGAGACTACGGCGTATCAATTCGGTCGGGGCTGTGGGCGGTTGTGGGCGACTGCGCGGG 5'\n",
      "\n",
      "5' TGACGGGCTTGTCTGCTCCCGGCATCCGCTTACAGACAAGCTGTGACCGTCTCCGGGAGCTGCATGTGTC 3'\n",
      "3' ACTGCCCGAACAGACGAGGGCCGTAGGCGAATGTCTGTTCGACACTGGCAGAGGCCCTCGACGTACACAG 5'\n",
      "\n",
      "5' AGAGGTTTTCACCGTCATCACCGAAACGCGCGAGACGAAAGGGCCTCGTGATACGCCTATTTTTATAGGT 3'\n",
      "3' TCTCCAAAAGTGGCAGTAGTGGCTTTGCGCGCTCTGCTTTCCCGGAGCACTATGCGGATAAAAATATCCA 5'\n",
      "\n",
      "5' TAATGTCATGATAATAATGGTTTCTTAGACGTCAGGTGGCACTTTTCGGGGAAATGTGCGCGGAACCCCT 3'\n",
      "3' ATTACAGTACTATTATTACCAAAGAATCTGCAGTCCACCGTGAAAAGCCCCTTTACACGCGCCTTGGGGA 5'\n",
      "\n",
      "5' ATTTGTTTATTTTTCTAAATACATTCAAATATGTATCCGCTCATGAGACAATAACCCTGATAAATGCTTC 3'\n",
      "3' TAAACAAATAAAAAGATTTATGTAAGTTTATACATAGGCGAGTACTCTGTTATTGGGACTATTTACGAAG 5'\n",
      "\n",
      "5' AATAATATTGAAAAAGGAAGAGTATGAGTATTCAACATTTCCGTGTCGCCCTTATTCCCTTTTTTGCGGC 3'\n",
      "3' TTATTATAACTTTTTCCTTCTCATACTCATAAGTTGTAAAGGCACAGCGGGAATAAGGGAAAAAACGCCG 5'\n",
      "\n",
      "5' ATTTTGCCTTCCTGTTTTTGCTCACCCAGAAACGCTGGTGAAAGTAAAAGATGCTGAAGATCAGTTGGGT 3'\n",
      "3' TAAAACGGAAGGACAAAAACGAGTGGGTCTTTGCGACCACTTTCATTTTCTACGACTTCTAGTCAACCCA 5'\n",
      "\n",
      "5' GCACGAGTGGGTTACATCGAACTGGATCTCAACAGCGGTAAGATCCTTGAGAGTTTTCGCCCCGAAGAAC 3'\n",
      "3' CGTGCTCACCCAATGTAGCTTGACCTAGAGTTGTCGCCATTCTAGGAACTCTCAAAAGCGGGGCTTCTTG 5'\n",
      "\n",
      "5' GTTTTCCAATGATGAGCACTTTTAAAGTTCTGCTATGTGGCGCGGTATTATCCCGTATTGACGCCGGGCA 3'\n",
      "3' CAAAAGGTTACTACTCGTGAAAATTTCAAGACGATACACCGCGCCATAATAGGGCATAACTGCGGCCCGT 5'\n",
      "\n",
      "5' AGAGCAACTCGGTCGCCGCATACACTATTCTCAGAATGACTTGGTTGAGTACTCACCAGTCACAGAAAAG 3'\n",
      "3' TCTCGTTGAGCCAGCGGCGTATGTGATAAGAGTCTTACTGAACCAACTCATGAGTGGTCAGTGTCTTTTC 5'\n",
      "\n",
      "5' CATCTTACGGATGGCATGACAGTAAGAGAATTATGCAGTGCTGCCATAACCATGAGTGATAACACTGCGG 3'\n",
      "3' GTAGAATGCCTACCGTACTGTCATTCTCTTAATACGTCACGACGGTATTGGTACTCACTATTGTGACGCC 5'\n",
      "\n",
      "5' CCAACTTACTTCTGACAACGATCGGAGGACCGAAGGAGCTAACCGCTTTTTTGCACAACATGGGGGATCA 3'\n",
      "3' GGTTGAATGAAGACTGTTGCTAGCCTCCTGGCTTCCTCGATTGGCGAAAAAACGTGTTGTACCCCCTAGT 5'\n",
      "\n",
      "5' TGTAACTCGCCTTGATCGTTGGGAACCGGAGCTGAATGAAGCCATACCAAACGACGAGCGTGACACCACG 3'\n",
      "3' ACATTGAGCGGAACTAGCAACCCTTGGCCTCGACTTACTTCGGTATGGTTTGCTGCTCGCACTGTGGTGC 5'\n",
      "\n",
      "5' ATGCCTGTAGCAATGGCAACAACGTTGCGCAAACTATTAACTGGCGAACTACTTACTCTAGCTTCCCGGC 3'\n",
      "3' TACGGACATCGTTACCGTTGTTGCAACGCGTTTGATAATTGACCGCTTGATGAATGAGATCGAAGGGCCG 5'\n",
      "\n",
      "5' AACAATTAATAGACTGGATGGAGGCGGATAAAGTTGCAGGACCACTTCTGCGCTCGGCCCTTCCGGCTGG 3'\n",
      "3' TTGTTAATTATCTGACCTACCTCCGCCTATTTCAACGTCCTGGTGAAGACGCGAGCCGGGAAGGCCGACC 5'\n",
      "\n",
      "5' CTGGTTTATTGCTGATAAATCTGGAGCCGGTGAGCGTGGGTCTCGCGGTATCATTGCAGCACTGGGGCCA 3'\n",
      "3' GACCAAATAACGACTATTTAGACCTCGGCCACTCGCACCCAGAGCGCCATAGTAACGTCGTGACCCCGGT 5'\n",
      "\n",
      "5' GATGGTAAGCCCTCCCGTATCGTAGTTATCTACACGACGGGGAGTCAGGCAACTATGGATGAACGAAATA 3'\n",
      "3' CTACCATTCGGGAGGGCATAGCATCAATAGATGTGCTGCCCCTCAGTCCGTTGATACCTACTTGCTTTAT 5'\n",
      "\n",
      "5' GACAGATCGCTGAGATAGGTGCCTCACTGATTAAGCATTGGTAACTGTCAGACCAAGTTTACTCATATAT 3'\n",
      "3' CTGTCTAGCGACTCTATCCACGGAGTGACTAATTCGTAACCATTGACAGTCTGGTTCAAATGAGTATATA 5'\n",
      "\n",
      "5' ACTTTAGATTGATTTAAAACTTCATTTTTAATTTAAAAGGATCTAGGTGAAGATCCTTTTTGATAATCTC 3'\n",
      "3' TGAAATCTAACTAAATTTTGAAGTAAAAATTAAATTTTCCTAGATCCACTTCTAGGAAAAACTATTAGAG 5'\n",
      "\n",
      "5' ATGACCAAAATCCCTTAACGTGAGTTTTCGTTCCACTGAGCGTCAGACCCCGTAGAAAAGATCAAAGGAT 3'\n",
      "3' TACTGGTTTTAGGGAATTGCACTCAAAAGCAAGGTGACTCGCAGTCTGGGGCATCTTTTCTAGTTTCCTA 5'\n",
      "\n",
      "5' CTTCTTGAGATCCTTTTTTTCTGCGCGTAATCTGCTGCTTGCAAACAAAAAAACCACCGCTACCAGCGGT 3'\n",
      "3' GAAGAACTCTAGGAAAAAAAGACGCGCATTAGACGACGAACGTTTGTTTTTTTGGTGGCGATGGTCGCCA 5'\n",
      "\n",
      "5' GGTTTGTTTGCCGGATCAAGAGCTACCAACTCTTTTTCCGAAGGTAACTGGCTTCAGCAGAGCGCAGATA 3'\n",
      "3' CCAAACAAACGGCCTAGTTCTCGATGGTTGAGAAAAAGGCTTCCATTGACCGAAGTCGTCTCGCGTCTAT 5'\n",
      "\n",
      "5' CCAAATACTGTTCTTCTAGTGTAGCCGTAGTTAGGCCACCACTTCAAGAACTCTGTAGCACCGCCTACAT 3'\n",
      "3' GGTTTATGACAAGAAGATCACATCGGCATCAATCCGGTGGTGAAGTTCTTGAGACATCGTGGCGGATGTA 5'\n",
      "\n",
      "5' ACCTCGCTCTGCTAATCCTGTTACCAGTGGCTGCTGCCAGTGGCGATAAGTCGTGTCTTACCGGGTTGGA 3'\n",
      "3' TGGAGCGAGACGATTAGGACAATGGTCACCGACGACGGTCACCGCTATTCAGCACAGAATGGCCCAACCT 5'\n",
      "\n",
      "5' CTCAAGACGATAGTTACCGGATAAGGCGCAGCGGTCGGGCTGAACGGGGGGTTCGTGCACACAGCCCAGC 3'\n",
      "3' GAGTTCTGCTATCAATGGCCTATTCCGCGTCGCCAGCCCGACTTGCCCCCCAAGCACGTGTGTCGGGTCG 5'\n",
      "\n",
      "5' TTGGAGCGAACGACCTACACCGAACT 3'\n",
      "3' AACCTCGCTTGCTGGATGTGGCTTGA 5'\n",
      "\n",
      "\n"
     ]
    }
   ],
   "source": [
    "brick = DNA(record=\"pUC19.gbk\", project=\"pUC19\") \n",
    "brick.printdnaseq(width=70)"
   ]
  },
  {
   "cell_type": "code",
   "execution_count": 4,
   "metadata": {},
   "outputs": [
    {
     "name": "stdout",
     "output_type": "stream",
     "text": [
      "Feature_ID  Label            Type         Start  End   Strand  Seq                      \n",
      "100         pBR322ori-F      primer_bind  117    137   +       GGGAAACGCCTGGTATCTTT     \n",
      "200         L4440            primer_bind  370    388   +       AGCGAGTCAGTGAGCGAG       \n",
      "600         M13/pUC Reverse  primer_bind  583    606   +       AGCGGATAACAATTTCACACAGG  \n",
      "700         M13 rev          primer_bind  602    619   +       CAGGAAACAGCTATGAC        \n",
      "800         M13 Reverse      primer_bind  602    619   +       CAGGAAACAGCTATGAC        \n",
      "1100        M13 Forward      primer_bind  688    706   -       TGTAAAACGACGGCCAGT       \n",
      "1200        M13 fwd          primer_bind  688    705   -       GTAAAACGACGGCCAGT        \n",
      "1300        M13/pUC Forward  primer_bind  697    720   -       CCCAGTCACGACGTTGTAAAACG  \n",
      "1400        pRS-marker       primer_bind  913    933   -       CGGCATCAGAGCAGATTGTA     \n",
      "1500        pGEX 3'          primer_bind  1032   1055  +       CCGGGAGCTGCATGTGTCAGAGG  \n",
      "1600        pBRforEco        primer_bind  1092   1111  -       AATAGGCGTATCACGAGGC      \n",
      "1900        Amp-R            primer_bind  1501   1521  -       ATAATACCGCGCCACATAGC     \n",
      "\n"
     ]
    }
   ],
   "source": [
    "brick.printdnafeature(with_seq=True, feature_key=[\"primer_bind\"])"
   ]
  },
  {
   "cell_type": "code",
   "execution_count": 5,
   "metadata": {},
   "outputs": [],
   "source": [
    "brick.printdnafeature(detail=True, sep=\"\\t\", output=\"feature_info.tsv\")"
   ]
  },
  {
   "cell_type": "code",
   "execution_count": 6,
   "metadata": {},
   "outputs": [
    {
     "data": {
      "text/plain": [
       "[<dna.MatchDNA object; sseq='GGATCC', sstart=661, send=667, qseq='GGATCC', qstart=0, qend=6, strand=1, match_count=6>,\n",
       " <dna.MatchDNA object; sseq='GGATCC', sstart=661, send=667, qseq='GGATCC', qstart=6, qend=0, strand=-1, match_count=6>]"
      ]
     },
     "execution_count": 6,
     "metadata": {},
     "output_type": "execute_result"
    }
   ],
   "source": [
    "\"\"\"\n",
    "def print_match(result):\n",
    "    print(\"###\")\n",
    "    for match in result:\n",
    "        print(\"sseq   = \"+match.sseq)\n",
    "        print(\"qseq   = \"+match.qseq)\n",
    "        print(\"sstart = {}\".format(match.sstart)) \n",
    "        print(\"send   = {}\".format(match.send))\n",
    "        print(\"qstart = {}\".format(match.qstart)) \n",
    "        print(\"qend   = {}\".format(match.qend)) \n",
    "        print(\"strand = {}\".format(match.strand))\n",
    "        print(\"###\")\n",
    "    print()\n",
    "\"\"\"\n",
    "brick.finddna(\"GGATCC\")"
   ]
  },
  {
   "cell_type": "code",
   "execution_count": 7,
   "metadata": {},
   "outputs": [
    {
     "data": {
      "text/plain": [
       "[<dna.MatchDNA object; sseq='GGATCC', sstart=661, send=667, qseq='GGATCC', qstart=0, qend=6, strand=1, match_count=6>,\n",
       " <dna.MatchDNA object; sseq='GGATCC', sstart=661, send=667, qseq='GGATCC', qstart=6, qend=0, strand=-1, match_count=6>,\n",
       " <dna.MatchDNA object; sseq='GGATC', sstart=1423, send=1428, qseq='GGATC', qstart=0, qend=5, strand=1, match_count=5>,\n",
       " <dna.MatchDNA object; sseq='G-ATCC', sstart=1441, send=1446, qseq='GGATCC', qstart=0, qend=6, strand=1, match_count=5>,\n",
       " <dna.MatchDNA object; sseq='GGATC', sstart=1744, send=1749, qseq='GGATC', qstart=0, qend=5, strand=1, match_count=5>,\n",
       " <dna.MatchDNA object; sseq='GGATC', sstart=2208, send=2213, qseq='GGATC', qstart=0, qend=5, strand=1, match_count=5>,\n",
       " <dna.MatchDNA object; sseq='G-ATCC', sstart=2221, send=2226, qseq='GGATCC', qstart=0, qend=6, strand=1, match_count=5>,\n",
       " <dna.MatchDNA object; sseq='GGATC', sstart=2306, send=2311, qseq='GGATC', qstart=0, qend=5, strand=1, match_count=5>,\n",
       " <dna.MatchDNA object; sseq='G-ATCC', sstart=2318, send=2323, qseq='GGATCC', qstart=0, qend=6, strand=1, match_count=5>,\n",
       " <dna.MatchDNA object; sseq='GGATC', sstart=2392, send=2397, qseq='GGATC', qstart=0, qend=5, strand=1, match_count=5>,\n",
       " <dna.MatchDNA object; sseq='GGATC', sstart=2392, send=2397, qseq='GGATC', qstart=6, qend=1, strand=-1, match_count=5>,\n",
       " <dna.MatchDNA object; sseq='G-ATCC', sstart=2318, send=2323, qseq='GGATCC', qstart=6, qend=0, strand=-1, match_count=5>,\n",
       " <dna.MatchDNA object; sseq='GGATC', sstart=2306, send=2311, qseq='GGATC', qstart=6, qend=1, strand=-1, match_count=5>,\n",
       " <dna.MatchDNA object; sseq='G-ATCC', sstart=2221, send=2226, qseq='GGATCC', qstart=6, qend=0, strand=-1, match_count=5>,\n",
       " <dna.MatchDNA object; sseq='GGATC', sstart=2208, send=2213, qseq='GGATC', qstart=6, qend=1, strand=-1, match_count=5>,\n",
       " <dna.MatchDNA object; sseq='GGATC', sstart=1744, send=1749, qseq='GGATC', qstart=6, qend=1, strand=-1, match_count=5>,\n",
       " <dna.MatchDNA object; sseq='G-ATCC', sstart=1441, send=1446, qseq='GGATCC', qstart=6, qend=0, strand=-1, match_count=5>,\n",
       " <dna.MatchDNA object; sseq='GGATC', sstart=1423, send=1428, qseq='GGATC', qstart=6, qend=1, strand=-1, match_count=5>]"
      ]
     },
     "execution_count": 7,
     "metadata": {},
     "output_type": "execute_result"
    }
   ],
   "source": [
    "brick.finddna(\"GGATCC\", match_option={\"min_match\":5})"
   ]
  },
  {
   "cell_type": "code",
   "execution_count": 8,
   "metadata": {},
   "outputs": [
    {
     "data": {
      "text/plain": [
       "[<dna.MatchDNA object; sseq='AAAGCGCCACGCTTCCCGAAGGG', sstart=26, send=49, qseq='[ATGC]{20}GG[ATGC]', qstart=0, qend=23, strand=1, match_count=None>,\n",
       " <dna.MatchDNA object; sseq='CGGACAGGTATCCGGTAAGCGGC', sstart=56, send=79, qseq='[ATGC]{20}GG[ATGC]', qstart=0, qend=23, strand=1, match_count=None>,\n",
       " <dna.MatchDNA object; sseq='CGGAACAGGAGAGCGCACGAGGG', sstart=84, send=107, qseq='[ATGC]{20}GG[ATGC]', qstart=0, qend=23, strand=1, match_count=None>,\n",
       " <dna.MatchDNA object; sseq='GCTTCCAGGGGGAAACGCCTGGT', sstart=108, send=131, qseq='[ATGC]{20}GG[ATGC]', qstart=0, qend=23, strand=1, match_count=None>,\n",
       " <dna.MatchDNA object; sseq='GATTTTTGTGATGCTCGTCAGGG', sstart=176, send=199, qseq='[ATGC]{20}GG[ATGC]', qstart=0, qend=23, strand=1, match_count=None>,\n",
       " <dna.MatchDNA object; sseq='TGGAAAAACGCCAGCAACGCGGC', sstart=211, send=234, qseq='[ATGC]{20}GG[ATGC]', qstart=0, qend=23, strand=1, match_count=None>,\n",
       " <dna.MatchDNA object; sseq='ACGGTTCCTGGCCTTTTGCTGGC', sstart=240, send=263, qseq='[ATGC]{20}GG[ATGC]', qstart=0, qend=23, strand=1, match_count=None>,\n",
       " <dna.MatchDNA object; sseq='GCGTTATCCCCTGATTCTGTGGA', sstart=286, send=309, qseq='[ATGC]{20}GG[ATGC]', qstart=0, qend=23, strand=1, match_count=None>,\n",
       " <dna.MatchDNA object; sseq='CGCAGCGAGTCAGTGAGCGAGGA', sstart=367, send=390, qseq='[ATGC]{20}GG[ATGC]', qstart=0, qend=23, strand=1, match_count=None>,\n",
       " <dna.MatchDNA object; sseq='ACCGCCTCTCCCCGCGCGTTGGC', sstart=414, send=437, qseq='[ATGC]{20}GG[ATGC]', qstart=0, qend=23, strand=1, match_count=None>,\n",
       " <dna.MatchDNA object; sseq='TTAATGCAGCTGGCACGACAGGT', sstart=444, send=467, qseq='[ATGC]{20}GG[ATGC]', qstart=0, qend=23, strand=1, match_count=None>,\n",
       " <dna.MatchDNA object; sseq='GTGAGTTAGCTCACTCATTAGGC', sstart=508, send=531, qseq='[ATGC]{20}GG[ATGC]', qstart=0, qend=23, strand=1, match_count=None>,\n",
       " <dna.MatchDNA object; sseq='GCTTTACACTTTATGCTTCCGGC', sstart=538, send=561, qseq='[ATGC]{20}GG[ATGC]', qstart=0, qend=23, strand=1, match_count=None>,\n",
       " <dna.MatchDNA object; sseq='TGTTGTGTGGAATTGTGAGCGGA', sstart=566, send=589, qseq='[ATGC]{20}GG[ATGC]', qstart=0, qend=23, strand=1, match_count=None>,\n",
       " <dna.MatchDNA object; sseq='GCCAAGCTTGCATGCCTGCAGGT', sstart=628, send=651, qseq='[ATGC]{20}GG[ATGC]', qstart=0, qend=23, strand=1, match_count=None>,\n",
       " <dna.MatchDNA object; sseq='GTACCGAGCTCGAATTCACTGGC', sstart=671, send=694, qseq='[ATGC]{20}GG[ATGC]', qstart=0, qend=23, strand=1, match_count=None>,\n",
       " <dna.MatchDNA object; sseq='CGTTTTACAACGTCGTGACTGGG', sstart=697, send=720, qseq='[ATGC]{20}GG[ATGC]', qstart=0, qend=23, strand=1, match_count=None>,\n",
       " <dna.MatchDNA object; sseq='ACATCCCCCTTTCGCCAGCTGGC', sstart=757, send=780, qseq='[ATGC]{20}GG[ATGC]', qstart=0, qend=23, strand=1, match_count=None>,\n",
       " <dna.MatchDNA object; sseq='AACAGTTGCGCAGCCTGAATGGC', sstart=816, send=839, qseq='[ATGC]{20}GG[ATGC]', qstart=0, qend=23, strand=1, match_count=None>,\n",
       " <dna.MatchDNA object; sseq='TTCTCCTTACGCATCTGTGCGGT', sstart=861, send=884, qseq='[ATGC]{20}GG[ATGC]', qstart=0, qend=23, strand=1, match_count=None>,\n",
       " <dna.MatchDNA object; sseq='ACCCGCTGACGCGCCCTGACGGG', sstart=964, send=987, qseq='[ATGC]{20}GG[ATGC]', qstart=0, qend=23, strand=1, match_count=None>,\n",
       " <dna.MatchDNA object; sseq='GACAAGCTGTGACCGTCTCCGGG', sstart=1014, send=1037, qseq='[ATGC]{20}GG[ATGC]', qstart=0, qend=23, strand=1, match_count=None>,\n",
       " <dna.MatchDNA object; sseq='CCGAAACGCGCGAGACGAAAGGG', sstart=1070, send=1093, qseq='[ATGC]{20}GG[ATGC]', qstart=0, qend=23, strand=1, match_count=None>,\n",
       " <dna.MatchDNA object; sseq='GTGATACGCCTATTTTTATAGGT', sstart=1097, send=1120, qseq='[ATGC]{20}GG[ATGC]', qstart=0, qend=23, strand=1, match_count=None>,\n",
       " <dna.MatchDNA object; sseq='TAATGGTTTCTTAGACGTCAGGT', sstart=1134, send=1157, qseq='[ATGC]{20}GG[ATGC]', qstart=0, qend=23, strand=1, match_count=None>,\n",
       " <dna.MatchDNA object; sseq='CTTTTCGGGGAAATGTGCGCGGA', sstart=1161, send=1184, qseq='[ATGC]{20}GG[ATGC]', qstart=0, qend=23, strand=1, match_count=None>,\n",
       " <dna.MatchDNA object; sseq='GCTTCAATAATATTGAAAAAGGA', sstart=1255, send=1278, qseq='[ATGC]{20}GG[ATGC]', qstart=0, qend=23, strand=1, match_count=None>,\n",
       " <dna.MatchDNA object; sseq='GCCCTTATTCCCTTTTTTGCGGC', sstart=1307, send=1330, qseq='[ATGC]{20}GG[ATGC]', qstart=0, qend=23, strand=1, match_count=None>,\n",
       " <dna.MatchDNA object; sseq='TTTGCTCACCCAGAAACGCTGGT', sstart=1346, send=1369, qseq='[ATGC]{20}GG[ATGC]', qstart=0, qend=23, strand=1, match_count=None>,\n",
       " <dna.MatchDNA object; sseq='AAAGATGCTGAAGATCAGTTGGG', sstart=1376, send=1399, qseq='[ATGC]{20}GG[ATGC]', qstart=0, qend=23, strand=1, match_count=None>,\n",
       " <dna.MatchDNA object; sseq='CGAGTGGGTTACATCGAACTGGA', sstart=1403, send=1426, qseq='[ATGC]{20}GG[ATGC]', qstart=0, qend=23, strand=1, match_count=None>,\n",
       " <dna.MatchDNA object; sseq='CTTTTAAAGTTCTGCTATGTGGC', sstart=1488, send=1511, qseq='[ATGC]{20}GG[ATGC]', qstart=0, qend=23, strand=1, match_count=None>,\n",
       " <dna.MatchDNA object; sseq='TATTATCCCGTATTGACGCCGGG', sstart=1515, send=1538, qseq='[ATGC]{20}GG[ATGC]', qstart=0, qend=23, strand=1, match_count=None>,\n",
       " <dna.MatchDNA object; sseq='CACTATTCTCAGAATGACTTGGT', sstart=1562, send=1585, qseq='[ATGC]{20}GG[ATGC]', qstart=0, qend=23, strand=1, match_count=None>,\n",
       " <dna.MatchDNA object; sseq='GTCACAGAAAAGCATCTTACGGA', sstart=1598, send=1621, qseq='[ATGC]{20}GG[ATGC]', qstart=0, qend=23, strand=1, match_count=None>,\n",
       " <dna.MatchDNA object; sseq='ACCATGAGTGATAACACTGCGGC', sstart=1658, send=1681, qseq='[ATGC]{20}GG[ATGC]', qstart=0, qend=23, strand=1, match_count=None>,\n",
       " <dna.MatchDNA object; sseq='ACTTACTTCTGACAACGATCGGA', sstart=1683, send=1706, qseq='[ATGC]{20}GG[ATGC]', qstart=0, qend=23, strand=1, match_count=None>,\n",
       " <dna.MatchDNA object; sseq='ACCGCTTTTTTGCACAACATGGG', sstart=1721, send=1744, qseq='[ATGC]{20}GG[ATGC]', qstart=0, qend=23, strand=1, match_count=None>,\n",
       " <dna.MatchDNA object; sseq='TGTAACTCGCCTTGATCGTTGGG', sstart=1750, send=1773, qseq='[ATGC]{20}GG[ATGC]', qstart=0, qend=23, strand=1, match_count=None>,\n",
       " <dna.MatchDNA object; sseq='ACCACGATGCCTGTAGCAATGGC', sstart=1814, send=1837, qseq='[ATGC]{20}GG[ATGC]', qstart=0, qend=23, strand=1, match_count=None>,\n",
       " <dna.MatchDNA object; sseq='CGTTGCGCAAACTATTAACTGGC', sstart=1842, send=1865, qseq='[ATGC]{20}GG[ATGC]', qstart=0, qend=23, strand=1, match_count=None>,\n",
       " <dna.MatchDNA object; sseq='ACTACTTACTCTAGCTTCCCGGC', sstart=1867, send=1890, qseq='[ATGC]{20}GG[ATGC]', qstart=0, qend=23, strand=1, match_count=None>,\n",
       " <dna.MatchDNA object; sseq='CAATTAATAGACTGGATGGAGGC', sstart=1892, send=1915, qseq='[ATGC]{20}GG[ATGC]', qstart=0, qend=23, strand=1, match_count=None>,\n",
       " <dna.MatchDNA object; sseq='GCAGGACCACTTCTGCGCTCGGC', sstart=1925, send=1948, qseq='[ATGC]{20}GG[ATGC]', qstart=0, qend=23, strand=1, match_count=None>,\n",
       " <dna.MatchDNA object; sseq='GGTTTATTGCTGATAAATCTGGA', sstart=1962, send=1985, qseq='[ATGC]{20}GG[ATGC]', qstart=0, qend=23, strand=1, match_count=None>,\n",
       " <dna.MatchDNA object; sseq='CCGGTGAGCGTGGGTCTCGCGGT', sstart=1986, send=2009, qseq='[ATGC]{20}GG[ATGC]', qstart=0, qend=23, strand=1, match_count=None>,\n",
       " <dna.MatchDNA object; sseq='TTGCAGCACTGGGGCCAGATGGT', sstart=2013, send=2036, qseq='[ATGC]{20}GG[ATGC]', qstart=0, qend=23, strand=1, match_count=None>,\n",
       " <dna.MatchDNA object; sseq='ATCGTAGTTATCTACACGACGGG', sstart=2048, send=2071, qseq='[ATGC]{20}GG[ATGC]', qstart=0, qend=23, strand=1, match_count=None>,\n",
       " <dna.MatchDNA object; sseq='ATAGACAGATCGCTGAGATAGGT', sstart=2097, send=2120, qseq='[ATGC]{20}GG[ATGC]', qstart=0, qend=23, strand=1, match_count=None>,\n",
       " <dna.MatchDNA object; sseq='ACTTCATTTTTAATTTAAAAGGA', sstart=2188, send=2211, qseq='[ATGC]{20}GG[ATGC]', qstart=0, qend=23, strand=1, match_count=None>,\n",
       " <dna.MatchDNA object; sseq='ACCCCGTAGAAAAGATCAAAGGA', sstart=2286, send=2309, qseq='[ATGC]{20}GG[ATGC]', qstart=0, qend=23, strand=1, match_count=None>,\n",
       " <dna.MatchDNA object; sseq='AAAAAACCACCGCTACCAGCGGT', sstart=2357, send=2380, qseq='[ATGC]{20}GG[ATGC]', qstart=0, qend=23, strand=1, match_count=None>,\n",
       " <dna.MatchDNA object; sseq='CTACCAACTCTTTTTCCGAAGGT', sstart=2402, send=2425, qseq='[ATGC]{20}GG[ATGC]', qstart=0, qend=23, strand=1, match_count=None>,\n",
       " <dna.MatchDNA object; sseq='TTCTAGTGTAGCCGTAGTTAGGC', sstart=2463, send=2486, qseq='[ATGC]{20}GG[ATGC]', qstart=0, qend=23, strand=1, match_count=None>,\n",
       " <dna.MatchDNA object; sseq='CTGCTAATCCTGTTACCAGTGGC', sstart=2528, send=2551, qseq='[ATGC]{20}GG[ATGC]', qstart=0, qend=23, strand=1, match_count=None>,\n",
       " <dna.MatchDNA object; sseq='GCGATAAGTCGTGTCTTACCGGG', sstart=2562, send=2585, qseq='[ATGC]{20}GG[ATGC]', qstart=0, qend=23, strand=1, match_count=None>,\n",
       " <dna.MatchDNA object; sseq='GACTCAAGACGATAGTTACCGGA', sstart=2588, send=2611, qseq='[ATGC]{20}GG[ATGC]', qstart=0, qend=23, strand=1, match_count=None>,\n",
       " <dna.MatchDNA object; sseq='GCGCAGCGGTCGGGCTGAACGGG', sstart=2615, send=2638, qseq='[ATGC]{20}GG[ATGC]', qstart=0, qend=23, strand=1, match_count=None>,\n",
       " <dna.MatchDNA object; sseq='TCGTGCACACAGCCCAGCTTGGA', sstart=2642, send=2665, qseq='[ATGC]{20}GG[ATGC]', qstart=0, qend=23, strand=1, match_count=None>,\n",
       " <dna.MatchDNA object; sseq='CCCAGCTTGGAGCGAACGACCTA', sstart=2654, send=2677, qseq='[ATGC]{20}GG[ATGC]', qstart=23, qend=0, strand=-1, match_count=None>,\n",
       " <dna.MatchDNA object; sseq='ACCGGATAAGGCGCAGCGGTCGG', sstart=2605, send=2628, qseq='[ATGC]{20}GG[ATGC]', qstart=23, qend=0, strand=-1, match_count=None>,\n",
       " <dna.MatchDNA object; sseq='ACCGGGTTGGACTCAAGACGATA', sstart=2579, send=2602, qseq='[ATGC]{20}GG[ATGC]', qstart=23, qend=0, strand=-1, match_count=None>,\n",
       " <dna.MatchDNA object; sseq='GCCAGTGGCGATAAGTCGTGTCT', sstart=2555, send=2578, qseq='[ATGC]{20}GG[ATGC]', qstart=23, qend=0, strand=-1, match_count=None>,\n",
       " <dna.MatchDNA object; sseq='ACCTCGCTCTGCTAATCCTGTTA', sstart=2520, send=2543, qseq='[ATGC]{20}GG[ATGC]', qstart=23, qend=0, strand=-1, match_count=None>,\n",
       " <dna.MatchDNA object; sseq='ACCACTTCAAGAACTCTGTAGCA', sstart=2487, send=2510, qseq='[ATGC]{20}GG[ATGC]', qstart=23, qend=0, strand=-1, match_count=None>,\n",
       " <dna.MatchDNA object; sseq='ACCAAATACTGTTCTTCTAGTGT', sstart=2449, send=2472, qseq='[ATGC]{20}GG[ATGC]', qstart=23, qend=0, strand=-1, match_count=None>,\n",
       " <dna.MatchDNA object; sseq='TCCGAAGGTAACTGGCTTCAGCA', sstart=2416, send=2439, qseq='[ATGC]{20}GG[ATGC]', qstart=23, qend=0, strand=-1, match_count=None>,\n",
       " <dna.MatchDNA object; sseq='GCCGGATCAAGAGCTACCAACTC', sstart=2389, send=2412, qseq='[ATGC]{20}GG[ATGC]', qstart=23, qend=0, strand=-1, match_count=None>,\n",
       " <dna.MatchDNA object; sseq='ACCGCTACCAGCGGTGGTTTGTT', sstart=2365, send=2388, qseq='[ATGC]{20}GG[ATGC]', qstart=23, qend=0, strand=-1, match_count=None>,\n",
       " <dna.MatchDNA object; sseq='TCCTTTTTTTCTGCGCGTAATCT', sstart=2320, send=2343, qseq='[ATGC]{20}GG[ATGC]', qstart=23, qend=0, strand=-1, match_count=None>,\n",
       " <dna.MatchDNA object; sseq='CCCGTAGAAAAGATCAAAGGATC', sstart=2288, send=2311, qseq='[ATGC]{20}GG[ATGC]', qstart=23, qend=0, strand=-1, match_count=None>,\n",
       " <dna.MatchDNA object; sseq='CCCTTAACGTGAGTTTTCGTTCC', sstart=2251, send=2274, qseq='[ATGC]{20}GG[ATGC]', qstart=23, qend=0, strand=-1, match_count=None>,\n",
       " <dna.MatchDNA object; sseq='TCCTTTTTGATAATCTCATGACC', sstart=2223, send=2246, qseq='[ATGC]{20}GG[ATGC]', qstart=23, qend=0, strand=-1, match_count=None>,\n",
       " <dna.MatchDNA object; sseq='ACCAAGTTTACTCATATATACTT', sstart=2151, send=2174, qseq='[ATGC]{20}GG[ATGC]', qstart=23, qend=0, strand=-1, match_count=None>,\n",
       " <dna.MatchDNA object; sseq='GCCTCACTGATTAAGCATTGGTA', sstart=2120, send=2143, qseq='[ATGC]{20}GG[ATGC]', qstart=23, qend=0, strand=-1, match_count=None>,\n",
       " <dna.MatchDNA object; sseq='CCCGTATCGTAGTTATCTACACG', sstart=2043, send=2066, qseq='[ATGC]{20}GG[ATGC]', qstart=23, qend=0, strand=-1, match_count=None>,\n",
       " <dna.MatchDNA object; sseq='GCCGGTGAGCGTGGGTCTCGCGG', sstart=1985, send=2008, qseq='[ATGC]{20}GG[ATGC]', qstart=23, qend=0, strand=-1, match_count=None>,\n",
       " <dna.MatchDNA object; sseq='TCCGGCTGGCTGGTTTATTGCTG', sstart=1951, send=1974, qseq='[ATGC]{20}GG[ATGC]', qstart=23, qend=0, strand=-1, match_count=None>,\n",
       " <dna.MatchDNA object; sseq='CCCGGCAACAATTAATAGACTGG', sstart=1884, send=1907, qseq='[ATGC]{20}GG[ATGC]', qstart=23, qend=0, strand=-1, match_count=None>,\n",
       " <dna.MatchDNA object; sseq='GCCTGTAGCAATGGCAACAACGT', sstart=1822, send=1845, qseq='[ATGC]{20}GG[ATGC]', qstart=23, qend=0, strand=-1, match_count=None>,\n",
       " <dna.MatchDNA object; sseq='ACCAAACGACGAGCGTGACACCA', sstart=1795, send=1818, qseq='[ATGC]{20}GG[ATGC]', qstart=23, qend=0, strand=-1, match_count=None>,\n",
       " <dna.MatchDNA object; sseq='GCCTTGATCGTTGGGAACCGGAG', sstart=1758, send=1781, qseq='[ATGC]{20}GG[ATGC]', qstart=23, qend=0, strand=-1, match_count=None>,\n",
       " <dna.MatchDNA object; sseq='ACCGCTTTTTTGCACAACATGGG', sstart=1721, send=1744, qseq='[ATGC]{20}GG[ATGC]', qstart=23, qend=0, strand=-1, match_count=None>,\n",
       " <dna.MatchDNA object; sseq='GCCAACTTACTTCTGACAACGAT', sstart=1679, send=1702, qseq='[ATGC]{20}GG[ATGC]', qstart=23, qend=0, strand=-1, match_count=None>,\n",
       " <dna.MatchDNA object; sseq='GCCATAACCATGAGTGATAACAC', sstart=1652, send=1675, qseq='[ATGC]{20}GG[ATGC]', qstart=23, qend=0, strand=-1, match_count=None>,\n",
       " <dna.MatchDNA object; sseq='ACCAGTCACAGAAAAGCATCTTA', sstart=1594, send=1617, qseq='[ATGC]{20}GG[ATGC]', qstart=23, qend=0, strand=-1, match_count=None>,\n",
       " <dna.MatchDNA object; sseq='GCCGCATACACTATTCTCAGAAT', sstart=1554, send=1577, qseq='[ATGC]{20}GG[ATGC]', qstart=23, qend=0, strand=-1, match_count=None>,\n",
       " <dna.MatchDNA object; sseq='CCCGTATTGACGCCGGGCAAGAG', sstart=1521, send=1544, qseq='[ATGC]{20}GG[ATGC]', qstart=23, qend=0, strand=-1, match_count=None>,\n",
       " <dna.MatchDNA object; sseq='TCCAATGATGAGCACTTTTAAAG', sstart=1474, send=1497, qseq='[ATGC]{20}GG[ATGC]', qstart=23, qend=0, strand=-1, match_count=None>,\n",
       " <dna.MatchDNA object; sseq='TCCTTGAGAGTTTTCGCCCCGAA', sstart=1443, send=1466, qseq='[ATGC]{20}GG[ATGC]', qstart=23, qend=0, strand=-1, match_count=None>,\n",
       " <dna.MatchDNA object; sseq='CCCAGAAACGCTGGTGAAAGTAA', sstart=1354, send=1377, qseq='[ATGC]{20}GG[ATGC]', qstart=23, qend=0, strand=-1, match_count=None>,\n",
       " <dna.MatchDNA object; sseq='CCCTTTTTTGCGGCATTTTGCCT', sstart=1316, send=1339, qseq='[ATGC]{20}GG[ATGC]', qstart=23, qend=0, strand=-1, match_count=None>,\n",
       " <dna.MatchDNA object; sseq='CCCTGATAAATGCTTCAATAATA', sstart=1244, send=1267, qseq='[ATGC]{20}GG[ATGC]', qstart=23, qend=0, strand=-1, match_count=None>,\n",
       " <dna.MatchDNA object; sseq='CCCTATTTGTTTATTTTTCTAAA', sstart=1186, send=1209, qseq='[ATGC]{20}GG[ATGC]', qstart=23, qend=0, strand=-1, match_count=None>,\n",
       " <dna.MatchDNA object; sseq='GCCTATTTTTATAGGTTAATGTC', sstart=1104, send=1127, qseq='[ATGC]{20}GG[ATGC]', qstart=23, qend=0, strand=-1, match_count=None>,\n",
       " <dna.MatchDNA object; sseq='ACCGAAACGCGCGAGACGAAAGG', sstart=1069, send=1092, qseq='[ATGC]{20}GG[ATGC]', qstart=23, qend=0, strand=-1, match_count=None>,\n",
       " <dna.MatchDNA object; sseq='TCCGGGAGCTGCATGTGTCAGAG', sstart=1031, send=1054, qseq='[ATGC]{20}GG[ATGC]', qstart=23, qend=0, strand=-1, match_count=None>,\n",
       " <dna.MatchDNA object; sseq='TCCGCTTACAGACAAGCTGTGAC', sstart=1004, send=1027, qseq='[ATGC]{20}GG[ATGC]', qstart=23, qend=0, strand=-1, match_count=None>,\n",
       " <dna.MatchDNA object; sseq='CCCTGACGGGCTTGTCTGCTCCC', sstart=977, send=1000, qseq='[ATGC]{20}GG[ATGC]', qstart=23, qend=0, strand=-1, match_count=None>,\n",
       " <dna.MatchDNA object; sseq='CCCGACACCCGCCAACACCCGCT', sstart=948, send=971, qseq='[ATGC]{20}GG[ATGC]', qstart=23, qend=0, strand=-1, match_count=None>,\n",
       " <dna.MatchDNA object; sseq='ACCGCATATGGTGCACTCTCAGT', sstart=891, send=914, qseq='[ATGC]{20}GG[ATGC]', qstart=23, qend=0, strand=-1, match_count=None>,\n",
       " <dna.MatchDNA object; sseq='TCCTTACGCATCTGTGCGGTATT', sstart=864, send=887, qseq='[ATGC]{20}GG[ATGC]', qstart=23, qend=0, strand=-1, match_count=None>,\n",
       " <dna.MatchDNA object; sseq='GCCTGAATGGCGAATGGCGCCTG', sstart=828, send=851, qseq='[ATGC]{20}GG[ATGC]', qstart=23, qend=0, strand=-1, match_count=None>,\n",
       " <dna.MatchDNA object; sseq='ACCGATCGCCCTTCCCAACAGTT', sstart=800, send=823, qseq='[ATGC]{20}GG[ATGC]', qstart=23, qend=0, strand=-1, match_count=None>,\n",
       " <dna.MatchDNA object; sseq='GCCAGCTGGCGTAATAGCGAAGA', sstart=770, send=793, qseq='[ATGC]{20}GG[ATGC]', qstart=23, qend=0, strand=-1, match_count=None>,\n",
       " <dna.MatchDNA object; sseq='CCCAACTTAATCGCCTTGCAGCA', sstart=735, send=758, qseq='[ATGC]{20}GG[ATGC]', qstart=23, qend=0, strand=-1, match_count=None>,\n",
       " <dna.MatchDNA object; sseq='GCCGTCGTTTTACAACGTCGTGA', sstart=692, send=715, qseq='[ATGC]{20}GG[ATGC]', qstart=23, qend=0, strand=-1, match_count=None>,\n",
       " <dna.MatchDNA object; sseq='CCCGGGTACCGAGCTCGAATTCA', sstart=666, send=689, qseq='[ATGC]{20}GG[ATGC]', qstart=23, qend=0, strand=-1, match_count=None>,\n",
       " <dna.MatchDNA object; sseq='GCCTGCAGGTCGACTCTAGAGGA', sstart=641, send=664, qseq='[ATGC]{20}GG[ATGC]', qstart=23, qend=0, strand=-1, match_count=None>,\n",
       " <dna.MatchDNA object; sseq='ACCATGATTACGCCAAGCTTGCA', sstart=617, send=640, qseq='[ATGC]{20}GG[ATGC]', qstart=23, qend=0, strand=-1, match_count=None>,\n",
       " <dna.MatchDNA object; sseq='TCCGGCTCGTATGTTGTGTGGAA', sstart=555, send=578, qseq='[ATGC]{20}GG[ATGC]', qstart=23, qend=0, strand=-1, match_count=None>,\n",
       " <dna.MatchDNA object; sseq='ACCCCAGGCTTTACACTTTATGC', sstart=531, send=554, qseq='[ATGC]{20}GG[ATGC]', qstart=23, qend=0, strand=-1, match_count=None>,\n",
       " <dna.MatchDNA object; sseq='CCCGACTGGAAAGCGGGCAGTGA', sstart=469, send=492, qseq='[ATGC]{20}GG[ATGC]', qstart=23, qend=0, strand=-1, match_count=None>,\n",
       " <dna.MatchDNA object; sseq='GCCGATTCATTAATGCAGCTGGC', sstart=435, send=458, qseq='[ATGC]{20}GG[ATGC]', qstart=23, qend=0, strand=-1, match_count=None>,\n",
       " <dna.MatchDNA object; sseq='CCCAATACGCAAACCGCCTCTCC', sstart=402, send=425, qseq='[ATGC]{20}GG[ATGC]', qstart=23, qend=0, strand=-1, match_count=None>,\n",
       " <dna.MatchDNA object; sseq='ACCGAGCGCAGCGAGTCAGTGAG', sstart=361, send=384, qseq='[ATGC]{20}GG[ATGC]', qstart=23, qend=0, strand=-1, match_count=None>,\n",
       " <dna.MatchDNA object; sseq='GCCTTTGAGTGAGCTGATACCGC', sstart=322, send=345, qseq='[ATGC]{20}GG[ATGC]', qstart=23, qend=0, strand=-1, match_count=None>,\n",
       " <dna.MatchDNA object; sseq='CCCTGATTCTGTGGATAACCGTA', sstart=294, send=317, qseq='[ATGC]{20}GG[ATGC]', qstart=23, qend=0, strand=-1, match_count=None>,\n",
       " <dna.MatchDNA object; sseq='GCCTTTTGCTCACATGTTCTTTC', sstart=261, send=284, qseq='[ATGC]{20}GG[ATGC]', qstart=23, qend=0, strand=-1, match_count=None>,\n",
       " <dna.MatchDNA object; sseq='GCCTTTTTACGGTTCCTGGCCTT', sstart=232, send=255, qseq='[ATGC]{20}GG[ATGC]', qstart=23, qend=0, strand=-1, match_count=None>,\n",
       " <dna.MatchDNA object; sseq='GCCTATGGAAAAACGCCAGCAAC', sstart=206, send=229, qseq='[ATGC]{20}GG[ATGC]', qstart=23, qend=0, strand=-1, match_count=None>,\n",
       " <dna.MatchDNA object; sseq='ACCTCTGACTTGAGCGTCGATTT', sstart=158, send=181, qseq='[ATGC]{20}GG[ATGC]', qstart=23, qend=0, strand=-1, match_count=None>,\n",
       " <dna.MatchDNA object; sseq='GCCTGGTATCTTTATAGTCCTGT', sstart=124, send=147, qseq='[ATGC]{20}GG[ATGC]', qstart=23, qend=0, strand=-1, match_count=None>,\n",
       " <dna.MatchDNA object; sseq='TCCGGTAAGCGGCAGGGTCGGAA', sstart=66, send=89, qseq='[ATGC]{20}GG[ATGC]', qstart=23, qend=0, strand=-1, match_count=None>,\n",
       " <dna.MatchDNA object; sseq='CCCGAAGGGAGAAAGGCGGACAG', sstart=40, send=63, qseq='[ATGC]{20}GG[ATGC]', qstart=23, qend=0, strand=-1, match_count=None>,\n",
       " <dna.MatchDNA object; sseq='ACCTACAGCGTGAGCTATGAGAA', sstart=5, send=28, qseq='[ATGC]{20}GG[ATGC]', qstart=23, qend=0, strand=-1, match_count=None>]"
      ]
     },
     "execution_count": 8,
     "metadata": {},
     "output_type": "execute_result"
    }
   ],
   "source": [
    "brick.finddna(\"[ATGC]{20}GG[ATGC]\", mode=\"regex\")"
   ]
  },
  {
   "cell_type": "code",
   "execution_count": 9,
   "metadata": {},
   "outputs": [
    {
     "name": "stdout",
     "output_type": "stream",
     "text": [
      "Feature_ID  Label  Type          Start  End  Strand  Seq                                                        \n",
      "1000        MCS    misc_feature  631    688  +       AAGCTTGCATGCCTGCAGGTCGACTCTAGAGGATCCCCGGGTACCGAGCTCGAATTC  \n",
      "\n"
     ]
    }
   ],
   "source": [
    "brick.printdnafeature(feature_key=[\"misc_feature\"], with_seq=True)"
   ]
  },
  {
   "cell_type": "code",
   "execution_count": 10,
   "metadata": {},
   "outputs": [
    {
     "name": "stdout",
     "output_type": "stream",
     "text": [
      "Feature_ID  Label  Type          Start  End  Strand  Seq                                                        \n",
      "101         feat1  misc_feature  200    220  +       GGCGGAGCCTATGGAAAAAC                                       \n",
      "1000        MCS    misc_feature  631    688  +       AAGCTTGCATGCCTGCAGGTCGACTCTAGAGGATCCCCGGGTACCGAGCTCGAATTC  \n",
      "1901        feat2  misc_feature  2650   10   +       ACAGCCCAGCTTGGAGCGAACGACCTACACCGAACTGAGATACCTA             \n",
      "\n"
     ]
    }
   ],
   "source": [
    "brick.adddnafeature(200, 220, qualifiers={\"label\":\"feat1\"}) \n",
    "brick.adddnafeature(2650, 10, qualifiers={\"label\":\"feat2\"}) #feat on origin\n",
    "brick.printdnafeature(feature_key=[\"misc_feature\"], with_seq=True)"
   ]
  },
  {
   "cell_type": "code",
   "execution_count": 11,
   "metadata": {},
   "outputs": [
    {
     "name": "stdout",
     "output_type": "stream",
     "text": [
      "Feature_ID  Label  Type          Start  End  Strand  Seq                                                        \n",
      "1000        MCS    misc_feature  631    688  +       AAGCTTGCATGCCTGCAGGTCGACTCTAGAGGATCCCCGGGTACCGAGCTCGAATTC  \n",
      "1901        feat2  misc_feature  2650   10   +       ACAGCCCAGCTTGGAGCGAACGACCTACACCGAACTGAGATACCTA             \n",
      "\n"
     ]
    }
   ],
   "source": [
    "brick.removednafeature(\"101\")\n",
    "brick.printdnafeature(feature_key=[\"misc_feature\"], with_seq=True)"
   ]
  },
  {
   "cell_type": "code",
   "execution_count": 12,
   "metadata": {},
   "outputs": [
    {
     "name": "stdout",
     "output_type": "stream",
     "text": [
      "2686 1686 1000\n",
      "Feature_ID  Label                  Type    Start  End   Strand  \n",
      "100         pUC19:2001..1000:2686  source  0      1686  +       \n",
      "\n",
      "Feature_ID  Label                  Type    Start  End   Strand  \n",
      "0           pUC19:1001..2000:2686  source  0      1000  +       \n",
      "\n"
     ]
    }
   ],
   "source": [
    "sub_brick1, sub_brick2 = cutdna(brick ,1000, 2000)\n",
    "print(len(brick.seq), len(sub_brick1.seq), len(sub_brick2.seq))\n",
    "sub_brick1.printdnafeature(feature_key=[\"source\"])\n",
    "sub_brick2.printdnafeature(feature_key=[\"source\"])"
   ]
  },
  {
   "cell_type": "code",
   "execution_count": 13,
   "metadata": {},
   "outputs": [
    {
     "name": "stdout",
     "output_type": "stream",
     "text": [
      "Feature_ID  Label             Type          Start  End   Strand  \n",
      "0           pUC19             source        0      2686  +       \n",
      "100         pBR322ori-F       primer_bind   117    137   +       \n",
      "200         L4440             primer_bind   370    388   +       \n",
      "300         CAP binding site  protein_bind  504    526   +       \n",
      "400         lac promoter      promoter      540    571   +       \n",
      "500         lac operator      protein_bind  578    595   +       \n",
      "600         M13/pUC Reverse   primer_bind   583    606   +       \n",
      "700         M13 rev           primer_bind   602    619   +       \n",
      "800         M13 Reverse       primer_bind   602    619   +       \n",
      "900         lacZ-alpha        CDS           614    938   +       \n",
      "1000        MCS               misc_feature  631    688   +       \n",
      "1100        M13 Forward       primer_bind   688    706   -       \n",
      "1200        M13 fwd           primer_bind   688    705   -       \n",
      "1300        M13/pUC Forward   primer_bind   697    720   -       \n",
      "1400        pRS-marker        primer_bind   913    933   -       \n",
      "1500        pGEX 3'           primer_bind   1032   1055  +       \n",
      "1600        pBRforEco         primer_bind   1092   1111  -       \n",
      "1700        AmpR promoter     promoter      1178   1283  +       \n",
      "1800        AmpR              CDS           1283   2144  +       \n",
      "1900        Amp-R             primer_bind   1501   1521  -       \n",
      "2000        ori               rep_origin    2314   217   +       \n",
      "1901        feat2             misc_feature  2650   10    +       \n",
      "\n",
      "\n",
      "Feature_ID  Label                  Type         Start  End   Strand  \n",
      "0           pUC19:1001..2000:2686  source       0      1000  +       \n",
      "1500        pGEX 3'                primer_bind  32     55    +       \n",
      "1600        pBRforEco              primer_bind  92     111   -       \n",
      "1700        AmpR promoter          promoter     178    283   +       \n",
      "1800        AmpR:1..717:861        CDS          283    1000  +       \n",
      "1900        Amp-R                  primer_bind  501    521   -       \n",
      "\n"
     ]
    }
   ],
   "source": [
    "sub_brick = cropdna(brick, 1000, 2000,)\n",
    "brick.printdnafeature() \n",
    "print()\n",
    "sub_brick.printdnafeature() "
   ]
  },
  {
   "cell_type": "code",
   "execution_count": 14,
   "metadata": {},
   "outputs": [
    {
     "name": "stdout",
     "output_type": "stream",
     "text": [
      "Feature_ID  Label            Type         Start  End   Strand  Seq                      \n",
      "100         pBR322ori-F      primer_bind  117    137   +       GGGAAACGCCTGGTATCTTT     \n",
      "200         L4440            primer_bind  370    388   +       AGCGAGTCAGTGAGCGAG       \n",
      "600         M13/pUC Reverse  primer_bind  583    606   +       AGCGGATAACAATTTCACACAGG  \n",
      "700         M13 rev          primer_bind  602    619   +       CAGGAAACAGCTATGAC        \n",
      "800         M13 Reverse      primer_bind  602    619   +       CAGGAAACAGCTATGAC        \n",
      "1100        M13 Forward      primer_bind  688    706   -       TGTAAAACGACGGCCAGT       \n",
      "1200        M13 fwd          primer_bind  688    705   -       GTAAAACGACGGCCAGT        \n",
      "1300        M13/pUC Forward  primer_bind  697    720   -       CCCAGTCACGACGTTGTAAAACG  \n",
      "1400        pRS-marker       primer_bind  913    933   -       CGGCATCAGAGCAGATTGTA     \n",
      "1500        pGEX 3'          primer_bind  1032   1055  +       CCGGGAGCTGCATGTGTCAGAGG  \n",
      "1600        pBRforEco        primer_bind  1092   1111  -       AATAGGCGTATCACGAGGC      \n",
      "1900        Amp-R            primer_bind  1501   1521  -       ATAATACCGCGCCACATAGC     \n",
      "\n",
      "\n",
      "5' CAGGAAACAGCTATGACCATGATTACGCCAAGCTTGCATGCCTGCAGGTCGACTCTAGAGGATCCCCGGGTACCGAGCTCGAATTCACTGGCCGTCGTTTTACA 3'\n",
      "3' GTCCTTTGTCGATACTGGTACTAATGCGGTTCGAACGTACGGACGTCCAGCTGAGATCTCCTAGGGGCCCATGGCTCGAGCTTAAGTGACCGGCAGCAAAATGT 5'\n",
      "\n",
      "Feature_ID  Label                      Type          Start  End  Strand  \n",
      "0           pUC19:603..706:2686        source        0      104  +       \n",
      "600         M13/pUC Reverse:20..23:23  primer_bind   0      4    +       \n",
      "700         M13 rev                    primer_bind   0      17   +       \n",
      "800         M13 Reverse                primer_bind   0      17   +       \n",
      "900         lacZ-alpha:1..92:324       CDS           12     104  +       \n",
      "1000        MCS                        misc_feature  29     86   +       \n",
      "1100        M13 Forward                primer_bind   86     104  -       \n",
      "1200        M13 fwd                    primer_bind   86     103  -       \n",
      "1300        M13/pUC Forward:23..15:23  primer_bind   95     104  -       \n",
      "\n"
     ]
    }
   ],
   "source": [
    "brick.printdnafeature(feature_key=[\"primer_bind\"], with_seq=True)\n",
    "print()\n",
    "sub_brick = cropdna(brick,brick.finddna(\"800\")[0].sstart,brick.finddna(\"1100\")[0].send)\n",
    "sub_brick.printdnaseq(whole=True)\n",
    "sub_brick.printdnafeature() "
   ]
  },
  {
   "cell_type": "code",
   "execution_count": 17,
   "metadata": {},
   "outputs": [
    {
     "name": "stdout",
     "output_type": "stream",
     "text": [
      "5' ACGAGGGAGCTTCCAGGGGG 3'\n",
      "3' TGCTCCCTCGAAGGTCCCCC 5'\n",
      "\n",
      "5' ACGAGGGAGCTTCCAGGGGG 3'\n",
      "3' TGCTCCCTCGAAGGTCCCCC 5'\n",
      "\n",
      "5' ----GGGAGCTTCCAGGGGG 3'\n",
      "3' TGCTCCCTCGAAGGTCCC-- 5'\n",
      "\n",
      "5' -----GGAGCTTCCAGGGGG 3'\n",
      "3' TGCTCCCTCGAAGGT----- 5'\n",
      "\n",
      "5' ----GGACGAGGGAGCTTCCAGGGGG 3'\n",
      "3' CCCCCCTGCTCCCTCGAAGGTCCC-- 5'\n",
      "\n"
     ]
    }
   ],
   "source": [
    "sub_brick = cropdna(brick, 100, 120)\n",
    "sub_brick.printdnaseq()\n",
    "sub_brick_m = modifyends(sub_brick, \"\" ,\"\")\n",
    "sub_brick_m.printdnaseq()\n",
    "sub_brick_m = modifyends(sub_brick,\"----**/******\", \"******/****--\")\n",
    "sub_brick_m.printdnaseq()\n",
    "sub_brick_m = modifyends(sub_brick, \"-{5}/*{5}\",\"*{5}/-{5}\")\n",
    "sub_brick_m.printdnaseq()\n",
    "sub_brick_m = modifyends(sub_brick,\"----GG/CCCCCC\", \"******/****--\")\n",
    "sub_brick_m.printdnaseq()"
   ]
  },
  {
   "cell_type": "code",
   "execution_count": 16,
   "metadata": {},
   "outputs": [
    {
     "name": "stdout",
     "output_type": "stream",
     "text": [
      "5' ACGAGGGAGCTTCCAGGGGG 3'\n",
      "3' TGCTCCCTCGAAGGTCCCCC 5'\n",
      "\n"
     ]
    },
    {
     "ename": "TypeError",
     "evalue": "Please sepcify a proper sequence pattern for the 'left' argument",
     "output_type": "error",
     "traceback": [
      "\u001b[0;31m---------------------------------------------------------------------------\u001b[0m",
      "\u001b[0;31mTypeError\u001b[0m                                 Traceback (most recent call last)",
      "\u001b[0;32m<ipython-input-16-7fa3a75e4837>\u001b[0m in \u001b[0;36m<module>\u001b[0;34m\u001b[0m\n\u001b[1;32m      1\u001b[0m \u001b[0msub_brick\u001b[0m \u001b[0;34m=\u001b[0m \u001b[0mcropdna\u001b[0m\u001b[0;34m(\u001b[0m\u001b[0mbrick\u001b[0m\u001b[0;34m,\u001b[0m \u001b[0;36m100\u001b[0m\u001b[0;34m,\u001b[0m \u001b[0;36m120\u001b[0m\u001b[0;34m)\u001b[0m\u001b[0;34m\u001b[0m\u001b[0;34m\u001b[0m\u001b[0m\n\u001b[1;32m      2\u001b[0m \u001b[0msub_brick\u001b[0m\u001b[0;34m.\u001b[0m\u001b[0mprintdnaseq\u001b[0m\u001b[0;34m(\u001b[0m\u001b[0;34m)\u001b[0m\u001b[0;34m\u001b[0m\u001b[0;34m\u001b[0m\u001b[0m\n\u001b[0;32m----> 3\u001b[0;31m \u001b[0msub_brick\u001b[0m \u001b[0;34m=\u001b[0m \u001b[0mmodifyends\u001b[0m\u001b[0;34m(\u001b[0m\u001b[0msub_brick\u001b[0m\u001b[0;34m,\u001b[0m \u001b[0;34m\"******/****--\"\u001b[0m\u001b[0;34m,\u001b[0m \u001b[0;34m\"----**/******\"\u001b[0m\u001b[0;34m)\u001b[0m\u001b[0;34m\u001b[0m\u001b[0;34m\u001b[0m\u001b[0m\n\u001b[0m\u001b[1;32m      4\u001b[0m \u001b[0msub_brick\u001b[0m\u001b[0;34m.\u001b[0m\u001b[0mprintdnaseq\u001b[0m\u001b[0;34m(\u001b[0m\u001b[0;34m)\u001b[0m\u001b[0;34m\u001b[0m\u001b[0;34m\u001b[0m\u001b[0m\n",
      "\u001b[0;32m~/Dropbox (Yachie Lab)/HIDETO_MORI.LAB/Experiments/Project/Dbrick/github/dna.py\u001b[0m in \u001b[0;36mmodifyends\u001b[0;34m(dna, left, right, add, add_right, add_left)\u001b[0m\n\u001b[1;32m    599\u001b[0m         \u001b[0;32mpass\u001b[0m\u001b[0;34m\u001b[0m\u001b[0;34m\u001b[0m\u001b[0m\n\u001b[1;32m    600\u001b[0m     \u001b[0;32melse\u001b[0m\u001b[0;34m:\u001b[0m\u001b[0;34m\u001b[0m\u001b[0;34m\u001b[0m\u001b[0m\n\u001b[0;32m--> 601\u001b[0;31m         \u001b[0;32mraise\u001b[0m \u001b[0mTypeError\u001b[0m\u001b[0;34m(\u001b[0m\u001b[0;34m\"Please sepcify a proper sequence pattern for the 'left' argument\"\u001b[0m\u001b[0;34m)\u001b[0m\u001b[0;34m\u001b[0m\u001b[0;34m\u001b[0m\u001b[0m\n\u001b[0m\u001b[1;32m    602\u001b[0m \u001b[0;34m\u001b[0m\u001b[0m\n\u001b[1;32m    603\u001b[0m     \u001b[0;32mif\u001b[0m \u001b[0mpattern1\u001b[0m\u001b[0;34m.\u001b[0m\u001b[0mfullmatch\u001b[0m\u001b[0;34m(\u001b[0m\u001b[0mright_end\u001b[0m\u001b[0;34m)\u001b[0m \u001b[0;34m!=\u001b[0m \u001b[0;32mNone\u001b[0m \u001b[0;32mand\u001b[0m \u001b[0mpattern2\u001b[0m\u001b[0;34m.\u001b[0m\u001b[0msearch\u001b[0m\u001b[0;34m(\u001b[0m\u001b[0mright_end\u001b[0m\u001b[0;34m)\u001b[0m \u001b[0;32mis\u001b[0m \u001b[0;32mNone\u001b[0m \u001b[0;32mand\u001b[0m \u001b[0mpatternr1\u001b[0m\u001b[0;34m.\u001b[0m\u001b[0msearch\u001b[0m\u001b[0;34m(\u001b[0m\u001b[0mright_end\u001b[0m\u001b[0;34m)\u001b[0m \u001b[0;32mis\u001b[0m \u001b[0;32mNone\u001b[0m \u001b[0;32mand\u001b[0m \u001b[0mpatternr2\u001b[0m\u001b[0;34m.\u001b[0m\u001b[0msearch\u001b[0m\u001b[0;34m(\u001b[0m\u001b[0mright_end\u001b[0m\u001b[0;34m)\u001b[0m \u001b[0;32mis\u001b[0m \u001b[0;32mNone\u001b[0m\u001b[0;34m:\u001b[0m\u001b[0;34m\u001b[0m\u001b[0;34m\u001b[0m\u001b[0m\n",
      "\u001b[0;31mTypeError\u001b[0m: Please sepcify a proper sequence pattern for the 'left' argument"
     ]
    }
   ],
   "source": [
    "sub_brick = cropdna(brick, 100, 120)\n",
    "sub_brick.printdnaseq()  \n",
    "sub_brick = modifyends(sub_brick, \"******/****--\", \"----**/******\")\n",
    "sub_brick.printdnaseq()"
   ]
  },
  {
   "cell_type": "code",
   "execution_count": 17,
   "metadata": {},
   "outputs": [
    {
     "name": "stdout",
     "output_type": "stream",
     "text": [
      "5' ATGTACGACGAGGGAGCTTCCAGGGGGATGCTAC 3'\n",
      "3' TACATGCTGCTCCCTCGAAGGTCCCCCTACGATG 5'\n",
      "\n"
     ]
    }
   ],
   "source": [
    "#Source code (continued from previous one)#\n",
    "sub_brick = cropdna(brick, 100, 120)\n",
    "sub_brick = modifyends(sub_brick,\"ATGTACG\",\"ATGCTAC\")\n",
    "sub_brick.printdnaseq(whole=True) "
   ]
  },
  {
   "cell_type": "code",
   "execution_count": 18,
   "metadata": {},
   "outputs": [
    {
     "name": "stdout",
     "output_type": "stream",
     "text": [
      "5' ---ATGCACGAGGGAGCTTCCAGGGGGTACG--- 3'\n",
      "3' ATGTACGTGCTCCCTCGAAGGTCCCCCATGCTAC 5'\n",
      "\n"
     ]
    }
   ],
   "source": [
    "sub_brick = cropdna(brick, 100, 120)\n",
    "sub_brick = modifyends(sub_brick,\"---ATGC/ATGTACG\",\"TACG---/ATGCTAC\")\n",
    "sub_brick.printdnaseq() "
   ]
  },
  {
   "cell_type": "code",
   "execution_count": 19,
   "metadata": {},
   "outputs": [
    {
     "name": "stdout",
     "output_type": "stream",
     "text": [
      "2686\n",
      "5' AATTCACTGG...AGCTCG---- 3'\n",
      "3' ----GTGACC...TCGAGCTTAA 5'\n",
      "\n",
      "34\n"
     ]
    }
   ],
   "source": [
    "print(len(brick.seq))\n",
    "brick_EcoRI = modifyends(cutdna(brick, brick.finddna(\"GAATTC\")[0].sstart)[0],\"-*****/-----*\",\"G----/CTTAA\")\n",
    "brick_EcoRI.printdnaseq(whole=False)\n",
    "print(len(sub_brick.seq))"
   ]
  },
  {
   "cell_type": "code",
   "execution_count": 20,
   "metadata": {},
   "outputs": [
    {
     "name": "stdout",
     "output_type": "stream",
     "text": [
      "5' GAGCTCGAATTCACTGGCCGTCGTTTTACAACGTCGTGACTGGGAAAACCCTGGCGTTACCCAACTTAATCGCCTTGCAGCACATCCCCCTTTCGCCAGCTGGCGTAATAGCGAAGAGGCCCGCACCGATCGCCCTTCCCAACAGTTGCGCAGCCTGAATGGCGAATGGCGCCTGATGCGGTATTTTCTCCTTACGCATCTGTGCGGTATTTCACACCGCATATGGTGCACTCTCAGTACAATCTGCTCTGATGCCGCATAGTTAAGCCAGCCCCGACACCCGCCAACACCCGCTGACGCGCCCTGACGGGCTTGTCTGCTCCCGGCATCCGCTTACAGACAAGCTGTGACCGTCTCCGGGAGCTGCATGTGTCAGAGGTTTTCACCGTCATCACCGAAACGCGCGAGACGAAAGGGCCTCGTGATACGCCTATTTTTATAGGTTAATGTCATGATAATAATGGTTTCTTAGACGTCAGGTGGCACTTTTCGGGGAAATGTGCGCGGAACCCCTATTTGTTTATTTTTCTAAATACATTCAAATATGTATCCGCTCATGAGACAATAACCCTGATAAATGCTTCAATAATATTGAAAAAGGAAGAGTATGAGTATTCAACATTTCCGTGTCGCCCTTATTCCCTTTTTTGCGGCATTTTGCCTTCCTGTTTTTGCTCACCCAGAAACGCTGGTGAAAGTAAAAGATGCTGAAGATCAGTTGGGTGCACGAGTGGGTTACATCGAACTGGATCTCAACAGCGGTAAGATCCTTGAGAGTTTTCGCCCCGAAGAACGTTTTCCAATGATGAGCACTTTTAAAGTTCTGCTATGTGGCGCGGTATTATCCCGTATTGACGCCGGGCAAGAGCAACTCGGTCGCCGCATACACTATTCTCAGAATGACTTGGTTGAGTACTCACCAGTCACAGAAAAGCATCTTACGGATGGCATGACAGTAAGAGAATTATGCAGTGCTGCCATAACCATGAGTGATAACACTGCGGCCAACTTACTTCTGACAACGATCGGAGGACCGAAGGAGCTAACCGCTTTTTTGCACAACATGGGGGATCATGTAACTCGCCTTGATCGTTGGGAACCGGAGCTGAATGAAGCCATACCAAACGACGAGCGTGACACCACGATGCCTGTAGCAATGGCAACAACGTTGCGCAAACTATTAACTGGCGAACTACTTACTCTAGCTTCCCGGCAACAATTAATAGACTGGATGGAGGCGGATAAAGTTGCAGGACCACTTCTGCGCTCGGCCCTTCCGGCTGGCTGGTTTATTGCTGATAAATCTGGAGCCGGTGAGCGTGGGTCTCGCGGTATCATTGCAGCACTGGGGCCAGATGGTAAGCCCTCCCGTATCGTAGTTATCTACACGACGGGGAGTCAGGCAACTATGGATGAACGAAATAGACAGATCGCTGAGATAGGTGCCTCACTGATTAAGCATTGGTAACTGTCAGACCAAGTTTACTCATATATACTTTAGATTGATTTAAAACTTCATTTTTAATTTAAAAGGATCTAGGTGAAGATCCTTTTTGATAATCTCATGACCAAAATCCCTTAACGTGAGTTTTCGTTCCACTGAGCGTCAGACCCCGTAGAAAAGATCAAAGGATCTTCTTGAGATCCTTTTTTTCTGCGCGTAATCTGCTGCTTGCAAACAAAAAAACCACCGCTACCAGCGGTGGTTTGTTTGCCGGATCAAGAGCTACCAACTCTTTTTCCGAAGGTAACTGGCTTCAGCAGAGCGCAGATACCAAATACTGTTCTTCTAGTGTAGCCGTAGTTAGGCCACCACTTCAAGAACTCTGTAGCACCGCCTACATACCTCGCTCTGCTAATCCTGTTACCAGTGGCTGCTGCCAGTGGCGATAAGTCGTGTCTTACCGGGTTGGACTCAAGACGATAGTTACCGGATAAGGCGCAGCGGTCGGGCTGAACGGGGGGTTCGTGCACACAGCCCAGCTTGGAGCGAACGACCTACACCGAACTGAGATACCTACAGCGTGAGCTATGAGAAAGCGCCACGCTTCCCGAAGGGAGAAAGGCGGACAGGTATCCGGTAAGCGGCAGGGTCGGAACAGGAGAGCGCACGAGGGAGCTTCCAGGGGGAAACGCCTGGTATCTTTATAGTCCTGTCGGGTTTCGCCACCTCTGACTTGAGCGTCGATTTTTGTGATGCTCGTCAGGGGGGCGGAGCCTATGGAAAAACGCCAGCAACGCGGCCTTTTTACGGTTCCTGGCCTTTTGCTGGCCTTTTGCTCACATGTTCTTTCCTGCGTTATCCCCTGATTCTGTGGATAACCGTATTACCGCCTTTGAGTGAGCTGATACCGCTCGCCGCAGCCGAACGACCGAGCGCAGCGAGTCAGTGAGCGAGGAAGCGGAAGAGCGCCCAATACGCAAACCGCCTCTCCCCGCGCGTTGGCCGATTCATTAATGCAGCTGGCACGACAGGTTTCCCGACTGGAAAGCGGGCAGTGAGCGCAACGCAATTAATGTGAGTTAGCTCACTCATTAGGCACCCCAGGCTTTACACTTTATGCTTCCGGCTCGTATGTTGTGTGGAATTGTGAGCGGATAACAATTTCACACAGGAAACAGCTATGACCATGATTACGCCAAGCTTGCATGCCTGCAGGTCGAC 3'\n",
      "3' CTCGAGCTTAAGTGACCGGCAGCAAAATGTTGCAGCACTGACCCTTTTGGGACCGCAATGGGTTGAATTAGCGGAACGTCGTGTAGGGGGAAAGCGGTCGACCGCATTATCGCTTCTCCGGGCGTGGCTAGCGGGAAGGGTTGTCAACGCGTCGGACTTACCGCTTACCGCGGACTACGCCATAAAAGAGGAATGCGTAGACACGCCATAAAGTGTGGCGTATACCACGTGAGAGTCATGTTAGACGAGACTACGGCGTATCAATTCGGTCGGGGCTGTGGGCGGTTGTGGGCGACTGCGCGGGACTGCCCGAACAGACGAGGGCCGTAGGCGAATGTCTGTTCGACACTGGCAGAGGCCCTCGACGTACACAGTCTCCAAAAGTGGCAGTAGTGGCTTTGCGCGCTCTGCTTTCCCGGAGCACTATGCGGATAAAAATATCCAATTACAGTACTATTATTACCAAAGAATCTGCAGTCCACCGTGAAAAGCCCCTTTACACGCGCCTTGGGGATAAACAAATAAAAAGATTTATGTAAGTTTATACATAGGCGAGTACTCTGTTATTGGGACTATTTACGAAGTTATTATAACTTTTTCCTTCTCATACTCATAAGTTGTAAAGGCACAGCGGGAATAAGGGAAAAAACGCCGTAAAACGGAAGGACAAAAACGAGTGGGTCTTTGCGACCACTTTCATTTTCTACGACTTCTAGTCAACCCACGTGCTCACCCAATGTAGCTTGACCTAGAGTTGTCGCCATTCTAGGAACTCTCAAAAGCGGGGCTTCTTGCAAAAGGTTACTACTCGTGAAAATTTCAAGACGATACACCGCGCCATAATAGGGCATAACTGCGGCCCGTTCTCGTTGAGCCAGCGGCGTATGTGATAAGAGTCTTACTGAACCAACTCATGAGTGGTCAGTGTCTTTTCGTAGAATGCCTACCGTACTGTCATTCTCTTAATACGTCACGACGGTATTGGTACTCACTATTGTGACGCCGGTTGAATGAAGACTGTTGCTAGCCTCCTGGCTTCCTCGATTGGCGAAAAAACGTGTTGTACCCCCTAGTACATTGAGCGGAACTAGCAACCCTTGGCCTCGACTTACTTCGGTATGGTTTGCTGCTCGCACTGTGGTGCTACGGACATCGTTACCGTTGTTGCAACGCGTTTGATAATTGACCGCTTGATGAATGAGATCGAAGGGCCGTTGTTAATTATCTGACCTACCTCCGCCTATTTCAACGTCCTGGTGAAGACGCGAGCCGGGAAGGCCGACCGACCAAATAACGACTATTTAGACCTCGGCCACTCGCACCCAGAGCGCCATAGTAACGTCGTGACCCCGGTCTACCATTCGGGAGGGCATAGCATCAATAGATGTGCTGCCCCTCAGTCCGTTGATACCTACTTGCTTTATCTGTCTAGCGACTCTATCCACGGAGTGACTAATTCGTAACCATTGACAGTCTGGTTCAAATGAGTATATATGAAATCTAACTAAATTTTGAAGTAAAAATTAAATTTTCCTAGATCCACTTCTAGGAAAAACTATTAGAGTACTGGTTTTAGGGAATTGCACTCAAAAGCAAGGTGACTCGCAGTCTGGGGCATCTTTTCTAGTTTCCTAGAAGAACTCTAGGAAAAAAAGACGCGCATTAGACGACGAACGTTTGTTTTTTTGGTGGCGATGGTCGCCACCAAACAAACGGCCTAGTTCTCGATGGTTGAGAAAAAGGCTTCCATTGACCGAAGTCGTCTCGCGTCTATGGTTTATGACAAGAAGATCACATCGGCATCAATCCGGTGGTGAAGTTCTTGAGACATCGTGGCGGATGTATGGAGCGAGACGATTAGGACAATGGTCACCGACGACGGTCACCGCTATTCAGCACAGAATGGCCCAACCTGAGTTCTGCTATCAATGGCCTATTCCGCGTCGCCAGCCCGACTTGCCCCCCAAGCACGTGTGTCGGGTCGAACCTCGCTTGCTGGATGTGGCTTGACTCTATGGATGTCGCACTCGATACTCTTTCGCGGTGCGAAGGGCTTCCCTCTTTCCGCCTGTCCATAGGCCATTCGCCGTCCCAGCCTTGTCCTCTCGCGTGCTCCCTCGAAGGTCCCCCTTTGCGGACCATAGAAATATCAGGACAGCCCAAAGCGGTGGAGACTGAACTCGCAGCTAAAAACACTACGAGCAGTCCCCCCGCCTCGGATACCTTTTTGCGGTCGTTGCGCCGGAAAAATGCCAAGGACCGGAAAACGACCGGAAAACGAGTGTACAAGAAAGGACGCAATAGGGGACTAAGACACCTATTGGCATAATGGCGGAAACTCACTCGACTATGGCGAGCGGCGTCGGCTTGCTGGCTCGCGTCGCTCAGTCACTCGCTCCTTCGCCTTCTCGCGGGTTATGCGTTTGGCGGAGAGGGGCGCGCAACCGGCTAAGTAATTACGTCGACCGTGCTGTCCAAAGGGCTGACCTTTCGCCCGTCACTCGCGTTGCGTTAATTACACTCAATCGAGTGAGTAATCCGTGGGGTCCGAAATGTGAAATACGAAGGCCGAGCATACAACACACCTTAACACTCGCCTATTGTTAAAGTGTGTCCTTTGTCGATACTGGTACTAATGCGGTTCGAACGTACGGACGTCCAGCTG 5'\n",
      "\n",
      "5' ----CGAATTCACTGGCCGTCGTTTTACAACGTCGTGACTGGGAAAACCCTGGCGTTACCCAACTTAATCGCCTTGCAGCACATCCCCCTTTCGCCAGCTGGCGTAATAGCGAAGAGGCCCGCACCGATCGCCCTTCCCAACAGTTGCGCAGCCTGAATGGCGAATGGCGCCTGATGCGGTATTTTCTCCTTACGCATCTGTGCGGTATTTCACACCGCATATGGTGCACTCTCAGTACAATCTGCTCTGATGCCGCATAGTTAAGCCAGCCCCGACACCCGCCAACACCCGCTGACGCGCCCTGACGGGCTTGTCTGCTCCCGGCATCCGCTTACAGACAAGCTGTGACCGTCTCCGGGAGCTGCATGTGTCAGAGGTTTTCACCGTCATCACCGAAACGCGCGAGACGAAAGGGCCTCGTGATACGCCTATTTTTATAGGTTAATGTCATGATAATAATGGTTTCTTAGACGTCAGGTGGCACTTTTCGGGGAAATGTGCGCGGAACCCCTATTTGTTTATTTTTCTAAATACATTCAAATATGTATCCGCTCATGAGACAATAACCCTGATAAATGCTTCAATAATATTGAAAAAGGAAGAGTATGAGTATTCAACATTTCCGTGTCGCCCTTATTCCCTTTTTTGCGGCATTTTGCCTTCCTGTTTTTGCTCACCCAGAAACGCTGGTGAAAGTAAAAGATGCTGAAGATCAGTTGGGTGCACGAGTGGGTTACATCGAACTGGATCTCAACAGCGGTAAGATCCTTGAGAGTTTTCGCCCCGAAGAACGTTTTCCAATGATGAGCACTTTTAAAGTTCTGCTATGTGGCGCGGTATTATCCCGTATTGACGCCGGGCAAGAGCAACTCGGTCGCCGCATACACTATTCTCAGAATGACTTGGTTGAGTACTCACCAGTCACAGAAAAGCATCTTACGGATGGCATGACAGTAAGAGAATTATGCAGTGCTGCCATAACCATGAGTGATAACACTGCGGCCAACTTACTTCTGACAACGATCGGAGGACCGAAGGAGCTAACCGCTTTTTTGCACAACATGGGGGATCATGTAACTCGCCTTGATCGTTGGGAACCGGAGCTGAATGAAGCCATACCAAACGACGAGCGTGACACCACGATGCCTGTAGCAATGGCAACAACGTTGCGCAAACTATTAACTGGCGAACTACTTACTCTAGCTTCCCGGCAACAATTAATAGACTGGATGGAGGCGGATAAAGTTGCAGGACCACTTCTGCGCTCGGCCCTTCCGGCTGGCTGGTTTATTGCTGATAAATCTGGAGCCGGTGAGCGTGGGTCTCGCGGTATCATTGCAGCACTGGGGCCAGATGGTAAGCCCTCCCGTATCGTAGTTATCTACACGACGGGGAGTCAGGCAACTATGGATGAACGAAATAGACAGATCGCTGAGATAGGTGCCTCACTGATTAAGCATTGGTAACTGTCAGACCAAGTTTACTCATATATACTTTAGATTGATTTAAAACTTCATTTTTAATTTAAAAGGATCTAGGTGAAGATCCTTTTTGATAATCTCATGACCAAAATCCCTTAACGTGAGTTTTCGTTCCACTGAGCGTCAGACCCCGTAGAAAAGATCAAAGGATCTTCTTGAGATCCTTTTTTTCTGCGCGTAATCTGCTGCTTGCAAACAAAAAAACCACCGCTACCAGCGGTGGTTTGTTTGCCGGATCAAGAGCTACCAACTCTTTTTCCGAAGGTAACTGGCTTCAGCAGAGCGCAGATACCAAATACTGTTCTTCTAGTGTAGCCGTAGTTAGGCCACCACTTCAAGAACTCTGTAGCACCGCCTACATACCTCGCTCTGCTAATCCTGTTACCAGTGGCTGCTGCCAGTGGCGATAAGTCGTGTCTTACCGGGTTGGACTCAAGACGATAGTTACCGGATAAGGCGCAGCGGTCGGGCTGAACGGGGGGTTCGTGCACACAGCCCAGCTTGGAGCGAACGACCTACACCGAACTGAGATACCTACAGCGTGAGCTATGAGAAAGCGCCACGCTTCCCGAAGGGAGAAAGGCGGACAGGTATCCGGTAAGCGGCAGGGTCGGAACAGGAGAGCGCACGAGGGAGCTTCCAGGGGGAAACGCCTGGTATCTTTATAGTCCTGTCGGGTTTCGCCACCTCTGACTTGAGCGTCGATTTTTGTGATGCTCGTCAGGGGGGCGGAGCCTATGGAAAAACGCCAGCAACGCGGCCTTTTTACGGTTCCTGGCCTTTTGCTGGCCTTTTGCTCACATGTTCTTTCCTGCGTTATCCCCTGATTCTGTGGATAACCGTATTACCGCCTTTGAGTGAGCTGATACCGCTCGCCGCAGCCGAACGACCGAGCGCAGCGAGTCAGTGAGCGAGGAAGCGGAAGAGCGCCCAATACGCAAACCGCCTCTCCCCGCGCGTTGGCCGATTCATTAATGCAGCTGGCACGACAGGTTTCCCGACTGGAAAGCGGGCAGTGAGCGCAACGCAATTAATGTGAGTTAGCTCACTCATTAGGCACCCCAGGCTTTACACTTTATGCTTCCGGCTCGTATGTTGTGTGGAATTGTGAGCGGATAACAATTTCACACAGGAAACAGCTATGACCATGATTACGCCAAGCTTGCATGCCTGCAGG---- 3'\n",
      "3' TCGAGCTTAAGTGACCGGCAGCAAAATGTTGCAGCACTGACCCTTTTGGGACCGCAATGGGTTGAATTAGCGGAACGTCGTGTAGGGGGAAAGCGGTCGACCGCATTATCGCTTCTCCGGGCGTGGCTAGCGGGAAGGGTTGTCAACGCGTCGGACTTACCGCTTACCGCGGACTACGCCATAAAAGAGGAATGCGTAGACACGCCATAAAGTGTGGCGTATACCACGTGAGAGTCATGTTAGACGAGACTACGGCGTATCAATTCGGTCGGGGCTGTGGGCGGTTGTGGGCGACTGCGCGGGACTGCCCGAACAGACGAGGGCCGTAGGCGAATGTCTGTTCGACACTGGCAGAGGCCCTCGACGTACACAGTCTCCAAAAGTGGCAGTAGTGGCTTTGCGCGCTCTGCTTTCCCGGAGCACTATGCGGATAAAAATATCCAATTACAGTACTATTATTACCAAAGAATCTGCAGTCCACCGTGAAAAGCCCCTTTACACGCGCCTTGGGGATAAACAAATAAAAAGATTTATGTAAGTTTATACATAGGCGAGTACTCTGTTATTGGGACTATTTACGAAGTTATTATAACTTTTTCCTTCTCATACTCATAAGTTGTAAAGGCACAGCGGGAATAAGGGAAAAAACGCCGTAAAACGGAAGGACAAAAACGAGTGGGTCTTTGCGACCACTTTCATTTTCTACGACTTCTAGTCAACCCACGTGCTCACCCAATGTAGCTTGACCTAGAGTTGTCGCCATTCTAGGAACTCTCAAAAGCGGGGCTTCTTGCAAAAGGTTACTACTCGTGAAAATTTCAAGACGATACACCGCGCCATAATAGGGCATAACTGCGGCCCGTTCTCGTTGAGCCAGCGGCGTATGTGATAAGAGTCTTACTGAACCAACTCATGAGTGGTCAGTGTCTTTTCGTAGAATGCCTACCGTACTGTCATTCTCTTAATACGTCACGACGGTATTGGTACTCACTATTGTGACGCCGGTTGAATGAAGACTGTTGCTAGCCTCCTGGCTTCCTCGATTGGCGAAAAAACGTGTTGTACCCCCTAGTACATTGAGCGGAACTAGCAACCCTTGGCCTCGACTTACTTCGGTATGGTTTGCTGCTCGCACTGTGGTGCTACGGACATCGTTACCGTTGTTGCAACGCGTTTGATAATTGACCGCTTGATGAATGAGATCGAAGGGCCGTTGTTAATTATCTGACCTACCTCCGCCTATTTCAACGTCCTGGTGAAGACGCGAGCCGGGAAGGCCGACCGACCAAATAACGACTATTTAGACCTCGGCCACTCGCACCCAGAGCGCCATAGTAACGTCGTGACCCCGGTCTACCATTCGGGAGGGCATAGCATCAATAGATGTGCTGCCCCTCAGTCCGTTGATACCTACTTGCTTTATCTGTCTAGCGACTCTATCCACGGAGTGACTAATTCGTAACCATTGACAGTCTGGTTCAAATGAGTATATATGAAATCTAACTAAATTTTGAAGTAAAAATTAAATTTTCCTAGATCCACTTCTAGGAAAAACTATTAGAGTACTGGTTTTAGGGAATTGCACTCAAAAGCAAGGTGACTCGCAGTCTGGGGCATCTTTTCTAGTTTCCTAGAAGAACTCTAGGAAAAAAAGACGCGCATTAGACGACGAACGTTTGTTTTTTTGGTGGCGATGGTCGCCACCAAACAAACGGCCTAGTTCTCGATGGTTGAGAAAAAGGCTTCCATTGACCGAAGTCGTCTCGCGTCTATGGTTTATGACAAGAAGATCACATCGGCATCAATCCGGTGGTGAAGTTCTTGAGACATCGTGGCGGATGTATGGAGCGAGACGATTAGGACAATGGTCACCGACGACGGTCACCGCTATTCAGCACAGAATGGCCCAACCTGAGTTCTGCTATCAATGGCCTATTCCGCGTCGCCAGCCCGACTTGCCCCCCAAGCACGTGTGTCGGGTCGAACCTCGCTTGCTGGATGTGGCTTGACTCTATGGATGTCGCACTCGATACTCTTTCGCGGTGCGAAGGGCTTCCCTCTTTCCGCCTGTCCATAGGCCATTCGCCGTCCCAGCCTTGTCCTCTCGCGTGCTCCCTCGAAGGTCCCCCTTTGCGGACCATAGAAATATCAGGACAGCCCAAAGCGGTGGAGACTGAACTCGCAGCTAAAAACACTACGAGCAGTCCCCCCGCCTCGGATACCTTTTTGCGGTCGTTGCGCCGGAAAAATGCCAAGGACCGGAAAACGACCGGAAAACGAGTGTACAAGAAAGGACGCAATAGGGGACTAAGACACCTATTGGCATAATGGCGGAAACTCACTCGACTATGGCGAGCGGCGTCGGCTTGCTGGCTCGCGTCGCTCAGTCACTCGCTCCTTCGCCTTCTCGCGGGTTATGCGTTTGGCGGAGAGGGGCGCGCAACCGGCTAAGTAATTACGTCGACCGTGCTGTCCAAAGGGCTGACCTTTCGCCCGTCACTCGCGTTGCGTTAATTACACTCAATCGAGTGAGTAATCCGTGGGGTCCGAAATGTGAAATACGAAGGCCGAGCATACAACACACCTTAACACTCGCCTATTGTTAAAGTGTGTCCTTTGTCGATACTGGTACTAATGCGGTTCGAACGTACGGACGTCCAGCT 5'\n",
      "\n",
      "2663\n"
     ]
    }
   ],
   "source": [
    "SacI = \"GAGCTC\"\n",
    "SalI = \"GTCGAC\"\n",
    "sub_brick = cropdna(brick, brick.finddna(SacI)[0].sstart, brick.finddna(SalI)[0].send) \n",
    "sub_brick.printdnaseq() \n",
    "sub_brick = modifyends(sub_brick, \"-----*/-*****\", \"*-----/*****-\") \n",
    "sub_brick.printdnaseq()\n",
    "print(len(sub_brick.seq))"
   ]
  },
  {
   "cell_type": "code",
   "execution_count": 21,
   "metadata": {},
   "outputs": [
    {
     "name": "stdout",
     "output_type": "stream",
     "text": [
      "5' GAGCTCATGTCCACCAACTTATCAGTGATAAAGAATCCGCGCGTTCAATCGGACCAGCGGAGGCTGGTCCGGAGGCCAGACGTGAAACCCAACATACCCCTGATCGTAATTCTGAGGTCGACTCTAGAGGATCCCCGGGTACCGGTCGCCACCATGGTGAGCAAGGGCGAGGAGCTGTTCACCGGGGTGGTGCCCATCCTGGGTCGAGCTGGACGGCGACGTAAACGGCCACAAGTTCAGCGTGTCCGGCGAGGGCGAGGGCGATGCCACCTACGGCAAGCTGACCCTGAAGTTCATCTGCACCACCGGCAAGCTGCCCGTGCCCTGGCCCACCCTCGTGACCACCCTGACCTACGGCGTGCAGTGCTTCAGCCGCTACCCCGACCACATGAAGCAGCACGACTTCTTCAAGTCCGCCATGCCCGAAGGCTACGTCCAGGAGCGCACCATCTTCTTCAAGGACGACGGCAACTACAAGACCCGCGCCGAGGTGAAGTTCGAGGGCGACACCCTGGTGAACCGCATCGAGCTGAAGGGCATCGACTTCAAGGAGGACGGCAACATCCTGGGGCACAAGCTGGAGTACAACTACAACAGCCACAACGTCTATATCATGGCCGACAAGCAGAAGAACGGCATCAAGGTGAACTTCAAGATCCGCCACAACATCGAGGACGGCAGCGTGCAGCTCGCCGACCACTACCAGCAGAACACCCCCATCGGCGACGGCCCCGTGCTGCTGCCCGACAACCACTACCTGAGCACCCAGTCCGCCCTGAGCAAAGACCCCAACGAGAAGCGCGATCACATGGTCCTGCTGGAATTCCAACTGAGCGCCGGTCGCTACCATTACCAACTTGTCTGGTGTCAAAAATAATAGGCCTACTAGTCGGCCGTACGGGCCCTTTCGTCTCGCGCGTTTCGGTGATGACGGTGAAAACCTCTGACACATGCAGCTCCCGGAGACGGTCACAGCTTGTCTGTAAGCGGATGCCGGGAGCAGACAAGCCCGTCAGGGCGCGTCAGCGGGTGTTGGCGGGTGTCGGGGCTGGCTTAACTATGCGGCATCAGAGCAGATTGTACTGAGTCGAC 3'\n",
      "3' CTCGAGTACAGGTGGTTGAATAGTCACTATTTCTTAGGCGCGCAAGTTAGCCTGGTCGCCTCCGACCAGGCCTCCGGTCTGCACTTTGGGTTGTATGGGGACTAGCATTAAGACTCCAGCTGAGATCTCCTAGGGGCCCATGGCCAGCGGTGGTACCACTCGTTCCCGCTCCTCGACAAGTGGCCCCACCACGGGTAGGACCCAGCTCGACCTGCCGCTGCATTTGCCGGTGTTCAAGTCGCACAGGCCGCTCCCGCTCCCGCTACGGTGGATGCCGTTCGACTGGGACTTCAAGTAGACGTGGTGGCCGTTCGACGGGCACGGGACCGGGTGGGAGCACTGGTGGGACTGGATGCCGCACGTCACGAAGTCGGCGATGGGGCTGGTGTACTTCGTCGTGCTGAAGAAGTTCAGGCGGTACGGGCTTCCGATGCAGGTCCTCGCGTGGTAGAAGAAGTTCCTGCTGCCGTTGATGTTCTGGGCGCGGCTCCACTTCAAGCTCCCGCTGTGGGACCACTTGGCGTAGCTCGACTTCCCGTAGCTGAAGTTCCTCCTGCCGTTGTAGGACCCCGTGTTCGACCTCATGTTGATGTTGTCGGTGTTGCAGATATAGTACCGGCTGTTCGTCTTCTTGCCGTAGTTCCACTTGAAGTTCTAGGCGGTGTTGTAGCTCCTGCCGTCGCACGTCGAGCGGCTGGTGATGGTCGTCTTGTGGGGGTAGCCGCTGCCGGGGCACGACGACGGGCTGTTGGTGATGGACTCGTGGGTCAGGCGGGACTCGTTTCTGGGGTTGCTCTTCGCGCTAGTGTACCAGGACGACCTTAAGGTTGACTCGCGGCCAGCGATGGTAATGGTTGAACAGACCACAGTTTTTATTATCCGGATGATCAGCCGGCATGCCCGGGAAAGCAGAGCGCGCAAAGCCACTACTGCCACTTTTGGAGACTGTGTACGTCGAGGGCCTCTGCCAGTGTCGAACAGACATTCGCCTACGGCCCTCGTCTGTTCGGGCAGTCCCGCGCAGTCGCCCACAACCGCCCACAGCCCCGACCGAATTGATACGCCGTAGTCTCGTCTAACATGACTCAGCTG 5'\n",
      "\n",
      "5' ----CATGTCCACCAACTTATCAGTGATAAAGAATCCGCGCGTTCAATCGGACCAGCGGAGGCTGGTCCGGAGGCCAGACGTGAAACCCAACATACCCCTGATCGTAATTCTGAGGTCGACTCTAGAGGATCCCCGGGTACCGGTCGCCACCATGGTGAGCAAGGGCGAGGAGCTGTTCACCGGGGTGGTGCCCATCCTGGGTCGAGCTGGACGGCGACGTAAACGGCCACAAGTTCAGCGTGTCCGGCGAGGGCGAGGGCGATGCCACCTACGGCAAGCTGACCCTGAAGTTCATCTGCACCACCGGCAAGCTGCCCGTGCCCTGGCCCACCCTCGTGACCACCCTGACCTACGGCGTGCAGTGCTTCAGCCGCTACCCCGACCACATGAAGCAGCACGACTTCTTCAAGTCCGCCATGCCCGAAGGCTACGTCCAGGAGCGCACCATCTTCTTCAAGGACGACGGCAACTACAAGACCCGCGCCGAGGTGAAGTTCGAGGGCGACACCCTGGTGAACCGCATCGAGCTGAAGGGCATCGACTTCAAGGAGGACGGCAACATCCTGGGGCACAAGCTGGAGTACAACTACAACAGCCACAACGTCTATATCATGGCCGACAAGCAGAAGAACGGCATCAAGGTGAACTTCAAGATCCGCCACAACATCGAGGACGGCAGCGTGCAGCTCGCCGACCACTACCAGCAGAACACCCCCATCGGCGACGGCCCCGTGCTGCTGCCCGACAACCACTACCTGAGCACCCAGTCCGCCCTGAGCAAAGACCCCAACGAGAAGCGCGATCACATGGTCCTGCTGGAATTCCAACTGAGCGCCGGTCGCTACCATTACCAACTTGTCTGGTGTCAAAAATAATAGGCCTACTAGTCGGCCGTACGGGCCCTTTCGTCTCGCGCGTTTCGGTGATGACGGTGAAAACCTCTGACACATGCAGCTCCCGGAGACGGTCACAGCTTGTCTGTAAGCGGATGCCGGGAGCAGACAAGCCCGTCAGGGCGCGTCAGCGGGTGTTGGCGGGTGTCGGGGCTGGCTTAACTATGCGGCATCAGAGCAGATTGTACTGAG---- 3'\n",
      "3' TCGAGTACAGGTGGTTGAATAGTCACTATTTCTTAGGCGCGCAAGTTAGCCTGGTCGCCTCCGACCAGGCCTCCGGTCTGCACTTTGGGTTGTATGGGGACTAGCATTAAGACTCCAGCTGAGATCTCCTAGGGGCCCATGGCCAGCGGTGGTACCACTCGTTCCCGCTCCTCGACAAGTGGCCCCACCACGGGTAGGACCCAGCTCGACCTGCCGCTGCATTTGCCGGTGTTCAAGTCGCACAGGCCGCTCCCGCTCCCGCTACGGTGGATGCCGTTCGACTGGGACTTCAAGTAGACGTGGTGGCCGTTCGACGGGCACGGGACCGGGTGGGAGCACTGGTGGGACTGGATGCCGCACGTCACGAAGTCGGCGATGGGGCTGGTGTACTTCGTCGTGCTGAAGAAGTTCAGGCGGTACGGGCTTCCGATGCAGGTCCTCGCGTGGTAGAAGAAGTTCCTGCTGCCGTTGATGTTCTGGGCGCGGCTCCACTTCAAGCTCCCGCTGTGGGACCACTTGGCGTAGCTCGACTTCCCGTAGCTGAAGTTCCTCCTGCCGTTGTAGGACCCCGTGTTCGACCTCATGTTGATGTTGTCGGTGTTGCAGATATAGTACCGGCTGTTCGTCTTCTTGCCGTAGTTCCACTTGAAGTTCTAGGCGGTGTTGTAGCTCCTGCCGTCGCACGTCGAGCGGCTGGTGATGGTCGTCTTGTGGGGGTAGCCGCTGCCGGGGCACGACGACGGGCTGTTGGTGATGGACTCGTGGGTCAGGCGGGACTCGTTTCTGGGGTTGCTCTTCGCGCTAGTGTACCAGGACGACCTTAAGGTTGACTCGCGGCCAGCGATGGTAATGGTTGAACAGACCACAGTTTTTATTATCCGGATGATCAGCCGGCATGCCCGGGAAAGCAGAGCGCGCAAAGCCACTACTGCCACTTTTGGAGACTGTGTACGTCGAGGGCCTCTGCCAGTGTCGAACAGACATTCGCCTACGGCCCTCGTCTGTTCGGGCAGTCCCGCGCAGTCGCCCACAACCGCCCACAGCCCCGACCGAATTGATACGCCGTAGTCTCGTCTAACATGACTCAGCT 5'\n",
      "\n",
      "3753\n"
     ]
    }
   ],
   "source": [
    "SacI = \"GAGCTC\"\n",
    "SalI = \"GTCGAC\"\n",
    "EGFP = DNA(record=\"EGFP.fasta\") \n",
    "EGFP.adddnafeature(0,len(EGFP.seq),qualifiers={\"label\":\"EGFP\"})\n",
    "EGFP = modifyends(EGFP, SacI, SalI) \n",
    "EGFP.printdnaseq() \n",
    "EGFP = modifyends(EGFP, \"-----*/-*****\", \"*-----/*****-\")\n",
    "EGFP.printdnaseq() \n",
    "product = joindna(EGFP, sub_brick, topology=\"circular\")\n",
    "print(len(product.seq))"
   ]
  },
  {
   "cell_type": "code",
   "execution_count": 22,
   "metadata": {},
   "outputs": [
    {
     "name": "stdout",
     "output_type": "stream",
     "text": [
      "Feature_ID  Label                   Type          Start  End   Strand  \n",
      "0           EGFP                    misc_feature  5      1085  +       \n",
      "100         MCS:47..57:57           misc_feature  1090   1101  +       \n",
      "200         lacZ-alpha:64..324:324  CDS           1090   1351  +       \n",
      "300         pUC19:678..654:2686     source        1090   3753  +       \n",
      "400         M13 fwd                 primer_bind   1101   1118  -       \n",
      "500         M13 Forward             primer_bind   1101   1119  -       \n",
      "600         M13/pUC Forward         primer_bind   1110   1133  -       \n",
      "700         pRS-marker              primer_bind   1326   1346  -       \n",
      "800         pGEX 3'                 primer_bind   1445   1468  +       \n",
      "900         pBRforEco               primer_bind   1505   1524  -       \n",
      "1000        AmpR promoter           promoter      1591   1696  +       \n",
      "1100        AmpR                    CDS           1696   2557  +       \n",
      "1200        Amp-R                   primer_bind   1914   1934  -       \n",
      "1300        ori                     rep_origin    2727   3316  +       \n",
      "1400        feat2                   misc_feature  3063   3109  +       \n",
      "1500        pBR322ori-F             primer_bind   3216   3236  +       \n",
      "1600        L4440                   primer_bind   3469   3487  +       \n",
      "1700        CAP binding site        protein_bind  3603   3625  +       \n",
      "1800        lac promoter            promoter      3639   3670  +       \n",
      "1900        lac operator            protein_bind  3677   3694  +       \n",
      "2000        M13/pUC Reverse         primer_bind   3682   3705  +       \n",
      "2100        M13 rev                 primer_bind   3701   3718  +       \n",
      "2200        M13 Reverse             primer_bind   3701   3718  +       \n",
      "2300        lacZ-alpha:1..40:324    CDS           3713   3753  +       \n",
      "2400        MCS:1..23:57            misc_feature  3730   3753  +       \n",
      "\n"
     ]
    }
   ],
   "source": [
    "product.printdnafeature()"
   ]
  },
  {
   "cell_type": "code",
   "execution_count": 23,
   "metadata": {},
   "outputs": [],
   "source": [
    "product_shifted = joindna(cutdna(product, 2727)[0])"
   ]
  },
  {
   "cell_type": "code",
   "execution_count": 24,
   "metadata": {},
   "outputs": [
    {
     "name": "stdout",
     "output_type": "stream",
     "text": [
      "Feature_ID  Label                   Type          Start  End   Strand  \n",
      "0           ori                     rep_origin    0      589   +       \n",
      "200         feat2                   misc_feature  336    382   +       \n",
      "300         pBR322ori-F             primer_bind   489    509   +       \n",
      "400         L4440                   primer_bind   742    760   +       \n",
      "500         CAP binding site        protein_bind  876    898   +       \n",
      "600         lac promoter            promoter      912    943   +       \n",
      "700         lac operator            protein_bind  950    967   +       \n",
      "800         M13/pUC Reverse         primer_bind   955    978   +       \n",
      "1000        M13 Reverse             primer_bind   974    991   +       \n",
      "900         M13 rev                 primer_bind   974    991   +       \n",
      "1100        lacZ-alpha:1..40:324    CDS           986    1026  +       \n",
      "1200        MCS:1..23:57            misc_feature  1003   1026  +       \n",
      "1300        EGFP                    misc_feature  1031   2111  +       \n",
      "100         pUC19:2315..654:2686    source        2116   1026  +       \n",
      "1400        MCS:47..57:57           misc_feature  2116   2127  +       \n",
      "1500        lacZ-alpha:64..324:324  CDS           2116   2377  +       \n",
      "1700        M13 fwd                 primer_bind   2127   2144  -       \n",
      "1800        M13 Forward             primer_bind   2127   2145  -       \n",
      "1900        M13/pUC Forward         primer_bind   2136   2159  -       \n",
      "2000        pRS-marker              primer_bind   2352   2372  -       \n",
      "2100        pGEX 3'                 primer_bind   2471   2494  +       \n",
      "2200        pBRforEco               primer_bind   2531   2550  -       \n",
      "2300        AmpR promoter           promoter      2617   2722  +       \n",
      "2400        AmpR                    CDS           2722   3583  +       \n",
      "2500        Amp-R                   primer_bind   2940   2960  -       \n",
      "\n"
     ]
    }
   ],
   "source": [
    "product_shifted.printdnafeature()"
   ]
  },
  {
   "cell_type": "code",
   "execution_count": null,
   "metadata": {},
   "outputs": [],
   "source": []
  }
 ],
 "metadata": {
  "kernelspec": {
   "display_name": "Python 3",
   "language": "python",
   "name": "python3"
  },
  "language_info": {
   "codemirror_mode": {
    "name": "ipython",
    "version": 3
   },
   "file_extension": ".py",
   "mimetype": "text/x-python",
   "name": "python",
   "nbconvert_exporter": "python",
   "pygments_lexer": "ipython3",
   "version": "3.7.4"
  }
 },
 "nbformat": 4,
 "nbformat_minor": 4
}
