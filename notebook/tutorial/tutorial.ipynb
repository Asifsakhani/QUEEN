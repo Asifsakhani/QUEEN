{
 "cells": [
  {
   "cell_type": "code",
   "execution_count": 1,
   "metadata": {},
   "outputs": [
    {
     "name": "stdout",
     "output_type": "stream",
     "text": [
      "circular\n"
     ]
    }
   ],
   "source": [
    "import sys \n",
    "sys.path.append(\"../../\")\n",
    "from dbrick import *\n",
    "from Bio.Alphabet import generic_dna\n",
    "from Bio.Seq import Seq\n",
    "brick = Dbrick(record=\"pUC19.gbk\")\n",
    "print(brick.topology)"
   ]
  },
  {
   "cell_type": "code",
   "execution_count": 2,
   "metadata": {},
   "outputs": [
    {
     "name": "stdout",
     "output_type": "stream",
     "text": [
      "Feature_ID  Label            Type         Start  End   Strand  Seq                      \n",
      "1           pBR322ori-F      primer_bind  117    137   +       GGGAAACGCCTGGTATCTTT     \n",
      "2           L4440            primer_bind  370    388   +       AGCGAGTCAGTGAGCGAG       \n",
      "6           M13/pUC Reverse  primer_bind  583    606   +       AGCGGATAACAATTTCACACAGG  \n",
      "7           M13 rev          primer_bind  602    619   +       CAGGAAACAGCTATGAC        \n",
      "8           M13 Reverse      primer_bind  602    619   +       CAGGAAACAGCTATGAC        \n",
      "11          M13 Forward      primer_bind  688    706   -       TGTAAAACGACGGCCAGT       \n",
      "12          M13 fwd          primer_bind  688    705   -       GTAAAACGACGGCCAGT        \n",
      "13          M13/pUC Forward  primer_bind  697    720   -       CCCAGTCACGACGTTGTAAAACG  \n",
      "14          pRS-marker       primer_bind  913    933   -       CGGCATCAGAGCAGATTGTA     \n",
      "15          pGEX 3'          primer_bind  1032   1055  +       CCGGGAGCTGCATGTGTCAGAGG  \n",
      "16          pBRforEco        primer_bind  1092   1111  -       AATAGGCGTATCACGAGGC      \n",
      "19          Amp-R            primer_bind  1501   1521  -       ATAATACCGCGCCACATAGC     \n"
     ]
    }
   ],
   "source": [
    "brick.print_features(with_seq=True, feature_types=[\"primer_bind\"])"
   ]
  },
  {
   "cell_type": "code",
   "execution_count": 3,
   "metadata": {},
   "outputs": [
    {
     "name": "stdout",
     "output_type": "stream",
     "text": [
      "Feature_ID  Label  Type          Start  End  Strand  Seq                                                        \n",
      "10          MCS    misc_feature  631    688  +       AAGCTTGCATGCCTGCAGGTCGACTCTAGAGGATCCCCGGGTACCGAGCTCGAATTC  \n"
     ]
    }
   ],
   "source": [
    "brick.print_features(feature_types=[\"misc_feature\"], with_seq=True)"
   ]
  },
  {
   "cell_type": "code",
   "execution_count": 4,
   "metadata": {},
   "outputs": [
    {
     "name": "stdout",
     "output_type": "stream",
     "text": [
      "New feature was added in the range of start 661 to end 667.\n",
      "Feature_ID  Label  Type          Start  End  Strand  Seq                                                        \n",
      "1           feat1  misc_feature  100    120  +       ACGAGGGAGCTTCCAGGGGG                                       \n",
      "11          MCS    misc_feature  631    688  +       AAGCTTGCATGCCTGCAGGTCGACTCTAGAGGATCCCCGGGTACCGAGCTCGAATTC  \n",
      "12          BamHI  misc_feature  661    667  +       GGATCC                                                     \n",
      "23          feat2  misc_feature  2680   10   +       CGAACTGAGATACCTA                                           \n"
     ]
    }
   ],
   "source": [
    "brick.add_feature(100, 120, qualifiers={\"label\":\"feat1\"}) \n",
    "brick.add_feature(2680, 10, qualifiers={\"label\":\"feat2\"}) #feat on origin\n",
    "brick.add_feature(\"GGATCC\", qualifiers={\"label\":\"BamHI\"})\n",
    "brick.print_features(feature_types=[\"misc_feature\"], with_seq=True)"
   ]
  },
  {
   "cell_type": "code",
   "execution_count": 5,
   "metadata": {},
   "outputs": [
    {
     "name": "stdout",
     "output_type": "stream",
     "text": [
      "Feature_ID  Label  Type          Start  End  Strand  Seq                                                        \n",
      "1           feat1  misc_feature  100    120  +       ACGAGGGAGCTTCCAGGGGG                                       \n",
      "11          MCS    misc_feature  631    688  +       AAGCTTGCATGCCTGCAGGTCGACTCTAGAGGATCCCCGGGTACCGAGCTCGAATTC  \n",
      "22          feat2  misc_feature  2680   10   +       CGAACTGAGATACCTA                                           \n"
     ]
    }
   ],
   "source": [
    "brick.remove_feature(\"12\")\n",
    "brick.print_features(feature_types=[\"misc_feature\"], with_seq=True)"
   ]
  },
  {
   "cell_type": "code",
   "execution_count": 6,
   "metadata": {},
   "outputs": [
    {
     "name": "stdout",
     "output_type": "stream",
     "text": [
      "Feature_ID  Label             Type          Start  End   Strand  \n",
      "0           source            source        0      2686  +       \n",
      "1           feat1             misc_feature  100    120   +       \n",
      "2           pBR322ori-F       primer_bind   117    137   +       \n",
      "3           L4440             primer_bind   370    388   +       \n",
      "4           CAP binding site  protein_bind  504    526   +       \n",
      "5           lac promoter      promoter      540    571   +       \n",
      "6           lac operator      protein_bind  578    595   +       \n",
      "7           M13/pUC Reverse   primer_bind   583    606   +       \n",
      "8           M13 rev           primer_bind   602    619   +       \n",
      "9           M13 Reverse       primer_bind   602    619   +       \n",
      "10          lacZ-alpha        CDS           614    938   +       \n",
      "11          MCS               misc_feature  631    688   +       \n",
      "12          M13 Forward       primer_bind   688    706   -       \n",
      "13          M13 fwd           primer_bind   688    705   -       \n",
      "14          M13/pUC Forward   primer_bind   697    720   -       \n",
      "15          pRS-marker        primer_bind   913    933   -       \n",
      "16          pGEX 3'           primer_bind   1032   1055  +       \n",
      "17          pBRforEco         primer_bind   1092   1111  -       \n",
      "18          AmpR promoter     promoter      1178   1283  +       \n",
      "19          AmpR              CDS           1283   2144  +       \n",
      "20          Amp-R             primer_bind   1501   1521  -       \n",
      "21          ori               rep_origin    2314   217   +       \n",
      "22          feat2             misc_feature  2680   10    +       \n",
      "\n",
      "Feature_ID  Label                   Type         Start  End   Strand  \n",
      "0           source:1001..2000:2686  source       0      1000  +       \n",
      "1           pGEX 3'                 primer_bind  32     55    +       \n",
      "2           pBRforEco               primer_bind  92     111   -       \n",
      "3           AmpR promoter           promoter     178    283   +       \n",
      "4           AmpR:1..717:861         CDS          283    1000  +       \n",
      "5           Amp-R                   primer_bind  501    521   -       \n"
     ]
    }
   ],
   "source": [
    "sub_brick = substr(brick, 1000, 2000)\n",
    "brick.print_features() \n",
    "print()\n",
    "sub_brick.print_features() "
   ]
  },
  {
   "cell_type": "code",
   "execution_count": 7,
   "metadata": {},
   "outputs": [
    {
     "name": "stdout",
     "output_type": "stream",
     "text": [
      "The region from start 603 to end 706 was extracted.\n",
      "CAGGAAACAGCTATGACCATGATTACGCCAAGCTTGCATGCCTGCAGGTCGACTCTAGAGGATCCCCGGGTACCGAGCTCGAATTCACTGGCCGTCGTTTTACA\n",
      "GTCCTTTGTCGATACTGGTACTAATGCGGTTCGAACGTACGGACGTCCAGCTGAGATCTCCTAGGGGCCCATGGCTCGAGCTTAAGTGACCGGCAGCAAAATGT\n",
      "Feature_ID  Label                      Type          Start  End  Strand  \n",
      "0           M13/pUC Reverse:20..23:23  primer_bind   0      4    +       \n",
      "1           M13 rev                    primer_bind   0      17   +       \n",
      "2           M13 Reverse                primer_bind   0      17   +       \n",
      "3           source:603..706:2686       source        0      104  +       \n",
      "4           lacZ-alpha:1..92:324       CDS           12     104  +       \n",
      "5           MCS                        misc_feature  29     86   +       \n",
      "6           M13 fwd                    primer_bind   86     103  -       \n",
      "7           M13 Forward                primer_bind   86     104  -       \n",
      "8           M13/pUC Forward:9..1:23    primer_bind   95     104  -       \n"
     ]
    }
   ],
   "source": [
    "sub_brick = substr(brick, \"CAGGAAACAGCTATGAC\", \"TGTAAAACGACGGCCAGT\")\n",
    "sub_brick.print_dsdna(whole=True)\n",
    "sub_brick.print_features() "
   ]
  },
  {
   "cell_type": "code",
   "execution_count": 8,
   "metadata": {},
   "outputs": [
    {
     "name": "stdout",
     "output_type": "stream",
     "text": [
      "The region from start 602 to end 706 was extracted. Adapter sequneces were detected at both ends. Right redundant sequence is TTTTT, Left redundant sequence is GGGGG.\n",
      "TTTTTCAGGAAACAGCTATGACCATGATTACGCCAAGCTTGCATGCCTGCAGGTCGACTCTAGAGGATCCCCGGGTACCGAGCTCGAATTCACTGGCCGTCGTTTTACACCCCC\n",
      "AAAAAGTCCTTTGTCGATACTGGTACTAATGCGGTTCGAACGTACGGACGTCCAGCTGAGATCTCCTAGGGGCCCATGGCTCGAGCTTAAGTGACCGGCAGCAAAATGTGGGGG\n"
     ]
    }
   ],
   "source": [
    "sub_brick = substr(brick, \"TTTTTCAGGAAACAGCTATGAC\", \"GGGGGTGTAAAACGACGGCCAGT\")\n",
    "sub_brick.print_dsdna(whole=True)"
   ]
  },
  {
   "cell_type": "code",
   "execution_count": 9,
   "metadata": {},
   "outputs": [
    {
     "name": "stdout",
     "output_type": "stream",
     "text": [
      "The region from start 531 to end 788 was extracted.\n",
      "Feature_ID  Label                  Type          Start  End  Strand  \n",
      "0           source:532..788:2686   source        0      257  +       \n",
      "1           lac promoter           promoter      9      40   +       \n",
      "2           lac operator           protein_bind  47     64   +       \n",
      "3           M13/pUC Reverse        primer_bind   52     75   +       \n",
      "4           M13 rev                primer_bind   71     88   +       \n",
      "5           M13 Reverse            primer_bind   71     88   +       \n",
      "6           lacZ-alpha:1..174:324  CDS           83     257  +       \n",
      "7           MCS                    misc_feature  100    157  +       \n",
      "8           M13 fwd                primer_bind   157    174  -       \n",
      "9           M13 Forward            primer_bind   157    175  -       \n",
      "10          M13/pUC Forward        primer_bind   166    189  -       \n"
     ]
    }
   ],
   "source": [
    "sub_brick = substr(brick, -100, +100, target=\"11\")\n",
    "sub_brick.print_features()"
   ]
  },
  {
   "cell_type": "code",
   "execution_count": 10,
   "metadata": {},
   "outputs": [
    {
     "name": "stdout",
     "output_type": "stream",
     "text": [
      "ACGAGGGAGC...TTCCAGGGGG\n",
      "TGCTCCCTCG...AAGGTCCCCC\n",
      "    GGGAGC...TTCCAGGGGG\n",
      "TGCTCCCTCG...AAGGTCCC  \n"
     ]
    }
   ],
   "source": [
    "sub_brick = substr(brick, 100, 120)\n",
    "sub_brick.print_dsdna()  \n",
    "sub_brick = shell(sub_brick,\"----**/******\",\"******/****--\")\n",
    "sub_brick.print_dsdna() "
   ]
  },
  {
   "cell_type": "code",
   "execution_count": 11,
   "metadata": {},
   "outputs": [
    {
     "name": "stdout",
     "output_type": "stream",
     "text": [
      "ATGTACGACG...GGGATGCTAC\n",
      "TACATGCTGC...CCCTACGATG\n"
     ]
    }
   ],
   "source": [
    "#Source code (continued from previous one)#\n",
    "sub_brick = substr(brick, 100, 120)\n",
    "sub_brick = shell(sub_brick,\"ATGTACG\",\"ATGCTAC\")\n",
    "sub_brick.print_dsdna() "
   ]
  },
  {
   "cell_type": "code",
   "execution_count": 12,
   "metadata": {},
   "outputs": [
    {
     "name": "stdout",
     "output_type": "stream",
     "text": [
      "   ACGAGGG...CAGGGGG   \n",
      "ATGTGCTCCC...GTCCCCCTAC\n"
     ]
    }
   ],
   "source": [
    "sub_brick = substr(brick, 100, 120)\n",
    "sub_brick = shell(sub_brick,\"---ATGC/ATGTACG\",\"TACG---/ATGCTAC\")\n",
    "sub_brick.print_dsdna() "
   ]
  },
  {
   "cell_type": "code",
   "execution_count": 13,
   "metadata": {},
   "outputs": [
    {
     "name": "stdout",
     "output_type": "stream",
     "text": [
      "The region from start 677 to end 655 was extracted.\n",
      "GAGCTCGAAT...GCAGGTCGAC\n",
      "CTCGAGCTTA...CGTCCAGCTG\n",
      "    CGAATT...TGCAGG    \n",
      "TCGAGCTTAA...ACGTCCAGCT\n"
     ]
    }
   ],
   "source": [
    "SacI = \"GAGCTC\"\n",
    "SalI = \"GTCGAC\"\n",
    "sub_brick = substr(brick, SacI, SalI)\n",
    "sub_brick.print_dsdna() \n",
    "sub_brick = shell(sub_brick, \"-----*/-*****\", \"*-----/*****-\") \n",
    "sub_brick.print_dsdna() "
   ]
  },
  {
   "cell_type": "code",
   "execution_count": 14,
   "metadata": {},
   "outputs": [
    {
     "name": "stdout",
     "output_type": "stream",
     "text": [
      "GTCGACATGT...CTGAGAGCTC\n",
      "CAGCTGTACA...GACTCTCGAG\n",
      "TCGACATGTC...ACTGAGAGCT\n",
      "    GTACAG...TGACTC    \n",
      "The Dbrick objects were joined based on complementary sticky end of each fragment. The sticky end is 'TCGA'\n",
      "The Dbrick object was circularized based on complementary sticky end between 3' end and 5' end. The sticky end is 'AGCT'\n"
     ]
    }
   ],
   "source": [
    "EGFP = Dbrick(record=\"EGFP.fasta\") \n",
    "EGFP = shell(EGFP, SalI, SacI) \n",
    "EGFP.print_dsdna()\n",
    "EGFP = shell(EGFP, \"-*****/-----*\", \"*****-/*-----\")\n",
    "EGFP.print_dsdna()\n",
    "product = join_dbricks(sub_brick, EGFP, topology=\"circular\")"
   ]
  },
  {
   "cell_type": "code",
   "execution_count": 16,
   "metadata": {},
   "outputs": [
    {
     "name": "stdout",
     "output_type": "stream",
     "text": [
      "The region from start 689 to end 619 was extracted.\n",
      "The Dbrick objects were joined based on sequence homology at the end of each fragment. The overhang sequence is 'CAGGAAACAGCTATGAC'\n",
      "The Dbrick object was circularized based on sequence homology between 3' end and 5' end. The overhang sequence is 'ACTGGCCGTCGTTTTACA'\n"
     ]
    }
   ],
   "source": [
    "sub_brick = substr(brick, \"ACTGGCCGTCGTTTTACA\", \"GTCATAGCTGTTTCCTG\")\n",
    "EGFP = shell(EGFP, \"CAGGAAACAGCTATGAC\", \"ACTGGCCGTCGTTTTACA\")\n",
    "product = join_dbricks(sub_brick, EGFP, topology=\"circular\")"
   ]
  },
  {
   "cell_type": "code",
   "execution_count": null,
   "metadata": {},
   "outputs": [],
   "source": []
  }
 ],
 "metadata": {
  "kernelspec": {
   "display_name": "Python 3",
   "language": "python",
   "name": "python3"
  },
  "language_info": {
   "codemirror_mode": {
    "name": "ipython",
    "version": 3
   },
   "file_extension": ".py",
   "mimetype": "text/x-python",
   "name": "python",
   "nbconvert_exporter": "python",
   "pygments_lexer": "ipython3",
   "version": "3.7.7"
  }
 },
 "nbformat": 4,
 "nbformat_minor": 4
}
