{
 "cells": [
  {
   "cell_type": "code",
   "execution_count": 1,
   "metadata": {},
   "outputs": [],
   "source": [
    "import sys \n",
    "sys.path.append(\"../../\")\n",
    "from dna import *"
   ]
  },
  {
   "cell_type": "code",
   "execution_count": 2,
   "metadata": {},
   "outputs": [
    {
     "name": "stdout",
     "output_type": "stream",
     "text": [
      "<dna.DNA object; project='None', length='14 bp', sequence='CCGGTATGCGTCGA', topology='linear'>\n"
     ]
    }
   ],
   "source": [
    "#Example code1 : Create a blunt-end DNA object by specifying its sequence\n",
    "brick = DNA(seq=\"CCGGTATGCGTCGA\")\n",
    "print(brick)"
   ]
  },
  {
   "cell_type": "code",
   "execution_count": 3,
   "metadata": {},
   "outputs": [
    {
     "name": "stdout",
     "output_type": "stream",
     "text": [
      "<dna.DNA object; project='None', length='14 bp', sequence='CCGGTATGCGTCGA', topology='linear'>\n"
     ]
    }
   ],
   "source": [
    "#Example code 2: Create a sticky-end DNA object by specifying its structure \n",
    "brick = DNA(seq=\"CCGGTATGCG----/----ATACGCAGCT\") \n",
    "print(brick)"
   ]
  },
  {
   "cell_type": "code",
   "execution_count": 4,
   "metadata": {},
   "outputs": [
    {
     "name": "stdout",
     "output_type": "stream",
     "text": [
      "<dna.DNA object; project='None', length='2686 bp', topology='circular'>\n"
     ]
    }
   ],
   "source": [
    "#Example code 3: Create an annotated DNA object from GenBank format file \n",
    "brick = DNA(record=\"pUC19.gbk\")\n",
    "print(brick)"
   ]
  },
  {
   "cell_type": "code",
   "execution_count": 5,
   "metadata": {},
   "outputs": [
    {
     "name": "stdout",
     "output_type": "stream",
     "text": [
      "5' CCGGTATGCG---- 3'\n",
      "3' ----ATACGCAGCT 5'\n",
      "\n"
     ]
    }
   ],
   "source": [
    "#Example code 4-1: Print a double-strand DNA sequence with sticky ends\n",
    "brick = DNA(seq=\"CCGGTATGCG----/----ATACGCAGCT\") \n",
    "brick.printdnaseq()"
   ]
  },
  {
   "cell_type": "code",
   "execution_count": 6,
   "metadata": {},
   "outputs": [
    {
     "name": "stdout",
     "output_type": "stream",
     "text": [
      "5' GAGATACCTACAGCGTGAGCTATGAGAAAGCGCCACGCTTCCCGAAGGGAGAAAGGCGGACAGGTATCCG 3'\n",
      "3' CTCTATGGATGTCGCACTCGATACTCTTTCGCGGTGCGAAGGGCTTCCCTCTTTCCGCCTGTCCATAGGC 5'\n",
      "\n",
      "5' GTAAGCGGCAGGGTCGGAACAGGAGAGCGCACGAGGGAGCTTCCAGGGGGAAACGCCTGGTATCTTTATA 3'\n",
      "3' CATTCGCCGTCCCAGCCTTGTCCTCTCGCGTGCTCCCTCGAAGGTCCCCCTTTGCGGACCATAGAAATAT 5'\n",
      "\n",
      "5' GTCCTGTCGGGTTTCGCCACCTCTGACTTGAGCGTCGATTTTTGTGATGCTCGTCAGGGGGGCGGAGCCT 3'\n",
      "3' CAGGACAGCCCAAAGCGGTGGAGACTGAACTCGCAGCTAAAAACACTACGAGCAGTCCCCCCGCCTCGGA 5'\n",
      "\n",
      "5' ATGGAAAAACGCCAGCAACGCGGCCTTTTTACGGTTCCTGGCCTTTTGCTGGCCTTTTGCTCACATGTTC 3'\n",
      "3' TACCTTTTTGCGGTCGTTGCGCCGGAAAAATGCCAAGGACCGGAAAACGACCGGAAAACGAGTGTACAAG 5'\n",
      "\n",
      "5' TTTCCTGCGTTATCCCCTGATTCTGTGGATAACCGTATTACCGCCTTTGAGTGAGCTGATACCGCTCGCC 3'\n",
      "3' AAAGGACGCAATAGGGGACTAAGACACCTATTGGCATAATGGCGGAAACTCACTCGACTATGGCGAGCGG 5'\n",
      "\n",
      "5' GCAGCCGAACGACCGAGCGCAGCGAGTCAGTGAGCGAGGAAGCGGAAGAGCGCCCAATACGCAAACCGCC 3'\n",
      "3' CGTCGGCTTGCTGGCTCGCGTCGCTCAGTCACTCGCTCCTTCGCCTTCTCGCGGGTTATGCGTTTGGCGG 5'\n",
      "\n",
      "5' TCTCCCCGCGCGTTGGCCGATTCATTAATGCAGCTGGCACGACAGGTTTCCCGACTGGAAAGCGGGCAGT 3'\n",
      "3' AGAGGGGCGCGCAACCGGCTAAGTAATTACGTCGACCGTGCTGTCCAAAGGGCTGACCTTTCGCCCGTCA 5'\n",
      "\n",
      "5' GAGCGCAACGCAATTAATGTGAGTTAGCTCACTCATTAGGCACCCCAGGCTTTACACTTTATGCTTCCGG 3'\n",
      "3' CTCGCGTTGCGTTAATTACACTCAATCGAGTGAGTAATCCGTGGGGTCCGAAATGTGAAATACGAAGGCC 5'\n",
      "\n",
      "5' CTCGTATGTTGTGTGGAATTGTGAGCGGATAACAATTTCACACAGGAAACAGCTATGACCATGATTACGC 3'\n",
      "3' GAGCATACAACACACCTTAACACTCGCCTATTGTTAAAGTGTGTCCTTTGTCGATACTGGTACTAATGCG 5'\n",
      "\n",
      "5' CAAGCTTGCATGCCTGCAGGTCGACTCTAGAGGATCCCCGGGTACCGAGCTCGAATTCACTGGCCGTCGT 3'\n",
      "3' GTTCGAACGTACGGACGTCCAGCTGAGATCTCCTAGGGGCCCATGGCTCGAGCTTAAGTGACCGGCAGCA 5'\n",
      "\n",
      "5' TTTACAACGTCGTGACTGGGAAAACCCTGGCGTTACCCAACTTAATCGCCTTGCAGCACATCCCCCTTTC 3'\n",
      "3' AAATGTTGCAGCACTGACCCTTTTGGGACCGCAATGGGTTGAATTAGCGGAACGTCGTGTAGGGGGAAAG 5'\n",
      "\n",
      "5' GCCAGCTGGCGTAATAGCGAAGAGGCCCGCACCGATCGCCCTTCCCAACAGTTGCGCAGCCTGAATGGCG 3'\n",
      "3' CGGTCGACCGCATTATCGCTTCTCCGGGCGTGGCTAGCGGGAAGGGTTGTCAACGCGTCGGACTTACCGC 5'\n",
      "\n",
      "5' AATGGCGCCTGATGCGGTATTTTCTCCTTACGCATCTGTGCGGTATTTCACACCGCATATGGTGCACTCT 3'\n",
      "3' TTACCGCGGACTACGCCATAAAAGAGGAATGCGTAGACACGCCATAAAGTGTGGCGTATACCACGTGAGA 5'\n",
      "\n",
      "5' CAGTACAATCTGCTCTGATGCCGCATAGTTAAGCCAGCCCCGACACCCGCCAACACCCGCTGACGCGCCC 3'\n",
      "3' GTCATGTTAGACGAGACTACGGCGTATCAATTCGGTCGGGGCTGTGGGCGGTTGTGGGCGACTGCGCGGG 5'\n",
      "\n",
      "5' TGACGGGCTTGTCTGCTCCCGGCATCCGCTTACAGACAAGCTGTGACCGTCTCCGGGAGCTGCATGTGTC 3'\n",
      "3' ACTGCCCGAACAGACGAGGGCCGTAGGCGAATGTCTGTTCGACACTGGCAGAGGCCCTCGACGTACACAG 5'\n",
      "\n",
      "5' AGAGGTTTTCACCGTCATCACCGAAACGCGCGAGACGAAAGGGCCTCGTGATACGCCTATTTTTATAGGT 3'\n",
      "3' TCTCCAAAAGTGGCAGTAGTGGCTTTGCGCGCTCTGCTTTCCCGGAGCACTATGCGGATAAAAATATCCA 5'\n",
      "\n",
      "5' TAATGTCATGATAATAATGGTTTCTTAGACGTCAGGTGGCACTTTTCGGGGAAATGTGCGCGGAACCCCT 3'\n",
      "3' ATTACAGTACTATTATTACCAAAGAATCTGCAGTCCACCGTGAAAAGCCCCTTTACACGCGCCTTGGGGA 5'\n",
      "\n",
      "5' ATTTGTTTATTTTTCTAAATACATTCAAATATGTATCCGCTCATGAGACAATAACCCTGATAAATGCTTC 3'\n",
      "3' TAAACAAATAAAAAGATTTATGTAAGTTTATACATAGGCGAGTACTCTGTTATTGGGACTATTTACGAAG 5'\n",
      "\n",
      "5' AATAATATTGAAAAAGGAAGAGTATGAGTATTCAACATTTCCGTGTCGCCCTTATTCCCTTTTTTGCGGC 3'\n",
      "3' TTATTATAACTTTTTCCTTCTCATACTCATAAGTTGTAAAGGCACAGCGGGAATAAGGGAAAAAACGCCG 5'\n",
      "\n",
      "5' ATTTTGCCTTCCTGTTTTTGCTCACCCAGAAACGCTGGTGAAAGTAAAAGATGCTGAAGATCAGTTGGGT 3'\n",
      "3' TAAAACGGAAGGACAAAAACGAGTGGGTCTTTGCGACCACTTTCATTTTCTACGACTTCTAGTCAACCCA 5'\n",
      "\n",
      "5' GCACGAGTGGGTTACATCGAACTGGATCTCAACAGCGGTAAGATCCTTGAGAGTTTTCGCCCCGAAGAAC 3'\n",
      "3' CGTGCTCACCCAATGTAGCTTGACCTAGAGTTGTCGCCATTCTAGGAACTCTCAAAAGCGGGGCTTCTTG 5'\n",
      "\n",
      "5' GTTTTCCAATGATGAGCACTTTTAAAGTTCTGCTATGTGGCGCGGTATTATCCCGTATTGACGCCGGGCA 3'\n",
      "3' CAAAAGGTTACTACTCGTGAAAATTTCAAGACGATACACCGCGCCATAATAGGGCATAACTGCGGCCCGT 5'\n",
      "\n",
      "5' AGAGCAACTCGGTCGCCGCATACACTATTCTCAGAATGACTTGGTTGAGTACTCACCAGTCACAGAAAAG 3'\n",
      "3' TCTCGTTGAGCCAGCGGCGTATGTGATAAGAGTCTTACTGAACCAACTCATGAGTGGTCAGTGTCTTTTC 5'\n",
      "\n",
      "5' CATCTTACGGATGGCATGACAGTAAGAGAATTATGCAGTGCTGCCATAACCATGAGTGATAACACTGCGG 3'\n",
      "3' GTAGAATGCCTACCGTACTGTCATTCTCTTAATACGTCACGACGGTATTGGTACTCACTATTGTGACGCC 5'\n",
      "\n",
      "5' CCAACTTACTTCTGACAACGATCGGAGGACCGAAGGAGCTAACCGCTTTTTTGCACAACATGGGGGATCA 3'\n",
      "3' GGTTGAATGAAGACTGTTGCTAGCCTCCTGGCTTCCTCGATTGGCGAAAAAACGTGTTGTACCCCCTAGT 5'\n",
      "\n",
      "5' TGTAACTCGCCTTGATCGTTGGGAACCGGAGCTGAATGAAGCCATACCAAACGACGAGCGTGACACCACG 3'\n",
      "3' ACATTGAGCGGAACTAGCAACCCTTGGCCTCGACTTACTTCGGTATGGTTTGCTGCTCGCACTGTGGTGC 5'\n",
      "\n",
      "5' ATGCCTGTAGCAATGGCAACAACGTTGCGCAAACTATTAACTGGCGAACTACTTACTCTAGCTTCCCGGC 3'\n",
      "3' TACGGACATCGTTACCGTTGTTGCAACGCGTTTGATAATTGACCGCTTGATGAATGAGATCGAAGGGCCG 5'\n",
      "\n",
      "5' AACAATTAATAGACTGGATGGAGGCGGATAAAGTTGCAGGACCACTTCTGCGCTCGGCCCTTCCGGCTGG 3'\n",
      "3' TTGTTAATTATCTGACCTACCTCCGCCTATTTCAACGTCCTGGTGAAGACGCGAGCCGGGAAGGCCGACC 5'\n",
      "\n",
      "5' CTGGTTTATTGCTGATAAATCTGGAGCCGGTGAGCGTGGGTCTCGCGGTATCATTGCAGCACTGGGGCCA 3'\n",
      "3' GACCAAATAACGACTATTTAGACCTCGGCCACTCGCACCCAGAGCGCCATAGTAACGTCGTGACCCCGGT 5'\n",
      "\n",
      "5' GATGGTAAGCCCTCCCGTATCGTAGTTATCTACACGACGGGGAGTCAGGCAACTATGGATGAACGAAATA 3'\n",
      "3' CTACCATTCGGGAGGGCATAGCATCAATAGATGTGCTGCCCCTCAGTCCGTTGATACCTACTTGCTTTAT 5'\n",
      "\n",
      "5' GACAGATCGCTGAGATAGGTGCCTCACTGATTAAGCATTGGTAACTGTCAGACCAAGTTTACTCATATAT 3'\n",
      "3' CTGTCTAGCGACTCTATCCACGGAGTGACTAATTCGTAACCATTGACAGTCTGGTTCAAATGAGTATATA 5'\n",
      "\n",
      "5' ACTTTAGATTGATTTAAAACTTCATTTTTAATTTAAAAGGATCTAGGTGAAGATCCTTTTTGATAATCTC 3'\n",
      "3' TGAAATCTAACTAAATTTTGAAGTAAAAATTAAATTTTCCTAGATCCACTTCTAGGAAAAACTATTAGAG 5'\n",
      "\n",
      "5' ATGACCAAAATCCCTTAACGTGAGTTTTCGTTCCACTGAGCGTCAGACCCCGTAGAAAAGATCAAAGGAT 3'\n",
      "3' TACTGGTTTTAGGGAATTGCACTCAAAAGCAAGGTGACTCGCAGTCTGGGGCATCTTTTCTAGTTTCCTA 5'\n",
      "\n",
      "5' CTTCTTGAGATCCTTTTTTTCTGCGCGTAATCTGCTGCTTGCAAACAAAAAAACCACCGCTACCAGCGGT 3'\n",
      "3' GAAGAACTCTAGGAAAAAAAGACGCGCATTAGACGACGAACGTTTGTTTTTTTGGTGGCGATGGTCGCCA 5'\n",
      "\n",
      "5' GGTTTGTTTGCCGGATCAAGAGCTACCAACTCTTTTTCCGAAGGTAACTGGCTTCAGCAGAGCGCAGATA 3'\n",
      "3' CCAAACAAACGGCCTAGTTCTCGATGGTTGAGAAAAAGGCTTCCATTGACCGAAGTCGTCTCGCGTCTAT 5'\n",
      "\n",
      "5' CCAAATACTGTTCTTCTAGTGTAGCCGTAGTTAGGCCACCACTTCAAGAACTCTGTAGCACCGCCTACAT 3'\n",
      "3' GGTTTATGACAAGAAGATCACATCGGCATCAATCCGGTGGTGAAGTTCTTGAGACATCGTGGCGGATGTA 5'\n",
      "\n",
      "5' ACCTCGCTCTGCTAATCCTGTTACCAGTGGCTGCTGCCAGTGGCGATAAGTCGTGTCTTACCGGGTTGGA 3'\n",
      "3' TGGAGCGAGACGATTAGGACAATGGTCACCGACGACGGTCACCGCTATTCAGCACAGAATGGCCCAACCT 5'\n",
      "\n",
      "5' CTCAAGACGATAGTTACCGGATAAGGCGCAGCGGTCGGGCTGAACGGGGGGTTCGTGCACACAGCCCAGC 3'\n",
      "3' GAGTTCTGCTATCAATGGCCTATTCCGCGTCGCCAGCCCGACTTGCCCCCCAAGCACGTGTGTCGGGTCG 5'\n",
      "\n",
      "5' TTGGAGCGAACGACCTACACCGAACT 3'\n",
      "3' AACCTCGCTTGCTGGATGTGGCTTGA 5'\n",
      "\n",
      "\n"
     ]
    }
   ],
   "source": [
    "#Example code 4-1: Print a double-strand DNA sequence with sticky ends\n",
    "brick = DNA(record=\"pUC19.gbk\")\n",
    "brick.printdnaseq(linebreak=70)"
   ]
  },
  {
   "cell_type": "code",
   "execution_count": 7,
   "metadata": {},
   "outputs": [
    {
     "name": "stdout",
     "output_type": "stream",
     "text": [
      "feature ID  qualifier:note                                              \n",
      "100         pBR322 origin, forward primer                               \n",
      "200         L4440 vector, forward primer                                \n",
      "600         In lacZ gene                                                \n",
      "700         common sequencing primer, one of multiple similar variants  \n",
      "800         In lacZ gene. Also called M13-rev                           \n",
      "1100        In lacZ gene. Also called M13-F20 or M13 (-21) Forward      \n",
      "1200        common sequencing primer, one of multiple similar variants  \n",
      "1300        In lacZ gene                                                \n",
      "1400        pRS vectors, use to sequence yeast selectable marker        \n",
      "1500        pGEX vectors, reverse primer                                \n",
      "1600        pBR322 vectors, upsteam of EcoRI site, forward primer       \n",
      "1900        Ampicillin resistance gene, reverse primer                  \n",
      "\n"
     ]
    }
   ],
   "source": [
    "brick.printfeature(feature_type=[\"primer_bind\"], attribute=[\"feature ID\",\"qualifier:note\"], detail=False)"
   ]
  },
  {
   "cell_type": "code",
   "execution_count": 8,
   "metadata": {},
   "outputs": [
    {
     "name": "stdout",
     "output_type": "stream",
     "text": [
      "feature ID  qualifier:label  feature type  start position  end position  strand  qualifier:note                                              sequence                 \n",
      "100         pBR322ori-F      primer_bind   117             137           +       pBR322 origin, forward primer                               GGGAAACGCCTGGTATCTTT     \n",
      "200         L4440            primer_bind   370             388           +       L4440 vector, forward primer                                AGCGAGTCAGTGAGCGAG       \n",
      "600         M13/pUC Reverse  primer_bind   583             606           +       In lacZ gene                                                AGCGGATAACAATTTCACACAGG  \n",
      "700         M13 rev          primer_bind   602             619           +       common sequencing primer, one of multiple similar variants  CAGGAAACAGCTATGAC        \n",
      "800         M13 Reverse      primer_bind   602             619           +       In lacZ gene. Also called M13-rev                           CAGGAAACAGCTATGAC        \n",
      "1100        M13 Forward      primer_bind   688             706           -       In lacZ gene. Also called M13-F20 or M13 (-21) Forward      TGTAAAACGACGGCCAGT       \n",
      "1200        M13 fwd          primer_bind   688             705           -       common sequencing primer, one of multiple similar variants  GTAAAACGACGGCCAGT        \n",
      "1300        M13/pUC Forward  primer_bind   697             720           -       In lacZ gene                                                CCCAGTCACGACGTTGTAAAACG  \n",
      "1400        pRS-marker       primer_bind   913             933           -       pRS vectors, use to sequence yeast selectable marker        CGGCATCAGAGCAGATTGTA     \n",
      "1500        pGEX 3'          primer_bind   1032            1055          +       pGEX vectors, reverse primer                                CCGGGAGCTGCATGTGTCAGAGG  \n",
      "1600        pBRforEco        primer_bind   1092            1111          -       pBR322 vectors, upsteam of EcoRI site, forward primer       AATAGGCGTATCACGAGGC      \n",
      "1900        Amp-R            primer_bind   1501            1521          -       Ampicillin resistance gene, reverse primer                  ATAATACCGCGCCACATAGC     \n",
      "\n"
     ]
    }
   ],
   "source": [
    "brick.printfeature(feature_type=[\"primer_bind\"], attribute=[\"$DEFAULT\",\"qualifier:note\",\"sequence\"], detail=False)"
   ]
  },
  {
   "cell_type": "code",
   "execution_count": 9,
   "metadata": {},
   "outputs": [
    {
     "name": "stdout",
     "output_type": "stream",
     "text": [
      "[(661, 667, 1), (661, 667, -1)]\n"
     ]
    }
   ],
   "source": [
    "brick.finddna(\"GGATCC\")\n",
    "print([(b.subject.start,b.subject.end,b.subject.strand) for b in brick.finddna(\"GGATCC\")])"
   ]
  },
  {
   "cell_type": "code",
   "execution_count": 10,
   "metadata": {},
   "outputs": [
    {
     "name": "stdout",
     "output_type": "stream",
     "text": [
      "[(661, 667), (661, 667), (62, 69), (1000, 1007), (1423, 1430), (2316, 2323), (203, 209), (242, 248), (1181, 1187), (1222, 1228), (1441, 1446), (1744, 1749), (1771, 1777), (1982, 1988), (2221, 2226), (2306, 2311), (2392, 2397), (2316, 2323), (1423, 1430), (1000, 1007), (62, 69), (2392, 2397), (2306, 2311), (2221, 2226), (2208, 2213), (1982, 1988), (1771, 1777), (1441, 1446), (1222, 1228), (1181, 1187), (242, 248), (203, 209), (1706, 1711), (1928, 1933), (2208, 2213), (1928, 1933), (1744, 1749), (1706, 1711)]\n"
     ]
    }
   ],
   "source": [
    "print([(b.subject.start,b.subject.end) for b in brick.finddna(\"GGATCC\", max_mismatch=1)])"
   ]
  },
  {
   "cell_type": "code",
   "execution_count": 11,
   "metadata": {},
   "outputs": [
    {
     "name": "stdout",
     "output_type": "stream",
     "text": [
      "CCCGAAGGGAGAAAGGCGGACAGG\t40\t64\t1\n",
      "GCCAGCAACGCGGCCTTTTTACGG\t220\t244\t1\n",
      "TCCGGGAGCTGCATGTGTCAGAGG\t1031\t1055\t1\n",
      "ACCGAAACGCGCGAGACGAAAGGG\t1069\t1093\t1\n",
      "ACCGCTTTTTTGCACAACATGGGG\t1721\t1745\t1\n",
      "TCCCGGCAACAATTAATAGACTGG\t1883\t1907\t1\n",
      "ACCGGATAAGGCGCAGCGGTCGGG\t2605\t2629\t1\n",
      "GCCCGACCGCTGCGCCTTATCCGG\t2606\t2630\t-1\n",
      "TCCAGTCTATTAATTGTTGCCGGG\t1884\t1908\t-1\n",
      "CCCCCATGTTGTGCAAAAAAGCGG\t1722\t1746\t-1\n",
      "GCCCTTTCGTCTCGCGCGTTTCGG\t1070\t1094\t-1\n",
      "ACCTCTGACACATGCAGCTCCCGG\t1032\t1056\t-1\n",
      "ACCGTAAAAAGGCCGCGTTGCTGG\t221\t245\t-1\n",
      "ACCTGTCCGCCTTTCTCCCTTCGG\t41\t65\t-1\n"
     ]
    }
   ],
   "source": [
    "for b in brick.finddna(\"[ATGC]CC[ATGC]{18}[ATGC]GG\"):\n",
    "    print(b.seq, b.subject.start, b.subject.end, b.subject.strand, sep=\"\\t\") "
   ]
  },
  {
   "cell_type": "code",
   "execution_count": 12,
   "metadata": {},
   "outputs": [],
   "source": [
    "cds_list = brick.finddna(query=\"CDS\", attribute=\"feature type\")"
   ]
  },
  {
   "cell_type": "code",
   "execution_count": 13,
   "metadata": {},
   "outputs": [
    {
     "name": "stdout",
     "output_type": "stream",
     "text": [
      "[(614, 938, 1), (1283, 2144, 1)]\n"
     ]
    }
   ],
   "source": [
    "cds_list = brick.finddna(query=\"[CA]DS\",  attribute=\"feature type\")\n",
    "print([(cds.subject.start,cds.subject.end,cds.subject.strand) for cds in cds_list])"
   ]
  },
  {
   "cell_type": "code",
   "execution_count": 14,
   "metadata": {},
   "outputs": [
    {
     "name": "stdout",
     "output_type": "stream",
     "text": [
      "1031 1055 1\n",
      "1069 1093 1\n",
      "1070 1094 -1\n",
      "1032 1056 -1\n"
     ]
    }
   ],
   "source": [
    "for b in brick.finddna(\"[ATGC]CC[ATGC]{18}[ATGC]GG\", attribute=\"sequence:|1000..1500|\"):\n",
    "    print(b.subject.start, b.subject.end, b.subject.strand) "
   ]
  },
  {
   "cell_type": "code",
   "execution_count": 9,
   "metadata": {},
   "outputs": [
    {
     "name": "stdout",
     "output_type": "stream",
     "text": [
      "Feature_ID  Label  Type          Start  End  Strand  Seq                                                        \n",
      "1000        MCS    misc_feature  631    688  +       AAGCTTGCATGCCTGCAGGTCGACTCTAGAGGATCCCCGGGTACCGAGCTCGAATTC  \n",
      "\n"
     ]
    }
   ],
   "source": [
    "brick.printdnafeature(feature_key=[\"misc_feature\"], with_seq=True)"
   ]
  },
  {
   "cell_type": "code",
   "execution_count": 10,
   "metadata": {},
   "outputs": [
    {
     "name": "stdout",
     "output_type": "stream",
     "text": [
      "Feature_ID  Label  Type          Start  End  Strand  Seq                                                        \n",
      "101         feat1  misc_feature  200    220  +       GGCGGAGCCTATGGAAAAAC                                       \n",
      "1000        MCS    misc_feature  631    688  +       AAGCTTGCATGCCTGCAGGTCGACTCTAGAGGATCCCCGGGTACCGAGCTCGAATTC  \n",
      "1901        feat2  misc_feature  2650   10   +       ACAGCCCAGCTTGGAGCGAACGACCTACACCGAACTGAGATACCTA             \n",
      "\n"
     ]
    }
   ],
   "source": [
    "brick.adddnafeature(200, 220, qualifiers={\"label\":\"feat1\"}) \n",
    "brick.adddnafeature(2650, 10, qualifiers={\"label\":\"feat2\"}) #feat on origin\n",
    "brick.printdnafeature(feature_key=[\"misc_feature\"], with_seq=True)"
   ]
  },
  {
   "cell_type": "code",
   "execution_count": 11,
   "metadata": {},
   "outputs": [
    {
     "name": "stdout",
     "output_type": "stream",
     "text": [
      "Feature_ID  Label  Type          Start  End  Strand  Seq                                                        \n",
      "1000        MCS    misc_feature  631    688  +       AAGCTTGCATGCCTGCAGGTCGACTCTAGAGGATCCCCGGGTACCGAGCTCGAATTC  \n",
      "1901        feat2  misc_feature  2650   10   +       ACAGCCCAGCTTGGAGCGAACGACCTACACCGAACTGAGATACCTA             \n",
      "\n"
     ]
    }
   ],
   "source": [
    "brick.removednafeature(\"101\")\n",
    "brick.printdnafeature(feature_key=[\"misc_feature\"], with_seq=True)"
   ]
  },
  {
   "cell_type": "code",
   "execution_count": 12,
   "metadata": {},
   "outputs": [
    {
     "name": "stdout",
     "output_type": "stream",
     "text": [
      "2686 1686 1000\n",
      "Feature_ID  Label                  Type    Start  End   Strand  \n",
      "100         pUC19:2001..1000:2686  source  0      1686  +       \n",
      "\n",
      "Feature_ID  Label                  Type    Start  End   Strand  \n",
      "0           pUC19:1001..2000:2686  source  0      1000  +       \n",
      "\n"
     ]
    }
   ],
   "source": [
    "sub_brick1, sub_brick2 = cutdna(brick ,1000, 2000)\n",
    "print(len(brick.seq), len(sub_brick1.seq), len(sub_brick2.seq))\n",
    "sub_brick1.printdnafeature(feature_key=[\"source\"])\n",
    "sub_brick2.printdnafeature(feature_key=[\"source\"])"
   ]
  },
  {
   "cell_type": "code",
   "execution_count": 13,
   "metadata": {},
   "outputs": [
    {
     "name": "stdout",
     "output_type": "stream",
     "text": [
      "Feature_ID  Label             Type          Start  End   Strand  \n",
      "0           pUC19             source        0      2686  +       \n",
      "100         pBR322ori-F       primer_bind   117    137   +       \n",
      "200         L4440             primer_bind   370    388   +       \n",
      "300         CAP binding site  protein_bind  504    526   +       \n",
      "400         lac promoter      promoter      540    571   +       \n",
      "500         lac operator      protein_bind  578    595   +       \n",
      "600         M13/pUC Reverse   primer_bind   583    606   +       \n",
      "700         M13 rev           primer_bind   602    619   +       \n",
      "800         M13 Reverse       primer_bind   602    619   +       \n",
      "900         lacZ-alpha        CDS           614    938   +       \n",
      "1000        MCS               misc_feature  631    688   +       \n",
      "1100        M13 Forward       primer_bind   688    706   -       \n",
      "1200        M13 fwd           primer_bind   688    705   -       \n",
      "1300        M13/pUC Forward   primer_bind   697    720   -       \n",
      "1400        pRS-marker        primer_bind   913    933   -       \n",
      "1500        pGEX 3'           primer_bind   1032   1055  +       \n",
      "1600        pBRforEco         primer_bind   1092   1111  -       \n",
      "1700        AmpR promoter     promoter      1178   1283  +       \n",
      "1800        AmpR              CDS           1283   2144  +       \n",
      "1900        Amp-R             primer_bind   1501   1521  -       \n",
      "2000        ori               rep_origin    2314   217   +       \n",
      "1901        feat2             misc_feature  2650   10    +       \n",
      "\n",
      "\n",
      "Feature_ID  Label                  Type         Start  End   Strand  \n",
      "0           pUC19:1001..2000:2686  source       0      1000  +       \n",
      "1500        pGEX 3'                primer_bind  32     55    +       \n",
      "1600        pBRforEco              primer_bind  92     111   -       \n",
      "1700        AmpR promoter          promoter     178    283   +       \n",
      "1800        AmpR:1..717:861        CDS          283    1000  +       \n",
      "1900        Amp-R                  primer_bind  501    521   -       \n",
      "\n"
     ]
    }
   ],
   "source": [
    "sub_brick = cropdna(brick, 1000, 2000,)\n",
    "brick.printdnafeature() \n",
    "print()\n",
    "sub_brick.printdnafeature() "
   ]
  },
  {
   "cell_type": "code",
   "execution_count": 14,
   "metadata": {},
   "outputs": [
    {
     "name": "stdout",
     "output_type": "stream",
     "text": [
      "Feature_ID  Label            Type         Start  End   Strand  Seq                      \n",
      "100         pBR322ori-F      primer_bind  117    137   +       GGGAAACGCCTGGTATCTTT     \n",
      "200         L4440            primer_bind  370    388   +       AGCGAGTCAGTGAGCGAG       \n",
      "600         M13/pUC Reverse  primer_bind  583    606   +       AGCGGATAACAATTTCACACAGG  \n",
      "700         M13 rev          primer_bind  602    619   +       CAGGAAACAGCTATGAC        \n",
      "800         M13 Reverse      primer_bind  602    619   +       CAGGAAACAGCTATGAC        \n",
      "1100        M13 Forward      primer_bind  688    706   -       TGTAAAACGACGGCCAGT       \n",
      "1200        M13 fwd          primer_bind  688    705   -       GTAAAACGACGGCCAGT        \n",
      "1300        M13/pUC Forward  primer_bind  697    720   -       CCCAGTCACGACGTTGTAAAACG  \n",
      "1400        pRS-marker       primer_bind  913    933   -       CGGCATCAGAGCAGATTGTA     \n",
      "1500        pGEX 3'          primer_bind  1032   1055  +       CCGGGAGCTGCATGTGTCAGAGG  \n",
      "1600        pBRforEco        primer_bind  1092   1111  -       AATAGGCGTATCACGAGGC      \n",
      "1900        Amp-R            primer_bind  1501   1521  -       ATAATACCGCGCCACATAGC     \n",
      "\n",
      "\n",
      "5' CAGGAAACAGCTATGACCATGATTACGCCAAGCTTGCATGCCTGCAGGTCGACTCTAGAGGATCCCCGGGTACCGAGCTCGAATTCACTGGCCGTCGTTTTACA 3'\n",
      "3' GTCCTTTGTCGATACTGGTACTAATGCGGTTCGAACGTACGGACGTCCAGCTGAGATCTCCTAGGGGCCCATGGCTCGAGCTTAAGTGACCGGCAGCAAAATGT 5'\n",
      "\n",
      "Feature_ID  Label                      Type          Start  End  Strand  \n",
      "0           pUC19:603..706:2686        source        0      104  +       \n",
      "600         M13/pUC Reverse:20..23:23  primer_bind   0      4    +       \n",
      "700         M13 rev                    primer_bind   0      17   +       \n",
      "800         M13 Reverse                primer_bind   0      17   +       \n",
      "900         lacZ-alpha:1..92:324       CDS           12     104  +       \n",
      "1000        MCS                        misc_feature  29     86   +       \n",
      "1100        M13 Forward                primer_bind   86     104  -       \n",
      "1200        M13 fwd                    primer_bind   86     103  -       \n",
      "1300        M13/pUC Forward:9..1:23    primer_bind   95     104  -       \n",
      "\n"
     ]
    }
   ],
   "source": [
    "brick.printdnafeature(feature_key=[\"primer_bind\"], with_seq=True)\n",
    "print()\n",
    "sub_brick = cropdna(brick,brick.finddna(\"800\")[0].sstart,brick.finddna(\"1100\")[0].send)\n",
    "sub_brick.printdnaseq(whole=True)\n",
    "sub_brick.printdnafeature() "
   ]
  },
  {
   "cell_type": "code",
   "execution_count": 15,
   "metadata": {},
   "outputs": [
    {
     "name": "stdout",
     "output_type": "stream",
     "text": [
      "5' ACGAGGGAGCTTCCAGGGGG 3'\n",
      "3' TGCTCCCTCGAAGGTCCCCC 5'\n",
      "\n",
      "5' ACGAGGGAGCTTCCAGGGGG 3'\n",
      "3' TGCTCCCTCGAAGGTCCCCC 5'\n",
      "\n",
      "5' ----GGGAGCTTCCAGGGGG 3'\n",
      "3' TGCTCCCTCGAAGGTCCC-- 5'\n",
      "\n",
      "5' ----GGACGAGGGAGCTTCCAGGGGG 3'\n",
      "3' CCCCCCTGCTCCCTCGAAGGTCCC-- 5'\n",
      "\n"
     ]
    }
   ],
   "source": [
    "sub_brick = cropdna(brick, 100, 120)\n",
    "sub_brick.printdnaseq()\n",
    "sub_brick_m = modifyends(sub_brick, \"\" ,\"\")\n",
    "sub_brick_m.printdnaseq()\n",
    "sub_brick_m = modifyends(sub_brick,\"----**/******\", \"******/****--\")\n",
    "sub_brick_m.printdnaseq()\n",
    "sub_brick_m = modifyends(sub_brick,\"----GG/CCCCCC\", \"******/****--\")\n",
    "sub_brick_m.printdnaseq()"
   ]
  },
  {
   "cell_type": "code",
   "execution_count": 16,
   "metadata": {},
   "outputs": [
    {
     "name": "stdout",
     "output_type": "stream",
     "text": [
      "5' ACGAGGGAGCTTCCAGGGGG 3'\n",
      "3' TGCTCCCTCGAAGGTCCCCC 5'\n",
      "\n"
     ]
    },
    {
     "ename": "TypeError",
     "evalue": "Please sepcify a proper sequence pattern for the 'left' argument",
     "output_type": "error",
     "traceback": [
      "\u001b[0;31m---------------------------------------------------------------------------\u001b[0m",
      "\u001b[0;31mTypeError\u001b[0m                                 Traceback (most recent call last)",
      "\u001b[0;32m<ipython-input-16-7fa3a75e4837>\u001b[0m in \u001b[0;36m<module>\u001b[0;34m\u001b[0m\n\u001b[1;32m      1\u001b[0m \u001b[0msub_brick\u001b[0m \u001b[0;34m=\u001b[0m \u001b[0mcropdna\u001b[0m\u001b[0;34m(\u001b[0m\u001b[0mbrick\u001b[0m\u001b[0;34m,\u001b[0m \u001b[0;36m100\u001b[0m\u001b[0;34m,\u001b[0m \u001b[0;36m120\u001b[0m\u001b[0;34m)\u001b[0m\u001b[0;34m\u001b[0m\u001b[0;34m\u001b[0m\u001b[0m\n\u001b[1;32m      2\u001b[0m \u001b[0msub_brick\u001b[0m\u001b[0;34m.\u001b[0m\u001b[0mprintdnaseq\u001b[0m\u001b[0;34m(\u001b[0m\u001b[0;34m)\u001b[0m\u001b[0;34m\u001b[0m\u001b[0;34m\u001b[0m\u001b[0m\n\u001b[0;32m----> 3\u001b[0;31m \u001b[0msub_brick\u001b[0m \u001b[0;34m=\u001b[0m \u001b[0mmodifyends\u001b[0m\u001b[0;34m(\u001b[0m\u001b[0msub_brick\u001b[0m\u001b[0;34m,\u001b[0m \u001b[0;34m\"******/****--\"\u001b[0m\u001b[0;34m,\u001b[0m \u001b[0;34m\"----**/******\"\u001b[0m\u001b[0;34m)\u001b[0m\u001b[0;34m\u001b[0m\u001b[0;34m\u001b[0m\u001b[0m\n\u001b[0m\u001b[1;32m      4\u001b[0m \u001b[0msub_brick\u001b[0m\u001b[0;34m.\u001b[0m\u001b[0mprintdnaseq\u001b[0m\u001b[0;34m(\u001b[0m\u001b[0;34m)\u001b[0m\u001b[0;34m\u001b[0m\u001b[0;34m\u001b[0m\u001b[0m\n",
      "\u001b[0;32m~/Dropbox (Yachie Lab)/HIDETO_MORI.LAB/Experiments/Project/Dbrick/github/dna.py\u001b[0m in \u001b[0;36mmodifyends\u001b[0;34m(dna, left, right, add, add_right, add_left)\u001b[0m\n\u001b[1;32m    599\u001b[0m         \u001b[0;32mpass\u001b[0m\u001b[0;34m\u001b[0m\u001b[0;34m\u001b[0m\u001b[0m\n\u001b[1;32m    600\u001b[0m     \u001b[0;32melse\u001b[0m\u001b[0;34m:\u001b[0m\u001b[0;34m\u001b[0m\u001b[0;34m\u001b[0m\u001b[0m\n\u001b[0;32m--> 601\u001b[0;31m         \u001b[0;32mraise\u001b[0m \u001b[0mTypeError\u001b[0m\u001b[0;34m(\u001b[0m\u001b[0;34m\"Please sepcify a proper sequence pattern for the 'left' argument\"\u001b[0m\u001b[0;34m)\u001b[0m\u001b[0;34m\u001b[0m\u001b[0;34m\u001b[0m\u001b[0m\n\u001b[0m\u001b[1;32m    602\u001b[0m \u001b[0;34m\u001b[0m\u001b[0m\n\u001b[1;32m    603\u001b[0m     \u001b[0;32mif\u001b[0m \u001b[0mpattern1\u001b[0m\u001b[0;34m.\u001b[0m\u001b[0mfullmatch\u001b[0m\u001b[0;34m(\u001b[0m\u001b[0mright_end\u001b[0m\u001b[0;34m)\u001b[0m \u001b[0;34m!=\u001b[0m \u001b[0;32mNone\u001b[0m \u001b[0;32mand\u001b[0m \u001b[0mpattern2\u001b[0m\u001b[0;34m.\u001b[0m\u001b[0msearch\u001b[0m\u001b[0;34m(\u001b[0m\u001b[0mright_end\u001b[0m\u001b[0;34m)\u001b[0m \u001b[0;32mis\u001b[0m \u001b[0;32mNone\u001b[0m \u001b[0;32mand\u001b[0m \u001b[0mpatternr1\u001b[0m\u001b[0;34m.\u001b[0m\u001b[0msearch\u001b[0m\u001b[0;34m(\u001b[0m\u001b[0mright_end\u001b[0m\u001b[0;34m)\u001b[0m \u001b[0;32mis\u001b[0m \u001b[0;32mNone\u001b[0m \u001b[0;32mand\u001b[0m \u001b[0mpatternr2\u001b[0m\u001b[0;34m.\u001b[0m\u001b[0msearch\u001b[0m\u001b[0;34m(\u001b[0m\u001b[0mright_end\u001b[0m\u001b[0;34m)\u001b[0m \u001b[0;32mis\u001b[0m \u001b[0;32mNone\u001b[0m\u001b[0;34m:\u001b[0m\u001b[0;34m\u001b[0m\u001b[0;34m\u001b[0m\u001b[0m\n",
      "\u001b[0;31mTypeError\u001b[0m: Please sepcify a proper sequence pattern for the 'left' argument"
     ]
    }
   ],
   "source": [
    "sub_brick = cropdna(brick, 100, 120)\n",
    "sub_brick.printdnaseq()  \n",
    "sub_brick = modifyends(sub_brick, \"******/****--\", \"----**/******\")\n",
    "sub_brick.printdnaseq()"
   ]
  },
  {
   "cell_type": "code",
   "execution_count": 17,
   "metadata": {},
   "outputs": [
    {
     "name": "stdout",
     "output_type": "stream",
     "text": [
      "5' ATGTACGACGAGGGAGCTTCCAGGGGGATGCTAC 3'\n",
      "3' TACATGCTGCTCCCTCGAAGGTCCCCCTACGATG 5'\n",
      "\n"
     ]
    }
   ],
   "source": [
    "#Source code (continued from previous one)#\n",
    "sub_brick = cropdna(brick, 100, 120)\n",
    "sub_brick = modifyends(sub_brick,\"ATGTACG\",\"ATGCTAC\")\n",
    "sub_brick.printdnaseq(whole=True) "
   ]
  },
  {
   "cell_type": "code",
   "execution_count": 18,
   "metadata": {},
   "outputs": [
    {
     "name": "stdout",
     "output_type": "stream",
     "text": [
      "5' ---ATGCACGAGGGAGCTTCCAGGGGGTACG--- 3'\n",
      "3' ATGTACGTGCTCCCTCGAAGGTCCCCCATGCTAC 5'\n",
      "\n"
     ]
    }
   ],
   "source": [
    "sub_brick = cropdna(brick, 100, 120)\n",
    "sub_brick = modifyends(sub_brick,\"---ATGC/ATGTACG\",\"TACG---/ATGCTAC\")\n",
    "sub_brick.printdnaseq() "
   ]
  },
  {
   "cell_type": "code",
   "execution_count": 19,
   "metadata": {},
   "outputs": [
    {
     "name": "stdout",
     "output_type": "stream",
     "text": [
      "2686\n",
      "5' AATTCACTGG...AGCTCG---- 3'\n",
      "3' ----GTGACC...TCGAGCTTAA 5'\n",
      "\n",
      "34\n"
     ]
    }
   ],
   "source": [
    "print(len(brick.seq))\n",
    "brick_EcoRI = modifyends(cutdna(brick, brick.finddna(\"GAATTC\")[0].sstart)[0],\"-*****/-----*\",\"G----/CTTAA\")\n",
    "brick_EcoRI.printdnaseq(whole=False)\n",
    "print(len(sub_brick.seq))"
   ]
  },
  {
   "cell_type": "code",
   "execution_count": 20,
   "metadata": {},
   "outputs": [
    {
     "name": "stdout",
     "output_type": "stream",
     "text": [
      "5' GAGCTCGAATTCACTGGCCGTCGTTTTACAACGTCGTGACTGGGAAAACCCTGGCGTTACCCAACTTAATCGCCTTGCAGCACATCCCCCTTTCGCCAGCTGGCGTAATAGCGAAGAGGCCCGCACCGATCGCCCTTCCCAACAGTTGCGCAGCCTGAATGGCGAATGGCGCCTGATGCGGTATTTTCTCCTTACGCATCTGTGCGGTATTTCACACCGCATATGGTGCACTCTCAGTACAATCTGCTCTGATGCCGCATAGTTAAGCCAGCCCCGACACCCGCCAACACCCGCTGACGCGCCCTGACGGGCTTGTCTGCTCCCGGCATCCGCTTACAGACAAGCTGTGACCGTCTCCGGGAGCTGCATGTGTCAGAGGTTTTCACCGTCATCACCGAAACGCGCGAGACGAAAGGGCCTCGTGATACGCCTATTTTTATAGGTTAATGTCATGATAATAATGGTTTCTTAGACGTCAGGTGGCACTTTTCGGGGAAATGTGCGCGGAACCCCTATTTGTTTATTTTTCTAAATACATTCAAATATGTATCCGCTCATGAGACAATAACCCTGATAAATGCTTCAATAATATTGAAAAAGGAAGAGTATGAGTATTCAACATTTCCGTGTCGCCCTTATTCCCTTTTTTGCGGCATTTTGCCTTCCTGTTTTTGCTCACCCAGAAACGCTGGTGAAAGTAAAAGATGCTGAAGATCAGTTGGGTGCACGAGTGGGTTACATCGAACTGGATCTCAACAGCGGTAAGATCCTTGAGAGTTTTCGCCCCGAAGAACGTTTTCCAATGATGAGCACTTTTAAAGTTCTGCTATGTGGCGCGGTATTATCCCGTATTGACGCCGGGCAAGAGCAACTCGGTCGCCGCATACACTATTCTCAGAATGACTTGGTTGAGTACTCACCAGTCACAGAAAAGCATCTTACGGATGGCATGACAGTAAGAGAATTATGCAGTGCTGCCATAACCATGAGTGATAACACTGCGGCCAACTTACTTCTGACAACGATCGGAGGACCGAAGGAGCTAACCGCTTTTTTGCACAACATGGGGGATCATGTAACTCGCCTTGATCGTTGGGAACCGGAGCTGAATGAAGCCATACCAAACGACGAGCGTGACACCACGATGCCTGTAGCAATGGCAACAACGTTGCGCAAACTATTAACTGGCGAACTACTTACTCTAGCTTCCCGGCAACAATTAATAGACTGGATGGAGGCGGATAAAGTTGCAGGACCACTTCTGCGCTCGGCCCTTCCGGCTGGCTGGTTTATTGCTGATAAATCTGGAGCCGGTGAGCGTGGGTCTCGCGGTATCATTGCAGCACTGGGGCCAGATGGTAAGCCCTCCCGTATCGTAGTTATCTACACGACGGGGAGTCAGGCAACTATGGATGAACGAAATAGACAGATCGCTGAGATAGGTGCCTCACTGATTAAGCATTGGTAACTGTCAGACCAAGTTTACTCATATATACTTTAGATTGATTTAAAACTTCATTTTTAATTTAAAAGGATCTAGGTGAAGATCCTTTTTGATAATCTCATGACCAAAATCCCTTAACGTGAGTTTTCGTTCCACTGAGCGTCAGACCCCGTAGAAAAGATCAAAGGATCTTCTTGAGATCCTTTTTTTCTGCGCGTAATCTGCTGCTTGCAAACAAAAAAACCACCGCTACCAGCGGTGGTTTGTTTGCCGGATCAAGAGCTACCAACTCTTTTTCCGAAGGTAACTGGCTTCAGCAGAGCGCAGATACCAAATACTGTTCTTCTAGTGTAGCCGTAGTTAGGCCACCACTTCAAGAACTCTGTAGCACCGCCTACATACCTCGCTCTGCTAATCCTGTTACCAGTGGCTGCTGCCAGTGGCGATAAGTCGTGTCTTACCGGGTTGGACTCAAGACGATAGTTACCGGATAAGGCGCAGCGGTCGGGCTGAACGGGGGGTTCGTGCACACAGCCCAGCTTGGAGCGAACGACCTACACCGAACTGAGATACCTACAGCGTGAGCTATGAGAAAGCGCCACGCTTCCCGAAGGGAGAAAGGCGGACAGGTATCCGGTAAGCGGCAGGGTCGGAACAGGAGAGCGCACGAGGGAGCTTCCAGGGGGAAACGCCTGGTATCTTTATAGTCCTGTCGGGTTTCGCCACCTCTGACTTGAGCGTCGATTTTTGTGATGCTCGTCAGGGGGGCGGAGCCTATGGAAAAACGCCAGCAACGCGGCCTTTTTACGGTTCCTGGCCTTTTGCTGGCCTTTTGCTCACATGTTCTTTCCTGCGTTATCCCCTGATTCTGTGGATAACCGTATTACCGCCTTTGAGTGAGCTGATACCGCTCGCCGCAGCCGAACGACCGAGCGCAGCGAGTCAGTGAGCGAGGAAGCGGAAGAGCGCCCAATACGCAAACCGCCTCTCCCCGCGCGTTGGCCGATTCATTAATGCAGCTGGCACGACAGGTTTCCCGACTGGAAAGCGGGCAGTGAGCGCAACGCAATTAATGTGAGTTAGCTCACTCATTAGGCACCCCAGGCTTTACACTTTATGCTTCCGGCTCGTATGTTGTGTGGAATTGTGAGCGGATAACAATTTCACACAGGAAACAGCTATGACCATGATTACGCCAAGCTTGCATGCCTGCAGGTCGAC 3'\n",
      "3' CTCGAGCTTAAGTGACCGGCAGCAAAATGTTGCAGCACTGACCCTTTTGGGACCGCAATGGGTTGAATTAGCGGAACGTCGTGTAGGGGGAAAGCGGTCGACCGCATTATCGCTTCTCCGGGCGTGGCTAGCGGGAAGGGTTGTCAACGCGTCGGACTTACCGCTTACCGCGGACTACGCCATAAAAGAGGAATGCGTAGACACGCCATAAAGTGTGGCGTATACCACGTGAGAGTCATGTTAGACGAGACTACGGCGTATCAATTCGGTCGGGGCTGTGGGCGGTTGTGGGCGACTGCGCGGGACTGCCCGAACAGACGAGGGCCGTAGGCGAATGTCTGTTCGACACTGGCAGAGGCCCTCGACGTACACAGTCTCCAAAAGTGGCAGTAGTGGCTTTGCGCGCTCTGCTTTCCCGGAGCACTATGCGGATAAAAATATCCAATTACAGTACTATTATTACCAAAGAATCTGCAGTCCACCGTGAAAAGCCCCTTTACACGCGCCTTGGGGATAAACAAATAAAAAGATTTATGTAAGTTTATACATAGGCGAGTACTCTGTTATTGGGACTATTTACGAAGTTATTATAACTTTTTCCTTCTCATACTCATAAGTTGTAAAGGCACAGCGGGAATAAGGGAAAAAACGCCGTAAAACGGAAGGACAAAAACGAGTGGGTCTTTGCGACCACTTTCATTTTCTACGACTTCTAGTCAACCCACGTGCTCACCCAATGTAGCTTGACCTAGAGTTGTCGCCATTCTAGGAACTCTCAAAAGCGGGGCTTCTTGCAAAAGGTTACTACTCGTGAAAATTTCAAGACGATACACCGCGCCATAATAGGGCATAACTGCGGCCCGTTCTCGTTGAGCCAGCGGCGTATGTGATAAGAGTCTTACTGAACCAACTCATGAGTGGTCAGTGTCTTTTCGTAGAATGCCTACCGTACTGTCATTCTCTTAATACGTCACGACGGTATTGGTACTCACTATTGTGACGCCGGTTGAATGAAGACTGTTGCTAGCCTCCTGGCTTCCTCGATTGGCGAAAAAACGTGTTGTACCCCCTAGTACATTGAGCGGAACTAGCAACCCTTGGCCTCGACTTACTTCGGTATGGTTTGCTGCTCGCACTGTGGTGCTACGGACATCGTTACCGTTGTTGCAACGCGTTTGATAATTGACCGCTTGATGAATGAGATCGAAGGGCCGTTGTTAATTATCTGACCTACCTCCGCCTATTTCAACGTCCTGGTGAAGACGCGAGCCGGGAAGGCCGACCGACCAAATAACGACTATTTAGACCTCGGCCACTCGCACCCAGAGCGCCATAGTAACGTCGTGACCCCGGTCTACCATTCGGGAGGGCATAGCATCAATAGATGTGCTGCCCCTCAGTCCGTTGATACCTACTTGCTTTATCTGTCTAGCGACTCTATCCACGGAGTGACTAATTCGTAACCATTGACAGTCTGGTTCAAATGAGTATATATGAAATCTAACTAAATTTTGAAGTAAAAATTAAATTTTCCTAGATCCACTTCTAGGAAAAACTATTAGAGTACTGGTTTTAGGGAATTGCACTCAAAAGCAAGGTGACTCGCAGTCTGGGGCATCTTTTCTAGTTTCCTAGAAGAACTCTAGGAAAAAAAGACGCGCATTAGACGACGAACGTTTGTTTTTTTGGTGGCGATGGTCGCCACCAAACAAACGGCCTAGTTCTCGATGGTTGAGAAAAAGGCTTCCATTGACCGAAGTCGTCTCGCGTCTATGGTTTATGACAAGAAGATCACATCGGCATCAATCCGGTGGTGAAGTTCTTGAGACATCGTGGCGGATGTATGGAGCGAGACGATTAGGACAATGGTCACCGACGACGGTCACCGCTATTCAGCACAGAATGGCCCAACCTGAGTTCTGCTATCAATGGCCTATTCCGCGTCGCCAGCCCGACTTGCCCCCCAAGCACGTGTGTCGGGTCGAACCTCGCTTGCTGGATGTGGCTTGACTCTATGGATGTCGCACTCGATACTCTTTCGCGGTGCGAAGGGCTTCCCTCTTTCCGCCTGTCCATAGGCCATTCGCCGTCCCAGCCTTGTCCTCTCGCGTGCTCCCTCGAAGGTCCCCCTTTGCGGACCATAGAAATATCAGGACAGCCCAAAGCGGTGGAGACTGAACTCGCAGCTAAAAACACTACGAGCAGTCCCCCCGCCTCGGATACCTTTTTGCGGTCGTTGCGCCGGAAAAATGCCAAGGACCGGAAAACGACCGGAAAACGAGTGTACAAGAAAGGACGCAATAGGGGACTAAGACACCTATTGGCATAATGGCGGAAACTCACTCGACTATGGCGAGCGGCGTCGGCTTGCTGGCTCGCGTCGCTCAGTCACTCGCTCCTTCGCCTTCTCGCGGGTTATGCGTTTGGCGGAGAGGGGCGCGCAACCGGCTAAGTAATTACGTCGACCGTGCTGTCCAAAGGGCTGACCTTTCGCCCGTCACTCGCGTTGCGTTAATTACACTCAATCGAGTGAGTAATCCGTGGGGTCCGAAATGTGAAATACGAAGGCCGAGCATACAACACACCTTAACACTCGCCTATTGTTAAAGTGTGTCCTTTGTCGATACTGGTACTAATGCGGTTCGAACGTACGGACGTCCAGCTG 5'\n",
      "\n",
      "5' ----CGAATTCACTGGCCGTCGTTTTACAACGTCGTGACTGGGAAAACCCTGGCGTTACCCAACTTAATCGCCTTGCAGCACATCCCCCTTTCGCCAGCTGGCGTAATAGCGAAGAGGCCCGCACCGATCGCCCTTCCCAACAGTTGCGCAGCCTGAATGGCGAATGGCGCCTGATGCGGTATTTTCTCCTTACGCATCTGTGCGGTATTTCACACCGCATATGGTGCACTCTCAGTACAATCTGCTCTGATGCCGCATAGTTAAGCCAGCCCCGACACCCGCCAACACCCGCTGACGCGCCCTGACGGGCTTGTCTGCTCCCGGCATCCGCTTACAGACAAGCTGTGACCGTCTCCGGGAGCTGCATGTGTCAGAGGTTTTCACCGTCATCACCGAAACGCGCGAGACGAAAGGGCCTCGTGATACGCCTATTTTTATAGGTTAATGTCATGATAATAATGGTTTCTTAGACGTCAGGTGGCACTTTTCGGGGAAATGTGCGCGGAACCCCTATTTGTTTATTTTTCTAAATACATTCAAATATGTATCCGCTCATGAGACAATAACCCTGATAAATGCTTCAATAATATTGAAAAAGGAAGAGTATGAGTATTCAACATTTCCGTGTCGCCCTTATTCCCTTTTTTGCGGCATTTTGCCTTCCTGTTTTTGCTCACCCAGAAACGCTGGTGAAAGTAAAAGATGCTGAAGATCAGTTGGGTGCACGAGTGGGTTACATCGAACTGGATCTCAACAGCGGTAAGATCCTTGAGAGTTTTCGCCCCGAAGAACGTTTTCCAATGATGAGCACTTTTAAAGTTCTGCTATGTGGCGCGGTATTATCCCGTATTGACGCCGGGCAAGAGCAACTCGGTCGCCGCATACACTATTCTCAGAATGACTTGGTTGAGTACTCACCAGTCACAGAAAAGCATCTTACGGATGGCATGACAGTAAGAGAATTATGCAGTGCTGCCATAACCATGAGTGATAACACTGCGGCCAACTTACTTCTGACAACGATCGGAGGACCGAAGGAGCTAACCGCTTTTTTGCACAACATGGGGGATCATGTAACTCGCCTTGATCGTTGGGAACCGGAGCTGAATGAAGCCATACCAAACGACGAGCGTGACACCACGATGCCTGTAGCAATGGCAACAACGTTGCGCAAACTATTAACTGGCGAACTACTTACTCTAGCTTCCCGGCAACAATTAATAGACTGGATGGAGGCGGATAAAGTTGCAGGACCACTTCTGCGCTCGGCCCTTCCGGCTGGCTGGTTTATTGCTGATAAATCTGGAGCCGGTGAGCGTGGGTCTCGCGGTATCATTGCAGCACTGGGGCCAGATGGTAAGCCCTCCCGTATCGTAGTTATCTACACGACGGGGAGTCAGGCAACTATGGATGAACGAAATAGACAGATCGCTGAGATAGGTGCCTCACTGATTAAGCATTGGTAACTGTCAGACCAAGTTTACTCATATATACTTTAGATTGATTTAAAACTTCATTTTTAATTTAAAAGGATCTAGGTGAAGATCCTTTTTGATAATCTCATGACCAAAATCCCTTAACGTGAGTTTTCGTTCCACTGAGCGTCAGACCCCGTAGAAAAGATCAAAGGATCTTCTTGAGATCCTTTTTTTCTGCGCGTAATCTGCTGCTTGCAAACAAAAAAACCACCGCTACCAGCGGTGGTTTGTTTGCCGGATCAAGAGCTACCAACTCTTTTTCCGAAGGTAACTGGCTTCAGCAGAGCGCAGATACCAAATACTGTTCTTCTAGTGTAGCCGTAGTTAGGCCACCACTTCAAGAACTCTGTAGCACCGCCTACATACCTCGCTCTGCTAATCCTGTTACCAGTGGCTGCTGCCAGTGGCGATAAGTCGTGTCTTACCGGGTTGGACTCAAGACGATAGTTACCGGATAAGGCGCAGCGGTCGGGCTGAACGGGGGGTTCGTGCACACAGCCCAGCTTGGAGCGAACGACCTACACCGAACTGAGATACCTACAGCGTGAGCTATGAGAAAGCGCCACGCTTCCCGAAGGGAGAAAGGCGGACAGGTATCCGGTAAGCGGCAGGGTCGGAACAGGAGAGCGCACGAGGGAGCTTCCAGGGGGAAACGCCTGGTATCTTTATAGTCCTGTCGGGTTTCGCCACCTCTGACTTGAGCGTCGATTTTTGTGATGCTCGTCAGGGGGGCGGAGCCTATGGAAAAACGCCAGCAACGCGGCCTTTTTACGGTTCCTGGCCTTTTGCTGGCCTTTTGCTCACATGTTCTTTCCTGCGTTATCCCCTGATTCTGTGGATAACCGTATTACCGCCTTTGAGTGAGCTGATACCGCTCGCCGCAGCCGAACGACCGAGCGCAGCGAGTCAGTGAGCGAGGAAGCGGAAGAGCGCCCAATACGCAAACCGCCTCTCCCCGCGCGTTGGCCGATTCATTAATGCAGCTGGCACGACAGGTTTCCCGACTGGAAAGCGGGCAGTGAGCGCAACGCAATTAATGTGAGTTAGCTCACTCATTAGGCACCCCAGGCTTTACACTTTATGCTTCCGGCTCGTATGTTGTGTGGAATTGTGAGCGGATAACAATTTCACACAGGAAACAGCTATGACCATGATTACGCCAAGCTTGCATGCCTGCAGG---- 3'\n",
      "3' TCGAGCTTAAGTGACCGGCAGCAAAATGTTGCAGCACTGACCCTTTTGGGACCGCAATGGGTTGAATTAGCGGAACGTCGTGTAGGGGGAAAGCGGTCGACCGCATTATCGCTTCTCCGGGCGTGGCTAGCGGGAAGGGTTGTCAACGCGTCGGACTTACCGCTTACCGCGGACTACGCCATAAAAGAGGAATGCGTAGACACGCCATAAAGTGTGGCGTATACCACGTGAGAGTCATGTTAGACGAGACTACGGCGTATCAATTCGGTCGGGGCTGTGGGCGGTTGTGGGCGACTGCGCGGGACTGCCCGAACAGACGAGGGCCGTAGGCGAATGTCTGTTCGACACTGGCAGAGGCCCTCGACGTACACAGTCTCCAAAAGTGGCAGTAGTGGCTTTGCGCGCTCTGCTTTCCCGGAGCACTATGCGGATAAAAATATCCAATTACAGTACTATTATTACCAAAGAATCTGCAGTCCACCGTGAAAAGCCCCTTTACACGCGCCTTGGGGATAAACAAATAAAAAGATTTATGTAAGTTTATACATAGGCGAGTACTCTGTTATTGGGACTATTTACGAAGTTATTATAACTTTTTCCTTCTCATACTCATAAGTTGTAAAGGCACAGCGGGAATAAGGGAAAAAACGCCGTAAAACGGAAGGACAAAAACGAGTGGGTCTTTGCGACCACTTTCATTTTCTACGACTTCTAGTCAACCCACGTGCTCACCCAATGTAGCTTGACCTAGAGTTGTCGCCATTCTAGGAACTCTCAAAAGCGGGGCTTCTTGCAAAAGGTTACTACTCGTGAAAATTTCAAGACGATACACCGCGCCATAATAGGGCATAACTGCGGCCCGTTCTCGTTGAGCCAGCGGCGTATGTGATAAGAGTCTTACTGAACCAACTCATGAGTGGTCAGTGTCTTTTCGTAGAATGCCTACCGTACTGTCATTCTCTTAATACGTCACGACGGTATTGGTACTCACTATTGTGACGCCGGTTGAATGAAGACTGTTGCTAGCCTCCTGGCTTCCTCGATTGGCGAAAAAACGTGTTGTACCCCCTAGTACATTGAGCGGAACTAGCAACCCTTGGCCTCGACTTACTTCGGTATGGTTTGCTGCTCGCACTGTGGTGCTACGGACATCGTTACCGTTGTTGCAACGCGTTTGATAATTGACCGCTTGATGAATGAGATCGAAGGGCCGTTGTTAATTATCTGACCTACCTCCGCCTATTTCAACGTCCTGGTGAAGACGCGAGCCGGGAAGGCCGACCGACCAAATAACGACTATTTAGACCTCGGCCACTCGCACCCAGAGCGCCATAGTAACGTCGTGACCCCGGTCTACCATTCGGGAGGGCATAGCATCAATAGATGTGCTGCCCCTCAGTCCGTTGATACCTACTTGCTTTATCTGTCTAGCGACTCTATCCACGGAGTGACTAATTCGTAACCATTGACAGTCTGGTTCAAATGAGTATATATGAAATCTAACTAAATTTTGAAGTAAAAATTAAATTTTCCTAGATCCACTTCTAGGAAAAACTATTAGAGTACTGGTTTTAGGGAATTGCACTCAAAAGCAAGGTGACTCGCAGTCTGGGGCATCTTTTCTAGTTTCCTAGAAGAACTCTAGGAAAAAAAGACGCGCATTAGACGACGAACGTTTGTTTTTTTGGTGGCGATGGTCGCCACCAAACAAACGGCCTAGTTCTCGATGGTTGAGAAAAAGGCTTCCATTGACCGAAGTCGTCTCGCGTCTATGGTTTATGACAAGAAGATCACATCGGCATCAATCCGGTGGTGAAGTTCTTGAGACATCGTGGCGGATGTATGGAGCGAGACGATTAGGACAATGGTCACCGACGACGGTCACCGCTATTCAGCACAGAATGGCCCAACCTGAGTTCTGCTATCAATGGCCTATTCCGCGTCGCCAGCCCGACTTGCCCCCCAAGCACGTGTGTCGGGTCGAACCTCGCTTGCTGGATGTGGCTTGACTCTATGGATGTCGCACTCGATACTCTTTCGCGGTGCGAAGGGCTTCCCTCTTTCCGCCTGTCCATAGGCCATTCGCCGTCCCAGCCTTGTCCTCTCGCGTGCTCCCTCGAAGGTCCCCCTTTGCGGACCATAGAAATATCAGGACAGCCCAAAGCGGTGGAGACTGAACTCGCAGCTAAAAACACTACGAGCAGTCCCCCCGCCTCGGATACCTTTTTGCGGTCGTTGCGCCGGAAAAATGCCAAGGACCGGAAAACGACCGGAAAACGAGTGTACAAGAAAGGACGCAATAGGGGACTAAGACACCTATTGGCATAATGGCGGAAACTCACTCGACTATGGCGAGCGGCGTCGGCTTGCTGGCTCGCGTCGCTCAGTCACTCGCTCCTTCGCCTTCTCGCGGGTTATGCGTTTGGCGGAGAGGGGCGCGCAACCGGCTAAGTAATTACGTCGACCGTGCTGTCCAAAGGGCTGACCTTTCGCCCGTCACTCGCGTTGCGTTAATTACACTCAATCGAGTGAGTAATCCGTGGGGTCCGAAATGTGAAATACGAAGGCCGAGCATACAACACACCTTAACACTCGCCTATTGTTAAAGTGTGTCCTTTGTCGATACTGGTACTAATGCGGTTCGAACGTACGGACGTCCAGCT 5'\n",
      "\n",
      "2663\n"
     ]
    }
   ],
   "source": [
    "SacI = \"GAGCTC\"\n",
    "SalI = \"GTCGAC\"\n",
    "sub_brick = cropdna(brick, brick.finddna(SacI)[0].sstart, brick.finddna(SalI)[0].send) \n",
    "sub_brick.printdnaseq() \n",
    "sub_brick = modifyends(sub_brick, \"-----*/-*****\", \"*-----/*****-\") \n",
    "sub_brick.printdnaseq()\n",
    "print(len(sub_brick.seq))"
   ]
  },
  {
   "cell_type": "code",
   "execution_count": 21,
   "metadata": {},
   "outputs": [
    {
     "name": "stdout",
     "output_type": "stream",
     "text": [
      "5' GAGCTCATGTCCACCAACTTATCAGTGATAAAGAATCCGCGCGTTCAATCGGACCAGCGGAGGCTGGTCCGGAGGCCAGACGTGAAACCCAACATACCCCTGATCGTAATTCTGAGGTCGACTCTAGAGGATCCCCGGGTACCGGTCGCCACCATGGTGAGCAAGGGCGAGGAGCTGTTCACCGGGGTGGTGCCCATCCTGGGTCGAGCTGGACGGCGACGTAAACGGCCACAAGTTCAGCGTGTCCGGCGAGGGCGAGGGCGATGCCACCTACGGCAAGCTGACCCTGAAGTTCATCTGCACCACCGGCAAGCTGCCCGTGCCCTGGCCCACCCTCGTGACCACCCTGACCTACGGCGTGCAGTGCTTCAGCCGCTACCCCGACCACATGAAGCAGCACGACTTCTTCAAGTCCGCCATGCCCGAAGGCTACGTCCAGGAGCGCACCATCTTCTTCAAGGACGACGGCAACTACAAGACCCGCGCCGAGGTGAAGTTCGAGGGCGACACCCTGGTGAACCGCATCGAGCTGAAGGGCATCGACTTCAAGGAGGACGGCAACATCCTGGGGCACAAGCTGGAGTACAACTACAACAGCCACAACGTCTATATCATGGCCGACAAGCAGAAGAACGGCATCAAGGTGAACTTCAAGATCCGCCACAACATCGAGGACGGCAGCGTGCAGCTCGCCGACCACTACCAGCAGAACACCCCCATCGGCGACGGCCCCGTGCTGCTGCCCGACAACCACTACCTGAGCACCCAGTCCGCCCTGAGCAAAGACCCCAACGAGAAGCGCGATCACATGGTCCTGCTGGAATTCCAACTGAGCGCCGGTCGCTACCATTACCAACTTGTCTGGTGTCAAAAATAATAGGCCTACTAGTCGGCCGTACGGGCCCTTTCGTCTCGCGCGTTTCGGTGATGACGGTGAAAACCTCTGACACATGCAGCTCCCGGAGACGGTCACAGCTTGTCTGTAAGCGGATGCCGGGAGCAGACAAGCCCGTCAGGGCGCGTCAGCGGGTGTTGGCGGGTGTCGGGGCTGGCTTAACTATGCGGCATCAGAGCAGATTGTACTGAGTCGAC 3'\n",
      "3' CTCGAGTACAGGTGGTTGAATAGTCACTATTTCTTAGGCGCGCAAGTTAGCCTGGTCGCCTCCGACCAGGCCTCCGGTCTGCACTTTGGGTTGTATGGGGACTAGCATTAAGACTCCAGCTGAGATCTCCTAGGGGCCCATGGCCAGCGGTGGTACCACTCGTTCCCGCTCCTCGACAAGTGGCCCCACCACGGGTAGGACCCAGCTCGACCTGCCGCTGCATTTGCCGGTGTTCAAGTCGCACAGGCCGCTCCCGCTCCCGCTACGGTGGATGCCGTTCGACTGGGACTTCAAGTAGACGTGGTGGCCGTTCGACGGGCACGGGACCGGGTGGGAGCACTGGTGGGACTGGATGCCGCACGTCACGAAGTCGGCGATGGGGCTGGTGTACTTCGTCGTGCTGAAGAAGTTCAGGCGGTACGGGCTTCCGATGCAGGTCCTCGCGTGGTAGAAGAAGTTCCTGCTGCCGTTGATGTTCTGGGCGCGGCTCCACTTCAAGCTCCCGCTGTGGGACCACTTGGCGTAGCTCGACTTCCCGTAGCTGAAGTTCCTCCTGCCGTTGTAGGACCCCGTGTTCGACCTCATGTTGATGTTGTCGGTGTTGCAGATATAGTACCGGCTGTTCGTCTTCTTGCCGTAGTTCCACTTGAAGTTCTAGGCGGTGTTGTAGCTCCTGCCGTCGCACGTCGAGCGGCTGGTGATGGTCGTCTTGTGGGGGTAGCCGCTGCCGGGGCACGACGACGGGCTGTTGGTGATGGACTCGTGGGTCAGGCGGGACTCGTTTCTGGGGTTGCTCTTCGCGCTAGTGTACCAGGACGACCTTAAGGTTGACTCGCGGCCAGCGATGGTAATGGTTGAACAGACCACAGTTTTTATTATCCGGATGATCAGCCGGCATGCCCGGGAAAGCAGAGCGCGCAAAGCCACTACTGCCACTTTTGGAGACTGTGTACGTCGAGGGCCTCTGCCAGTGTCGAACAGACATTCGCCTACGGCCCTCGTCTGTTCGGGCAGTCCCGCGCAGTCGCCCACAACCGCCCACAGCCCCGACCGAATTGATACGCCGTAGTCTCGTCTAACATGACTCAGCTG 5'\n",
      "\n",
      "5' ----CATGTCCACCAACTTATCAGTGATAAAGAATCCGCGCGTTCAATCGGACCAGCGGAGGCTGGTCCGGAGGCCAGACGTGAAACCCAACATACCCCTGATCGTAATTCTGAGGTCGACTCTAGAGGATCCCCGGGTACCGGTCGCCACCATGGTGAGCAAGGGCGAGGAGCTGTTCACCGGGGTGGTGCCCATCCTGGGTCGAGCTGGACGGCGACGTAAACGGCCACAAGTTCAGCGTGTCCGGCGAGGGCGAGGGCGATGCCACCTACGGCAAGCTGACCCTGAAGTTCATCTGCACCACCGGCAAGCTGCCCGTGCCCTGGCCCACCCTCGTGACCACCCTGACCTACGGCGTGCAGTGCTTCAGCCGCTACCCCGACCACATGAAGCAGCACGACTTCTTCAAGTCCGCCATGCCCGAAGGCTACGTCCAGGAGCGCACCATCTTCTTCAAGGACGACGGCAACTACAAGACCCGCGCCGAGGTGAAGTTCGAGGGCGACACCCTGGTGAACCGCATCGAGCTGAAGGGCATCGACTTCAAGGAGGACGGCAACATCCTGGGGCACAAGCTGGAGTACAACTACAACAGCCACAACGTCTATATCATGGCCGACAAGCAGAAGAACGGCATCAAGGTGAACTTCAAGATCCGCCACAACATCGAGGACGGCAGCGTGCAGCTCGCCGACCACTACCAGCAGAACACCCCCATCGGCGACGGCCCCGTGCTGCTGCCCGACAACCACTACCTGAGCACCCAGTCCGCCCTGAGCAAAGACCCCAACGAGAAGCGCGATCACATGGTCCTGCTGGAATTCCAACTGAGCGCCGGTCGCTACCATTACCAACTTGTCTGGTGTCAAAAATAATAGGCCTACTAGTCGGCCGTACGGGCCCTTTCGTCTCGCGCGTTTCGGTGATGACGGTGAAAACCTCTGACACATGCAGCTCCCGGAGACGGTCACAGCTTGTCTGTAAGCGGATGCCGGGAGCAGACAAGCCCGTCAGGGCGCGTCAGCGGGTGTTGGCGGGTGTCGGGGCTGGCTTAACTATGCGGCATCAGAGCAGATTGTACTGAG---- 3'\n",
      "3' TCGAGTACAGGTGGTTGAATAGTCACTATTTCTTAGGCGCGCAAGTTAGCCTGGTCGCCTCCGACCAGGCCTCCGGTCTGCACTTTGGGTTGTATGGGGACTAGCATTAAGACTCCAGCTGAGATCTCCTAGGGGCCCATGGCCAGCGGTGGTACCACTCGTTCCCGCTCCTCGACAAGTGGCCCCACCACGGGTAGGACCCAGCTCGACCTGCCGCTGCATTTGCCGGTGTTCAAGTCGCACAGGCCGCTCCCGCTCCCGCTACGGTGGATGCCGTTCGACTGGGACTTCAAGTAGACGTGGTGGCCGTTCGACGGGCACGGGACCGGGTGGGAGCACTGGTGGGACTGGATGCCGCACGTCACGAAGTCGGCGATGGGGCTGGTGTACTTCGTCGTGCTGAAGAAGTTCAGGCGGTACGGGCTTCCGATGCAGGTCCTCGCGTGGTAGAAGAAGTTCCTGCTGCCGTTGATGTTCTGGGCGCGGCTCCACTTCAAGCTCCCGCTGTGGGACCACTTGGCGTAGCTCGACTTCCCGTAGCTGAAGTTCCTCCTGCCGTTGTAGGACCCCGTGTTCGACCTCATGTTGATGTTGTCGGTGTTGCAGATATAGTACCGGCTGTTCGTCTTCTTGCCGTAGTTCCACTTGAAGTTCTAGGCGGTGTTGTAGCTCCTGCCGTCGCACGTCGAGCGGCTGGTGATGGTCGTCTTGTGGGGGTAGCCGCTGCCGGGGCACGACGACGGGCTGTTGGTGATGGACTCGTGGGTCAGGCGGGACTCGTTTCTGGGGTTGCTCTTCGCGCTAGTGTACCAGGACGACCTTAAGGTTGACTCGCGGCCAGCGATGGTAATGGTTGAACAGACCACAGTTTTTATTATCCGGATGATCAGCCGGCATGCCCGGGAAAGCAGAGCGCGCAAAGCCACTACTGCCACTTTTGGAGACTGTGTACGTCGAGGGCCTCTGCCAGTGTCGAACAGACATTCGCCTACGGCCCTCGTCTGTTCGGGCAGTCCCGCGCAGTCGCCCACAACCGCCCACAGCCCCGACCGAATTGATACGCCGTAGTCTCGTCTAACATGACTCAGCT 5'\n",
      "\n",
      "3753\n"
     ]
    }
   ],
   "source": [
    "SacI = \"GAGCTC\"\n",
    "SalI = \"GTCGAC\"\n",
    "EGFP = DNA(record=\"EGFP.fasta\") \n",
    "EGFP.adddnafeature(0,len(EGFP.seq),qualifiers={\"label\":\"EGFP\"})\n",
    "EGFP = modifyends(EGFP, SacI, SalI) \n",
    "EGFP.printdnaseq() \n",
    "EGFP = modifyends(EGFP, \"-----*/-*****\", \"*-----/*****-\")\n",
    "EGFP.printdnaseq() \n",
    "product = joindna(EGFP, sub_brick, topology=\"circular\")\n",
    "print(len(product.seq))"
   ]
  },
  {
   "cell_type": "code",
   "execution_count": 22,
   "metadata": {},
   "outputs": [
    {
     "name": "stdout",
     "output_type": "stream",
     "text": [
      "Feature_ID  Label                   Type          Start  End   Strand  \n",
      "0           EGFP                    misc_feature  5      1085  +       \n",
      "100         MCS:47..57:57           misc_feature  1090   1101  +       \n",
      "200         lacZ-alpha:64..324:324  CDS           1090   1351  +       \n",
      "300         pUC19:678..654:2686     source        1090   3753  +       \n",
      "400         M13 fwd                 primer_bind   1101   1118  -       \n",
      "500         M13 Forward             primer_bind   1101   1119  -       \n",
      "600         M13/pUC Forward         primer_bind   1110   1133  -       \n",
      "700         pRS-marker              primer_bind   1326   1346  -       \n",
      "800         pGEX 3'                 primer_bind   1445   1468  +       \n",
      "900         pBRforEco               primer_bind   1505   1524  -       \n",
      "1000        AmpR promoter           promoter      1591   1696  +       \n",
      "1100        AmpR                    CDS           1696   2557  +       \n",
      "1200        Amp-R                   primer_bind   1914   1934  -       \n",
      "1300        ori                     rep_origin    2727   3316  +       \n",
      "1400        feat2                   misc_feature  3063   3109  +       \n",
      "1500        pBR322ori-F             primer_bind   3216   3236  +       \n",
      "1600        L4440                   primer_bind   3469   3487  +       \n",
      "1700        CAP binding site        protein_bind  3603   3625  +       \n",
      "1800        lac promoter            promoter      3639   3670  +       \n",
      "1900        lac operator            protein_bind  3677   3694  +       \n",
      "2000        M13/pUC Reverse         primer_bind   3682   3705  +       \n",
      "2100        M13 rev                 primer_bind   3701   3718  +       \n",
      "2200        M13 Reverse             primer_bind   3701   3718  +       \n",
      "2300        lacZ-alpha:1..40:324    CDS           3713   3753  +       \n",
      "2400        MCS:1..23:57            misc_feature  3730   3753  +       \n",
      "\n"
     ]
    }
   ],
   "source": [
    "product.printdnafeature()"
   ]
  },
  {
   "cell_type": "code",
   "execution_count": 23,
   "metadata": {},
   "outputs": [],
   "source": [
    "product_shifted = joindna(cutdna(product, 2727)[0])"
   ]
  },
  {
   "cell_type": "code",
   "execution_count": 24,
   "metadata": {},
   "outputs": [
    {
     "name": "stdout",
     "output_type": "stream",
     "text": [
      "Feature_ID  Label                   Type          Start  End   Strand  \n",
      "0           ori                     rep_origin    0      589   +       \n",
      "200         feat2                   misc_feature  336    382   +       \n",
      "300         pBR322ori-F             primer_bind   489    509   +       \n",
      "400         L4440                   primer_bind   742    760   +       \n",
      "500         CAP binding site        protein_bind  876    898   +       \n",
      "600         lac promoter            promoter      912    943   +       \n",
      "700         lac operator            protein_bind  950    967   +       \n",
      "800         M13/pUC Reverse         primer_bind   955    978   +       \n",
      "1000        M13 Reverse             primer_bind   974    991   +       \n",
      "900         M13 rev                 primer_bind   974    991   +       \n",
      "1100        lacZ-alpha:1..40:324    CDS           986    1026  +       \n",
      "1200        MCS:1..23:57            misc_feature  1003   1026  +       \n",
      "1300        EGFP                    misc_feature  1031   2111  +       \n",
      "100         pUC19:2315..654:2686    source        2116   1026  +       \n",
      "1400        MCS:47..57:57           misc_feature  2116   2127  +       \n",
      "1500        lacZ-alpha:64..324:324  CDS           2116   2377  +       \n",
      "1700        M13 fwd                 primer_bind   2127   2144  -       \n",
      "1800        M13 Forward             primer_bind   2127   2145  -       \n",
      "1900        M13/pUC Forward         primer_bind   2136   2159  -       \n",
      "2000        pRS-marker              primer_bind   2352   2372  -       \n",
      "2100        pGEX 3'                 primer_bind   2471   2494  +       \n",
      "2200        pBRforEco               primer_bind   2531   2550  -       \n",
      "2300        AmpR promoter           promoter      2617   2722  +       \n",
      "2400        AmpR                    CDS           2722   3583  +       \n",
      "2500        Amp-R                   primer_bind   2940   2960  -       \n",
      "\n"
     ]
    }
   ],
   "source": [
    "product_shifted.printdnafeature()"
   ]
  },
  {
   "cell_type": "code",
   "execution_count": null,
   "metadata": {},
   "outputs": [],
   "source": []
  }
 ],
 "metadata": {
  "kernelspec": {
   "display_name": "Python 3",
   "language": "python",
   "name": "python3"
  },
  "language_info": {
   "codemirror_mode": {
    "name": "ipython",
    "version": 3
   },
   "file_extension": ".py",
   "mimetype": "text/x-python",
   "name": "python",
   "nbconvert_exporter": "python",
   "pygments_lexer": "ipython3",
   "version": "3.7.7"
  }
 },
 "nbformat": 4,
 "nbformat_minor": 4
}
