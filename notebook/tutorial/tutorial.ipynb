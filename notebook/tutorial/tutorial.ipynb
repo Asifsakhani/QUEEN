{
 "cells": [
  {
   "cell_type": "code",
   "execution_count": 1,
   "metadata": {},
   "outputs": [],
   "source": [
    "import sys \n",
    "sys.path.append(\"../../\")\n",
    "from dna import *"
   ]
  },
  {
   "cell_type": "code",
   "execution_count": 2,
   "metadata": {},
   "outputs": [
    {
     "name": "stdout",
     "output_type": "stream",
     "text": [
      "<dna.DNA object; project='dna', length='14 bp', sequence='CCGGTATGCGTCGA', topology='linear'>\n"
     ]
    }
   ],
   "source": [
    "#Example code1 : Create a blunt-end DNA object by specifying its sequence\n",
    "brick = DNA(seq=\"CCGGTATGCGTCGA\")\n",
    "print(brick)"
   ]
  },
  {
   "cell_type": "code",
   "execution_count": 3,
   "metadata": {},
   "outputs": [
    {
     "name": "stdout",
     "output_type": "stream",
     "text": [
      "<dna.DNA object; project='dna', length='14 bp', sequence='CCGGTATGCGTCGA', topology='linear'>\n"
     ]
    }
   ],
   "source": [
    "#Example code 2: Create a sticky-end DNA object by specifying its structure \n",
    "brick = DNA(seq=\"CCGGTATGCG----/----ATACGCAGCT\") \n",
    "print(brick)"
   ]
  },
  {
   "cell_type": "code",
   "execution_count": 4,
   "metadata": {},
   "outputs": [
    {
     "name": "stdout",
     "output_type": "stream",
     "text": [
      "<dna.DNA object; project='pUC19', length='2686 bp', topology='circular'>\n"
     ]
    }
   ],
   "source": [
    "#Example code 3: Create an annotated DNA object from GenBank format file \n",
    "brick = DNA(record=\"pUC19.gbk\")\n",
    "print(brick)"
   ]
  },
  {
   "cell_type": "code",
   "execution_count": 5,
   "metadata": {},
   "outputs": [
    {
     "name": "stdout",
     "output_type": "stream",
     "text": [
      "5' CCGGTATGCG---- 3'\n",
      "3' ----ATACGCAGCT 5'\n"
     ]
    },
    {
     "data": {
      "text/plain": [
       "('CCGGTATGCG----', 'TCGACGCATA----')"
      ]
     },
     "execution_count": 5,
     "metadata": {},
     "output_type": "execute_result"
    }
   ],
   "source": [
    "#Example code 4-1: Print a double-strand DNA sequence with sticky ends\n",
    "brick = DNA(seq=\"CCGGTATGCG----/----ATACGCAGCT\") \n",
    "brick.getdnaseq(display=True)\n",
    "brick.getdnaseq()"
   ]
  },
  {
   "cell_type": "code",
   "execution_count": 6,
   "metadata": {},
   "outputs": [],
   "source": [
    "#Example code 4-1: Print a double-strand DNA sequence with sticky ends\n",
    "brick = DNA(record=\"pUC19.gbk\", project=\"pUC19\")\n",
    "#brick.printdnaseq(linebreak=70)"
   ]
  },
  {
   "cell_type": "code",
   "execution_count": 7,
   "metadata": {},
   "outputs": [
    {
     "name": "stdout",
     "output_type": "stream",
     "text": [
      "feature ID  qualifier:label   feature type  start position  end position  strand  \n",
      "0           N.A.              source        0               2686          +       \n",
      "2100        pUC19             source        0               2686          +       \n",
      "100         pBR322ori-F       primer_bind   117             137           +       \n",
      "200         L4440             primer_bind   370             388           +       \n",
      "300         CAP binding site  protein_bind  504             526           +       \n",
      "400         lac promoter      promoter      540             571           +       \n",
      "500         lac operator      protein_bind  578             595           +       \n",
      "600         M13/pUC Reverse   primer_bind   583             606           +       \n",
      "700         M13 rev           primer_bind   602             619           +       \n",
      "800         M13 Reverse       primer_bind   602             619           +       \n",
      "900         lacZ-alpha        CDS           614             938           +       \n",
      "1000        MCS               misc_feature  631             688           +       \n",
      "1100        M13 Forward       primer_bind   688             706           -       \n",
      "1200        M13 fwd           primer_bind   688             705           -       \n",
      "1300        M13/pUC Forward   primer_bind   697             720           -       \n",
      "1400        pRS-marker        primer_bind   913             933           -       \n",
      "1500        pGEX 3'           primer_bind   1032            1055          +       \n",
      "1600        pBRforEco         primer_bind   1092            1111          -       \n",
      "1700        AmpR promoter     promoter      1178            1283          +       \n",
      "1800        AmpR              CDS           1283            2144          +       \n",
      "1900        Amp-R             primer_bind   1501            1521          -       \n",
      "2000        ori               rep_origin    2314            217           +       \n",
      "\n"
     ]
    }
   ],
   "source": [
    "brick.printfeature()"
   ]
  },
  {
   "cell_type": "code",
   "execution_count": 8,
   "metadata": {},
   "outputs": [
    {
     "data": {
      "text/plain": [
       "'GGGAAACGCCTGGTATCTTT'"
      ]
     },
     "execution_count": 8,
     "metadata": {},
     "output_type": "execute_result"
    }
   ],
   "source": [
    "brick.getdnaseq(brick.getdnafeature(100))"
   ]
  },
  {
   "cell_type": "code",
   "execution_count": 9,
   "metadata": {},
   "outputs": [
    {
     "name": "stdout",
     "output_type": "stream",
     "text": [
      "feature ID  qualifier:note                                              \n",
      "100         pBR322 origin, forward primer                               \n",
      "200         L4440 vector, forward primer                                \n",
      "600         In lacZ gene                                                \n",
      "700         common sequencing primer, one of multiple similar variants  \n",
      "800         In lacZ gene. Also called M13-rev                           \n",
      "1100        In lacZ gene. Also called M13-F20 or M13 (-21) Forward      \n",
      "1200        common sequencing primer, one of multiple similar variants  \n",
      "1300        In lacZ gene                                                \n",
      "1400        pRS vectors, use to sequence yeast selectable marker        \n",
      "1500        pGEX vectors, reverse primer                                \n",
      "1600        pBR322 vectors, upsteam of EcoRI site, forward primer       \n",
      "1900        Ampicillin resistance gene, reverse primer                  \n",
      "\n"
     ]
    }
   ],
   "source": [
    "brick.printfeature(feature_type=[\"primer_bind\"], attribute=[\"feature ID\",\"qualifier:note\"], detail=False)"
   ]
  },
  {
   "cell_type": "code",
   "execution_count": 10,
   "metadata": {},
   "outputs": [
    {
     "name": "stdout",
     "output_type": "stream",
     "text": [
      "feature ID  qualifier:label  feature type  start position  end position  strand  qualifier:note                                                            \n",
      "100         pBR322ori-F      primer_bind   117             137           +       pBR322 origin, forward primer                                             \n",
      "200         L4440            primer_bind   370             388           +       L4440 vector, forward primer                                              \n",
      "600         M13/pUC Reverse  primer_bind   583             606           +       In lacZ gene                                                              \n",
      "700         M13 rev          primer_bind   602             619           +       common sequencing primer, one of multiple similar variants                \n",
      "800         M13 Reverse      primer_bind   602             619           +       In lacZ gene. Also called M13-rev                                         \n",
      "900         lacZ-alpha       CDS           614             938           +       N.A.                                                                      \n",
      "1100        M13 Forward      primer_bind   688             706           -       In lacZ gene. Also called M13-F20 or M13 (-21) Forward                    \n",
      "1200        M13 fwd          primer_bind   688             705           -       common sequencing primer, one of multiple similar variants                \n",
      "1300        M13/pUC Forward  primer_bind   697             720           -       In lacZ gene                                                              \n",
      "1400        pRS-marker       primer_bind   913             933           -       pRS vectors, use to sequence yeast selectable marker                      \n",
      "1500        pGEX 3'          primer_bind   1032            1055          +       pGEX vectors, reverse primer                                              \n",
      "1600        pBRforEco        primer_bind   1092            1111          -       pBR322 vectors, upsteam of EcoRI site, forward primer                     \n",
      "1800        AmpR             CDS           1283            2144          +       confers resistance to ampicillin, carbenicillin, and related antibiotics  \n",
      "1900        Amp-R            primer_bind   1501            1521          -       Ampicillin resistance gene, reverse primer                                \n",
      "\n"
     ]
    }
   ],
   "source": [
    "brick.printfeature(feature_type=[\"primer_bind\",\"CDS\"], attribute=[\"$DEFAULT\",\"qualifier:note\"], detail=False)"
   ]
  },
  {
   "cell_type": "code",
   "execution_count": 11,
   "metadata": {},
   "outputs": [
    {
     "name": "stdout",
     "output_type": "stream",
     "text": [
      "[]\n"
     ]
    }
   ],
   "source": [
    "brick.finddna(\"GGATCC\")\n",
    "print([b for b in brick.finddna(\"GGATCC\")])"
   ]
  },
  {
   "cell_type": "code",
   "execution_count": 12,
   "metadata": {},
   "outputs": [
    {
     "name": "stdout",
     "output_type": "stream",
     "text": [
      "[]\n"
     ]
    }
   ],
   "source": [
    "print(brick.finddna(\"GGATCC\", max_mismatch=1))"
   ]
  },
  {
   "cell_type": "code",
   "execution_count": 13,
   "metadata": {},
   "outputs": [],
   "source": [
    "feature_list = brick.finddna(\"[ATGC]{20}[ATGC]GG\")\n",
    "for feat in feature_list:\n",
    "    print(b.location.start, b.location.end, b.location.strand, brick.getdnaseq(b), sep=\"\\t\") "
   ]
  },
  {
   "cell_type": "code",
   "execution_count": 14,
   "metadata": {},
   "outputs": [],
   "source": [
    "brick.finddna(query=\"CDS\", attribute=\"feature type\")\n",
    "for feat in feature_list:\n",
    "    print(b.location.start, b.location.end, b.location.strand, brick.getdnaseq(b), sep=\"\\t\")"
   ]
  },
  {
   "cell_type": "code",
   "execution_count": 15,
   "metadata": {},
   "outputs": [
    {
     "name": "stdout",
     "output_type": "stream",
     "text": [
      "type: misc_feature\n",
      "location: [1031:1055](+)\n",
      "qualifiers:\n",
      "\n",
      "type: misc_feature\n",
      "location: [1069:1093](+)\n",
      "qualifiers:\n",
      "\n",
      "type: misc_feature\n",
      "location: [1070:1094](-)\n",
      "qualifiers:\n",
      "\n",
      "type: misc_feature\n",
      "location: [1032:1056](-)\n",
      "qualifiers:\n",
      "\n"
     ]
    }
   ],
   "source": [
    "for b in brick.finddna(\"[ATGC]CC[ATGC]{18}[ATGC]GG\", attribute=\"sequence:|1000..1500|\"):\n",
    "    print(b) "
   ]
  },
  {
   "cell_type": "code",
   "execution_count": 16,
   "metadata": {},
   "outputs": [
    {
     "name": "stdout",
     "output_type": "stream",
     "text": [
      "feature ID  qualifier:label  feature type  start position  end position  strand  \n",
      "900         lacZ-alpha       CDS           614             938           +       \n",
      "1800        AmpR             CDS           1283            2144          +       \n",
      "\n",
      "lacZ-alpha ATGACCATGA\n",
      "AmpR ATGAGTATTC\n",
      "lacZ-alpha GTGACCATGA\n",
      "AmpR GTGAGTATTC\n"
     ]
    }
   ],
   "source": [
    "brick.printfeature(feature_type=[\"CDS\"])\n",
    "print(\"lacZ-alpha\", cropdna(brick,614,938).seq[0:10])\n",
    "print(\"AmpR\", cropdna(brick,1283,2144).seq[0:10])\n",
    "editdna(brick, key_attribute=\"feature type\", query=\"CDS\", target_attribute=\"sequence:!0..3!\", operation=replacedna(\"ATG\", \"GTG\"))\n",
    "print(\"lacZ-alpha\", cropdna(brick,614,938).seq[0:10])\n",
    "print(\"AmpR\", cropdna(brick,1283,2144).seq[0:10])"
   ]
  },
  {
   "cell_type": "code",
   "execution_count": 17,
   "metadata": {},
   "outputs": [
    {
     "name": "stdout",
     "output_type": "stream",
     "text": [
      "feature ID  qualifier:label   feature type  start position  end position  strand  \n",
      "0           N.A.              source        0               2686          +       \n",
      "2100        pUC19             source        0               2686          +       \n",
      "100         pBR322ori-F       primer_bind   117             137           +       \n",
      "200         L4440             primer_bind   370             388           +       \n",
      "300         CAP binding site  protein_bind  504             526           +       \n",
      "400         lac promoter      promoter      540             571           +       \n",
      "500         lac operator      protein_bind  578             595           +       \n",
      "600         M13/pUC Reverse   primer_bind   583             606           +       \n",
      "700         M13 rev           primer_bind   602             619           +       \n",
      "800         M13 Reverse       primer_bind   602             619           +       \n",
      "900         lacZ-alpha        CDS           614             938           +       \n",
      "1000        MCS               misc_feature  631             688           +       \n",
      "1100        M13 Forward       primer_bind   688             706           -       \n",
      "1200        M13 fwd           primer_bind   688             705           -       \n",
      "1300        M13/pUC Forward   primer_bind   697             720           -       \n",
      "1400        pRS-marker        primer_bind   913             933           -       \n",
      "1500        pGEX 3'           primer_bind   1032            1055          +       \n",
      "1600        pBRforEco         primer_bind   1092            1111          -       \n",
      "1700        AmpR promoter     promoter      1178            1283          +       \n",
      "1800        AmpR              CDS           1283            2144          +       \n",
      "1900        Amp-R             primer_bind   1501            1521          -       \n",
      "2000        ori               rep_origin    2314            217           +       \n",
      "\n",
      "feature ID  qualifier:label   feature type  start position  end position  strand  \n",
      "0           N.A.              source        0               2686          +       \n",
      "2100        pUC19             source        0               2686          +       \n",
      "100         pBR322ori-F       primer        117             137           +       \n",
      "200         L4440             primer        370             388           +       \n",
      "300         CAP binding site  protein_bind  504             526           +       \n",
      "400         lac promoter      promoter      540             571           +       \n",
      "500         lac operator      protein_bind  578             595           +       \n",
      "600         M13/pUC Reverse   primer        583             606           +       \n",
      "700         M13 rev           primer        602             619           +       \n",
      "800         M13 Reverse       primer        602             619           +       \n",
      "900         lacZ-alpha        CDS           614             938           +       \n",
      "1000        MCS               misc_feature  631             688           +       \n",
      "1100        M13 Forward       primer        688             706           -       \n",
      "1200        M13 fwd           primer        688             705           -       \n",
      "1300        M13/pUC Forward   primer        697             720           -       \n",
      "1400        pRS-marker        primer        913             933           -       \n",
      "1500        pGEX 3'           primer        1032            1055          +       \n",
      "1600        pBRforEco         primer        1092            1111          -       \n",
      "1700        AmpR promoter     promoter      1178            1283          +       \n",
      "1800        AmpR              CDS           1283            2144          +       \n",
      "1900        Amp-R             primer        1501            1521          -       \n",
      "2000        ori               rep_origin    2314            217           +       \n",
      "\n"
     ]
    }
   ],
   "source": [
    "brick.printfeature()\n",
    "editdna(brick, key_attribute=\"feature type\", query=\"primer_bind\",\n",
    "        target_attribute=\"feature type\", operation=replacedna(\"primer_bind\", \"primer\"))\n",
    "brick.printfeature()"
   ]
  },
  {
   "cell_type": "code",
   "execution_count": 18,
   "metadata": {},
   "outputs": [
    {
     "name": "stdout",
     "output_type": "stream",
     "text": [
      "feature ID  qualifier:label   feature type  start position  end position  strand  \n",
      "0           N.A.              source        0               2686          +       \n",
      "2100        pUC19             source        0               2686          +       \n",
      "100         pBR322ori-F       primer        117             137           +       \n",
      "200         L4440             primer        370             388           +       \n",
      "300         CAP binding site  protein_bind  504             526           +       \n",
      "400         lac promoter      promoter      540             571           +       \n",
      "500         lac operator      protein_bind  578             595           +       \n",
      "600         M13/pUC Reverse   primer        583             606           +       \n",
      "700         M13 rev           primer        602             619           +       \n",
      "800         M13 Reverse       primer        602             619           +       \n",
      "900         lacZ-alpha        CDS           614             938           +       \n",
      "1000        MCS               misc_feature  631             688           +       \n",
      "1100        M13 Forward       primer        688             706           -       \n",
      "1200        M13 fwd           primer        688             705           -       \n",
      "1300        M13/pUC Forward   primer        697             720           -       \n",
      "1400        pRS-marker        primer        913             933           -       \n",
      "1500        pGEX 3'           primer        1032            1055          +       \n",
      "1600        pBRforEco         primer        1092            1111          -       \n",
      "1700        AmpR promoter     promoter      1178            1283          +       \n",
      "1800        AmpR              CDS           1283            2144          +       \n",
      "1900        Amp-R             primer        1501            1521          -       \n",
      "2000        ori               rep_origin    2314            217           +       \n",
      "\n"
     ]
    }
   ],
   "source": [
    "brick.printfeature()"
   ]
  },
  {
   "cell_type": "code",
   "execution_count": 19,
   "metadata": {},
   "outputs": [],
   "source": [
    "editdna(brick, key_attribute=\"feature ID\", query=\"100\", target_attribute=\"qualifier:label\", operation=removedna()) "
   ]
  },
  {
   "cell_type": "code",
   "execution_count": 20,
   "metadata": {},
   "outputs": [
    {
     "name": "stdout",
     "output_type": "stream",
     "text": [
      "feature ID  qualifier:label   feature type  start position  end position  strand  \n",
      "0           N.A.              source        0               2686          +       \n",
      "2100        pUC19             source        0               2686          +       \n",
      "100         N.A.              primer        117             137           +       \n",
      "200         L4440             primer        370             388           +       \n",
      "300         CAP binding site  protein_bind  504             526           +       \n",
      "400         lac promoter      promoter      540             571           +       \n",
      "500         lac operator      protein_bind  578             595           +       \n",
      "600         M13/pUC Reverse   primer        583             606           +       \n",
      "700         M13 rev           primer        602             619           +       \n",
      "800         M13 Reverse       primer        602             619           +       \n",
      "900         lacZ-alpha        CDS           614             938           +       \n",
      "1000        MCS               misc_feature  631             688           +       \n",
      "1100        M13 Forward       primer        688             706           -       \n",
      "1200        M13 fwd           primer        688             705           -       \n",
      "1300        M13/pUC Forward   primer        697             720           -       \n",
      "1400        pRS-marker        primer        913             933           -       \n",
      "1500        pGEX 3'           primer        1032            1055          +       \n",
      "1600        pBRforEco         primer        1092            1111          -       \n",
      "1700        AmpR promoter     promoter      1178            1283          +       \n",
      "1800        AmpR              CDS           1283            2144          +       \n",
      "1900        Amp-R             primer        1501            1521          -       \n",
      "2000        ori               rep_origin    2314            217           +       \n",
      "\n"
     ]
    }
   ],
   "source": [
    "brick.printfeature()"
   ]
  },
  {
   "cell_type": "code",
   "execution_count": 21,
   "metadata": {},
   "outputs": [],
   "source": [
    "editdna(brick, key_attribute=\"feature ID\", query=\"100\", target_attribute=\"feature ID\", operation=removedna())"
   ]
  },
  {
   "cell_type": "code",
   "execution_count": 22,
   "metadata": {},
   "outputs": [
    {
     "name": "stdout",
     "output_type": "stream",
     "text": [
      "feature ID  qualifier:label   feature type  start position  end position  strand  \n",
      "0           N.A.              source        0               2686          +       \n",
      "2100        pUC19             source        0               2686          +       \n",
      "200         L4440             primer        370             388           +       \n",
      "300         CAP binding site  protein_bind  504             526           +       \n",
      "400         lac promoter      promoter      540             571           +       \n",
      "500         lac operator      protein_bind  578             595           +       \n",
      "600         M13/pUC Reverse   primer        583             606           +       \n",
      "700         M13 rev           primer        602             619           +       \n",
      "800         M13 Reverse       primer        602             619           +       \n",
      "900         lacZ-alpha        CDS           614             938           +       \n",
      "1000        MCS               misc_feature  631             688           +       \n",
      "1100        M13 Forward       primer        688             706           -       \n",
      "1200        M13 fwd           primer        688             705           -       \n",
      "1300        M13/pUC Forward   primer        697             720           -       \n",
      "1400        pRS-marker        primer        913             933           -       \n",
      "1500        pGEX 3'           primer        1032            1055          +       \n",
      "1600        pBRforEco         primer        1092            1111          -       \n",
      "1700        AmpR promoter     promoter      1178            1283          +       \n",
      "1800        AmpR              CDS           1283            2144          +       \n",
      "1900        Amp-R             primer        1501            1521          -       \n",
      "2000        ori               rep_origin    2314            217           +       \n",
      "\n"
     ]
    }
   ],
   "source": [
    "brick.printfeature()"
   ]
  },
  {
   "cell_type": "code",
   "execution_count": 23,
   "metadata": {},
   "outputs": [],
   "source": [
    "#editdna(brick, key_attribute=None, query=None, target_attibute=\"feature ID\", operation=createedna(\"New_feature\"))"
   ]
  },
  {
   "cell_type": "code",
   "execution_count": 24,
   "metadata": {},
   "outputs": [],
   "source": [
    "editdna(brick, key_attribute=\"sequence:|100..120|\", query=None, target_attribute=\"feature ID\", operation=createdna(\"New_feature\"))\n",
    "editdna(brick, key_attribute=\"sequence:|2600..100|\", query=None, target_attribute=\"feature ID\", operation=createdna(\"New_feature\"))"
   ]
  },
  {
   "cell_type": "code",
   "execution_count": 25,
   "metadata": {},
   "outputs": [
    {
     "name": "stdout",
     "output_type": "stream",
     "text": [
      "feature ID     qualifier:label   feature type  start position  end position  strand  \n",
      "0              N.A.              source        0               2686          +       \n",
      "2100           pUC19             source        0               2686          +       \n",
      "New_feature    N.A.              misc_feature  100             120           +       \n",
      "200            L4440             primer        370             388           +       \n",
      "300            CAP binding site  protein_bind  504             526           +       \n",
      "400            lac promoter      promoter      540             571           +       \n",
      "500            lac operator      protein_bind  578             595           +       \n",
      "600            M13/pUC Reverse   primer        583             606           +       \n",
      "700            M13 rev           primer        602             619           +       \n",
      "800            M13 Reverse       primer        602             619           +       \n",
      "900            lacZ-alpha        CDS           614             938           +       \n",
      "1000           MCS               misc_feature  631             688           +       \n",
      "1100           M13 Forward       primer        688             706           -       \n",
      "1200           M13 fwd           primer        688             705           -       \n",
      "1300           M13/pUC Forward   primer        697             720           -       \n",
      "1400           pRS-marker        primer        913             933           -       \n",
      "1500           pGEX 3'           primer        1032            1055          +       \n",
      "1600           pBRforEco         primer        1092            1111          -       \n",
      "1700           AmpR promoter     promoter      1178            1283          +       \n",
      "1800           AmpR              CDS           1283            2144          +       \n",
      "1900           Amp-R             primer        1501            1521          -       \n",
      "2000           ori               rep_origin    2314            217           +       \n",
      "New_feature_1  N.A.              misc_feature  2600            2786          +       \n",
      "\n"
     ]
    }
   ],
   "source": [
    "brick.printfeature()"
   ]
  },
  {
   "cell_type": "code",
   "execution_count": 26,
   "metadata": {},
   "outputs": [
    {
     "name": "stdout",
     "output_type": "stream",
     "text": [
      "feature ID        qualifier:label  feature type  start position  end position  strand  \n",
      "spCas9_target_12  N.A.             misc_bind     403             427           -       \n",
      "spCas9_target_11  N.A.             misc_bind     534             558           -       \n",
      "spCas9_target_1   N.A.             misc_bind     648             672           +       \n",
      "spCas9_target_10  N.A.             misc_bind     956             980           -       \n",
      "spCas9_target_2   N.A.             misc_bind     1513            1537          +       \n",
      "spCas9_target_9   N.A.             misc_bind     1533            1557          -       \n",
      "spCas9_target_3   N.A.             misc_bind     1887            1911          +       \n",
      "spCas9_target_4   N.A.             misc_bind     2117            2141          +       \n",
      "spCas9_target_8   N.A.             misc_bind     2488            2512          -       \n",
      "spCas9_target_7   N.A.             misc_bind     2521            2545          -       \n",
      "spCas9_target_5   N.A.             misc_bind     2561            2585          +       \n",
      "spCas9_target_6   N.A.             misc_bind     2614            2638          +       \n",
      "\n"
     ]
    }
   ],
   "source": [
    "editdna(brick, key_attribute=\"sequence\", query=\"GG[ATGC]{19}[ATGC]GG\", target_attribute=\"feature ID\", operation=createdna(\"spCas9_target\"))\n",
    "editdna(brick, key_attribute=\"feature ID\", query=\"spCas9_target_[0-9]+\", target_attribute=\"feature type\", operation=replacedna(\"misc_bind\"))\n",
    "brick.printfeature(feature_type=[\"misc_bind\"])"
   ]
  },
  {
   "cell_type": "code",
   "execution_count": 26,
   "metadata": {},
   "outputs": [],
   "source": [
    "editdna(brick, key_attribute=\"feature ID\", query=\"spCas9_target_[0-9]+\", target_attribute=\"feature type\", operation=replacedna(\"misc_bind\"))"
   ]
  },
  {
   "cell_type": "code",
   "execution_count": 27,
   "metadata": {},
   "outputs": [
    {
     "name": "stdout",
     "output_type": "stream",
     "text": [
      "feature ID        qualifier:label  feature type  start position  end position  strand  \n",
      "spCas9_target_1   N.A.             misc_bind     47              71            +       \n",
      "spCas9_target_13  N.A.             misc_bind     403             427           -       \n",
      "spCas9_target_12  N.A.             misc_bind     534             558           -       \n",
      "spCas9_target_2   N.A.             misc_bind     648             672           +       \n",
      "spCas9_target_11  N.A.             misc_bind     956             980           -       \n",
      "spCas9_target_3   N.A.             misc_bind     1513            1537          +       \n",
      "spCas9_target_10  N.A.             misc_bind     1533            1557          -       \n",
      "spCas9_target_4   N.A.             misc_bind     1887            1911          +       \n",
      "spCas9_target_5   N.A.             misc_bind     2117            2141          +       \n",
      "spCas9_target_9   N.A.             misc_bind     2488            2512          -       \n",
      "spCas9_target_8   N.A.             misc_bind     2521            2545          -       \n",
      "spCas9_target_6   N.A.             misc_bind     2561            2585          +       \n",
      "spCas9_target_7   N.A.             misc_bind     2614            2638          +       \n",
      "\n"
     ]
    }
   ],
   "source": [
    "brick.printfeature(feature_type=[\"misc_bind\"])"
   ]
  },
  {
   "cell_type": "code",
   "execution_count": 28,
   "metadata": {},
   "outputs": [
    {
     "name": "stdout",
     "output_type": "stream",
     "text": [
      "2686 1686 1000\n"
     ]
    },
    {
     "ename": "AttributeError",
     "evalue": "'DNA' object has no attribute 'printdnafeature'",
     "output_type": "error",
     "traceback": [
      "\u001b[0;31m---------------------------------------------------------------------------\u001b[0m",
      "\u001b[0;31mAttributeError\u001b[0m                            Traceback (most recent call last)",
      "\u001b[0;32m<ipython-input-28-b64a39ce665b>\u001b[0m in \u001b[0;36m<module>\u001b[0;34m\u001b[0m\n\u001b[1;32m      1\u001b[0m \u001b[0msub_brick1\u001b[0m\u001b[0;34m,\u001b[0m \u001b[0msub_brick2\u001b[0m \u001b[0;34m=\u001b[0m \u001b[0mcutdna\u001b[0m\u001b[0;34m(\u001b[0m\u001b[0mbrick\u001b[0m \u001b[0;34m,\u001b[0m\u001b[0;36m1000\u001b[0m\u001b[0;34m,\u001b[0m \u001b[0;36m2000\u001b[0m\u001b[0;34m)\u001b[0m\u001b[0;34m\u001b[0m\u001b[0;34m\u001b[0m\u001b[0m\n\u001b[1;32m      2\u001b[0m \u001b[0mprint\u001b[0m\u001b[0;34m(\u001b[0m\u001b[0mlen\u001b[0m\u001b[0;34m(\u001b[0m\u001b[0mbrick\u001b[0m\u001b[0;34m.\u001b[0m\u001b[0mseq\u001b[0m\u001b[0;34m)\u001b[0m\u001b[0;34m,\u001b[0m \u001b[0mlen\u001b[0m\u001b[0;34m(\u001b[0m\u001b[0msub_brick1\u001b[0m\u001b[0;34m.\u001b[0m\u001b[0mseq\u001b[0m\u001b[0;34m)\u001b[0m\u001b[0;34m,\u001b[0m \u001b[0mlen\u001b[0m\u001b[0;34m(\u001b[0m\u001b[0msub_brick2\u001b[0m\u001b[0;34m.\u001b[0m\u001b[0mseq\u001b[0m\u001b[0;34m)\u001b[0m\u001b[0;34m)\u001b[0m\u001b[0;34m\u001b[0m\u001b[0;34m\u001b[0m\u001b[0m\n\u001b[0;32m----> 3\u001b[0;31m \u001b[0msub_brick1\u001b[0m\u001b[0;34m.\u001b[0m\u001b[0mprintdnafeature\u001b[0m\u001b[0;34m(\u001b[0m\u001b[0mfeature_key\u001b[0m\u001b[0;34m=\u001b[0m\u001b[0;34m[\u001b[0m\u001b[0;34m\"source\"\u001b[0m\u001b[0;34m]\u001b[0m\u001b[0;34m)\u001b[0m\u001b[0;34m\u001b[0m\u001b[0;34m\u001b[0m\u001b[0m\n\u001b[0m\u001b[1;32m      4\u001b[0m \u001b[0msub_brick2\u001b[0m\u001b[0;34m.\u001b[0m\u001b[0mprintdnafeature\u001b[0m\u001b[0;34m(\u001b[0m\u001b[0mfeature_key\u001b[0m\u001b[0;34m=\u001b[0m\u001b[0;34m[\u001b[0m\u001b[0;34m\"source\"\u001b[0m\u001b[0;34m]\u001b[0m\u001b[0;34m)\u001b[0m\u001b[0;34m\u001b[0m\u001b[0;34m\u001b[0m\u001b[0m\n",
      "\u001b[0;31mAttributeError\u001b[0m: 'DNA' object has no attribute 'printdnafeature'"
     ]
    }
   ],
   "source": [
    "sub_brick1, sub_brick2 = cutdna(brick ,1000, 2000)\n",
    "print(len(brick.seq), len(sub_brick1.seq), len(sub_brick2.seq))\n",
    "sub_brick1.printdnafeature(feature_key=[\"source\"])\n",
    "sub_brick2.printdnafeature(feature_key=[\"source\"])"
   ]
  },
  {
   "cell_type": "code",
   "execution_count": 29,
   "metadata": {},
   "outputs": [
    {
     "ename": "AttributeError",
     "evalue": "'DNA' object has no attribute 'printdnafeature'",
     "output_type": "error",
     "traceback": [
      "\u001b[0;31m---------------------------------------------------------------------------\u001b[0m",
      "\u001b[0;31mAttributeError\u001b[0m                            Traceback (most recent call last)",
      "\u001b[0;32m<ipython-input-29-ec849ab3434a>\u001b[0m in \u001b[0;36m<module>\u001b[0;34m\u001b[0m\n\u001b[1;32m      1\u001b[0m \u001b[0msub_brick\u001b[0m \u001b[0;34m=\u001b[0m \u001b[0mcropdna\u001b[0m\u001b[0;34m(\u001b[0m\u001b[0mbrick\u001b[0m\u001b[0;34m,\u001b[0m \u001b[0;36m1000\u001b[0m\u001b[0;34m,\u001b[0m \u001b[0;36m2000\u001b[0m\u001b[0;34m,\u001b[0m\u001b[0;34m)\u001b[0m\u001b[0;34m\u001b[0m\u001b[0;34m\u001b[0m\u001b[0m\n\u001b[0;32m----> 2\u001b[0;31m \u001b[0mbrick\u001b[0m\u001b[0;34m.\u001b[0m\u001b[0mprintdnafeature\u001b[0m\u001b[0;34m(\u001b[0m\u001b[0;34m)\u001b[0m\u001b[0;34m\u001b[0m\u001b[0;34m\u001b[0m\u001b[0m\n\u001b[0m\u001b[1;32m      3\u001b[0m \u001b[0mprint\u001b[0m\u001b[0;34m(\u001b[0m\u001b[0;34m)\u001b[0m\u001b[0;34m\u001b[0m\u001b[0;34m\u001b[0m\u001b[0m\n\u001b[1;32m      4\u001b[0m \u001b[0msub_brick\u001b[0m\u001b[0;34m.\u001b[0m\u001b[0mprintdnafeature\u001b[0m\u001b[0;34m(\u001b[0m\u001b[0;34m)\u001b[0m\u001b[0;34m\u001b[0m\u001b[0;34m\u001b[0m\u001b[0m\n",
      "\u001b[0;31mAttributeError\u001b[0m: 'DNA' object has no attribute 'printdnafeature'"
     ]
    }
   ],
   "source": [
    "sub_brick = cropdna(brick, 1000, 2000,)\n",
    "brick.printdnafeature() \n",
    "print()\n",
    "sub_brick.printdnafeature() "
   ]
  },
  {
   "cell_type": "code",
   "execution_count": 14,
   "metadata": {},
   "outputs": [
    {
     "name": "stdout",
     "output_type": "stream",
     "text": [
      "Feature_ID  Label            Type         Start  End   Strand  Seq                      \n",
      "100         pBR322ori-F      primer_bind  117    137   +       GGGAAACGCCTGGTATCTTT     \n",
      "200         L4440            primer_bind  370    388   +       AGCGAGTCAGTGAGCGAG       \n",
      "600         M13/pUC Reverse  primer_bind  583    606   +       AGCGGATAACAATTTCACACAGG  \n",
      "700         M13 rev          primer_bind  602    619   +       CAGGAAACAGCTATGAC        \n",
      "800         M13 Reverse      primer_bind  602    619   +       CAGGAAACAGCTATGAC        \n",
      "1100        M13 Forward      primer_bind  688    706   -       TGTAAAACGACGGCCAGT       \n",
      "1200        M13 fwd          primer_bind  688    705   -       GTAAAACGACGGCCAGT        \n",
      "1300        M13/pUC Forward  primer_bind  697    720   -       CCCAGTCACGACGTTGTAAAACG  \n",
      "1400        pRS-marker       primer_bind  913    933   -       CGGCATCAGAGCAGATTGTA     \n",
      "1500        pGEX 3'          primer_bind  1032   1055  +       CCGGGAGCTGCATGTGTCAGAGG  \n",
      "1600        pBRforEco        primer_bind  1092   1111  -       AATAGGCGTATCACGAGGC      \n",
      "1900        Amp-R            primer_bind  1501   1521  -       ATAATACCGCGCCACATAGC     \n",
      "\n",
      "\n",
      "5' CAGGAAACAGCTATGACCATGATTACGCCAAGCTTGCATGCCTGCAGGTCGACTCTAGAGGATCCCCGGGTACCGAGCTCGAATTCACTGGCCGTCGTTTTACA 3'\n",
      "3' GTCCTTTGTCGATACTGGTACTAATGCGGTTCGAACGTACGGACGTCCAGCTGAGATCTCCTAGGGGCCCATGGCTCGAGCTTAAGTGACCGGCAGCAAAATGT 5'\n",
      "\n",
      "Feature_ID  Label                      Type          Start  End  Strand  \n",
      "0           pUC19:603..706:2686        source        0      104  +       \n",
      "600         M13/pUC Reverse:20..23:23  primer_bind   0      4    +       \n",
      "700         M13 rev                    primer_bind   0      17   +       \n",
      "800         M13 Reverse                primer_bind   0      17   +       \n",
      "900         lacZ-alpha:1..92:324       CDS           12     104  +       \n",
      "1000        MCS                        misc_feature  29     86   +       \n",
      "1100        M13 Forward                primer_bind   86     104  -       \n",
      "1200        M13 fwd                    primer_bind   86     103  -       \n",
      "1300        M13/pUC Forward:9..1:23    primer_bind   95     104  -       \n",
      "\n"
     ]
    }
   ],
   "source": [
    "brick.printdnafeature(feature_key=[\"primer_bind\"], with_seq=True)\n",
    "print()\n",
    "sub_brick = cropdna(brick,brick.finddna(\"800\")[0].sstart,brick.finddna(\"1100\")[0].send)\n",
    "sub_brick.printdnaseq(whole=True)\n",
    "sub_brick.printdnafeature() "
   ]
  },
  {
   "cell_type": "code",
   "execution_count": 15,
   "metadata": {},
   "outputs": [
    {
     "name": "stdout",
     "output_type": "stream",
     "text": [
      "5' ACGAGGGAGCTTCCAGGGGG 3'\n",
      "3' TGCTCCCTCGAAGGTCCCCC 5'\n",
      "\n",
      "5' ACGAGGGAGCTTCCAGGGGG 3'\n",
      "3' TGCTCCCTCGAAGGTCCCCC 5'\n",
      "\n",
      "5' ----GGGAGCTTCCAGGGGG 3'\n",
      "3' TGCTCCCTCGAAGGTCCC-- 5'\n",
      "\n",
      "5' ----GGACGAGGGAGCTTCCAGGGGG 3'\n",
      "3' CCCCCCTGCTCCCTCGAAGGTCCC-- 5'\n",
      "\n"
     ]
    }
   ],
   "source": [
    "sub_brick = cropdna(brick, 100, 120)\n",
    "sub_brick.printdnaseq()\n",
    "sub_brick_m = modifyends(sub_brick, \"\" ,\"\")\n",
    "sub_brick_m.printdnaseq()\n",
    "sub_brick_m = modifyends(sub_brick,\"----**/******\", \"******/****--\")\n",
    "sub_brick_m.printdnaseq()\n",
    "sub_brick_m = modifyends(sub_brick,\"----GG/CCCCCC\", \"******/****--\")\n",
    "sub_brick_m.printdnaseq()"
   ]
  },
  {
   "cell_type": "code",
   "execution_count": 16,
   "metadata": {},
   "outputs": [
    {
     "name": "stdout",
     "output_type": "stream",
     "text": [
      "5' ACGAGGGAGCTTCCAGGGGG 3'\n",
      "3' TGCTCCCTCGAAGGTCCCCC 5'\n",
      "\n"
     ]
    },
    {
     "ename": "TypeError",
     "evalue": "Please sepcify a proper sequence pattern for the 'left' argument",
     "output_type": "error",
     "traceback": [
      "\u001b[0;31m---------------------------------------------------------------------------\u001b[0m",
      "\u001b[0;31mTypeError\u001b[0m                                 Traceback (most recent call last)",
      "\u001b[0;32m<ipython-input-16-7fa3a75e4837>\u001b[0m in \u001b[0;36m<module>\u001b[0;34m\u001b[0m\n\u001b[1;32m      1\u001b[0m \u001b[0msub_brick\u001b[0m \u001b[0;34m=\u001b[0m \u001b[0mcropdna\u001b[0m\u001b[0;34m(\u001b[0m\u001b[0mbrick\u001b[0m\u001b[0;34m,\u001b[0m \u001b[0;36m100\u001b[0m\u001b[0;34m,\u001b[0m \u001b[0;36m120\u001b[0m\u001b[0;34m)\u001b[0m\u001b[0;34m\u001b[0m\u001b[0;34m\u001b[0m\u001b[0m\n\u001b[1;32m      2\u001b[0m \u001b[0msub_brick\u001b[0m\u001b[0;34m.\u001b[0m\u001b[0mprintdnaseq\u001b[0m\u001b[0;34m(\u001b[0m\u001b[0;34m)\u001b[0m\u001b[0;34m\u001b[0m\u001b[0;34m\u001b[0m\u001b[0m\n\u001b[0;32m----> 3\u001b[0;31m \u001b[0msub_brick\u001b[0m \u001b[0;34m=\u001b[0m \u001b[0mmodifyends\u001b[0m\u001b[0;34m(\u001b[0m\u001b[0msub_brick\u001b[0m\u001b[0;34m,\u001b[0m \u001b[0;34m\"******/****--\"\u001b[0m\u001b[0;34m,\u001b[0m \u001b[0;34m\"----**/******\"\u001b[0m\u001b[0;34m)\u001b[0m\u001b[0;34m\u001b[0m\u001b[0;34m\u001b[0m\u001b[0m\n\u001b[0m\u001b[1;32m      4\u001b[0m \u001b[0msub_brick\u001b[0m\u001b[0;34m.\u001b[0m\u001b[0mprintdnaseq\u001b[0m\u001b[0;34m(\u001b[0m\u001b[0;34m)\u001b[0m\u001b[0;34m\u001b[0m\u001b[0;34m\u001b[0m\u001b[0m\n",
      "\u001b[0;32m~/Dropbox (Yachie Lab)/HIDETO_MORI.LAB/Experiments/Project/Dbrick/github/dna.py\u001b[0m in \u001b[0;36mmodifyends\u001b[0;34m(dna, left, right, add, add_right, add_left)\u001b[0m\n\u001b[1;32m    599\u001b[0m         \u001b[0;32mpass\u001b[0m\u001b[0;34m\u001b[0m\u001b[0;34m\u001b[0m\u001b[0m\n\u001b[1;32m    600\u001b[0m     \u001b[0;32melse\u001b[0m\u001b[0;34m:\u001b[0m\u001b[0;34m\u001b[0m\u001b[0;34m\u001b[0m\u001b[0m\n\u001b[0;32m--> 601\u001b[0;31m         \u001b[0;32mraise\u001b[0m \u001b[0mTypeError\u001b[0m\u001b[0;34m(\u001b[0m\u001b[0;34m\"Please sepcify a proper sequence pattern for the 'left' argument\"\u001b[0m\u001b[0;34m)\u001b[0m\u001b[0;34m\u001b[0m\u001b[0;34m\u001b[0m\u001b[0m\n\u001b[0m\u001b[1;32m    602\u001b[0m \u001b[0;34m\u001b[0m\u001b[0m\n\u001b[1;32m    603\u001b[0m     \u001b[0;32mif\u001b[0m \u001b[0mpattern1\u001b[0m\u001b[0;34m.\u001b[0m\u001b[0mfullmatch\u001b[0m\u001b[0;34m(\u001b[0m\u001b[0mright_end\u001b[0m\u001b[0;34m)\u001b[0m \u001b[0;34m!=\u001b[0m \u001b[0;32mNone\u001b[0m \u001b[0;32mand\u001b[0m \u001b[0mpattern2\u001b[0m\u001b[0;34m.\u001b[0m\u001b[0msearch\u001b[0m\u001b[0;34m(\u001b[0m\u001b[0mright_end\u001b[0m\u001b[0;34m)\u001b[0m \u001b[0;32mis\u001b[0m \u001b[0;32mNone\u001b[0m \u001b[0;32mand\u001b[0m \u001b[0mpatternr1\u001b[0m\u001b[0;34m.\u001b[0m\u001b[0msearch\u001b[0m\u001b[0;34m(\u001b[0m\u001b[0mright_end\u001b[0m\u001b[0;34m)\u001b[0m \u001b[0;32mis\u001b[0m \u001b[0;32mNone\u001b[0m \u001b[0;32mand\u001b[0m \u001b[0mpatternr2\u001b[0m\u001b[0;34m.\u001b[0m\u001b[0msearch\u001b[0m\u001b[0;34m(\u001b[0m\u001b[0mright_end\u001b[0m\u001b[0;34m)\u001b[0m \u001b[0;32mis\u001b[0m \u001b[0;32mNone\u001b[0m\u001b[0;34m:\u001b[0m\u001b[0;34m\u001b[0m\u001b[0;34m\u001b[0m\u001b[0m\n",
      "\u001b[0;31mTypeError\u001b[0m: Please sepcify a proper sequence pattern for the 'left' argument"
     ]
    }
   ],
   "source": [
    "sub_brick = cropdna(brick, 100, 120)\n",
    "sub_brick.printdnaseq()  \n",
    "sub_brick = modifyends(sub_brick, \"******/****--\", \"----**/******\")\n",
    "sub_brick.printdnaseq()"
   ]
  },
  {
   "cell_type": "code",
   "execution_count": 17,
   "metadata": {},
   "outputs": [
    {
     "name": "stdout",
     "output_type": "stream",
     "text": [
      "5' ATGTACGACGAGGGAGCTTCCAGGGGGATGCTAC 3'\n",
      "3' TACATGCTGCTCCCTCGAAGGTCCCCCTACGATG 5'\n",
      "\n"
     ]
    }
   ],
   "source": [
    "#Source code (continued from previous one)#\n",
    "sub_brick = cropdna(brick, 100, 120)\n",
    "sub_brick = modifyends(sub_brick,\"ATGTACG\",\"ATGCTAC\")\n",
    "sub_brick.printdnaseq(whole=True) "
   ]
  },
  {
   "cell_type": "code",
   "execution_count": 18,
   "metadata": {},
   "outputs": [
    {
     "name": "stdout",
     "output_type": "stream",
     "text": [
      "5' ---ATGCACGAGGGAGCTTCCAGGGGGTACG--- 3'\n",
      "3' ATGTACGTGCTCCCTCGAAGGTCCCCCATGCTAC 5'\n",
      "\n"
     ]
    }
   ],
   "source": [
    "sub_brick = cropdna(brick, 100, 120)\n",
    "sub_brick = modifyends(sub_brick,\"---ATGC/ATGTACG\",\"TACG---/ATGCTAC\")\n",
    "sub_brick.printdnaseq() "
   ]
  },
  {
   "cell_type": "code",
   "execution_count": 19,
   "metadata": {},
   "outputs": [
    {
     "name": "stdout",
     "output_type": "stream",
     "text": [
      "2686\n",
      "5' AATTCACTGG...AGCTCG---- 3'\n",
      "3' ----GTGACC...TCGAGCTTAA 5'\n",
      "\n",
      "34\n"
     ]
    }
   ],
   "source": [
    "print(len(brick.seq))\n",
    "brick_EcoRI = modifyends(cutdna(brick, brick.finddna(\"GAATTC\")[0].sstart)[0],\"-*****/-----*\",\"G----/CTTAA\")\n",
    "brick_EcoRI.printdnaseq(whole=False)\n",
    "print(len(sub_brick.seq))"
   ]
  },
  {
   "cell_type": "code",
   "execution_count": 20,
   "metadata": {},
   "outputs": [
    {
     "name": "stdout",
     "output_type": "stream",
     "text": [
      "5' GAGCTCGAATTCACTGGCCGTCGTTTTACAACGTCGTGACTGGGAAAACCCTGGCGTTACCCAACTTAATCGCCTTGCAGCACATCCCCCTTTCGCCAGCTGGCGTAATAGCGAAGAGGCCCGCACCGATCGCCCTTCCCAACAGTTGCGCAGCCTGAATGGCGAATGGCGCCTGATGCGGTATTTTCTCCTTACGCATCTGTGCGGTATTTCACACCGCATATGGTGCACTCTCAGTACAATCTGCTCTGATGCCGCATAGTTAAGCCAGCCCCGACACCCGCCAACACCCGCTGACGCGCCCTGACGGGCTTGTCTGCTCCCGGCATCCGCTTACAGACAAGCTGTGACCGTCTCCGGGAGCTGCATGTGTCAGAGGTTTTCACCGTCATCACCGAAACGCGCGAGACGAAAGGGCCTCGTGATACGCCTATTTTTATAGGTTAATGTCATGATAATAATGGTTTCTTAGACGTCAGGTGGCACTTTTCGGGGAAATGTGCGCGGAACCCCTATTTGTTTATTTTTCTAAATACATTCAAATATGTATCCGCTCATGAGACAATAACCCTGATAAATGCTTCAATAATATTGAAAAAGGAAGAGTATGAGTATTCAACATTTCCGTGTCGCCCTTATTCCCTTTTTTGCGGCATTTTGCCTTCCTGTTTTTGCTCACCCAGAAACGCTGGTGAAAGTAAAAGATGCTGAAGATCAGTTGGGTGCACGAGTGGGTTACATCGAACTGGATCTCAACAGCGGTAAGATCCTTGAGAGTTTTCGCCCCGAAGAACGTTTTCCAATGATGAGCACTTTTAAAGTTCTGCTATGTGGCGCGGTATTATCCCGTATTGACGCCGGGCAAGAGCAACTCGGTCGCCGCATACACTATTCTCAGAATGACTTGGTTGAGTACTCACCAGTCACAGAAAAGCATCTTACGGATGGCATGACAGTAAGAGAATTATGCAGTGCTGCCATAACCATGAGTGATAACACTGCGGCCAACTTACTTCTGACAACGATCGGAGGACCGAAGGAGCTAACCGCTTTTTTGCACAACATGGGGGATCATGTAACTCGCCTTGATCGTTGGGAACCGGAGCTGAATGAAGCCATACCAAACGACGAGCGTGACACCACGATGCCTGTAGCAATGGCAACAACGTTGCGCAAACTATTAACTGGCGAACTACTTACTCTAGCTTCCCGGCAACAATTAATAGACTGGATGGAGGCGGATAAAGTTGCAGGACCACTTCTGCGCTCGGCCCTTCCGGCTGGCTGGTTTATTGCTGATAAATCTGGAGCCGGTGAGCGTGGGTCTCGCGGTATCATTGCAGCACTGGGGCCAGATGGTAAGCCCTCCCGTATCGTAGTTATCTACACGACGGGGAGTCAGGCAACTATGGATGAACGAAATAGACAGATCGCTGAGATAGGTGCCTCACTGATTAAGCATTGGTAACTGTCAGACCAAGTTTACTCATATATACTTTAGATTGATTTAAAACTTCATTTTTAATTTAAAAGGATCTAGGTGAAGATCCTTTTTGATAATCTCATGACCAAAATCCCTTAACGTGAGTTTTCGTTCCACTGAGCGTCAGACCCCGTAGAAAAGATCAAAGGATCTTCTTGAGATCCTTTTTTTCTGCGCGTAATCTGCTGCTTGCAAACAAAAAAACCACCGCTACCAGCGGTGGTTTGTTTGCCGGATCAAGAGCTACCAACTCTTTTTCCGAAGGTAACTGGCTTCAGCAGAGCGCAGATACCAAATACTGTTCTTCTAGTGTAGCCGTAGTTAGGCCACCACTTCAAGAACTCTGTAGCACCGCCTACATACCTCGCTCTGCTAATCCTGTTACCAGTGGCTGCTGCCAGTGGCGATAAGTCGTGTCTTACCGGGTTGGACTCAAGACGATAGTTACCGGATAAGGCGCAGCGGTCGGGCTGAACGGGGGGTTCGTGCACACAGCCCAGCTTGGAGCGAACGACCTACACCGAACTGAGATACCTACAGCGTGAGCTATGAGAAAGCGCCACGCTTCCCGAAGGGAGAAAGGCGGACAGGTATCCGGTAAGCGGCAGGGTCGGAACAGGAGAGCGCACGAGGGAGCTTCCAGGGGGAAACGCCTGGTATCTTTATAGTCCTGTCGGGTTTCGCCACCTCTGACTTGAGCGTCGATTTTTGTGATGCTCGTCAGGGGGGCGGAGCCTATGGAAAAACGCCAGCAACGCGGCCTTTTTACGGTTCCTGGCCTTTTGCTGGCCTTTTGCTCACATGTTCTTTCCTGCGTTATCCCCTGATTCTGTGGATAACCGTATTACCGCCTTTGAGTGAGCTGATACCGCTCGCCGCAGCCGAACGACCGAGCGCAGCGAGTCAGTGAGCGAGGAAGCGGAAGAGCGCCCAATACGCAAACCGCCTCTCCCCGCGCGTTGGCCGATTCATTAATGCAGCTGGCACGACAGGTTTCCCGACTGGAAAGCGGGCAGTGAGCGCAACGCAATTAATGTGAGTTAGCTCACTCATTAGGCACCCCAGGCTTTACACTTTATGCTTCCGGCTCGTATGTTGTGTGGAATTGTGAGCGGATAACAATTTCACACAGGAAACAGCTATGACCATGATTACGCCAAGCTTGCATGCCTGCAGGTCGAC 3'\n",
      "3' CTCGAGCTTAAGTGACCGGCAGCAAAATGTTGCAGCACTGACCCTTTTGGGACCGCAATGGGTTGAATTAGCGGAACGTCGTGTAGGGGGAAAGCGGTCGACCGCATTATCGCTTCTCCGGGCGTGGCTAGCGGGAAGGGTTGTCAACGCGTCGGACTTACCGCTTACCGCGGACTACGCCATAAAAGAGGAATGCGTAGACACGCCATAAAGTGTGGCGTATACCACGTGAGAGTCATGTTAGACGAGACTACGGCGTATCAATTCGGTCGGGGCTGTGGGCGGTTGTGGGCGACTGCGCGGGACTGCCCGAACAGACGAGGGCCGTAGGCGAATGTCTGTTCGACACTGGCAGAGGCCCTCGACGTACACAGTCTCCAAAAGTGGCAGTAGTGGCTTTGCGCGCTCTGCTTTCCCGGAGCACTATGCGGATAAAAATATCCAATTACAGTACTATTATTACCAAAGAATCTGCAGTCCACCGTGAAAAGCCCCTTTACACGCGCCTTGGGGATAAACAAATAAAAAGATTTATGTAAGTTTATACATAGGCGAGTACTCTGTTATTGGGACTATTTACGAAGTTATTATAACTTTTTCCTTCTCATACTCATAAGTTGTAAAGGCACAGCGGGAATAAGGGAAAAAACGCCGTAAAACGGAAGGACAAAAACGAGTGGGTCTTTGCGACCACTTTCATTTTCTACGACTTCTAGTCAACCCACGTGCTCACCCAATGTAGCTTGACCTAGAGTTGTCGCCATTCTAGGAACTCTCAAAAGCGGGGCTTCTTGCAAAAGGTTACTACTCGTGAAAATTTCAAGACGATACACCGCGCCATAATAGGGCATAACTGCGGCCCGTTCTCGTTGAGCCAGCGGCGTATGTGATAAGAGTCTTACTGAACCAACTCATGAGTGGTCAGTGTCTTTTCGTAGAATGCCTACCGTACTGTCATTCTCTTAATACGTCACGACGGTATTGGTACTCACTATTGTGACGCCGGTTGAATGAAGACTGTTGCTAGCCTCCTGGCTTCCTCGATTGGCGAAAAAACGTGTTGTACCCCCTAGTACATTGAGCGGAACTAGCAACCCTTGGCCTCGACTTACTTCGGTATGGTTTGCTGCTCGCACTGTGGTGCTACGGACATCGTTACCGTTGTTGCAACGCGTTTGATAATTGACCGCTTGATGAATGAGATCGAAGGGCCGTTGTTAATTATCTGACCTACCTCCGCCTATTTCAACGTCCTGGTGAAGACGCGAGCCGGGAAGGCCGACCGACCAAATAACGACTATTTAGACCTCGGCCACTCGCACCCAGAGCGCCATAGTAACGTCGTGACCCCGGTCTACCATTCGGGAGGGCATAGCATCAATAGATGTGCTGCCCCTCAGTCCGTTGATACCTACTTGCTTTATCTGTCTAGCGACTCTATCCACGGAGTGACTAATTCGTAACCATTGACAGTCTGGTTCAAATGAGTATATATGAAATCTAACTAAATTTTGAAGTAAAAATTAAATTTTCCTAGATCCACTTCTAGGAAAAACTATTAGAGTACTGGTTTTAGGGAATTGCACTCAAAAGCAAGGTGACTCGCAGTCTGGGGCATCTTTTCTAGTTTCCTAGAAGAACTCTAGGAAAAAAAGACGCGCATTAGACGACGAACGTTTGTTTTTTTGGTGGCGATGGTCGCCACCAAACAAACGGCCTAGTTCTCGATGGTTGAGAAAAAGGCTTCCATTGACCGAAGTCGTCTCGCGTCTATGGTTTATGACAAGAAGATCACATCGGCATCAATCCGGTGGTGAAGTTCTTGAGACATCGTGGCGGATGTATGGAGCGAGACGATTAGGACAATGGTCACCGACGACGGTCACCGCTATTCAGCACAGAATGGCCCAACCTGAGTTCTGCTATCAATGGCCTATTCCGCGTCGCCAGCCCGACTTGCCCCCCAAGCACGTGTGTCGGGTCGAACCTCGCTTGCTGGATGTGGCTTGACTCTATGGATGTCGCACTCGATACTCTTTCGCGGTGCGAAGGGCTTCCCTCTTTCCGCCTGTCCATAGGCCATTCGCCGTCCCAGCCTTGTCCTCTCGCGTGCTCCCTCGAAGGTCCCCCTTTGCGGACCATAGAAATATCAGGACAGCCCAAAGCGGTGGAGACTGAACTCGCAGCTAAAAACACTACGAGCAGTCCCCCCGCCTCGGATACCTTTTTGCGGTCGTTGCGCCGGAAAAATGCCAAGGACCGGAAAACGACCGGAAAACGAGTGTACAAGAAAGGACGCAATAGGGGACTAAGACACCTATTGGCATAATGGCGGAAACTCACTCGACTATGGCGAGCGGCGTCGGCTTGCTGGCTCGCGTCGCTCAGTCACTCGCTCCTTCGCCTTCTCGCGGGTTATGCGTTTGGCGGAGAGGGGCGCGCAACCGGCTAAGTAATTACGTCGACCGTGCTGTCCAAAGGGCTGACCTTTCGCCCGTCACTCGCGTTGCGTTAATTACACTCAATCGAGTGAGTAATCCGTGGGGTCCGAAATGTGAAATACGAAGGCCGAGCATACAACACACCTTAACACTCGCCTATTGTTAAAGTGTGTCCTTTGTCGATACTGGTACTAATGCGGTTCGAACGTACGGACGTCCAGCTG 5'\n",
      "\n",
      "5' ----CGAATTCACTGGCCGTCGTTTTACAACGTCGTGACTGGGAAAACCCTGGCGTTACCCAACTTAATCGCCTTGCAGCACATCCCCCTTTCGCCAGCTGGCGTAATAGCGAAGAGGCCCGCACCGATCGCCCTTCCCAACAGTTGCGCAGCCTGAATGGCGAATGGCGCCTGATGCGGTATTTTCTCCTTACGCATCTGTGCGGTATTTCACACCGCATATGGTGCACTCTCAGTACAATCTGCTCTGATGCCGCATAGTTAAGCCAGCCCCGACACCCGCCAACACCCGCTGACGCGCCCTGACGGGCTTGTCTGCTCCCGGCATCCGCTTACAGACAAGCTGTGACCGTCTCCGGGAGCTGCATGTGTCAGAGGTTTTCACCGTCATCACCGAAACGCGCGAGACGAAAGGGCCTCGTGATACGCCTATTTTTATAGGTTAATGTCATGATAATAATGGTTTCTTAGACGTCAGGTGGCACTTTTCGGGGAAATGTGCGCGGAACCCCTATTTGTTTATTTTTCTAAATACATTCAAATATGTATCCGCTCATGAGACAATAACCCTGATAAATGCTTCAATAATATTGAAAAAGGAAGAGTATGAGTATTCAACATTTCCGTGTCGCCCTTATTCCCTTTTTTGCGGCATTTTGCCTTCCTGTTTTTGCTCACCCAGAAACGCTGGTGAAAGTAAAAGATGCTGAAGATCAGTTGGGTGCACGAGTGGGTTACATCGAACTGGATCTCAACAGCGGTAAGATCCTTGAGAGTTTTCGCCCCGAAGAACGTTTTCCAATGATGAGCACTTTTAAAGTTCTGCTATGTGGCGCGGTATTATCCCGTATTGACGCCGGGCAAGAGCAACTCGGTCGCCGCATACACTATTCTCAGAATGACTTGGTTGAGTACTCACCAGTCACAGAAAAGCATCTTACGGATGGCATGACAGTAAGAGAATTATGCAGTGCTGCCATAACCATGAGTGATAACACTGCGGCCAACTTACTTCTGACAACGATCGGAGGACCGAAGGAGCTAACCGCTTTTTTGCACAACATGGGGGATCATGTAACTCGCCTTGATCGTTGGGAACCGGAGCTGAATGAAGCCATACCAAACGACGAGCGTGACACCACGATGCCTGTAGCAATGGCAACAACGTTGCGCAAACTATTAACTGGCGAACTACTTACTCTAGCTTCCCGGCAACAATTAATAGACTGGATGGAGGCGGATAAAGTTGCAGGACCACTTCTGCGCTCGGCCCTTCCGGCTGGCTGGTTTATTGCTGATAAATCTGGAGCCGGTGAGCGTGGGTCTCGCGGTATCATTGCAGCACTGGGGCCAGATGGTAAGCCCTCCCGTATCGTAGTTATCTACACGACGGGGAGTCAGGCAACTATGGATGAACGAAATAGACAGATCGCTGAGATAGGTGCCTCACTGATTAAGCATTGGTAACTGTCAGACCAAGTTTACTCATATATACTTTAGATTGATTTAAAACTTCATTTTTAATTTAAAAGGATCTAGGTGAAGATCCTTTTTGATAATCTCATGACCAAAATCCCTTAACGTGAGTTTTCGTTCCACTGAGCGTCAGACCCCGTAGAAAAGATCAAAGGATCTTCTTGAGATCCTTTTTTTCTGCGCGTAATCTGCTGCTTGCAAACAAAAAAACCACCGCTACCAGCGGTGGTTTGTTTGCCGGATCAAGAGCTACCAACTCTTTTTCCGAAGGTAACTGGCTTCAGCAGAGCGCAGATACCAAATACTGTTCTTCTAGTGTAGCCGTAGTTAGGCCACCACTTCAAGAACTCTGTAGCACCGCCTACATACCTCGCTCTGCTAATCCTGTTACCAGTGGCTGCTGCCAGTGGCGATAAGTCGTGTCTTACCGGGTTGGACTCAAGACGATAGTTACCGGATAAGGCGCAGCGGTCGGGCTGAACGGGGGGTTCGTGCACACAGCCCAGCTTGGAGCGAACGACCTACACCGAACTGAGATACCTACAGCGTGAGCTATGAGAAAGCGCCACGCTTCCCGAAGGGAGAAAGGCGGACAGGTATCCGGTAAGCGGCAGGGTCGGAACAGGAGAGCGCACGAGGGAGCTTCCAGGGGGAAACGCCTGGTATCTTTATAGTCCTGTCGGGTTTCGCCACCTCTGACTTGAGCGTCGATTTTTGTGATGCTCGTCAGGGGGGCGGAGCCTATGGAAAAACGCCAGCAACGCGGCCTTTTTACGGTTCCTGGCCTTTTGCTGGCCTTTTGCTCACATGTTCTTTCCTGCGTTATCCCCTGATTCTGTGGATAACCGTATTACCGCCTTTGAGTGAGCTGATACCGCTCGCCGCAGCCGAACGACCGAGCGCAGCGAGTCAGTGAGCGAGGAAGCGGAAGAGCGCCCAATACGCAAACCGCCTCTCCCCGCGCGTTGGCCGATTCATTAATGCAGCTGGCACGACAGGTTTCCCGACTGGAAAGCGGGCAGTGAGCGCAACGCAATTAATGTGAGTTAGCTCACTCATTAGGCACCCCAGGCTTTACACTTTATGCTTCCGGCTCGTATGTTGTGTGGAATTGTGAGCGGATAACAATTTCACACAGGAAACAGCTATGACCATGATTACGCCAAGCTTGCATGCCTGCAGG---- 3'\n",
      "3' TCGAGCTTAAGTGACCGGCAGCAAAATGTTGCAGCACTGACCCTTTTGGGACCGCAATGGGTTGAATTAGCGGAACGTCGTGTAGGGGGAAAGCGGTCGACCGCATTATCGCTTCTCCGGGCGTGGCTAGCGGGAAGGGTTGTCAACGCGTCGGACTTACCGCTTACCGCGGACTACGCCATAAAAGAGGAATGCGTAGACACGCCATAAAGTGTGGCGTATACCACGTGAGAGTCATGTTAGACGAGACTACGGCGTATCAATTCGGTCGGGGCTGTGGGCGGTTGTGGGCGACTGCGCGGGACTGCCCGAACAGACGAGGGCCGTAGGCGAATGTCTGTTCGACACTGGCAGAGGCCCTCGACGTACACAGTCTCCAAAAGTGGCAGTAGTGGCTTTGCGCGCTCTGCTTTCCCGGAGCACTATGCGGATAAAAATATCCAATTACAGTACTATTATTACCAAAGAATCTGCAGTCCACCGTGAAAAGCCCCTTTACACGCGCCTTGGGGATAAACAAATAAAAAGATTTATGTAAGTTTATACATAGGCGAGTACTCTGTTATTGGGACTATTTACGAAGTTATTATAACTTTTTCCTTCTCATACTCATAAGTTGTAAAGGCACAGCGGGAATAAGGGAAAAAACGCCGTAAAACGGAAGGACAAAAACGAGTGGGTCTTTGCGACCACTTTCATTTTCTACGACTTCTAGTCAACCCACGTGCTCACCCAATGTAGCTTGACCTAGAGTTGTCGCCATTCTAGGAACTCTCAAAAGCGGGGCTTCTTGCAAAAGGTTACTACTCGTGAAAATTTCAAGACGATACACCGCGCCATAATAGGGCATAACTGCGGCCCGTTCTCGTTGAGCCAGCGGCGTATGTGATAAGAGTCTTACTGAACCAACTCATGAGTGGTCAGTGTCTTTTCGTAGAATGCCTACCGTACTGTCATTCTCTTAATACGTCACGACGGTATTGGTACTCACTATTGTGACGCCGGTTGAATGAAGACTGTTGCTAGCCTCCTGGCTTCCTCGATTGGCGAAAAAACGTGTTGTACCCCCTAGTACATTGAGCGGAACTAGCAACCCTTGGCCTCGACTTACTTCGGTATGGTTTGCTGCTCGCACTGTGGTGCTACGGACATCGTTACCGTTGTTGCAACGCGTTTGATAATTGACCGCTTGATGAATGAGATCGAAGGGCCGTTGTTAATTATCTGACCTACCTCCGCCTATTTCAACGTCCTGGTGAAGACGCGAGCCGGGAAGGCCGACCGACCAAATAACGACTATTTAGACCTCGGCCACTCGCACCCAGAGCGCCATAGTAACGTCGTGACCCCGGTCTACCATTCGGGAGGGCATAGCATCAATAGATGTGCTGCCCCTCAGTCCGTTGATACCTACTTGCTTTATCTGTCTAGCGACTCTATCCACGGAGTGACTAATTCGTAACCATTGACAGTCTGGTTCAAATGAGTATATATGAAATCTAACTAAATTTTGAAGTAAAAATTAAATTTTCCTAGATCCACTTCTAGGAAAAACTATTAGAGTACTGGTTTTAGGGAATTGCACTCAAAAGCAAGGTGACTCGCAGTCTGGGGCATCTTTTCTAGTTTCCTAGAAGAACTCTAGGAAAAAAAGACGCGCATTAGACGACGAACGTTTGTTTTTTTGGTGGCGATGGTCGCCACCAAACAAACGGCCTAGTTCTCGATGGTTGAGAAAAAGGCTTCCATTGACCGAAGTCGTCTCGCGTCTATGGTTTATGACAAGAAGATCACATCGGCATCAATCCGGTGGTGAAGTTCTTGAGACATCGTGGCGGATGTATGGAGCGAGACGATTAGGACAATGGTCACCGACGACGGTCACCGCTATTCAGCACAGAATGGCCCAACCTGAGTTCTGCTATCAATGGCCTATTCCGCGTCGCCAGCCCGACTTGCCCCCCAAGCACGTGTGTCGGGTCGAACCTCGCTTGCTGGATGTGGCTTGACTCTATGGATGTCGCACTCGATACTCTTTCGCGGTGCGAAGGGCTTCCCTCTTTCCGCCTGTCCATAGGCCATTCGCCGTCCCAGCCTTGTCCTCTCGCGTGCTCCCTCGAAGGTCCCCCTTTGCGGACCATAGAAATATCAGGACAGCCCAAAGCGGTGGAGACTGAACTCGCAGCTAAAAACACTACGAGCAGTCCCCCCGCCTCGGATACCTTTTTGCGGTCGTTGCGCCGGAAAAATGCCAAGGACCGGAAAACGACCGGAAAACGAGTGTACAAGAAAGGACGCAATAGGGGACTAAGACACCTATTGGCATAATGGCGGAAACTCACTCGACTATGGCGAGCGGCGTCGGCTTGCTGGCTCGCGTCGCTCAGTCACTCGCTCCTTCGCCTTCTCGCGGGTTATGCGTTTGGCGGAGAGGGGCGCGCAACCGGCTAAGTAATTACGTCGACCGTGCTGTCCAAAGGGCTGACCTTTCGCCCGTCACTCGCGTTGCGTTAATTACACTCAATCGAGTGAGTAATCCGTGGGGTCCGAAATGTGAAATACGAAGGCCGAGCATACAACACACCTTAACACTCGCCTATTGTTAAAGTGTGTCCTTTGTCGATACTGGTACTAATGCGGTTCGAACGTACGGACGTCCAGCT 5'\n",
      "\n",
      "2663\n"
     ]
    }
   ],
   "source": [
    "SacI = \"GAGCTC\"\n",
    "SalI = \"GTCGAC\"\n",
    "sub_brick = cropdna(brick, brick.finddna(SacI)[0].sstart, brick.finddna(SalI)[0].send) \n",
    "sub_brick.printdnaseq() \n",
    "sub_brick = modifyends(sub_brick, \"-----*/-*****\", \"*-----/*****-\") \n",
    "sub_brick.printdnaseq()\n",
    "print(len(sub_brick.seq))"
   ]
  },
  {
   "cell_type": "code",
   "execution_count": 21,
   "metadata": {},
   "outputs": [
    {
     "name": "stdout",
     "output_type": "stream",
     "text": [
      "5' GAGCTCATGTCCACCAACTTATCAGTGATAAAGAATCCGCGCGTTCAATCGGACCAGCGGAGGCTGGTCCGGAGGCCAGACGTGAAACCCAACATACCCCTGATCGTAATTCTGAGGTCGACTCTAGAGGATCCCCGGGTACCGGTCGCCACCATGGTGAGCAAGGGCGAGGAGCTGTTCACCGGGGTGGTGCCCATCCTGGGTCGAGCTGGACGGCGACGTAAACGGCCACAAGTTCAGCGTGTCCGGCGAGGGCGAGGGCGATGCCACCTACGGCAAGCTGACCCTGAAGTTCATCTGCACCACCGGCAAGCTGCCCGTGCCCTGGCCCACCCTCGTGACCACCCTGACCTACGGCGTGCAGTGCTTCAGCCGCTACCCCGACCACATGAAGCAGCACGACTTCTTCAAGTCCGCCATGCCCGAAGGCTACGTCCAGGAGCGCACCATCTTCTTCAAGGACGACGGCAACTACAAGACCCGCGCCGAGGTGAAGTTCGAGGGCGACACCCTGGTGAACCGCATCGAGCTGAAGGGCATCGACTTCAAGGAGGACGGCAACATCCTGGGGCACAAGCTGGAGTACAACTACAACAGCCACAACGTCTATATCATGGCCGACAAGCAGAAGAACGGCATCAAGGTGAACTTCAAGATCCGCCACAACATCGAGGACGGCAGCGTGCAGCTCGCCGACCACTACCAGCAGAACACCCCCATCGGCGACGGCCCCGTGCTGCTGCCCGACAACCACTACCTGAGCACCCAGTCCGCCCTGAGCAAAGACCCCAACGAGAAGCGCGATCACATGGTCCTGCTGGAATTCCAACTGAGCGCCGGTCGCTACCATTACCAACTTGTCTGGTGTCAAAAATAATAGGCCTACTAGTCGGCCGTACGGGCCCTTTCGTCTCGCGCGTTTCGGTGATGACGGTGAAAACCTCTGACACATGCAGCTCCCGGAGACGGTCACAGCTTGTCTGTAAGCGGATGCCGGGAGCAGACAAGCCCGTCAGGGCGCGTCAGCGGGTGTTGGCGGGTGTCGGGGCTGGCTTAACTATGCGGCATCAGAGCAGATTGTACTGAGTCGAC 3'\n",
      "3' CTCGAGTACAGGTGGTTGAATAGTCACTATTTCTTAGGCGCGCAAGTTAGCCTGGTCGCCTCCGACCAGGCCTCCGGTCTGCACTTTGGGTTGTATGGGGACTAGCATTAAGACTCCAGCTGAGATCTCCTAGGGGCCCATGGCCAGCGGTGGTACCACTCGTTCCCGCTCCTCGACAAGTGGCCCCACCACGGGTAGGACCCAGCTCGACCTGCCGCTGCATTTGCCGGTGTTCAAGTCGCACAGGCCGCTCCCGCTCCCGCTACGGTGGATGCCGTTCGACTGGGACTTCAAGTAGACGTGGTGGCCGTTCGACGGGCACGGGACCGGGTGGGAGCACTGGTGGGACTGGATGCCGCACGTCACGAAGTCGGCGATGGGGCTGGTGTACTTCGTCGTGCTGAAGAAGTTCAGGCGGTACGGGCTTCCGATGCAGGTCCTCGCGTGGTAGAAGAAGTTCCTGCTGCCGTTGATGTTCTGGGCGCGGCTCCACTTCAAGCTCCCGCTGTGGGACCACTTGGCGTAGCTCGACTTCCCGTAGCTGAAGTTCCTCCTGCCGTTGTAGGACCCCGTGTTCGACCTCATGTTGATGTTGTCGGTGTTGCAGATATAGTACCGGCTGTTCGTCTTCTTGCCGTAGTTCCACTTGAAGTTCTAGGCGGTGTTGTAGCTCCTGCCGTCGCACGTCGAGCGGCTGGTGATGGTCGTCTTGTGGGGGTAGCCGCTGCCGGGGCACGACGACGGGCTGTTGGTGATGGACTCGTGGGTCAGGCGGGACTCGTTTCTGGGGTTGCTCTTCGCGCTAGTGTACCAGGACGACCTTAAGGTTGACTCGCGGCCAGCGATGGTAATGGTTGAACAGACCACAGTTTTTATTATCCGGATGATCAGCCGGCATGCCCGGGAAAGCAGAGCGCGCAAAGCCACTACTGCCACTTTTGGAGACTGTGTACGTCGAGGGCCTCTGCCAGTGTCGAACAGACATTCGCCTACGGCCCTCGTCTGTTCGGGCAGTCCCGCGCAGTCGCCCACAACCGCCCACAGCCCCGACCGAATTGATACGCCGTAGTCTCGTCTAACATGACTCAGCTG 5'\n",
      "\n",
      "5' ----CATGTCCACCAACTTATCAGTGATAAAGAATCCGCGCGTTCAATCGGACCAGCGGAGGCTGGTCCGGAGGCCAGACGTGAAACCCAACATACCCCTGATCGTAATTCTGAGGTCGACTCTAGAGGATCCCCGGGTACCGGTCGCCACCATGGTGAGCAAGGGCGAGGAGCTGTTCACCGGGGTGGTGCCCATCCTGGGTCGAGCTGGACGGCGACGTAAACGGCCACAAGTTCAGCGTGTCCGGCGAGGGCGAGGGCGATGCCACCTACGGCAAGCTGACCCTGAAGTTCATCTGCACCACCGGCAAGCTGCCCGTGCCCTGGCCCACCCTCGTGACCACCCTGACCTACGGCGTGCAGTGCTTCAGCCGCTACCCCGACCACATGAAGCAGCACGACTTCTTCAAGTCCGCCATGCCCGAAGGCTACGTCCAGGAGCGCACCATCTTCTTCAAGGACGACGGCAACTACAAGACCCGCGCCGAGGTGAAGTTCGAGGGCGACACCCTGGTGAACCGCATCGAGCTGAAGGGCATCGACTTCAAGGAGGACGGCAACATCCTGGGGCACAAGCTGGAGTACAACTACAACAGCCACAACGTCTATATCATGGCCGACAAGCAGAAGAACGGCATCAAGGTGAACTTCAAGATCCGCCACAACATCGAGGACGGCAGCGTGCAGCTCGCCGACCACTACCAGCAGAACACCCCCATCGGCGACGGCCCCGTGCTGCTGCCCGACAACCACTACCTGAGCACCCAGTCCGCCCTGAGCAAAGACCCCAACGAGAAGCGCGATCACATGGTCCTGCTGGAATTCCAACTGAGCGCCGGTCGCTACCATTACCAACTTGTCTGGTGTCAAAAATAATAGGCCTACTAGTCGGCCGTACGGGCCCTTTCGTCTCGCGCGTTTCGGTGATGACGGTGAAAACCTCTGACACATGCAGCTCCCGGAGACGGTCACAGCTTGTCTGTAAGCGGATGCCGGGAGCAGACAAGCCCGTCAGGGCGCGTCAGCGGGTGTTGGCGGGTGTCGGGGCTGGCTTAACTATGCGGCATCAGAGCAGATTGTACTGAG---- 3'\n",
      "3' TCGAGTACAGGTGGTTGAATAGTCACTATTTCTTAGGCGCGCAAGTTAGCCTGGTCGCCTCCGACCAGGCCTCCGGTCTGCACTTTGGGTTGTATGGGGACTAGCATTAAGACTCCAGCTGAGATCTCCTAGGGGCCCATGGCCAGCGGTGGTACCACTCGTTCCCGCTCCTCGACAAGTGGCCCCACCACGGGTAGGACCCAGCTCGACCTGCCGCTGCATTTGCCGGTGTTCAAGTCGCACAGGCCGCTCCCGCTCCCGCTACGGTGGATGCCGTTCGACTGGGACTTCAAGTAGACGTGGTGGCCGTTCGACGGGCACGGGACCGGGTGGGAGCACTGGTGGGACTGGATGCCGCACGTCACGAAGTCGGCGATGGGGCTGGTGTACTTCGTCGTGCTGAAGAAGTTCAGGCGGTACGGGCTTCCGATGCAGGTCCTCGCGTGGTAGAAGAAGTTCCTGCTGCCGTTGATGTTCTGGGCGCGGCTCCACTTCAAGCTCCCGCTGTGGGACCACTTGGCGTAGCTCGACTTCCCGTAGCTGAAGTTCCTCCTGCCGTTGTAGGACCCCGTGTTCGACCTCATGTTGATGTTGTCGGTGTTGCAGATATAGTACCGGCTGTTCGTCTTCTTGCCGTAGTTCCACTTGAAGTTCTAGGCGGTGTTGTAGCTCCTGCCGTCGCACGTCGAGCGGCTGGTGATGGTCGTCTTGTGGGGGTAGCCGCTGCCGGGGCACGACGACGGGCTGTTGGTGATGGACTCGTGGGTCAGGCGGGACTCGTTTCTGGGGTTGCTCTTCGCGCTAGTGTACCAGGACGACCTTAAGGTTGACTCGCGGCCAGCGATGGTAATGGTTGAACAGACCACAGTTTTTATTATCCGGATGATCAGCCGGCATGCCCGGGAAAGCAGAGCGCGCAAAGCCACTACTGCCACTTTTGGAGACTGTGTACGTCGAGGGCCTCTGCCAGTGTCGAACAGACATTCGCCTACGGCCCTCGTCTGTTCGGGCAGTCCCGCGCAGTCGCCCACAACCGCCCACAGCCCCGACCGAATTGATACGCCGTAGTCTCGTCTAACATGACTCAGCT 5'\n",
      "\n",
      "3753\n"
     ]
    }
   ],
   "source": [
    "SacI = \"GAGCTC\"\n",
    "SalI = \"GTCGAC\"\n",
    "EGFP = DNA(record=\"EGFP.fasta\") \n",
    "EGFP.adddnafeature(0,len(EGFP.seq),qualifiers={\"label\":\"EGFP\"})\n",
    "EGFP = modifyends(EGFP, SacI, SalI) \n",
    "EGFP.printdnaseq() \n",
    "EGFP = modifyends(EGFP, \"-----*/-*****\", \"*-----/*****-\")\n",
    "EGFP.printdnaseq() \n",
    "product = joindna(EGFP, sub_brick, topology=\"circular\")\n",
    "print(len(product.seq))"
   ]
  },
  {
   "cell_type": "code",
   "execution_count": 22,
   "metadata": {},
   "outputs": [
    {
     "name": "stdout",
     "output_type": "stream",
     "text": [
      "Feature_ID  Label                   Type          Start  End   Strand  \n",
      "0           EGFP                    misc_feature  5      1085  +       \n",
      "100         MCS:47..57:57           misc_feature  1090   1101  +       \n",
      "200         lacZ-alpha:64..324:324  CDS           1090   1351  +       \n",
      "300         pUC19:678..654:2686     source        1090   3753  +       \n",
      "400         M13 fwd                 primer_bind   1101   1118  -       \n",
      "500         M13 Forward             primer_bind   1101   1119  -       \n",
      "600         M13/pUC Forward         primer_bind   1110   1133  -       \n",
      "700         pRS-marker              primer_bind   1326   1346  -       \n",
      "800         pGEX 3'                 primer_bind   1445   1468  +       \n",
      "900         pBRforEco               primer_bind   1505   1524  -       \n",
      "1000        AmpR promoter           promoter      1591   1696  +       \n",
      "1100        AmpR                    CDS           1696   2557  +       \n",
      "1200        Amp-R                   primer_bind   1914   1934  -       \n",
      "1300        ori                     rep_origin    2727   3316  +       \n",
      "1400        feat2                   misc_feature  3063   3109  +       \n",
      "1500        pBR322ori-F             primer_bind   3216   3236  +       \n",
      "1600        L4440                   primer_bind   3469   3487  +       \n",
      "1700        CAP binding site        protein_bind  3603   3625  +       \n",
      "1800        lac promoter            promoter      3639   3670  +       \n",
      "1900        lac operator            protein_bind  3677   3694  +       \n",
      "2000        M13/pUC Reverse         primer_bind   3682   3705  +       \n",
      "2100        M13 rev                 primer_bind   3701   3718  +       \n",
      "2200        M13 Reverse             primer_bind   3701   3718  +       \n",
      "2300        lacZ-alpha:1..40:324    CDS           3713   3753  +       \n",
      "2400        MCS:1..23:57            misc_feature  3730   3753  +       \n",
      "\n"
     ]
    }
   ],
   "source": [
    "product.printdnafeature()"
   ]
  },
  {
   "cell_type": "code",
   "execution_count": 23,
   "metadata": {},
   "outputs": [],
   "source": [
    "product_shifted = joindna(cutdna(product, 2727)[0])"
   ]
  },
  {
   "cell_type": "code",
   "execution_count": 24,
   "metadata": {},
   "outputs": [
    {
     "name": "stdout",
     "output_type": "stream",
     "text": [
      "Feature_ID  Label                   Type          Start  End   Strand  \n",
      "0           ori                     rep_origin    0      589   +       \n",
      "200         feat2                   misc_feature  336    382   +       \n",
      "300         pBR322ori-F             primer_bind   489    509   +       \n",
      "400         L4440                   primer_bind   742    760   +       \n",
      "500         CAP binding site        protein_bind  876    898   +       \n",
      "600         lac promoter            promoter      912    943   +       \n",
      "700         lac operator            protein_bind  950    967   +       \n",
      "800         M13/pUC Reverse         primer_bind   955    978   +       \n",
      "1000        M13 Reverse             primer_bind   974    991   +       \n",
      "900         M13 rev                 primer_bind   974    991   +       \n",
      "1100        lacZ-alpha:1..40:324    CDS           986    1026  +       \n",
      "1200        MCS:1..23:57            misc_feature  1003   1026  +       \n",
      "1300        EGFP                    misc_feature  1031   2111  +       \n",
      "100         pUC19:2315..654:2686    source        2116   1026  +       \n",
      "1400        MCS:47..57:57           misc_feature  2116   2127  +       \n",
      "1500        lacZ-alpha:64..324:324  CDS           2116   2377  +       \n",
      "1700        M13 fwd                 primer_bind   2127   2144  -       \n",
      "1800        M13 Forward             primer_bind   2127   2145  -       \n",
      "1900        M13/pUC Forward         primer_bind   2136   2159  -       \n",
      "2000        pRS-marker              primer_bind   2352   2372  -       \n",
      "2100        pGEX 3'                 primer_bind   2471   2494  +       \n",
      "2200        pBRforEco               primer_bind   2531   2550  -       \n",
      "2300        AmpR promoter           promoter      2617   2722  +       \n",
      "2400        AmpR                    CDS           2722   3583  +       \n",
      "2500        Amp-R                   primer_bind   2940   2960  -       \n",
      "\n"
     ]
    }
   ],
   "source": [
    "product_shifted.printdnafeature()"
   ]
  },
  {
   "cell_type": "code",
   "execution_count": null,
   "metadata": {},
   "outputs": [],
   "source": []
  }
 ],
 "metadata": {
  "kernelspec": {
   "display_name": "Python 3",
   "language": "python",
   "name": "python3"
  },
  "language_info": {
   "codemirror_mode": {
    "name": "ipython",
    "version": 3
   },
   "file_extension": ".py",
   "mimetype": "text/x-python",
   "name": "python",
   "nbconvert_exporter": "python",
   "pygments_lexer": "ipython3",
   "version": "3.9.1"
  }
 },
 "nbformat": 4,
 "nbformat_minor": 4
}
