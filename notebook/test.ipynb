{
 "cells": [
  {
   "cell_type": "code",
   "execution_count": 1,
   "metadata": {},
   "outputs": [],
   "source": [
    "import sys\n",
    "sys.path.append(\"../\")\n",
    "def hoge(a=1, fuga=replacedna(join, join):\n",
    "    hogera(a)"
   ]
  },
  {
   "cell_type": "code",
   "execution_count": 2,
   "metadata": {},
   "outputs": [],
   "source": [
    "brick = DNA(record=\"./tutorial/pUC19.gbk\", project=\"pUC19\") \n",
    "#brick.printdnaseq(linebreak=70)"
   ]
  },
  {
   "cell_type": "code",
   "execution_count": 3,
   "metadata": {},
   "outputs": [
    {
     "name": "stdout",
     "output_type": "stream",
     "text": [
      "feature ID  qualifier:label  feature type  start position  end position  strand  sequence                 \n",
      "100         pBR322ori-F      primer_bind   117             137           +       GGGAAACGCCTGGTATCTTT     \n",
      "200         L4440            primer_bind   370             388           +       AGCGAGTCAGTGAGCGAG       \n",
      "600         M13/pUC Reverse  primer_bind   583             606           +       AGCGGATAACAATTTCACACAGG  \n",
      "700         M13 rev          primer_bind   602             619           +       CAGGAAACAGCTATGAC        \n",
      "800         M13 Reverse      primer_bind   602             619           +       CAGGAAACAGCTATGAC        \n",
      "1100        M13 Forward      primer_bind   688             706           -       TGTAAAACGACGGCCAGT       \n",
      "1200        M13 fwd          primer_bind   688             705           -       GTAAAACGACGGCCAGT        \n",
      "1300        M13/pUC Forward  primer_bind   697             720           -       CCCAGTCACGACGTTGTAAAACG  \n",
      "1400        pRS-marker       primer_bind   913             933           -       CGGCATCAGAGCAGATTGTA     \n",
      "1500        pGEX 3'          primer_bind   1032            1055          +       CCGGGAGCTGCATGTGTCAGAGG  \n",
      "1600        pBRforEco        primer_bind   1092            1111          -       AATAGGCGTATCACGAGGC      \n",
      "1900        Amp-R            primer_bind   1501            1521          -       ATAATACCGCGCCACATAGC     \n",
      "\n"
     ]
    }
   ],
   "source": [
    "brick.printfeature(feature_type=[\"primer_bind\"],seq=True)"
   ]
  },
  {
   "cell_type": "code",
   "execution_count": 4,
   "metadata": {},
   "outputs": [
    {
     "name": "stdout",
     "output_type": "stream",
     "text": [
      "feature ID  qualifier:label  feature type  start position  end position  strand  qualifier:crop_info_dna.py              \n",
      "0           pUC19            source        0               324           +       [pUC19:pUC19:0..2686]:615..938:2686     \n",
      "700         M13 rev          primer_bind   0               5             +       [pUC19:M13 rev:602..619]:13..17:17      \n",
      "800         M13 Reverse      primer_bind   0               5             +       [pUC19:M13 Reverse:602..619]:13..17:17  \n",
      "900         lacZ-alpha       CDS           0               324           +       [pUC19:lacZ-alpha:614..938]:1..324:324  \n",
      "1000        MCS              misc_feature  17              74            +       N.A.                                    \n",
      "1100        M13 Forward      primer_bind   74              92            -       N.A.                                    \n",
      "1200        M13 fwd          primer_bind   74              91            -       N.A.                                    \n",
      "1300        M13/pUC Forward  primer_bind   83              106           -       N.A.                                    \n",
      "1400        pRS-marker       primer_bind   299             319           -       N.A.                                    \n",
      "\n",
      "feature ID  qualifier:label  feature type  start position  end position  strand  qualifier:crop_info_dna.py             \n",
      "0           pUC19            source        0               861           +       [pUC19:pUC19:0..2686]:1284..2144:2686  \n",
      "1800        AmpR             CDS           0               861           +       [pUC19:AmpR:1283..2144]:1..861:861     \n",
      "1900        Amp-R            primer_bind   218             238           -       N.A.                                   \n",
      "\n"
     ]
    }
   ],
   "source": [
    "cds_list = brick.finddna(\"CDS\",\"feature_type\") \n",
    "for cds in cds_list:\n",
    "    cds.printfeature(attribute=\"crop_info_dna.py\")"
   ]
  },
  {
   "cell_type": "code",
   "execution_count": 5,
   "metadata": {},
   "outputs": [
    {
     "name": "stdout",
     "output_type": "stream",
     "text": [
      "feature ID  qualifier:label  feature type  start position  end position  strand  qualifier:crop_info_dna.py                 \n",
      "0           pUC19            source        0               23            +       [pUC19:pUC19:0..2686]:584..606:2686        \n",
      "500         lac operator     protein_bind  0               12            +       [pUC19:lac operator:578..595]:6..17:17     \n",
      "600         M13/pUC Reverse  primer_bind   0               23            +       [pUC19:M13/pUC Reverse:583..606]:1..23:23  \n",
      "700         M13 rev          primer_bind   19              23            +       [pUC19:M13 rev:602..619]:1..4:17           \n",
      "800         M13 Reverse      primer_bind   19              23            +       [pUC19:M13 Reverse:602..619]:1..4:17       \n",
      "\n",
      "feature ID  qualifier:label  feature type  start position  end position  strand  qualifier:crop_info_dna.py                  \n",
      "0           pUC19            source        0               17            +       [pUC19:pUC19:0..2686]:603..619:2686         \n",
      "600         M13/pUC Reverse  primer_bind   0               4             +       [pUC19:M13/pUC Reverse:583..606]:20..23:23  \n",
      "700         M13 rev          primer_bind   0               17            +       [pUC19:M13 rev:602..619]:1..17:17           \n",
      "800         M13 Reverse      primer_bind   0               17            +       [pUC19:M13 Reverse:602..619]:1..17:17       \n",
      "900         lacZ-alpha       CDS           12              17            +       [pUC19:lacZ-alpha:614..938]:1..5:324        \n",
      "\n",
      "feature ID  qualifier:label  feature type  start position  end position  strand  qualifier:crop_info_dna.py                  \n",
      "0           pUC19            source        0               17            +       [pUC19:pUC19:0..2686]:603..619:2686         \n",
      "600         M13/pUC Reverse  primer_bind   0               4             +       [pUC19:M13/pUC Reverse:583..606]:20..23:23  \n",
      "700         M13 rev          primer_bind   0               17            +       [pUC19:M13 rev:602..619]:1..17:17           \n",
      "800         M13 Reverse      primer_bind   0               17            +       [pUC19:M13 Reverse:602..619]:1..17:17       \n",
      "900         lacZ-alpha       CDS           12              17            +       [pUC19:lacZ-alpha:614..938]:1..5:324        \n",
      "\n",
      "feature ID  qualifier:label  feature type  start position  end position  strand  qualifier:crop_info_dna.py                  \n",
      "0           pUC19            source        0               18            -       [pUC19:pUC19:0..2686]:706..689:2686         \n",
      "100         lacZ-alpha       CDS           0               18            -       [pUC19:lacZ-alpha:614..938]:92..75:324      \n",
      "200         M13 Forward      primer_bind   0               18            +       [pUC19:M13 Forward:688..706]:1..18:18       \n",
      "300         M13/pUC Forward  primer_bind   0               9             +       [pUC19:M13/pUC Forward:697..720]:15..23:23  \n",
      "400         M13 fwd          primer_bind   1               18            +       [pUC19:M13 fwd:688..705]:1..17:17           \n",
      "\n",
      "feature ID  qualifier:label  feature type  start position  end position  strand  qualifier:crop_info_dna.py                  \n",
      "0           pUC19            source        0               17            -       [pUC19:pUC19:0..2686]:705..689:2686         \n",
      "100         lacZ-alpha       CDS           0               17            -       [pUC19:lacZ-alpha:614..938]:91..75:324      \n",
      "200         M13 Forward      primer_bind   0               17            +       [pUC19:M13 Forward:688..706]:2..18:18       \n",
      "300         M13 fwd          primer_bind   0               17            +       [pUC19:M13 fwd:688..705]:1..17:17           \n",
      "400         M13/pUC Forward  primer_bind   0               8             +       [pUC19:M13/pUC Forward:697..720]:16..23:23  \n",
      "\n",
      "feature ID  qualifier:label  feature type  start position  end position  strand  qualifier:crop_info_dna.py                 \n",
      "0           pUC19            source        0               23            -       [pUC19:pUC19:0..2686]:720..698:2686        \n",
      "100         lacZ-alpha       CDS           0               23            -       [pUC19:lacZ-alpha:614..938]:106..84:324    \n",
      "200         M13/pUC Forward  primer_bind   0               23            +       [pUC19:M13/pUC Forward:697..720]:1..23:23  \n",
      "300         M13 Forward      primer_bind   14              23            +       [pUC19:M13 Forward:688..706]:1..9:18       \n",
      "400         M13 fwd          primer_bind   15              23            +       [pUC19:M13 fwd:688..705]:1..8:17           \n",
      "\n"
     ]
    }
   ],
   "source": [
    "M13_list = brick.finddna(\"^M13.*\",\"qualifier:label\") \n",
    "for m13 in M13_list:\n",
    "    m13.printfeature(attribute=\"crop_info_dna.py\")"
   ]
  },
  {
   "cell_type": "code",
   "execution_count": 6,
   "metadata": {},
   "outputs": [
    {
     "name": "stdout",
     "output_type": "stream",
     "text": [
      "661 667\n",
      "0 6\n"
     ]
    }
   ],
   "source": [
    "results = brick.finddna(\"GGATCC\") \n",
    "print(results[0].subject.start,results[0].subject.end)\n",
    "print(results[0].query.start,results[0].query.end)"
   ]
  },
  {
   "cell_type": "code",
   "execution_count": 7,
   "metadata": {},
   "outputs": [
    {
     "name": "stdout",
     "output_type": "stream",
     "text": [
      "602 619\n",
      "0 17\n"
     ]
    }
   ],
   "source": [
    "results = brick.finddna(\"CAGGATTCAGCTATGAC\",max_mismatch=2) \n",
    "print(results[0].subject.start,results[0].subject.end)\n",
    "print(results[0].query.start,results[0].query.end)"
   ]
  },
  {
   "cell_type": "code",
   "execution_count": 8,
   "metadata": {},
   "outputs": [],
   "source": [
    "results = brick.finddna(\"G[ATGC]{19}GG[ATGC]\")"
   ]
  },
  {
   "cell_type": "code",
   "execution_count": 9,
   "metadata": {},
   "outputs": [
    {
     "name": "stdout",
     "output_type": "stream",
     "text": [
      "pUC19\t85\t108\tGGAACAGGAGAGCGCACGAGGGA\t1\n",
      "pUC19\t128\t151\tGGTATCTTTATAGTCCTGTCGGG\t1\n",
      "pUC19\t176\t199\tGATTTTTGTGATGCTCGTCAGGG\t1\n",
      "pUC19\t229\t252\tGCGGCCTTTTTACGGTTCCTGGC\t1\n",
      "pUC19\t286\t309\tGCGTTATCCCCTGATTCTGTGGA\t1\n",
      "pUC19\t373\t396\tGAGTCAGTGAGCGAGGAAGCGGA\t1\n",
      "pUC19\t435\t458\tGCCGATTCATTAATGCAGCTGGC\t1\n",
      "pUC19\t464\t487\tGGTTTCCCGACTGGAAAGCGGGC\t1\n",
      "pUC19\t508\t531\tGTGAGTTAGCTCACTCATTAGGC\t1\n",
      "pUC19\t538\t561\tGCTTTACACTTTATGCTTCCGGC\t1\n",
      "pUC19\t584\t607\tGCGGATAACAATTTCACACAGGA\t1\n",
      "pUC19\t628\t651\tGCCAAGCTTGCATGCCTGCAGGT\t1\n",
      "pUC19\t671\t694\tGTACCGAGCTCGAATTCACTGGC\t1\n",
      "pUC19\t698\t721\tGTTTTACAACGTCGTGACTGGGA\t1\n",
      "pUC19\t823\t846\tGCGCAGCCTGAATGGCGAATGGC\t1\n",
      "pUC19\t1014\t1037\tGACAAGCTGTGACCGTCTCCGGG\t1\n",
      "pUC19\t1097\t1120\tGTGATACGCCTATTTTTATAGGT\t1\n",
      "pUC19\t1147\t1170\tGACGTCAGGTGGCACTTTTCGGG\t1\n",
      "pUC19\t1255\t1278\tGCTTCAATAATATTGAAAAAGGA\t1\n",
      "pUC19\t1307\t1330\tGCCCTTATTCCCTTTTTTGCGGC\t1\n",
      "pUC19\t1388\t1411\tGATCAGTTGGGTGCACGAGTGGG\t1\n",
      "pUC19\t1598\t1621\tGTCACAGAAAAGCATCTTACGGA\t1\n",
      "pUC19\t1724\t1747\tGCTTTTTTGCACAACATGGGGGA\t1\n",
      "pUC19\t1751\t1774\tGTAACTCGCCTTGATCGTTGGGA\t1\n",
      "pUC19\t1925\t1948\tGCAGGACCACTTCTGCGCTCGGC\t1\n",
      "pUC19\t1962\t1985\tGGTTTATTGCTGATAAATCTGGA\t1\n",
      "pUC19\t2004\t2027\tGCGGTATCATTGCAGCACTGGGG\t1\n",
      "pUC19\t2562\t2585\tGCGATAAGTCGTGTCTTACCGGG\t1\n",
      "pUC19\t2588\t2611\tGACTCAAGACGATAGTTACCGGA\t1\n",
      "pUC19\t2615\t2638\tGCGCAGCGGTCGGGCTGAACGGG\t1\n",
      "pUC19\t2535\t2558\tGGCAGCAGCCACTGGTAACAGGA\t-1\n",
      "pUC19\t2509\t2532\tGCAGAGCGAGGTATGTAGGCGGT\t-1\n",
      "pUC19\t2389\t2412\tGAGTTGGTAGCTCTTGATCCGGC\t-1\n",
      "pUC19\t2288\t2311\tGATCCTTTGATCTTTTCTACGGG\t-1\n",
      "pUC19\t2251\t2274\tGGAACGAAAACTCACGTTAAGGG\t-1\n",
      "pUC19\t2223\t2246\tGGTCATGAGATTATCAAAAAGGA\t-1\n",
      "pUC19\t2042\t2065\tGTGTAGATAACTACGATACGGGA\t-1\n",
      "pUC19\t1930\t1953\tGAAGGGCCGAGCGCAGAAGTGGT\t-1\n",
      "pUC19\t1814\t1837\tGCCATTGCTACAGGCATCGTGGT\t-1\n",
      "pUC19\t1774\t1797\tGTATGGCTTCATTCAGCTCCGGT\t-1\n",
      "pUC19\t1658\t1681\tGCCGCAGTGTTATCACTCATGGT\t-1\n",
      "pUC19\t1315\t1338\tGGCAAAATGCCGCAAAAAAGGGA\t-1\n",
      "pUC19\t1104\t1127\tGACATTAACCTATAAAAATAGGC\t-1\n",
      "pUC19\t1004\t1027\tGTCACAGCTTGTCTGTAAGCGGA\t-1\n",
      "pUC19\t977\t1000\tGGGAGCAGACAAGCCCGTCAGGG\t-1\n",
      "pUC19\t947\t970\tGCGGGTGTTGGCGGGTGTCGGGG\t-1\n",
      "pUC19\t808\t831\tGGCTGCGCAACTGTTGGGAAGGG\t-1\n",
      "pUC19\t747\t770\tGAAAGGGGGATGTGCTGCAAGGC\t-1\n",
      "pUC19\t665\t688\tGAATTCGAGCTCGGTACCCGGGG\t-1\n",
      "pUC19\t531\t554\tGCATAAAGTGTAAAGCCTGGGGT\t-1\n",
      "pUC19\t435\t458\tGCCAGCTGCATTAATGAATCGGC\t-1\n",
      "pUC19\t402\t425\tGGAGAGGCGGTTTGCGTATTGGG\t-1\n",
      "pUC19\t347\t370\tGCGCTCGGTCGTTCGGCTGCGGC\t-1\n",
      "pUC19\t322\t345\tGCGGTATCAGCTCACTCAAAGGC\t-1\n",
      "pUC19\t261\t284\tGAAAGAACATGTGAGCAAAAGGC\t-1\n",
      "pUC19\t206\t229\tGTTGCTGGCGTTTTTCCATAGGC\t-1\n",
      "pUC19\t111\t134\tGATACCAGGCGTTTCCCCCTGGA\t-1\n"
     ]
    }
   ],
   "source": [
    "for result in results:\n",
    "    print(result.subject.project, result.subject.start, result.subject.end, result.seq, result.subject.strand, sep=\"\\t\")"
   ]
  },
  {
   "cell_type": "code",
   "execution_count": 10,
   "metadata": {},
   "outputs": [
    {
     "name": "stdout",
     "output_type": "stream",
     "text": [
      "feature ID  qualifier:label  feature type  start position  end position  strand  sequence                 \n",
      "100         pBR322ori-F      primer_bind   117             137           +       GGGAAACGCCTGGTATCTTT     \n",
      "200         L4440            primer_bind   370             388           +       AGCGAGTCAGTGAGCGAG       \n",
      "600         M13/pUC Reverse  primer_bind   583             606           +       AGCGGATAACAATTTCACACAGG  \n",
      "700         M13 rev          primer_bind   602             619           +       CAGGAAACAGCTATGAC        \n",
      "800         M13 Reverse      primer_bind   602             619           +       CAGGAAACAGCTATGAC        \n",
      "1100        M13 Forward      primer_bind   688             706           -       TGTAAAACGACGGCCAGT       \n",
      "1200        M13 fwd          primer_bind   688             705           -       GTAAAACGACGGCCAGT        \n",
      "1300        M13/pUC Forward  primer_bind   697             720           -       CCCAGTCACGACGTTGTAAAACG  \n",
      "1400        pRS-marker       primer_bind   913             933           -       CGGCATCAGAGCAGATTGTA     \n",
      "1500        pGEX 3'          primer_bind   1032            1055          +       CCGGGAGCTGCATGTGTCAGAGG  \n",
      "1600        pBRforEco        primer_bind   1092            1111          -       AATAGGCGTATCACGAGGC      \n",
      "1900        Amp-R            primer_bind   1501            1521          -       ATAATACCGCGCCACATAGC     \n",
      "\n"
     ]
    }
   ],
   "source": [
    "brick.printfeature(feature_type=[\"primer_bind\"],seq=True)"
   ]
  },
  {
   "cell_type": "code",
   "execution_count": 11,
   "metadata": {},
   "outputs": [],
   "source": [
    "brick.editfeature(\"700\",qualifier={\"memo\":\"Binding region for M13 reverse primer\"})"
   ]
  },
  {
   "cell_type": "code",
   "execution_count": 12,
   "metadata": {},
   "outputs": [
    {
     "name": "stdout",
     "output_type": "stream",
     "text": [
      "feature ID  qualifier:label  feature type  start position  end position  strand  qualifier:note                                              qualifier:memo                         \n",
      "700         M13 rev          primer_bind   602             619           +       common sequencing primer, one of multiple similar variants  Binding region for M13 reverse primer  \n",
      "\n"
     ]
    }
   ],
   "source": [
    "brick.printfeature(feature_id=\"700\",detail=True)"
   ]
  },
  {
   "cell_type": "code",
   "execution_count": 13,
   "metadata": {},
   "outputs": [],
   "source": [
    "brick.editfeature(start=2500,end=100,qualifier={\"label\":\"Feature covering origin\"})"
   ]
  },
  {
   "cell_type": "code",
   "execution_count": 14,
   "metadata": {},
   "outputs": [
    {
     "name": "stdout",
     "output_type": "stream",
     "text": [
      "feature ID  qualifier:label          feature type   start position  end position  strand  \n",
      "0           pUC19                    source         0               2686          +       \n",
      "100         pBR322ori-F              primer_bind    117             137           +       \n",
      "200         L4440                    primer_bind    370             388           +       \n",
      "300         CAP binding site         protein_bind   504             526           +       \n",
      "400         lac promoter             promoter       540             571           +       \n",
      "500         lac operator             protein_bind   578             595           +       \n",
      "600         M13/pUC Reverse          primer_bind    583             606           +       \n",
      "700         M13 rev                  primer_bind    602             619           +       \n",
      "800         M13 Reverse              primer_bind    602             619           +       \n",
      "900         lacZ-alpha               CDS            614             938           +       \n",
      "1000        MCS                      misc_feature   631             688           +       \n",
      "1100        M13 Forward              primer_bind    688             706           -       \n",
      "1200        M13 fwd                  primer_bind    688             705           -       \n",
      "1300        M13/pUC Forward          primer_bind    697             720           -       \n",
      "1400        pRS-marker               primer_bind    913             933           -       \n",
      "1500        pGEX 3'                  primer_bind    1032            1055          +       \n",
      "1600        pBRforEco                primer_bind    1092            1111          -       \n",
      "1700        AmpR promoter            promoter       1178            1283          +       \n",
      "1800        AmpR                     CDS            1283            2144          +       \n",
      "1900        Amp-R                    primer_bind    1501            1521          -       \n",
      "2000        ori                      rep_origin     2314            217           +       \n",
      "2001        Feature covering origin  misc_featurte  2500            100           +       \n",
      "\n"
     ]
    }
   ],
   "source": [
    "brick.printfeature()"
   ]
  },
  {
   "cell_type": "code",
   "execution_count": 15,
   "metadata": {},
   "outputs": [
    {
     "name": "stdout",
     "output_type": "stream",
     "text": [
      "feature ID  qualifier:label  feature type  start position  end position  strand  sequence           \n",
      "700         M13 rev          primer_bind   602             619           +       CAGGAAACAGCTATGAC  \n",
      "\n"
     ]
    }
   ],
   "source": [
    "brick.printfeature(feature_id=\"700\",seq=True)"
   ]
  },
  {
   "cell_type": "code",
   "execution_count": 16,
   "metadata": {},
   "outputs": [],
   "source": [
    "brick.editfeature(\"700\",seq=\"CAGGTTTCAGCTATGAC\")"
   ]
  },
  {
   "cell_type": "code",
   "execution_count": 17,
   "metadata": {},
   "outputs": [
    {
     "name": "stdout",
     "output_type": "stream",
     "text": [
      "feature ID  qualifier:label  feature type  start position  end position  strand  sequence           \n",
      "700         M13 rev          primer_bind   602             619           +       CAGGTTTCAGCTATGAC  \n",
      "\n",
      "CAGGTTTCAGCTATGAC\n"
     ]
    }
   ],
   "source": [
    "brick.printfeature(feature_id=\"700\",seq=True)\n",
    "print(brick.seq[602:619])"
   ]
  },
  {
   "cell_type": "code",
   "execution_count": 18,
   "metadata": {},
   "outputs": [],
   "source": [
    "brick.editfeature(feature_id=\"700\",remove=True)"
   ]
  },
  {
   "cell_type": "code",
   "execution_count": 19,
   "metadata": {},
   "outputs": [
    {
     "name": "stdout",
     "output_type": "stream",
     "text": [
      "feature ID  qualifier:label          feature type   start position  end position  strand  \n",
      "0           pUC19                    source         0               2686          +       \n",
      "100         pBR322ori-F              primer_bind    117             137           +       \n",
      "200         L4440                    primer_bind    370             388           +       \n",
      "300         CAP binding site         protein_bind   504             526           +       \n",
      "400         lac promoter             promoter       540             571           +       \n",
      "500         lac operator             protein_bind   578             595           +       \n",
      "600         M13/pUC Reverse          primer_bind    583             606           +       \n",
      "800         M13 Reverse              primer_bind    602             619           +       \n",
      "900         lacZ-alpha               CDS            614             938           +       \n",
      "1000        MCS                      misc_feature   631             688           +       \n",
      "1100        M13 Forward              primer_bind    688             706           -       \n",
      "1200        M13 fwd                  primer_bind    688             705           -       \n",
      "1300        M13/pUC Forward          primer_bind    697             720           -       \n",
      "1400        pRS-marker               primer_bind    913             933           -       \n",
      "1500        pGEX 3'                  primer_bind    1032            1055          +       \n",
      "1600        pBRforEco                primer_bind    1092            1111          -       \n",
      "1700        AmpR promoter            promoter       1178            1283          +       \n",
      "1800        AmpR                     CDS            1283            2144          +       \n",
      "1900        Amp-R                    primer_bind    1501            1521          -       \n",
      "2000        ori                      rep_origin     2314            217           +       \n",
      "2001        Feature covering origin  misc_featurte  2500            100           +       \n",
      "\n"
     ]
    }
   ],
   "source": [
    "brick.printfeature()"
   ]
  },
  {
   "cell_type": "code",
   "execution_count": 2,
   "metadata": {},
   "outputs": [
    {
     "name": "stdout",
     "output_type": "stream",
     "text": [
      "circular\n",
      "5' AATTCTTTTTTTTTTG---- 3'\n",
      "3' ----GAAAAAAAAAACTTAA 5'\n",
      "\n",
      "5' AATTCAAAAAAG---- 3'\n",
      "3' ----GTTTTTTCTTAA 5'\n",
      "\n"
     ]
    }
   ],
   "source": [
    "seq       = \"TTTTTGAATTCAAAAAAGAATTCTTTTT\"\n",
    "example   = DNA(seq=seq,topology=\"circular\")\n",
    "print(example.topology)\n",
    "segments  = cutdna(example, *[target.subject.start for target in example.finddna(\"GAATTC\") if target.subject.strand==1])\n",
    "segments  = modifyends(segments,\"-*****/-----*\",\"G----/CTTAA\")\n",
    "segments[0].printdnaseq() \n",
    "segments[1].printdnaseq()\n",
    "#fragments = modifyends(cutdna(example, [target.subject.start for target in brick.finddna(\"GAATTC\")]),\"-*****/-----*\",\"G----/CTTAA\")"
   ]
  },
  {
   "cell_type": "code",
   "execution_count": null,
   "metadata": {},
   "outputs": [],
   "source": []
  }
 ],
 "metadata": {
  "kernelspec": {
   "display_name": "Python 3",
   "language": "python",
   "name": "python3"
  },
  "language_info": {
   "codemirror_mode": {
    "name": "ipython",
    "version": 3
   },
   "file_extension": ".py",
   "mimetype": "text/x-python",
   "name": "python",
   "nbconvert_exporter": "python",
   "pygments_lexer": "ipython3",
   "version": "3.7.7"
  }
 },
 "nbformat": 4,
 "nbformat_minor": 4
}
