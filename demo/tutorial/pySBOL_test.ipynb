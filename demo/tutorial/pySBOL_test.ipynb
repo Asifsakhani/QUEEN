{
 "cells": [
  {
   "cell_type": "code",
   "execution_count": 1,
   "id": "64922435-b3c3-4fa5-93b3-9b450fccd563",
   "metadata": {},
   "outputs": [],
   "source": [
    "import sbol2\n",
    "doc = sbol2.Document()\n",
    "doc.read('input/pCDNA3.1_Target-AID.rdf')"
   ]
  },
  {
   "cell_type": "code",
   "execution_count": 3,
   "id": "43f45a82-8f1e-4b2f-9cd5-0b9cd97c1042",
   "metadata": {},
   "outputs": [
    {
     "name": "stdout",
     "output_type": "stream",
     "text": [
      "Design........................0\n",
      "Build.........................0\n",
      "Test..........................0\n",
      "Analysis......................0\n",
      "ComponentDefinition...........0\n",
      "ModuleDefinition..............0\n",
      "Model.........................0\n",
      "Sequence......................0\n",
      "Collection....................0\n",
      "Activity......................0\n",
      "Plan..........................0\n",
      "Agent.........................0\n",
      "Attachment....................0\n",
      "CombinatorialDerivation.......0\n",
      "Implementation................0\n",
      "SampleRoster..................0\n",
      "Experiment....................0\n",
      "ExperimentalData..............0\n",
      "Annotation Objects............84\n",
      "---\n",
      "Total: .........................84\n",
      "\n"
     ]
    }
   ],
   "source": [
    "print(doc)"
   ]
  },
  {
   "cell_type": "code",
   "execution_count": null,
   "id": "c736ca09-414e-4588-9ebe-f977d59db559",
   "metadata": {},
   "outputs": [],
   "source": []
  }
 ],
 "metadata": {
  "kernelspec": {
   "display_name": "Python 3 (ipykernel)",
   "language": "python",
   "name": "python3"
  },
  "language_info": {
   "codemirror_mode": {
    "name": "ipython",
    "version": 3
   },
   "file_extension": ".py",
   "mimetype": "text/x-python",
   "name": "python",
   "nbconvert_exporter": "python",
   "pygments_lexer": "ipython3",
   "version": "3.9.9"
  }
 },
 "nbformat": 4,
 "nbformat_minor": 5
}
