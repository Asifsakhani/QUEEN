{
 "cells": [
  {
   "cell_type": "code",
   "execution_count": 1,
   "id": "03aec908-49de-47b4-aa16-a7049dd4e699",
   "metadata": {},
   "outputs": [],
   "source": [
    "import sys \n",
    "sys.path.append(\"/Users/hideto/dropbox/HIDETO_MORI.LAB/Experiments/Project/Dbrick/github/QUEEN/\")\n",
    "from QUEEN.queen import *\n",
    "import qalign as qa"
   ]
  },
  {
   "cell_type": "code",
   "execution_count": 2,
   "id": "46714581-4326-46e8-ba34-ff82713ef459",
   "metadata": {},
   "outputs": [],
   "source": [
    "#test = QUEEN(seq=\"AAATTTGGG\")\n",
    "test='TCAGAGCAGATGTACTGAGAGTGCACCATATGCGGTGTGAAATACCGCACAGATGCGTAAGGAGAAAATACCGCATCAGGCGCCATTCGCCATTCAGGCTGCGCAACTGTTGGGAAGGGCGATCGGTGCGGGCCTCTTCGCTATTACGCCAGCTGGCGAAAGGGGGATGTGCTGCAAGGCGATTAAGTTGGGTAACGCCAGGGTTTTCCCAGTCACGACGTTGTAAAACGACGGCCAGTGAATTCGAGCTCGGTCTCGCTGACCCCGGACCAAGTGGTGGCTATCGCCAGCAACAATGGCGGCAAGCAAGCGCTCGAAACGGTGCAGCGGCTGTTGCCGGTGCTGTGCCAGGACCATGGCCTGACCCCGGACCAAGTGGTGGCTATCGCCAGCAACAATGGCGGCAAGCAAGCGCTCGAAACGGTGCAGCGGCTGTTGCCGGTGCTGTGCCAGGACCATGGCCTGACCCCGGACCAAGTGGTGGCTATCGCCAGCAACAATGGCGGCAAGCAAGCGCTCGAAACGGTGCAGCGGCTGTTGCCGGTGCTGTGCCAGGACCATGGCCTGACCCCGGACCAAGTGGTGGCTATCGCCAGCCACGAGGGCGGCAAGCAAGCGCTCGAAACGGTGCAGCGGCTGTTGCCGGTGCTGTGCCAGGACCATGGCCTGAGAGTCTTCACCGGTCTGCAGACTGGCTGTGTATAAGGGAGCCTGACATTTATATTCCCCAGAACATCAGGTTAATGGCGTTTTTGATGTCATTTTCGCGGTGGCTGAGATCAGCCACTTCTCCCCGATA'"
   ]
  },
  {
   "cell_type": "code",
   "execution_count": 3,
   "id": "ee87057a-1542-4dc2-a49a-65a899805e15",
   "metadata": {},
   "outputs": [],
   "source": [
    "#plasmid = QUEEN(seq=\"AAAGGG\")\n",
    "plasmid = QUEEN(record=\"https://benchling.com/s/seq-bkKWqae04itcGkNQHopK\", dbtype=\"benchling\")"
   ]
  },
  {
   "cell_type": "code",
   "execution_count": 4,
   "id": "1cdeff75-ea5d-4e92-ab74-e1747fcff019",
   "metadata": {},
   "outputs": [],
   "source": [
    "result = qa.qalignment(plasmid, test)"
   ]
  },
  {
   "cell_type": "code",
   "execution_count": 5,
   "id": "cbf45a6f-d495-4964-97e2-84355c44a1e1",
   "metadata": {},
   "outputs": [
    {
     "name": "stdout",
     "output_type": "stream",
     "text": [
      "<queen.QUEEN object; project='dna_7', length='812 bp', topology='linear'>\n"
     ]
    }
   ],
   "source": [
    "print(result[0])"
   ]
  },
  {
   "cell_type": "code",
   "execution_count": 6,
   "id": "61bc0a04-76b9-4c27-9676-e46ed5497742",
   "metadata": {},
   "outputs": [
    {
     "name": "stdout",
     "output_type": "stream",
     "text": [
      "<queen.QUEEN object; project='dna_8', length='812 bp', topology='linear'>\n"
     ]
    }
   ],
   "source": [
    "print(result[1])"
   ]
  },
  {
   "cell_type": "code",
   "execution_count": 7,
   "id": "e3b81ef4-5547-4744-b951-cbcff97698e5",
   "metadata": {},
   "outputs": [
    {
     "name": "stdout",
     "output_type": "stream",
     "text": [
      "<queen.QUEEN object; project='cm_4hd_4c.gb', length='4589 bp', topology='circular'>\n"
     ]
    }
   ],
   "source": [
    "print(plasmid)"
   ]
  },
  {
   "cell_type": "code",
   "execution_count": null,
   "id": "ec58449f-b1db-47a4-8330-b853c4e83d0a",
   "metadata": {},
   "outputs": [],
   "source": []
  }
 ],
 "metadata": {
  "kernelspec": {
   "display_name": "Python 3 (ipykernel)",
   "language": "python",
   "name": "python3"
  },
  "language_info": {
   "codemirror_mode": {
    "name": "ipython",
    "version": 3
   },
   "file_extension": ".py",
   "mimetype": "text/x-python",
   "name": "python",
   "nbconvert_exporter": "python",
   "pygments_lexer": "ipython3",
   "version": "3.9.9"
  }
 },
 "nbformat": 4,
 "nbformat_minor": 5
}
