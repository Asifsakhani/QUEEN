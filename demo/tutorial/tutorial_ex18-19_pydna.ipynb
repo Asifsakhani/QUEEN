{
 "cells": [
  {
   "cell_type": "code",
   "execution_count": 1,
   "metadata": {},
   "outputs": [],
   "source": [
    "from pydna.readers import read\n",
    "from pydna.primer import Primer\n",
    "from pydna.amplify import pcr\n",
    "from pydna.assembly import Assembly"
   ]
  },
  {
   "cell_type": "code",
   "execution_count": 2,
   "metadata": {},
   "outputs": [],
   "source": [
    "pCMV_ABE = read(\"input/addgene_102919.gbk\")\n",
    "pCMV_nCas_PmCDA1_ugi = read(\"input/addgene_79620.gbk\") "
   ]
  },
  {
   "cell_type": "code",
   "execution_count": 3,
   "metadata": {},
   "outputs": [],
   "source": [
    "RS045 = Primer(\"GAGAGCCGCCACCATGGCACCGAAGAAGAAGCG\")\n",
    "HM129 = Primer(\"CTGGGGCACGATATGATCCACGTCGTAGTCGGAGA\")\n",
    "frag1 = pcr(RS045, HM129, pCMV_nCas_PmCDA1_ugi)"
   ]
  },
  {
   "cell_type": "code",
   "execution_count": 4,
   "metadata": {},
   "outputs": [],
   "source": [
    "HM128 = Primer(\"CTACGACGTGGATCATATCGTGCCCCAGTCTTTTC\")\n",
    "RS046 = Primer(\"TTTAAACTCATTATAGCATCTTGATCTTGTTCTCTC\")\n",
    "frag2 = pcr(HM128, RS046, pCMV_nCas_PmCDA1_ugi)"
   ]
  },
  {
   "cell_type": "code",
   "execution_count": 5,
   "metadata": {},
   "outputs": [],
   "source": [
    "RS047 = Primer(\"ATCAAGATGCTATAATGAGTTTAAACCCGCTGATC\")\n",
    "RS048 = Primer(\"CTTCGGTGCCATGGTGGCGGCTCTCCCTATAG\")\n",
    "frag3 = pcr(RS047, RS048, pCMV_ABE)"
   ]
  },
  {
   "cell_type": "code",
   "execution_count": 6,
   "metadata": {},
   "outputs": [
    {
     "name": "stdout",
     "output_type": "stream",
     "text": [
      "Assembly\n",
      "fragments..: 2596bp 2831bp 3403bp\n",
      "limit(bp)..: 25\n",
      "G.nodes....: 6\n",
      "algorithm..: common_sub_strings\n"
     ]
    }
   ],
   "source": [
    "asm = Assembly((frag1, frag2, frag3), limit=25)\n",
    "print(asm)\n",
    "pCMV_Target_AID = asm.assemble_circular()"
   ]
  },
  {
   "cell_type": "code",
   "execution_count": 7,
   "metadata": {},
   "outputs": [
    {
     "name": "stdout",
     "output_type": "stream",
     "text": [
      "Dseqrecord\n",
      "circular: True\n",
      "size: 8752\n",
      "ID: id\n",
      "Name: name\n",
      "Description: description\n",
      "Number of features: 31\n",
      "/molecule_type=DNA\n",
      "Dseq(o8752)\n",
      "GAGA..TAGG\n",
      "CTCT..ATCC\n"
     ]
    }
   ],
   "source": [
    "pCMV_Target_AID = pCMV_Target_AID[0]\n",
    "print(pCMV_Target_AID)"
   ]
  },
  {
   "cell_type": "code",
   "execution_count": 10,
   "metadata": {},
   "outputs": [
    {
     "data": {
      "text/html": [
       "<font face=monospace><a href='output/pCMV-Target-AID_pydna.gbk' target='_blank'>output/pCMV-Target-AID_pydna.gbk</a></font><br>"
      ]
     },
     "metadata": {},
     "output_type": "display_data"
    }
   ],
   "source": [
    "#pCMV_Target_AID = pCMV_Target_AID.synced(pCMV_ABE)\n",
    "pCMV_Target_AID.write(\"output/pCMV-Target-AID_pydna.gbk\")"
   ]
  },
  {
   "cell_type": "code",
   "execution_count": null,
   "metadata": {},
   "outputs": [],
   "source": []
  }
 ],
 "metadata": {
  "kernelspec": {
   "display_name": "Python 3",
   "language": "python",
   "name": "python3"
  },
  "language_info": {
   "codemirror_mode": {
    "name": "ipython",
    "version": 3
   },
   "file_extension": ".py",
   "mimetype": "text/x-python",
   "name": "python",
   "nbconvert_exporter": "python",
   "pygments_lexer": "ipython3",
   "version": "3.9.1"
  }
 },
 "nbformat": 4,
 "nbformat_minor": 4
}
