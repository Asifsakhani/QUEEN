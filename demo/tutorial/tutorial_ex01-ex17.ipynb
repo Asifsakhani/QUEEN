{
 "cells": [
  {
   "cell_type": "code",
   "execution_count": 1,
   "metadata": {},
   "outputs": [],
   "source": [
    "import sys \n",
    "sys.path.append(\"../../\")\n",
    "from dna import *"
   ]
  },
  {
   "cell_type": "markdown",
   "metadata": {},
   "source": [
    "**Example code 1: Create a blunt-end DNA object by specifying its sequence** "
   ]
  },
  {
   "cell_type": "code",
   "execution_count": 2,
   "metadata": {},
   "outputs": [],
   "source": [
    "fragment = DNA(seq=\"CCGGTATGCGTCGA\") "
   ]
  },
  {
   "cell_type": "markdown",
   "metadata": {},
   "source": [
    "**Example code 2: Create a sticky-end DNA object by specifying its structure**"
   ]
  },
  {
   "cell_type": "code",
   "execution_count": 3,
   "metadata": {},
   "outputs": [
    {
     "name": "stdout",
     "output_type": "stream",
     "text": [
      "5' CCGGTATGCG---- 3'\n",
      "3' ----ATACGCAGCT 5'\n"
     ]
    }
   ],
   "source": [
    "fragment = DNA(seq=\"CCGGTATGCG----/----ATACGCAGCT\") \n",
    "fragment.getdnaseq(display=True)"
   ]
  },
  {
   "cell_type": "markdown",
   "metadata": {},
   "source": [
    "**Example code 3: Create an annotated DNA object from GenBank format file**"
   ]
  },
  {
   "cell_type": "code",
   "execution_count": 4,
   "metadata": {},
   "outputs": [
    {
     "name": "stdout",
     "output_type": "stream",
     "text": [
      "<dna.DNA object; project='pGGA', length='2174 bp', topology='circular'>\n"
     ]
    }
   ],
   "source": [
    "plasmid = DNA(record=\"input/pGGA.gb\")\n",
    "print(plasmid)"
   ]
  },
  {
   "cell_type": "markdown",
   "metadata": {},
   "source": [
    "**Example code 4: Print a double-strand DNA sequence with sticky ends**"
   ]
  },
  {
   "cell_type": "code",
   "execution_count": 5,
   "metadata": {},
   "outputs": [
    {
     "name": "stdout",
     "output_type": "stream",
     "text": [
      "5' CCGGTATGCG---- 3'\n",
      "3' ----ATACGCAGCT 5'\n"
     ]
    }
   ],
   "source": [
    "fragment.getdnaseq(display=True)"
   ]
  },
  {
   "cell_type": "markdown",
   "metadata": {},
   "source": [
    "**Example code 5: Search for a DNA sequence with a regular expression**"
   ]
  },
  {
   "cell_type": "code",
   "execution_count": 6,
   "metadata": {},
   "outputs": [
    {
     "name": "stdout",
     "output_type": "stream",
     "text": [
      "88\t111\tACGACTCAACAGCTTAACGTTGG\n",
      "137\t160\tACTCTCACTCTTACCGAACTTGG\n",
      "200\t223\tAAACGAATCGACCGATTGTTAGG\n",
      "237\t260\tAGGAAGGTTTAAACGCATTTAGG\n",
      "267\t290\tATAGAAGTGTGTATCGCTCGAGG\n",
      "293\t316\tCCGAATTCGAAGACTTGGTACGG\n",
      "327\t350\tTTTCCAGATCTGATAACTTGTGG\n",
      "376\t399\tTTAAGACGTCAGAATTCTCGAGG\n",
      "422\t445\tAGTGAGTCGTATTAATTTCGCGG\n",
      "490\t513\tATCCGCTCATGAGTAGCACCAGG\n",
      "587\t610\tCATTAAGCATTCTGCCGACATGG\n",
      "628\t651\tTGATGAACCTGAATCGCCAGCGG\n",
      "669\t692\tTTGCGTATAATATTTGCCCATGG\n",
      "702\t725\tGGCGAAGAAGTTGTCCATATTGG\n",
      "738\t761\tAAAACTGGTGAAACTCACCCAGG\n",
      "781\t804\tATATTCTCAATAAACCCTTTAGG\n",
      "845\t868\tAATATATGTGTAGAAACTGCCGG\n",
      "899\t922\tAAAACGTTTCAGTTTGCTCATGG\n",
      "965\t988\tCACCGTCTTTCATTGCCATACGG\n",
      "989\t1012\tATTCCGGATGAGCATTCATCAGG\n",
      "1015\t1038\tGCAAGAATGTGAATAAAGGCCGG\n",
      "1044\t1067\tCTTGTGCTTATTTTTCTTTACGG\n",
      "1077\t1100\tGGCCGTAATATCCAGCTGAACGG\n",
      "1142\t1165\tAATGTTCTTTACGATGCCATTGG\n",
      "1234\t1257\tGATAACTCAAAAAATACGCCCGG\n",
      "1266\t1289\tTATTTCATTATGGTGAAAGTTGG\n",
      "1380\t1403\tGACCCCGTAGAAAAGATCAAAGG\n",
      "1451\t1474\tAAAAAAACCACCGCTACCAGCGG\n",
      "1496\t1519\tGCTACCAACTCTTTTTCCGAAGG\n",
      "1557\t1580\tCTTCTAGTGTAGCCGTAGTTAGG\n",
      "1622\t1645\tTCTGCTAATCCTGTTACCAGTGG\n",
      "1656\t1679\tGGCGATAAGTCGTGTCTTACCGG\n",
      "1682\t1705\tGGACTCAAGACGATAGTTACCGG\n",
      "1709\t1732\tGGCGCAGCGGTCGGGCTGAACGG\n",
      "1736\t1759\tTTCGTGCACACAGCCCAGCTTGG\n",
      "1806\t1829\tGAAAGCGCCACGCTTCCCGAAGG\n",
      "1836\t1859\tGCGGACAGGTATCCGGTAAGCGG\n",
      "1864\t1887\tTCGGAACAGGAGAGCGCACGAGG\n",
      "1888\t1911\tAGCTTCCAGGGGGAAACGCCTGG\n",
      "1956\t1979\tCGATTTTTGTGATGCTCGTCAGG\n",
      "1991\t2014\tATGGAAAAACGCCAGCAATGCGG\n",
      "2020\t2043\tTACGGTTCCTGGCCTTTTGCTGG\n",
      "2066\t2089\tTGCGTTATCCCCTGATTCTGTGG\n",
      "2147\t2170\tGCGCAGCGAGTCAGTGAGCGAGG\n",
      "2143\t2166\tGCTCACTGACTCGCTGCGCTCGG\n",
      "2104\t2127\tAGCGGTATCAGCTCACTCAAAGG\n",
      "2076\t2099\tATACGGTTATCCACAGAATCAGG\n",
      "2043\t2066\tGGAAAGAACATGTGAGCAAAAGG\n",
      "2014\t2037\tAAAGGCCAGGAACCGTAAAAAGG\n",
      "1988\t2011\tCATTGCTGGCGTTTTTCCATAGG\n",
      "1940\t1963\tAAAATCGACGCTCAAGTCAGAGG\n",
      "1906\t1929\tGACAGGACTATAAAGATACCAGG\n",
      "1848\t1871\tGTTCCGACCCTGCCGCTTACCGG\n",
      "1822\t1845\tCCTGTCCGCCTTTCTCCCTTCGG\n",
      "1787\t1810\tTTTCTCATAGCTCACGCTGTAGG\n",
      "1750\t1773\tGTAGGTCGTTCGCTCCAAGCTGG\n",
      "1701\t1724\tCCCGACCGCTGCGCCTTATCCGG\n",
      "1675\t1698\tCTATCGTCTTGAGTCCAACCCGG\n",
      "1651\t1674\tAAGACACGACTTATCGCCACTGG\n",
      "1616\t1639\tGTAACAGGATTAGCAGAGCGAGG\n",
      "1583\t1606\tGTGCTACAGAGTTCTTGAAGTGG\n",
      "1545\t1568\tTACACTAGAAGAACAGTATTTGG\n",
      "1512\t1535\tCTGCTGAAGCCAGTTACCTTCGG\n",
      "1485\t1508\tAGAGTTGGTAGCTCTTGATCCGG\n",
      "1461\t1484\tAAACAAACCACCGCTGGTAGCGG\n",
      "1416\t1439\tCAGATTACGCGCAGAAAAAAAGG\n",
      "1384\t1407\tAGATCCTTTGATCTTTTCTACGG\n",
      "1347\t1370\tTGGAACGAAAACTCACGTTAAGG\n",
      "1323\t1346\tATTTTGGTCATGACAACTTTTGG\n",
      "1291\t1314\tGACGTTGATCGGCACGTAAGAGG\n",
      "1253\t1276\tTAATGAAATAAGATCACTACCGG\n",
      "1222\t1245\tTTTGAGTTATCGAGATTTTCAGG\n",
      "1186\t1209\tAAAATGGAGAAAAAAATCACTGG\n",
      "1158\t1181\tCCACCGTTGATATATCCCAATGG\n",
      "1088\t1111\tCTATAACCAGACCGTTCAGCTGG\n",
      "1034\t1057\tAAATAAGCACAAGTTTTATCCGG\n",
      "992\t1015\tCCGCCTGATGAATGCTCATCCGG\n",
      "967\t990\tTTCCGTATGGCAATGAAAGACGG\n",
      "888\t911\tCTGAAACGTTTTCATCGCTCTGG\n",
      "864\t887\tGTGAATACCACGACGATTTCCGG\n",
      "833\t856\tACACATATATTCGCAAGATGTGG\n",
      "796\t819\tAACCTGGCCTATTTCCCTAAAGG\n",
      "756\t779\tTTTTCGTCTCAGCCAATCCCTGG\n",
      "725\t748\tCACCAGTTTTGATTTAAACGTGG\n",
      "686\t709\tCTTCGCCCCCGTTTTCACCATGG\n",
      "659\t682\tATATTATACGCAAGGCGACAAGG\n",
      "635\t658\tGCTGATGCCGCTGGCGATTCAGG\n",
      "601\t624\tGTTTGTGATGGCTTCCATGTCGG\n",
      "561\t584\tTACAACAGTACTGCGATGAGTGG\n",
      "535\t558\tGGCGGGGCGTAATTTTTTTAAGG\n",
      "508\t531\tTATTGGTGCCCTTAAACGCCTGG\n",
      "453\t476\tATTTAGAAAAATAAACAAATAGG\n",
      "417\t440\tAAATTAATACGACTCACTATAGG\n",
      "360\t383\tGTCTTAATTAAGAAGACTACAGG\n",
      "330\t353\tAGACCACAAGTTATCAGATCTGG\n",
      "293\t316\tCCGTACCAAGTCTTCGAATTCGG\n",
      "232\t255\tATGCGTTTAAACCTTCCTGCAGG\n",
      "174\t197\tGTTATGTTTTGTTCTCGCTTTGG\n",
      "150\t173\tTGGCAGGTTACGGCCAAGTTCGG\n",
      "115\t138\tTTTTACAGTCAAGTAATGCGTGG\n",
      "72\t95\tGAGTCGTTTTAAGTGTAATTCGG\n",
      "2173\t22\tTTGTCTGATTATTGATTTTTCGG\n"
     ]
    }
   ],
   "source": [
    "feature_list = plasmid.finddna(key_attribute=\"sequence\",query=\"[ATGC]{20}[ATGC]GG\")\n",
    "for feature in feature_list:\n",
    "    print(feature.start, feature.end, plasmid.getdnaseq(feature.start, feature.end, feature.strand), sep=\"\\t\")"
   ]
  },
  {
   "cell_type": "code",
   "execution_count": 7,
   "metadata": {},
   "outputs": [
    {
     "name": "stdout",
     "output_type": "stream",
     "text": [
      "feature_id  qualifier:label  feature_type  start  end   strand  sequence          \n",
      "null        null             misc_feature  90     106   +       GACTCAACAGCTTAAC  \n",
      "null        null             misc_feature  1932   1948  -       GTCAGAGGTGGCGAAA  \n",
      "\n"
     ]
    }
   ],
   "source": [
    "feature_list = plasmid.finddna(query=\"SWSWSWDSDSBHBRHH\", key_attribute=\"sequence\")\n",
    "plasmid.printfeature(feature_list, seq=True)"
   ]
  },
  {
   "cell_type": "markdown",
   "metadata": {},
   "source": [
    "**Example code 6: Search CDS features**"
   ]
  },
  {
   "cell_type": "code",
   "execution_count": 8,
   "metadata": {},
   "outputs": [
    {
     "name": "stdout",
     "output_type": "stream",
     "text": [
      "type: CDS\n",
      "location: [546:1206](-)\n",
      "qualifiers:\n",
      "    Key: codon_start, Value: ['1']\n",
      "    Key: gene, Value: ['cat']\n",
      "    Key: label, Value: ['CmR']\n",
      "    Key: note, Value: ['confers resistance to chloramphenicol']\n",
      "    Key: product, Value: ['chloramphenicol acetyltransferase']\n",
      "    Key: translation, Value: ['MEKKITGYTTVDISQWHRKEHFEAFQSVAQCTYNQTVQLDITAFLKTVKKNKHKFYPAFIHILARLMNAHPEFRMAMKDGELVIWDSVHPCYTVFHEQTETFSSLWSEYHDDFRQFLHIYSQDVACYGENLAYFPKGFIENMFFVSANPWVSFTSFDLNVANMDNFFAPVFTMGKYYTQGDKVLMPLAIQVHHAVCDGFHVGRMLNELQQYCDEWQGGA']\n",
      "\n"
     ]
    }
   ],
   "source": [
    "feature_list = plasmid.finddna(query=\"CDS\")\n",
    "for feature in feature_list:\n",
    "    print(feature)"
   ]
  },
  {
   "cell_type": "markdown",
   "metadata": {},
   "source": [
    "**Example code 7: Display all of the “primer_bind” features in a GenBank file**  "
   ]
  },
  {
   "cell_type": "code",
   "execution_count": 9,
   "metadata": {},
   "outputs": [
    {
     "name": "stdout",
     "output_type": "stream",
     "text": [
      "feature_id  qualifier:label                  feature_type  start  end  strand  \n",
      "100         Forward (CW) Analysis Primer     primer_bind   233    260  +       \n",
      "600         Cloning Analysis Reverse Primer  primer_bind   410    436  -       \n",
      "\n"
     ]
    }
   ],
   "source": [
    "feature_list = plasmid.finddna(\"primer_bind\")\n",
    "plasmid.printfeature(feature_list)"
   ]
  },
  {
   "cell_type": "markdown",
   "metadata": {},
   "source": [
    "**Example code 8: Cut pUC19 plasmid at multiple positions \n",
    "Cut a circular 2,686-bp plasmid pUC19 with two positions to produce three linear fragments.**"
   ]
  },
  {
   "cell_type": "code",
   "execution_count": 10,
   "metadata": {},
   "outputs": [
    {
     "name": "stdout",
     "output_type": "stream",
     "text": [
      "<dna.DNA object; project='pGGA', length='1000 bp', topology='linear'>\n",
      "<dna.DNA object; project='pGGA', length='1174 bp', topology='linear'>\n",
      "<dna.DNA object; project='pGGA', length='500 bp', topology='linear'>\n",
      "<dna.DNA object; project='pGGA', length='674 bp', topology='linear'>\n"
     ]
    }
   ],
   "source": [
    "fragment1, fragment2 = cutdna(plasmid ,1000, 2000)\n",
    "print(fragment1)\n",
    "print(fragment2)\n",
    "fragment3, fragment4 = cutdna(fragment2, 500)\n",
    "print(fragment3)\n",
    "print(fragment4)"
   ]
  },
  {
   "cell_type": "markdown",
   "metadata": {},
   "source": [
    "**Example code 9: Crop a fragmented dna object in a specific region**  \n",
    "If you want to get only fragment2, please use ```cropdna``` function as follows."
   ]
  },
  {
   "cell_type": "code",
   "execution_count": 11,
   "metadata": {},
   "outputs": [
    {
     "name": "stdout",
     "output_type": "stream",
     "text": [
      "<dna.DNA object; project='pGGA', length='1174 bp', topology='linear'>\n"
     ]
    }
   ],
   "source": [
    "fragment2 = cropdna(plasmid ,2000, 1000)\n",
    "print(fragment2)"
   ]
  },
  {
   "cell_type": "markdown",
   "metadata": {},
   "source": [
    "**Example code 10: Simurate EcoRI digestion for pGGGA plasmid**  \n",
    "The recognition sequence where EcoRI cut is \"5′-G/AATTC-3′\". There are three. EcoRI site in the pGGA plasmid. First, search the EcoRI sequence from the pUC19 plasmid. Then, cut the EcoRI site according to its cutting format.  "
   ]
  },
  {
   "cell_type": "code",
   "execution_count": 12,
   "metadata": {},
   "outputs": [
    {
     "name": "stdout",
     "output_type": "stream",
     "text": [
      "<dna.DNA object; project='pGGA', length='96 bp', topology='linear'>\n",
      "5' AATTCGAAGA...CGTCAG---- 3'\n",
      "3' ----GCTTCT...GCAGTCTTAA 5'\n",
      "\n",
      "<dna.DNA object; project='pGGA', length='604 bp', topology='linear'>\n",
      "5' AATTCTCGAG...ATACGG---- 3'\n",
      "3' ----GAGCTC...TATGCCTTAA 5'\n",
      "\n",
      "<dna.DNA object; project='pGGA', length='1486 bp', topology='linear'>\n",
      "5' AATTCCGGAT...GATCCG---- 3'\n",
      "3' ----GGCCTA...CTAGGCTTAA 5'\n",
      "\n"
     ]
    }
   ],
   "source": [
    "sites = plasmid.finddna(\"G^AATT_C\", key_attribute=\"sequence\")\n",
    "fragments = cutdna(plasmid, *sites)\n",
    "for fragment in fragments:\n",
    "    print(fragment)\n",
    "    fragment.getdnaseq(display=True, whole=False, end_length=10)"
   ]
  },
  {
   "cell_type": "markdown",
   "metadata": {},
   "source": [
    "**Example code 11: Digest pGGA plasmid by BsaI**  \n",
    "The recognition sequence where BsaI cut is \"5′-GGTCTC(N1)/(N5)-3′\". There are two BsaI in the pGGA plasmid. First, search the BsaI sequence from the pUC19 plasmid. Then, cut the BsaI site according to its cutting format.  \n",
    "https://international.neb.com/tools-and-resources/selection-charts/enzymes-with-nonpalindromic-sequences"
   ]
  },
  {
   "cell_type": "code",
   "execution_count": 13,
   "metadata": {},
   "outputs": [
    {
     "name": "stdout",
     "output_type": "stream",
     "text": [
      "feature_id  qualifier:label  feature_type  start  end  strand  \n",
      "null        null             misc_feature  348    359  +       \n",
      "null        null             misc_feature  314    325  -       \n",
      "\n",
      "<dna.DNA object; project='pGGA', length='45 bp', sequence='GGAGCGAGACCGCTTTCCAGATCTGATAACTTGTGGTCTCACCAT', topology='linear'>\n",
      "5' GGAGCGAGAC...GTCTCA---- 3'\n",
      "3' ----GCTCTG...CAGAGTGGTA 5'\n",
      "\n",
      "<dna.DNA object; project='pGGA', length='2137 bp', topology='linear'>\n",
      "5' CCATTCCTGT...TGGTAC---- 3'\n",
      "3' ----AGGACA...ACCATGCCTC 5'\n",
      "\n",
      "feature_id  qualifier:label  feature_type  start  end  strand  \n",
      "null        null             misc_feature  348    359  +       \n",
      "null        null             misc_feature  314    325  -       \n",
      "\n",
      "<dna.DNA object; project='pGGA', length='45 bp', sequence='GGAGCGAGACCGCTTTCCAGATCTGATAACTTGTGGTCTCACCAT', topology='linear'>\n",
      "5' GGAGCGAGAC...GTCTCA---- 3'\n",
      "3' ----GCTCTG...CAGAGTGGTA 5'\n",
      "\n",
      "<dna.DNA object; project='pGGA', length='2137 bp', topology='linear'>\n",
      "5' CCATTCCTGT...TGGTAC---- 3'\n",
      "3' ----AGGACA...ACCATGCCTC 5'\n",
      "\n"
     ]
    }
   ],
   "source": [
    "sites = plasmid.finddna(\"GGTCTCN^NNNN_\", key_attribute=\"sequence\")\n",
    "plasmid.printfeature(sites)\n",
    "fragments = cutdna(plasmid,*sites)\n",
    "for fragment in fragments:\n",
    "    print(fragment)\n",
    "    fragment.getdnaseq(display=True, whole=False, end_length=10)\n",
    "    \n",
    "sites = plasmid.finddna(\"GGTCTC(1/5)\", key_attribute=\"sequence\")\n",
    "plasmid.printfeature(sites)\n",
    "fragments = cutdna(plasmid,*sites)\n",
    "for fragment in fragments:\n",
    "    print(fragment)\n",
    "    fragment.getdnaseq(display=True, whole=False, end_length=10)"
   ]
  },
  {
   "cell_type": "markdown",
   "metadata": {},
   "source": [
    "**Example code 12: Trim single-stranded DNA on both ends to generate sticky ends**  \n",
    "Sticky ends can be generated by trimming single-stranded DNA sequences when their end structures are given by top and bottom strand strings with \"\\*\" and \"-\" separated by \"/.\" The letters \"-\" show nucleotide letters being trimmed and “\\*” shod nucleotide letters being remained. "
   ]
  },
  {
   "cell_type": "code",
   "execution_count": 14,
   "metadata": {},
   "outputs": [
    {
     "name": "stdout",
     "output_type": "stream",
     "text": [
      "5' CTTAACGTTGGCTTGCCACG 3'\n",
      "3' GAATTGCAACCGAACGGTGC 5'\n",
      "5' ----ACGTTGGCTTGCCACG 3'\n",
      "3' GAATTGCAACCGAACGGT-- 5'\n"
     ]
    }
   ],
   "source": [
    "fragment = cropdna(plasmid, 100, 120)\n",
    "fragment.getdnaseq(display=True)\n",
    "fragment = modifyends(fragment, \"----/****\", \"**/--\")\n",
    "fragment.getdnaseq(display=True)"
   ]
  },
  {
   "cell_type": "markdown",
   "metadata": {},
   "source": [
    "The following code also can execute same process with the above one."
   ]
  },
  {
   "cell_type": "code",
   "execution_count": 15,
   "metadata": {},
   "outputs": [
    {
     "name": "stdout",
     "output_type": "stream",
     "text": [
      "5' ----ACGTTGGCTTGCCACG 3'\n",
      "3' GAATTGCAACCGAACGGT-- 5'\n"
     ]
    }
   ],
   "source": [
    "fragment = cropdna(plasmid,'104/100', '120/118')\n",
    "fragment.getdnaseq(display=True)"
   ]
  },
  {
   "cell_type": "markdown",
   "metadata": {},
   "source": [
    "A regex-like format can be used for the end stracture specification."
   ]
  },
  {
   "cell_type": "code",
   "execution_count": 16,
   "metadata": {},
   "outputs": [
    {
     "name": "stdout",
     "output_type": "stream",
     "text": [
      "5' -----CGTTGGCTTGCCACG 3'\n",
      "3' GAATTGCAACCGAAC----- 5'\n"
     ]
    }
   ],
   "source": [
    "fragment = cropdna(plasmid, 100, 120)\n",
    "fragment = modifyends(fragment, \"-{5}/*{5}\",\"*{5}/-{5}\")\n",
    "fragment.getdnaseq(display=True)"
   ]
  },
  {
   "cell_type": "markdown",
   "metadata": {},
   "source": [
    "If an invalid end sequence structure is given, error message will be returned. "
   ]
  },
  {
   "cell_type": "code",
   "execution_count": 17,
   "metadata": {},
   "outputs": [
    {
     "ename": "IndexError",
     "evalue": "list index out of range",
     "output_type": "error",
     "traceback": [
      "\u001b[0;31m---------------------------------------------------------------------------\u001b[0m",
      "\u001b[0;31mIndexError\u001b[0m                                Traceback (most recent call last)",
      "\u001b[0;32m<ipython-input-17-c2a81f3b7fbd>\u001b[0m in \u001b[0;36m<module>\u001b[0;34m\u001b[0m\n\u001b[1;32m      1\u001b[0m \u001b[0;31m#Source code (continued from the previous example)#\u001b[0m\u001b[0;34m\u001b[0m\u001b[0;34m\u001b[0m\u001b[0;34m\u001b[0m\u001b[0m\n\u001b[0;32m----> 2\u001b[0;31m \u001b[0mfragment\u001b[0m \u001b[0;34m=\u001b[0m \u001b[0mcropdna\u001b[0m\u001b[0;34m(\u001b[0m\u001b[0mfragment\u001b[0m\u001b[0;34m,\u001b[0m \u001b[0;36m100\u001b[0m\u001b[0;34m,\u001b[0m \u001b[0;36m120\u001b[0m\u001b[0;34m)\u001b[0m\u001b[0;34m\u001b[0m\u001b[0;34m\u001b[0m\u001b[0m\n\u001b[0m\u001b[1;32m      3\u001b[0m \u001b[0mfragment\u001b[0m \u001b[0;34m=\u001b[0m \u001b[0mmodifyends\u001b[0m\u001b[0;34m(\u001b[0m\u001b[0mfragment\u001b[0m\u001b[0;34m,\u001b[0m\u001b[0;34m\"******/****--\"\u001b[0m\u001b[0;34m,\u001b[0m\u001b[0;34m\"----**/******\"\u001b[0m\u001b[0;34m)\u001b[0m\u001b[0;34m\u001b[0m\u001b[0;34m\u001b[0m\u001b[0m\n",
      "\u001b[0;32m~/Dropbox (Yachie Lab)/HIDETO_MORI.LAB/Experiments/Project/Dbrick/github/dna.py\u001b[0m in \u001b[0;36mcropdna\u001b[0;34m(dna, start, end, project, process_description, __direct)\u001b[0m\n\u001b[1;32m    671\u001b[0m         \u001b[0mproject\u001b[0m \u001b[0;34m=\u001b[0m \u001b[0mdna\u001b[0m\u001b[0;34m.\u001b[0m\u001b[0mproject\u001b[0m\u001b[0;34m\u001b[0m\u001b[0;34m\u001b[0m\u001b[0m\n\u001b[1;32m    672\u001b[0m \u001b[0;34m\u001b[0m\u001b[0m\n\u001b[0;32m--> 673\u001b[0;31m     \u001b[0msubdna\u001b[0m\u001b[0;34m,\u001b[0m \u001b[0mcrop_positions\u001b[0m \u001b[0;34m=\u001b[0m \u001b[0mcutdna\u001b[0m\u001b[0;34m(\u001b[0m\u001b[0mdna\u001b[0m\u001b[0;34m,\u001b[0m \u001b[0mstart\u001b[0m\u001b[0;34m,\u001b[0m \u001b[0mend\u001b[0m\u001b[0;34m,\u001b[0m \u001b[0mproject\u001b[0m\u001b[0;34m=\u001b[0m\u001b[0mproject\u001b[0m\u001b[0;34m,\u001b[0m \u001b[0mcrop\u001b[0m\u001b[0;34m=\u001b[0m\u001b[0;32mTrue\u001b[0m\u001b[0;34m,\u001b[0m \u001b[0m__direct\u001b[0m\u001b[0;34m=\u001b[0m\u001b[0;36m0\u001b[0m\u001b[0;34m)\u001b[0m\u001b[0;34m\u001b[0m\u001b[0;34m\u001b[0m\u001b[0m\n\u001b[0m\u001b[1;32m    674\u001b[0m     \u001b[0;32mif\u001b[0m \u001b[0m__direct\u001b[0m \u001b[0;34m==\u001b[0m \u001b[0;36m1\u001b[0m\u001b[0;34m:\u001b[0m\u001b[0;34m\u001b[0m\u001b[0;34m\u001b[0m\u001b[0m\n\u001b[1;32m    675\u001b[0m         \u001b[0;32mif\u001b[0m \u001b[0mproject\u001b[0m \u001b[0;32min\u001b[0m \u001b[0mDNA\u001b[0m\u001b[0;34m.\u001b[0m\u001b[0mdna_dict\u001b[0m\u001b[0;34m:\u001b[0m\u001b[0;34m\u001b[0m\u001b[0;34m\u001b[0m\u001b[0m\n",
      "\u001b[0;32m~/Dropbox (Yachie Lab)/HIDETO_MORI.LAB/Experiments/Project/Dbrick/github/dna.py\u001b[0m in \u001b[0;36mcutdna\u001b[0;34m(dna, crop, project, process_description, __direct, *positions)\u001b[0m\n\u001b[1;32m    595\u001b[0m             \u001b[0;32mif\u001b[0m \u001b[0mcrop\u001b[0m \u001b[0;34m==\u001b[0m \u001b[0;32mTrue\u001b[0m\u001b[0;34m:\u001b[0m\u001b[0;34m\u001b[0m\u001b[0;34m\u001b[0m\u001b[0m\n\u001b[1;32m    596\u001b[0m                 \u001b[0;32mif\u001b[0m \u001b[0mpos\u001b[0m \u001b[0;34m==\u001b[0m \u001b[0mcrop_positions\u001b[0m\u001b[0;34m[\u001b[0m\u001b[0;36m0\u001b[0m\u001b[0;34m]\u001b[0m \u001b[0;32mand\u001b[0m \u001b[0mpositions\u001b[0m\u001b[0;34m[\u001b[0m\u001b[0mi\u001b[0m\u001b[0;34m+\u001b[0m\u001b[0;36m1\u001b[0m\u001b[0;34m]\u001b[0m \u001b[0;34m==\u001b[0m \u001b[0mcrop_positions\u001b[0m\u001b[0;34m[\u001b[0m\u001b[0;36m1\u001b[0m\u001b[0;34m]\u001b[0m\u001b[0;34m:\u001b[0m\u001b[0;34m\u001b[0m\u001b[0;34m\u001b[0m\u001b[0m\n\u001b[0;32m--> 597\u001b[0;31m                     \u001b[0mdnas\u001b[0m\u001b[0;34m.\u001b[0m\u001b[0mappend\u001b[0m\u001b[0;34m(\u001b[0m\u001b[0mextract\u001b[0m\u001b[0;34m(\u001b[0m\u001b[0mdna\u001b[0m\u001b[0;34m,\u001b[0m\u001b[0mpos\u001b[0m\u001b[0;34m,\u001b[0m\u001b[0mpositions\u001b[0m\u001b[0;34m[\u001b[0m\u001b[0mi\u001b[0m\u001b[0;34m+\u001b[0m\u001b[0;36m1\u001b[0m\u001b[0;34m]\u001b[0m\u001b[0;34m,\u001b[0m\u001b[0mproject\u001b[0m\u001b[0;34m=\u001b[0m\u001b[0mproject\u001b[0m\u001b[0;34m)\u001b[0m\u001b[0;34m)\u001b[0m\u001b[0;34m\u001b[0m\u001b[0;34m\u001b[0m\u001b[0m\n\u001b[0m\u001b[1;32m    598\u001b[0m             \u001b[0;32melse\u001b[0m\u001b[0;34m:\u001b[0m\u001b[0;34m\u001b[0m\u001b[0;34m\u001b[0m\u001b[0m\n\u001b[1;32m    599\u001b[0m                 \u001b[0mdnas\u001b[0m\u001b[0;34m.\u001b[0m\u001b[0mappend\u001b[0m\u001b[0;34m(\u001b[0m\u001b[0mextract\u001b[0m\u001b[0;34m(\u001b[0m\u001b[0mdna\u001b[0m\u001b[0;34m,\u001b[0m\u001b[0mpos\u001b[0m\u001b[0;34m,\u001b[0m\u001b[0mpositions\u001b[0m\u001b[0;34m[\u001b[0m\u001b[0mi\u001b[0m\u001b[0;34m+\u001b[0m\u001b[0;36m1\u001b[0m\u001b[0;34m]\u001b[0m\u001b[0;34m,\u001b[0m\u001b[0mproject\u001b[0m\u001b[0;34m=\u001b[0m\u001b[0mproject\u001b[0m\u001b[0;34m)\u001b[0m\u001b[0;34m)\u001b[0m\u001b[0;34m\u001b[0m\u001b[0;34m\u001b[0m\u001b[0m\n",
      "\u001b[0;32m~/Dropbox (Yachie Lab)/HIDETO_MORI.LAB/Experiments/Project/Dbrick/github/dna.py\u001b[0m in \u001b[0;36mextract\u001b[0;34m(dna, start, end, project)\u001b[0m\n\u001b[1;32m    537\u001b[0m             \u001b[0;32melse\u001b[0m\u001b[0;34m:\u001b[0m\u001b[0;34m\u001b[0m\u001b[0;34m\u001b[0m\u001b[0m\n\u001b[1;32m    538\u001b[0m                 \u001b[0mright\u001b[0m \u001b[0;34m=\u001b[0m \u001b[0;34m\"\"\u001b[0m\u001b[0;34m\u001b[0m\u001b[0;34m\u001b[0m\u001b[0m\n\u001b[0;32m--> 539\u001b[0;31m             \u001b[0msubdna\u001b[0m \u001b[0;34m=\u001b[0m \u001b[0mmodifyends\u001b[0m\u001b[0;34m(\u001b[0m\u001b[0msubdna\u001b[0m\u001b[0;34m,\u001b[0m \u001b[0mleft\u001b[0m\u001b[0;34m,\u001b[0m \u001b[0mright\u001b[0m\u001b[0;34m,\u001b[0m \u001b[0m__direct\u001b[0m\u001b[0;34m=\u001b[0m\u001b[0;36m0\u001b[0m\u001b[0;34m)\u001b[0m\u001b[0;34m\u001b[0m\u001b[0;34m\u001b[0m\u001b[0m\n\u001b[0m\u001b[1;32m    540\u001b[0m         \u001b[0;32melse\u001b[0m\u001b[0;34m:\u001b[0m\u001b[0;34m\u001b[0m\u001b[0;34m\u001b[0m\u001b[0m\n\u001b[1;32m    541\u001b[0m             \u001b[0;32mpass\u001b[0m\u001b[0;34m\u001b[0m\u001b[0;34m\u001b[0m\u001b[0m\n",
      "\u001b[0;32m~/Dropbox (Yachie Lab)/HIDETO_MORI.LAB/Experiments/Project/Dbrick/github/dna.py\u001b[0m in \u001b[0;36mmodifyends\u001b[0;34m(dna, left, right, add, add_right, add_left, project, process_description, __direct)\u001b[0m\n\u001b[1;32m   1169\u001b[0m         \u001b[0mleft_end\u001b[0m  \u001b[0;34m=\u001b[0m \u001b[0mDNA\u001b[0m\u001b[0;34m(\u001b[0m\u001b[0mseq\u001b[0m\u001b[0;34m=\u001b[0m\u001b[0mleft_end\u001b[0m\u001b[0;34m,\u001b[0m  \u001b[0m_direct\u001b[0m\u001b[0;34m=\u001b[0m\u001b[0;36m0\u001b[0m\u001b[0;34m)\u001b[0m\u001b[0;34m\u001b[0m\u001b[0;34m\u001b[0m\u001b[0m\n\u001b[1;32m   1170\u001b[0m         \u001b[0mright_end\u001b[0m \u001b[0;34m=\u001b[0m \u001b[0mDNA\u001b[0m\u001b[0;34m(\u001b[0m\u001b[0mseq\u001b[0m\u001b[0;34m=\u001b[0m\u001b[0mright_end\u001b[0m\u001b[0;34m,\u001b[0m \u001b[0m_direct\u001b[0m\u001b[0;34m=\u001b[0m\u001b[0;36m0\u001b[0m\u001b[0;34m)\u001b[0m\u001b[0;34m\u001b[0m\u001b[0;34m\u001b[0m\u001b[0m\n\u001b[0;32m-> 1171\u001b[0;31m         \u001b[0mnew_dna\u001b[0m \u001b[0;34m=\u001b[0m \u001b[0mcropdna\u001b[0m\u001b[0;34m(\u001b[0m\u001b[0mdna\u001b[0m\u001b[0;34m,\u001b[0m \u001b[0mstart\u001b[0m\u001b[0;34m=\u001b[0m\u001b[0mleft_end_length\u001b[0m\u001b[0;34m-\u001b[0m\u001b[0mleft_length\u001b[0m\u001b[0;34m,\u001b[0m \u001b[0mend\u001b[0m\u001b[0;34m=\u001b[0m\u001b[0mlen\u001b[0m\u001b[0;34m(\u001b[0m\u001b[0mdna\u001b[0m\u001b[0;34m.\u001b[0m\u001b[0mseq\u001b[0m\u001b[0;34m)\u001b[0m\u001b[0;34m-\u001b[0m\u001b[0mright_end_length\u001b[0m\u001b[0;34m+\u001b[0m\u001b[0mright_length\u001b[0m\u001b[0;34m,\u001b[0m \u001b[0m__direct\u001b[0m\u001b[0;34m=\u001b[0m\u001b[0;36m0\u001b[0m\u001b[0;34m)\u001b[0m\u001b[0;34m\u001b[0m\u001b[0;34m\u001b[0m\u001b[0m\n\u001b[0m\u001b[1;32m   1172\u001b[0m         \u001b[0mnew_dna\u001b[0m\u001b[0;34m.\u001b[0m\u001b[0m_left_end\u001b[0m  \u001b[0;34m=\u001b[0m \u001b[0mleft_end\u001b[0m\u001b[0;34m.\u001b[0m\u001b[0mseq\u001b[0m\u001b[0;34m\u001b[0m\u001b[0;34m\u001b[0m\u001b[0m\n\u001b[1;32m   1173\u001b[0m         \u001b[0mnew_dna\u001b[0m\u001b[0;34m.\u001b[0m\u001b[0m_right_end\u001b[0m \u001b[0;34m=\u001b[0m \u001b[0mright_end\u001b[0m\u001b[0;34m.\u001b[0m\u001b[0mseq\u001b[0m\u001b[0;34m\u001b[0m\u001b[0;34m\u001b[0m\u001b[0m\n",
      "\u001b[0;32m~/Dropbox (Yachie Lab)/HIDETO_MORI.LAB/Experiments/Project/Dbrick/github/dna.py\u001b[0m in \u001b[0;36mcropdna\u001b[0;34m(dna, start, end, project, process_description, __direct)\u001b[0m\n\u001b[1;32m    671\u001b[0m         \u001b[0mproject\u001b[0m \u001b[0;34m=\u001b[0m \u001b[0mdna\u001b[0m\u001b[0;34m.\u001b[0m\u001b[0mproject\u001b[0m\u001b[0;34m\u001b[0m\u001b[0;34m\u001b[0m\u001b[0m\n\u001b[1;32m    672\u001b[0m \u001b[0;34m\u001b[0m\u001b[0m\n\u001b[0;32m--> 673\u001b[0;31m     \u001b[0msubdna\u001b[0m\u001b[0;34m,\u001b[0m \u001b[0mcrop_positions\u001b[0m \u001b[0;34m=\u001b[0m \u001b[0mcutdna\u001b[0m\u001b[0;34m(\u001b[0m\u001b[0mdna\u001b[0m\u001b[0;34m,\u001b[0m \u001b[0mstart\u001b[0m\u001b[0;34m,\u001b[0m \u001b[0mend\u001b[0m\u001b[0;34m,\u001b[0m \u001b[0mproject\u001b[0m\u001b[0;34m=\u001b[0m\u001b[0mproject\u001b[0m\u001b[0;34m,\u001b[0m \u001b[0mcrop\u001b[0m\u001b[0;34m=\u001b[0m\u001b[0;32mTrue\u001b[0m\u001b[0;34m,\u001b[0m \u001b[0m__direct\u001b[0m\u001b[0;34m=\u001b[0m\u001b[0;36m0\u001b[0m\u001b[0;34m)\u001b[0m\u001b[0;34m\u001b[0m\u001b[0;34m\u001b[0m\u001b[0m\n\u001b[0m\u001b[1;32m    674\u001b[0m     \u001b[0;32mif\u001b[0m \u001b[0m__direct\u001b[0m \u001b[0;34m==\u001b[0m \u001b[0;36m1\u001b[0m\u001b[0;34m:\u001b[0m\u001b[0;34m\u001b[0m\u001b[0;34m\u001b[0m\u001b[0m\n\u001b[1;32m    675\u001b[0m         \u001b[0;32mif\u001b[0m \u001b[0mproject\u001b[0m \u001b[0;32min\u001b[0m \u001b[0mDNA\u001b[0m\u001b[0;34m.\u001b[0m\u001b[0mdna_dict\u001b[0m\u001b[0;34m:\u001b[0m\u001b[0;34m\u001b[0m\u001b[0;34m\u001b[0m\u001b[0m\n",
      "\u001b[0;32m~/Dropbox (Yachie Lab)/HIDETO_MORI.LAB/Experiments/Project/Dbrick/github/dna.py\u001b[0m in \u001b[0;36mcutdna\u001b[0;34m(dna, crop, project, process_description, __direct, *positions)\u001b[0m\n\u001b[1;32m    654\u001b[0m \u001b[0;34m\u001b[0m\u001b[0m\n\u001b[1;32m    655\u001b[0m     \u001b[0;32mif\u001b[0m \u001b[0mcrop\u001b[0m \u001b[0;34m==\u001b[0m \u001b[0;32mTrue\u001b[0m\u001b[0;34m:\u001b[0m\u001b[0;34m\u001b[0m\u001b[0;34m\u001b[0m\u001b[0m\n\u001b[0;32m--> 656\u001b[0;31m         \u001b[0;32mreturn\u001b[0m \u001b[0mdnas\u001b[0m\u001b[0;34m[\u001b[0m\u001b[0;36m0\u001b[0m\u001b[0;34m]\u001b[0m\u001b[0;34m,\u001b[0m \u001b[0mcrop_positions\u001b[0m\u001b[0;34m\u001b[0m\u001b[0;34m\u001b[0m\u001b[0m\n\u001b[0m\u001b[1;32m    657\u001b[0m     \u001b[0;32melse\u001b[0m\u001b[0;34m:\u001b[0m\u001b[0;34m\u001b[0m\u001b[0;34m\u001b[0m\u001b[0m\n\u001b[1;32m    658\u001b[0m         \u001b[0;32mreturn\u001b[0m \u001b[0mdnas\u001b[0m\u001b[0;34m\u001b[0m\u001b[0;34m\u001b[0m\u001b[0m\n",
      "\u001b[0;31mIndexError\u001b[0m: list index out of range"
     ]
    }
   ],
   "source": [
    "#Source code (continued from the previous example)#\n",
    "fragment = cropdna(fragment, 100, 120)\n",
    "fragment = modifyends(fragment,\"******/****--\",\"----**/******\")  "
   ]
  },
  {
   "cell_type": "markdown",
   "metadata": {},
   "source": [
    "**Example code 13: Add sticky ends to a blunt end DNA object**  \n",
    "If end sequence structures are given with nucleotide letters, they are added to the DNA ends. The same operation can be achieved by the join function described later."
   ]
  },
  {
   "cell_type": "code",
   "execution_count": 18,
   "metadata": {},
   "outputs": [
    {
     "name": "stdout",
     "output_type": "stream",
     "text": [
      "5' ---ATGCCTTAACGTTGGCTTGCCACGTACG--- 3'\n",
      "3' ATGTACGGAATTGCAACCGAACGGTGCATGCTAC 5'\n"
     ]
    }
   ],
   "source": [
    "fragment = cropdna(plasmid, 100, 120)\n",
    "fragment = modifyends(fragment,\"---ATGC/ATGTACG\",\"TACG---/ATGCTAC\")\n",
    "fragment.getdnaseq(display=True)"
   ]
  },
  {
   "cell_type": "markdown",
   "metadata": {},
   "source": [
    "**Example code 14:  Flip chloramphenicol resistant gene in pGGA plasmid**"
   ]
  },
  {
   "cell_type": "code",
   "execution_count": 19,
   "metadata": {},
   "outputs": [
    {
     "name": "stdout",
     "output_type": "stream",
     "text": [
      "<dna.DNA object; project='pGGA', length='660 bp', topology='linear'> <dna.DNA object; project='pGGA', length='1514 bp', topology='linear'>\n",
      "feature_id  qualifier:label  feature_type  start  end   strand  \n",
      "800         CmR              CDS           546    1206  -       \n",
      "\n",
      "feature_id  qualifier:label  feature_type  start  end  strand  \n",
      "100         CmR              CDS           0      660  -       \n",
      "\n"
     ]
    }
   ],
   "source": [
    "site = plasmid.finddna(\"CmR\")[0]\n",
    "fragment1, fragment2 = cutdna(plasmid, site.location.start.position, site.location.end.position)\n",
    "print(fragment1, fragment2)\n",
    "fragment2   = flipdna(fragment2)\n",
    "new_plasmid = joindna(fragment1, fragment2, topology=\"circular\")\n",
    "plasmid.printfeature(plasmid.finddna(\"CmR\"))\n",
    "new_plasmid.printfeature(new_plasmid.finddna(\"CmR\"))"
   ]
  },
  {
   "cell_type": "markdown",
   "metadata": {},
   "source": [
    "**Example code 15: Convert feature type from ‘CDS’ to ‘gene’**"
   ]
  },
  {
   "cell_type": "code",
   "execution_count": 20,
   "metadata": {},
   "outputs": [
    {
     "name": "stdout",
     "output_type": "stream",
     "text": [
      "feature_id  qualifier:label  feature_type  start  end   strand  \n",
      "800         CmR              CDS           546    1206  -       \n",
      "\n",
      "feature_id  qualifier:label  feature_type  start  end   strand  \n",
      "800         CmR              gene          546    1206  -       \n",
      "\n"
     ]
    }
   ],
   "source": [
    "plasmid.printfeature(plasmid.finddna(\"CDS\"))\n",
    "new_plasmid = editdna(plasmid, key_attribute=\"feature type\", query=\"CDS\", target_attribute=\"feature type\", operation=replaceattribute(\"gene\"))\n",
    "new_plasmid.printfeature(new_plasmid.finddna(\"gene\"))"
   ]
  },
  {
   "cell_type": "markdown",
   "metadata": {},
   "source": [
    "**Example code 16: Break start codon of the CDS features**"
   ]
  },
  {
   "cell_type": "code",
   "execution_count": 21,
   "metadata": {},
   "outputs": [
    {
     "name": "stdout",
     "output_type": "stream",
     "text": [
      "CmR: ATGGAGAAAA\n",
      "CmR: GTGGAGAAAA\n"
     ]
    }
   ],
   "source": [
    "print(\"CmR:\", plasmid.getdnaseq(plasmid.finddna(\"CmR\")[0])[0:10])\n",
    "new_plasmid = editdna(plasmid, key_attribute=\"feature type\", query=\"CDS\", target_attribute=\"sequence:!0..3!\", operation=replaceattribute(\"ATG\", \"GTG\"))\n",
    "print(\"CmR:\", new_plasmid.getdnaseq(plasmid.finddna(\"CmR\")[0])[0:10])"
   ]
  },
  {
   "cell_type": "markdown",
   "metadata": {},
   "source": [
    "**Example code 17: Create new features where SpCas9 can bind.** "
   ]
  },
  {
   "cell_type": "code",
   "execution_count": 22,
   "metadata": {},
   "outputs": [],
   "source": [
    "new_plasmid = editdna(plasmid, key_attribute=\"sequence\", query=\"[ATGC]{20}[ATGC]GG\", target_attribute=\"feature id\", operation=createattribute(\"spCas9_target*\"))\n",
    "new_plasmid = editdna(new_plasmid, key_attribute=\"feature id\", query=\"spCas9_target[0-9]+\", target_attribute=\"feature type\", operation=replaceattribute(\"misc_bind\"))"
   ]
  },
  {
   "cell_type": "code",
   "execution_count": 23,
   "metadata": {},
   "outputs": [],
   "source": [
    "features = new_plasmid.finddna(\"misc_bind\")"
   ]
  },
  {
   "cell_type": "code",
   "execution_count": 24,
   "metadata": {},
   "outputs": [
    {
     "name": "stdout",
     "output_type": "stream",
     "text": [
      "feature_id        qualifier:label  feature_type  start  end   strand  sequence                 \n",
      "spCas9_target1    null             misc_bind     137    160   +       ACTCTCACTCTTACCGAACTTGG  \n",
      "spCas9_target2    null             misc_bind     200    223   +       AAACGAATCGACCGATTGTTAGG  \n",
      "spCas9_target3    null             misc_bind     237    260   +       AGGAAGGTTTAAACGCATTTAGG  \n",
      "spCas9_target4    null             misc_bind     267    290   +       ATAGAAGTGTGTATCGCTCGAGG  \n",
      "spCas9_target5    null             misc_bind     293    316   +       CCGAATTCGAAGACTTGGTACGG  \n",
      "spCas9_target6    null             misc_bind     327    350   +       TTTCCAGATCTGATAACTTGTGG  \n",
      "spCas9_target7    null             misc_bind     376    399   +       TTAAGACGTCAGAATTCTCGAGG  \n",
      "spCas9_target8    null             misc_bind     422    445   +       AGTGAGTCGTATTAATTTCGCGG  \n",
      "spCas9_target9    null             misc_bind     490    513   +       ATCCGCTCATGAGTAGCACCAGG  \n",
      "spCas9_target10   null             misc_bind     587    610   +       CATTAAGCATTCTGCCGACATGG  \n",
      "spCas9_target11   null             misc_bind     628    651   +       TGATGAACCTGAATCGCCAGCGG  \n",
      "spCas9_target12   null             misc_bind     669    692   +       TTGCGTATAATATTTGCCCATGG  \n",
      "spCas9_target13   null             misc_bind     702    725   +       GGCGAAGAAGTTGTCCATATTGG  \n",
      "spCas9_target14   null             misc_bind     738    761   +       AAAACTGGTGAAACTCACCCAGG  \n",
      "spCas9_target15   null             misc_bind     781    804   +       ATATTCTCAATAAACCCTTTAGG  \n",
      "spCas9_target16   null             misc_bind     845    868   +       AATATATGTGTAGAAACTGCCGG  \n",
      "spCas9_target17   null             misc_bind     899    922   +       AAAACGTTTCAGTTTGCTCATGG  \n",
      "spCas9_target18   null             misc_bind     965    988   +       CACCGTCTTTCATTGCCATACGG  \n",
      "spCas9_target19   null             misc_bind     989    1012  +       ATTCCGGATGAGCATTCATCAGG  \n",
      "spCas9_target20   null             misc_bind     1015   1038  +       GCAAGAATGTGAATAAAGGCCGG  \n",
      "spCas9_target21   null             misc_bind     1044   1067  +       CTTGTGCTTATTTTTCTTTACGG  \n",
      "spCas9_target22   null             misc_bind     1077   1100  +       GGCCGTAATATCCAGCTGAACGG  \n",
      "spCas9_target23   null             misc_bind     1142   1165  +       AATGTTCTTTACGATGCCATTGG  \n",
      "spCas9_target24   null             misc_bind     1234   1257  +       GATAACTCAAAAAATACGCCCGG  \n",
      "spCas9_target25   null             misc_bind     1266   1289  +       TATTTCATTATGGTGAAAGTTGG  \n",
      "spCas9_target26   null             misc_bind     1380   1403  +       GACCCCGTAGAAAAGATCAAAGG  \n",
      "spCas9_target27   null             misc_bind     1451   1474  +       AAAAAAACCACCGCTACCAGCGG  \n",
      "spCas9_target28   null             misc_bind     1496   1519  +       GCTACCAACTCTTTTTCCGAAGG  \n",
      "spCas9_target29   null             misc_bind     1557   1580  +       CTTCTAGTGTAGCCGTAGTTAGG  \n",
      "spCas9_target30   null             misc_bind     1622   1645  +       TCTGCTAATCCTGTTACCAGTGG  \n",
      "spCas9_target31   null             misc_bind     1656   1679  +       GGCGATAAGTCGTGTCTTACCGG  \n",
      "spCas9_target32   null             misc_bind     1682   1705  +       GGACTCAAGACGATAGTTACCGG  \n",
      "spCas9_target33   null             misc_bind     1709   1732  +       GGCGCAGCGGTCGGGCTGAACGG  \n",
      "spCas9_target34   null             misc_bind     1736   1759  +       TTCGTGCACACAGCCCAGCTTGG  \n",
      "spCas9_target35   null             misc_bind     1806   1829  +       GAAAGCGCCACGCTTCCCGAAGG  \n",
      "spCas9_target36   null             misc_bind     1836   1859  +       GCGGACAGGTATCCGGTAAGCGG  \n",
      "spCas9_target37   null             misc_bind     1864   1887  +       TCGGAACAGGAGAGCGCACGAGG  \n",
      "spCas9_target38   null             misc_bind     1888   1911  +       AGCTTCCAGGGGGAAACGCCTGG  \n",
      "spCas9_target39   null             misc_bind     1956   1979  +       CGATTTTTGTGATGCTCGTCAGG  \n",
      "spCas9_target40   null             misc_bind     1991   2014  +       ATGGAAAAACGCCAGCAATGCGG  \n",
      "spCas9_target41   null             misc_bind     2020   2043  +       TACGGTTCCTGGCCTTTTGCTGG  \n",
      "spCas9_target42   null             misc_bind     2066   2089  +       TGCGTTATCCCCTGATTCTGTGG  \n",
      "spCas9_target43   null             misc_bind     2147   2170  +       GCGCAGCGAGTCAGTGAGCGAGG  \n",
      "spCas9_target44   null             misc_bind     2143   2166  -       GCTCACTGACTCGCTGCGCTCGG  \n",
      "spCas9_target45   null             misc_bind     2104   2127  -       AGCGGTATCAGCTCACTCAAAGG  \n",
      "spCas9_target46   null             misc_bind     2076   2099  -       ATACGGTTATCCACAGAATCAGG  \n",
      "spCas9_target47   null             misc_bind     2043   2066  -       GGAAAGAACATGTGAGCAAAAGG  \n",
      "spCas9_target48   null             misc_bind     2014   2037  -       AAAGGCCAGGAACCGTAAAAAGG  \n",
      "spCas9_target49   null             misc_bind     1988   2011  -       CATTGCTGGCGTTTTTCCATAGG  \n",
      "spCas9_target50   null             misc_bind     1940   1963  -       AAAATCGACGCTCAAGTCAGAGG  \n",
      "spCas9_target51   null             misc_bind     1906   1929  -       GACAGGACTATAAAGATACCAGG  \n",
      "spCas9_target52   null             misc_bind     1848   1871  -       GTTCCGACCCTGCCGCTTACCGG  \n",
      "spCas9_target53   null             misc_bind     1822   1845  -       CCTGTCCGCCTTTCTCCCTTCGG  \n",
      "spCas9_target54   null             misc_bind     1787   1810  -       TTTCTCATAGCTCACGCTGTAGG  \n",
      "spCas9_target55   null             misc_bind     1750   1773  -       GTAGGTCGTTCGCTCCAAGCTGG  \n",
      "spCas9_target56   null             misc_bind     1701   1724  -       CCCGACCGCTGCGCCTTATCCGG  \n",
      "spCas9_target57   null             misc_bind     1675   1698  -       CTATCGTCTTGAGTCCAACCCGG  \n",
      "spCas9_target58   null             misc_bind     1651   1674  -       AAGACACGACTTATCGCCACTGG  \n",
      "spCas9_target59   null             misc_bind     1616   1639  -       GTAACAGGATTAGCAGAGCGAGG  \n",
      "spCas9_target60   null             misc_bind     1583   1606  -       GTGCTACAGAGTTCTTGAAGTGG  \n",
      "spCas9_target61   null             misc_bind     1545   1568  -       TACACTAGAAGAACAGTATTTGG  \n",
      "spCas9_target62   null             misc_bind     1512   1535  -       CTGCTGAAGCCAGTTACCTTCGG  \n",
      "spCas9_target63   null             misc_bind     1485   1508  -       AGAGTTGGTAGCTCTTGATCCGG  \n",
      "spCas9_target64   null             misc_bind     1461   1484  -       AAACAAACCACCGCTGGTAGCGG  \n",
      "spCas9_target65   null             misc_bind     1416   1439  -       CAGATTACGCGCAGAAAAAAAGG  \n",
      "spCas9_target66   null             misc_bind     1384   1407  -       AGATCCTTTGATCTTTTCTACGG  \n",
      "spCas9_target67   null             misc_bind     1347   1370  -       TGGAACGAAAACTCACGTTAAGG  \n",
      "spCas9_target68   null             misc_bind     1323   1346  -       ATTTTGGTCATGACAACTTTTGG  \n",
      "spCas9_target69   null             misc_bind     1291   1314  -       GACGTTGATCGGCACGTAAGAGG  \n",
      "spCas9_target70   null             misc_bind     1253   1276  -       TAATGAAATAAGATCACTACCGG  \n",
      "spCas9_target71   null             misc_bind     1222   1245  -       TTTGAGTTATCGAGATTTTCAGG  \n",
      "spCas9_target72   null             misc_bind     1186   1209  -       AAAATGGAGAAAAAAATCACTGG  \n",
      "spCas9_target73   null             misc_bind     1158   1181  -       CCACCGTTGATATATCCCAATGG  \n",
      "spCas9_target74   null             misc_bind     1088   1111  -       CTATAACCAGACCGTTCAGCTGG  \n",
      "spCas9_target75   null             misc_bind     1034   1057  -       AAATAAGCACAAGTTTTATCCGG  \n",
      "spCas9_target76   null             misc_bind     992    1015  -       CCGCCTGATGAATGCTCATCCGG  \n",
      "spCas9_target77   null             misc_bind     967    990   -       TTCCGTATGGCAATGAAAGACGG  \n",
      "spCas9_target78   null             misc_bind     888    911   -       CTGAAACGTTTTCATCGCTCTGG  \n",
      "spCas9_target79   null             misc_bind     864    887   -       GTGAATACCACGACGATTTCCGG  \n",
      "spCas9_target80   null             misc_bind     833    856   -       ACACATATATTCGCAAGATGTGG  \n",
      "spCas9_target81   null             misc_bind     796    819   -       AACCTGGCCTATTTCCCTAAAGG  \n",
      "spCas9_target82   null             misc_bind     756    779   -       TTTTCGTCTCAGCCAATCCCTGG  \n",
      "spCas9_target83   null             misc_bind     725    748   -       CACCAGTTTTGATTTAAACGTGG  \n",
      "spCas9_target84   null             misc_bind     686    709   -       CTTCGCCCCCGTTTTCACCATGG  \n",
      "spCas9_target85   null             misc_bind     659    682   -       ATATTATACGCAAGGCGACAAGG  \n",
      "spCas9_target86   null             misc_bind     635    658   -       GCTGATGCCGCTGGCGATTCAGG  \n",
      "spCas9_target87   null             misc_bind     601    624   -       GTTTGTGATGGCTTCCATGTCGG  \n",
      "spCas9_target88   null             misc_bind     561    584   -       TACAACAGTACTGCGATGAGTGG  \n",
      "spCas9_target89   null             misc_bind     535    558   -       GGCGGGGCGTAATTTTTTTAAGG  \n",
      "spCas9_target90   null             misc_bind     508    531   -       TATTGGTGCCCTTAAACGCCTGG  \n",
      "spCas9_target91   null             misc_bind     453    476   -       ATTTAGAAAAATAAACAAATAGG  \n",
      "spCas9_target92   null             misc_bind     417    440   -       AAATTAATACGACTCACTATAGG  \n",
      "spCas9_target93   null             misc_bind     360    383   -       GTCTTAATTAAGAAGACTACAGG  \n",
      "spCas9_target94   null             misc_bind     330    353   -       AGACCACAAGTTATCAGATCTGG  \n",
      "spCas9_target95   null             misc_bind     293    316   -       CCGTACCAAGTCTTCGAATTCGG  \n",
      "spCas9_target96   null             misc_bind     232    255   -       ATGCGTTTAAACCTTCCTGCAGG  \n",
      "spCas9_target97   null             misc_bind     174    197   -       GTTATGTTTTGTTCTCGCTTTGG  \n",
      "spCas9_target98   null             misc_bind     150    173   -       TGGCAGGTTACGGCCAAGTTCGG  \n",
      "spCas9_target99   null             misc_bind     115    138   -       TTTTACAGTCAAGTAATGCGTGG  \n",
      "spCas9_target100  null             misc_bind     72     95    -       GAGTCGTTTTAAGTGTAATTCGG  \n",
      "spCas9_target101  null             misc_bind     2173   22    -       TTGTCTGATTATTGATTTTTCGG  \n",
      "\n"
     ]
    }
   ],
   "source": [
    "new_plasmid.printfeature(features, seq=True)"
   ]
  },
  {
   "cell_type": "code",
   "execution_count": 25,
   "metadata": {},
   "outputs": [
    {
     "name": "stdout",
     "output_type": "stream",
     "text": [
      "feature_id  qualifier:label                  feature_type  start  end   strand  \n",
      "0           null                             source        0      2174  +       \n",
      "1100        pGGA                             source        0      2174  +       \n",
      "1           null                             misc_feature  0      250   +       \n",
      "100         Forward (CW) Analysis Primer     primer_bind   233    260   +       \n",
      "200         SP6 promoter                     promoter      253    272   +       \n",
      "300         upstream MCS                     misc_feature  282    304   +       \n",
      "400         BsaI insert                      misc_feature  314    359   +       \n",
      "500         downstream MCS                   misc_feature  372    406   +       \n",
      "600         Cloning Analysis Reverse Primer  primer_bind   410    436   -       \n",
      "700         T7 promoter                      promoter      417    436   -       \n",
      "800         CmR                              CDS           546    1206  -       \n",
      "900         cat promoter                     promoter      1206   1309  -       \n",
      "1000        ori                              rep_origin    1409   1998  +       \n",
      "\n"
     ]
    }
   ],
   "source": [
    "new_plasmid = editdna(plasmid, key_attribute=\"sequence:|250..500|\", query=None, target_attribute=\"feature_id\", operation=createattribute())\n",
    "new_plasmid.printfeature()\n",
    "#new_plasmid = editdna(new_plasmid, key_attribute=\"feature_ID\", query=\"1\", target_attribute=\"position\", operation=replaceattribute((100,200)))\n",
    "#new_plasmid.printfeature()\n",
    "#new_plasmid = editdna(new_plasmid, key_attribute=\"feature_ID\", query=\"1\", target_attribute=\"strand\", operation=replaceattribute(-1))\n",
    "#new_plasmid.printfeature()"
   ]
  }
 ],
 "metadata": {
  "kernelspec": {
   "display_name": "Python 3",
   "language": "python",
   "name": "python3"
  },
  "language_info": {
   "codemirror_mode": {
    "name": "ipython",
    "version": 3
   },
   "file_extension": ".py",
   "mimetype": "text/x-python",
   "name": "python",
   "nbconvert_exporter": "python",
   "pygments_lexer": "ipython3",
   "version": "3.9.1"
  }
 },
 "nbformat": 4,
 "nbformat_minor": 5
}
