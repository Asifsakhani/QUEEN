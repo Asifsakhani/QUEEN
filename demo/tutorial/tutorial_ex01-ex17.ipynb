{
 "cells": [
  {
   "cell_type": "code",
   "execution_count": 1,
   "metadata": {},
   "outputs": [],
   "source": [
    "import sys \n",
    "sys.path.append(\"../../\")\n",
    "from dnaquine import *"
   ]
  },
  {
   "cell_type": "markdown",
   "metadata": {},
   "source": [
    "**Example code 1: Create a blunt-end DNA object by specifying its sequence** "
   ]
  },
  {
   "cell_type": "code",
   "execution_count": 2,
   "metadata": {},
   "outputs": [],
   "source": [
    "fragment = DNA(seq=\"CCGGTATGCGTCGA\") "
   ]
  },
  {
   "cell_type": "markdown",
   "metadata": {},
   "source": [
    "**Example code 2: Create a sticky-end DNA object by specifying its structure**"
   ]
  },
  {
   "cell_type": "code",
   "execution_count": 3,
   "metadata": {},
   "outputs": [
    {
     "name": "stdout",
     "output_type": "stream",
     "text": [
      "5' CCGGTATGCG---- 3'\n",
      "3' ----ATACGCAGCT 5'\n"
     ]
    },
    {
     "data": {
      "text/plain": [
       "('CCGGTATGCG----', 'TCGACGCATA----')"
      ]
     },
     "execution_count": 3,
     "metadata": {},
     "output_type": "execute_result"
    }
   ],
   "source": [
    "fragment = DNA(seq=\"CCGGTATGCG----/----ATACGCAGCT\") \n",
    "fragment.getdnaseq(display=True)"
   ]
  },
  {
   "cell_type": "markdown",
   "metadata": {},
   "source": [
    "**Example code 3: Create an annotated DNA object from GenBank format file**"
   ]
  },
  {
   "cell_type": "code",
   "execution_count": 4,
   "metadata": {},
   "outputs": [
    {
     "name": "stdout",
     "output_type": "stream",
     "text": [
      "<dna.DNA object; project='pGGA', length='2174 bp', topology='circular'>\n"
     ]
    }
   ],
   "source": [
    "plasmid = DNA(record=\"input/pGGA.gb\")\n",
    "print(plasmid)"
   ]
  },
  {
   "cell_type": "markdown",
   "metadata": {},
   "source": [
    "**Example code 4: Print a double-strand DNA sequence with sticky ends**"
   ]
  },
  {
   "cell_type": "code",
   "execution_count": 5,
   "metadata": {},
   "outputs": [
    {
     "name": "stdout",
     "output_type": "stream",
     "text": [
      "5' CCGGTATGCG---- 3'\n",
      "3' ----ATACGCAGCT 5'\n"
     ]
    },
    {
     "data": {
      "text/plain": [
       "('CCGGTATGCG----', 'TCGACGCATA----')"
      ]
     },
     "execution_count": 5,
     "metadata": {},
     "output_type": "execute_result"
    }
   ],
   "source": [
    "from dnaquine import *\n",
    "fragment = DNA(seq=\"CCGGTATGCG----/----ATACGCAGCT\") \n",
    "fragment.getdnaseq(display=True)"
   ]
  },
  {
   "cell_type": "markdown",
   "metadata": {},
   "source": [
    "**Example code 5: Print DNAfeatures with formatted table**"
   ]
  },
  {
   "cell_type": "code",
   "execution_count": 6,
   "metadata": {},
   "outputs": [
    {
     "name": "stdout",
     "output_type": "stream",
     "text": [
      "feature_id  feature_type  qualifier:label                  start  end   strand  \n",
      "0           source        null                             0      2174  +       \n",
      "1100        source        pGGA                             0      2174  +       \n",
      "100         primer_bind   Forward (CW) Analysis Primer     233    260   +       \n",
      "200         promoter      SP6 promoter                     253    272   +       \n",
      "300         misc_feature  upstream MCS                     282    304   +       \n",
      "400         misc_feature  BsaI insert                      314    359   +       \n",
      "500         misc_feature  downstream MCS                   372    406   +       \n",
      "600         primer_bind   Cloning Analysis Reverse Primer  410    436   -       \n",
      "700         promoter      T7 promoter                      417    436   -       \n",
      "800         CDS           CmR                              546    1206  -       \n",
      "900         promoter      cat promoter                     1206   1309  -       \n",
      "1000        rep_origin    ori                              1409   1998  +       \n",
      "\n"
     ]
    }
   ],
   "source": [
    "plasmid.printfeature()"
   ]
  },
  {
   "cell_type": "markdown",
   "metadata": {},
   "source": [
    "**Example code 6: Search DNA sequences with a regular expression**"
   ]
  },
  {
   "cell_type": "code",
   "execution_count": 7,
   "metadata": {},
   "outputs": [
    {
     "name": "stdout",
     "output_type": "stream",
     "text": [
      "start  end   strand  sequence                 \n",
      "88     111   +       ACGACTCAACAGCTTAACGTTGG  \n",
      "137    160   +       ACTCTCACTCTTACCGAACTTGG  \n",
      "200    223   +       AAACGAATCGACCGATTGTTAGG  \n",
      "237    260   +       AGGAAGGTTTAAACGCATTTAGG  \n",
      "267    290   +       ATAGAAGTGTGTATCGCTCGAGG  \n",
      "293    316   +       CCGAATTCGAAGACTTGGTACGG  \n",
      "327    350   +       TTTCCAGATCTGATAACTTGTGG  \n",
      "376    399   +       TTAAGACGTCAGAATTCTCGAGG  \n",
      "422    445   +       AGTGAGTCGTATTAATTTCGCGG  \n",
      "490    513   +       ATCCGCTCATGAGTAGCACCAGG  \n",
      "587    610   +       CATTAAGCATTCTGCCGACATGG  \n",
      "628    651   +       TGATGAACCTGAATCGCCAGCGG  \n",
      "669    692   +       TTGCGTATAATATTTGCCCATGG  \n",
      "702    725   +       GGCGAAGAAGTTGTCCATATTGG  \n",
      "738    761   +       AAAACTGGTGAAACTCACCCAGG  \n",
      "781    804   +       ATATTCTCAATAAACCCTTTAGG  \n",
      "845    868   +       AATATATGTGTAGAAACTGCCGG  \n",
      "899    922   +       AAAACGTTTCAGTTTGCTCATGG  \n",
      "965    988   +       CACCGTCTTTCATTGCCATACGG  \n",
      "989    1012  +       ATTCCGGATGAGCATTCATCAGG  \n",
      "1015   1038  +       GCAAGAATGTGAATAAAGGCCGG  \n",
      "1044   1067  +       CTTGTGCTTATTTTTCTTTACGG  \n",
      "1077   1100  +       GGCCGTAATATCCAGCTGAACGG  \n",
      "1142   1165  +       AATGTTCTTTACGATGCCATTGG  \n",
      "1234   1257  +       GATAACTCAAAAAATACGCCCGG  \n",
      "1266   1289  +       TATTTCATTATGGTGAAAGTTGG  \n",
      "1380   1403  +       GACCCCGTAGAAAAGATCAAAGG  \n",
      "1451   1474  +       AAAAAAACCACCGCTACCAGCGG  \n",
      "1496   1519  +       GCTACCAACTCTTTTTCCGAAGG  \n",
      "1557   1580  +       CTTCTAGTGTAGCCGTAGTTAGG  \n",
      "1622   1645  +       TCTGCTAATCCTGTTACCAGTGG  \n",
      "1656   1679  +       GGCGATAAGTCGTGTCTTACCGG  \n",
      "1682   1705  +       GGACTCAAGACGATAGTTACCGG  \n",
      "1709   1732  +       GGCGCAGCGGTCGGGCTGAACGG  \n",
      "1736   1759  +       TTCGTGCACACAGCCCAGCTTGG  \n",
      "1806   1829  +       GAAAGCGCCACGCTTCCCGAAGG  \n",
      "1836   1859  +       GCGGACAGGTATCCGGTAAGCGG  \n",
      "1864   1887  +       TCGGAACAGGAGAGCGCACGAGG  \n",
      "1888   1911  +       AGCTTCCAGGGGGAAACGCCTGG  \n",
      "1956   1979  +       CGATTTTTGTGATGCTCGTCAGG  \n",
      "1991   2014  +       ATGGAAAAACGCCAGCAATGCGG  \n",
      "2020   2043  +       TACGGTTCCTGGCCTTTTGCTGG  \n",
      "2066   2089  +       TGCGTTATCCCCTGATTCTGTGG  \n",
      "2147   2170  +       GCGCAGCGAGTCAGTGAGCGAGG  \n",
      "2143   2166  -       GCTCACTGACTCGCTGCGCTCGG  \n",
      "2104   2127  -       AGCGGTATCAGCTCACTCAAAGG  \n",
      "2076   2099  -       ATACGGTTATCCACAGAATCAGG  \n",
      "2043   2066  -       GGAAAGAACATGTGAGCAAAAGG  \n",
      "2014   2037  -       AAAGGCCAGGAACCGTAAAAAGG  \n",
      "1988   2011  -       CATTGCTGGCGTTTTTCCATAGG  \n",
      "1940   1963  -       AAAATCGACGCTCAAGTCAGAGG  \n",
      "1906   1929  -       GACAGGACTATAAAGATACCAGG  \n",
      "1848   1871  -       GTTCCGACCCTGCCGCTTACCGG  \n",
      "1822   1845  -       CCTGTCCGCCTTTCTCCCTTCGG  \n",
      "1787   1810  -       TTTCTCATAGCTCACGCTGTAGG  \n",
      "1750   1773  -       GTAGGTCGTTCGCTCCAAGCTGG  \n",
      "1701   1724  -       CCCGACCGCTGCGCCTTATCCGG  \n",
      "1675   1698  -       CTATCGTCTTGAGTCCAACCCGG  \n",
      "1651   1674  -       AAGACACGACTTATCGCCACTGG  \n",
      "1616   1639  -       GTAACAGGATTAGCAGAGCGAGG  \n",
      "1583   1606  -       GTGCTACAGAGTTCTTGAAGTGG  \n",
      "1545   1568  -       TACACTAGAAGAACAGTATTTGG  \n",
      "1512   1535  -       CTGCTGAAGCCAGTTACCTTCGG  \n",
      "1485   1508  -       AGAGTTGGTAGCTCTTGATCCGG  \n",
      "1461   1484  -       AAACAAACCACCGCTGGTAGCGG  \n",
      "1416   1439  -       CAGATTACGCGCAGAAAAAAAGG  \n",
      "1384   1407  -       AGATCCTTTGATCTTTTCTACGG  \n",
      "1347   1370  -       TGGAACGAAAACTCACGTTAAGG  \n",
      "1323   1346  -       ATTTTGGTCATGACAACTTTTGG  \n",
      "1291   1314  -       GACGTTGATCGGCACGTAAGAGG  \n",
      "1253   1276  -       TAATGAAATAAGATCACTACCGG  \n",
      "1222   1245  -       TTTGAGTTATCGAGATTTTCAGG  \n",
      "1186   1209  -       AAAATGGAGAAAAAAATCACTGG  \n",
      "1158   1181  -       CCACCGTTGATATATCCCAATGG  \n",
      "1088   1111  -       CTATAACCAGACCGTTCAGCTGG  \n",
      "1034   1057  -       AAATAAGCACAAGTTTTATCCGG  \n",
      "992    1015  -       CCGCCTGATGAATGCTCATCCGG  \n",
      "967    990   -       TTCCGTATGGCAATGAAAGACGG  \n",
      "888    911   -       CTGAAACGTTTTCATCGCTCTGG  \n",
      "864    887   -       GTGAATACCACGACGATTTCCGG  \n",
      "833    856   -       ACACATATATTCGCAAGATGTGG  \n",
      "796    819   -       AACCTGGCCTATTTCCCTAAAGG  \n",
      "756    779   -       TTTTCGTCTCAGCCAATCCCTGG  \n",
      "725    748   -       CACCAGTTTTGATTTAAACGTGG  \n",
      "686    709   -       CTTCGCCCCCGTTTTCACCATGG  \n",
      "659    682   -       ATATTATACGCAAGGCGACAAGG  \n",
      "635    658   -       GCTGATGCCGCTGGCGATTCAGG  \n",
      "601    624   -       GTTTGTGATGGCTTCCATGTCGG  \n",
      "561    584   -       TACAACAGTACTGCGATGAGTGG  \n",
      "535    558   -       GGCGGGGCGTAATTTTTTTAAGG  \n",
      "508    531   -       TATTGGTGCCCTTAAACGCCTGG  \n",
      "453    476   -       ATTTAGAAAAATAAACAAATAGG  \n",
      "417    440   -       AAATTAATACGACTCACTATAGG  \n",
      "360    383   -       GTCTTAATTAAGAAGACTACAGG  \n",
      "330    353   -       AGACCACAAGTTATCAGATCTGG  \n",
      "293    316   -       CCGTACCAAGTCTTCGAATTCGG  \n",
      "232    255   -       ATGCGTTTAAACCTTCCTGCAGG  \n",
      "174    197   -       GTTATGTTTTGTTCTCGCTTTGG  \n",
      "150    173   -       TGGCAGGTTACGGCCAAGTTCGG  \n",
      "115    138   -       TTTTACAGTCAAGTAATGCGTGG  \n",
      "72     95    -       GAGTCGTTTTAAGTGTAATTCGG  \n",
      "2173   22    -       TTGTCTGATTATTGATTTTTCGG  \n",
      "\n"
     ]
    }
   ],
   "source": [
    "feature_list = plasmid.finddna(key_attribute=\"sequence\",query=\"[ATGC]{20}[ATGC]GG\")\n",
    "plasmid.printfeature(feature_list, seq=True, attribute=[\"start\", \"end\", \"strand\"])"
   ]
  },
  {
   "cell_type": "code",
   "execution_count": 8,
   "metadata": {},
   "outputs": [
    {
     "name": "stdout",
     "output_type": "stream",
     "text": [
      "feature_id  feature_type  qualifier:label  start  end   strand  sequence          \n",
      "null        misc_feature  null             90     106   +       GACTCAACAGCTTAAC  \n",
      "null        misc_feature  null             1932   1948  -       GTCAGAGGTGGCGAAA  \n",
      "\n"
     ]
    }
   ],
   "source": [
    "feature_list = plasmid.finddna(query=\"SWSWSWDSDSBHBRHH\", key_attribute=\"sequence\")\n",
    "plasmid.printfeature(feature_list, seq=True)"
   ]
  },
  {
   "cell_type": "markdown",
   "metadata": {},
   "source": [
    "**Example code 7: Search CDS features**"
   ]
  },
  {
   "cell_type": "code",
   "execution_count": 9,
   "metadata": {},
   "outputs": [
    {
     "name": "stdout",
     "output_type": "stream",
     "text": [
      "type: CDS\n",
      "location: [546:1206](-)\n",
      "qualifiers:\n",
      "    Key: codon_start, Value: ['1']\n",
      "    Key: gene, Value: ['cat']\n",
      "    Key: label, Value: ['CmR']\n",
      "    Key: note, Value: ['confers resistance to chloramphenicol']\n",
      "    Key: product, Value: ['chloramphenicol acetyltransferase']\n",
      "    Key: translation, Value: ['MEKKITGYTTVDISQWHRKEHFEAFQSVAQCTYNQTVQLDITAFLKTVKKNKHKFYPAFIHILARLMNAHPEFRMAMKDGELVIWDSVHPCYTVFHEQTETFSSLWSEYHDDFRQFLHIYSQDVACYGENLAYFPKGFIENMFFVSANPWVSFTSFDLNVANMDNFFAPVFTMGKYYTQGDKVLMPLAIQVHHAVCDGFHVGRMLNELQQYCDEWQGGA']\n",
      "\n"
     ]
    }
   ],
   "source": [
    "feature_list = plasmid.finddna(query=\"CDS\")\n",
    "for feature in feature_list:\n",
    "    print(feature)"
   ]
  },
  {
   "cell_type": "markdown",
   "metadata": {},
   "source": [
    "**Example code 8: Cut pGGA plasmid at multiple positions**"
   ]
  },
  {
   "cell_type": "code",
   "execution_count": 10,
   "metadata": {},
   "outputs": [
    {
     "name": "stdout",
     "output_type": "stream",
     "text": [
      "<dna.DNA object; project='pGGA', length='1000 bp', topology='linear'>\n",
      "<dna.DNA object; project='pGGA', length='1174 bp', topology='linear'>\n",
      "<dna.DNA object; project='pGGA', length='500 bp', topology='linear'>\n",
      "<dna.DNA object; project='pGGA', length='674 bp', topology='linear'>\n"
     ]
    }
   ],
   "source": [
    "fragment1, fragment2 = cutdna(plasmid ,1000, 2000)\n",
    "print(fragment1)\n",
    "print(fragment2)\n",
    "fragment3, fragment4 = cutdna(fragment2, 500)\n",
    "print(fragment3)\n",
    "print(fragment4)"
   ]
  },
  {
   "cell_type": "markdown",
   "metadata": {},
   "source": [
    "**Example code 9: Crop a fragmented dna object in a specific region**  \n",
    "If you want to get only fragment2, please use ```cropdna``` function as follows."
   ]
  },
  {
   "cell_type": "code",
   "execution_count": 11,
   "metadata": {},
   "outputs": [
    {
     "name": "stdout",
     "output_type": "stream",
     "text": [
      "<dna.DNA object; project='pGGA', length='1174 bp', topology='linear'>\n"
     ]
    }
   ],
   "source": [
    "fragment2 = cropdna(plasmid ,2000, 1000)\n",
    "print(fragment2)"
   ]
  },
  {
   "cell_type": "markdown",
   "metadata": {},
   "source": [
    "**Example code 10: : Digest pGGA plasmid by EcoRI**  \n",
    "The recognition sequence where EcoRI cut is \"5′-G^AATT_C-3′\". There are three. EcoRI site in the pGGA plasmid. First, search the EcoRI sequence from the pGGA plasmid. Then, cut the EcoRI site according to its cutting format.  "
   ]
  },
  {
   "cell_type": "code",
   "execution_count": 12,
   "metadata": {},
   "outputs": [
    {
     "name": "stdout",
     "output_type": "stream",
     "text": [
      "<dna.DNA object; project='pGGA', length='96 bp', topology='linear'>\n",
      "5' AATTCGAAGA...CGTCAG---- 3'\n",
      "3' ----GCTTCT...GCAGTCTTAA 5'\n",
      "\n",
      "<dna.DNA object; project='pGGA', length='604 bp', topology='linear'>\n",
      "5' AATTCTCGAG...ATACGG---- 3'\n",
      "3' ----GAGCTC...TATGCCTTAA 5'\n",
      "\n",
      "<dna.DNA object; project='pGGA', length='1486 bp', topology='linear'>\n",
      "5' AATTCCGGAT...GATCCG---- 3'\n",
      "3' ----GGCCTA...CTAGGCTTAA 5'\n",
      "\n"
     ]
    }
   ],
   "source": [
    "sites = plasmid.finddna(\"G^AATT_C\", key_attribute=\"sequence\")\n",
    "fragments = cutdna(plasmid, *sites)\n",
    "for fragment in fragments:\n",
    "    print(fragment)\n",
    "    fragment.getdnaseq(display=True, hide_middle=10)"
   ]
  },
  {
   "cell_type": "markdown",
   "metadata": {},
   "source": [
    "**Example code 11: Digest pGGA plasmid by BsaI**  \n",
    "The recognition sequence where BsaI cut is \"5′-GGTCTC(1/5)-3′\". There are two BsaI in the pGGA plasmid. First, search the BsaI sequence from the pGGA plasmid. Then, cut the BsaI site according to its cutting format.  \n",
    "https://international.neb.com/tools-and-resources/selection-charts/enzymes-with-nonpalindromic-sequences"
   ]
  },
  {
   "cell_type": "code",
   "execution_count": 13,
   "metadata": {},
   "outputs": [
    {
     "name": "stdout",
     "output_type": "stream",
     "text": [
      "start  end  strand  sequence     \n",
      "348    359  +       GGTCTCACCAT  \n",
      "314    325  -       GGTCTCGCTCC  \n",
      "\n",
      "<dna.DNA object; project='pGGA', length='2137 bp', topology='linear'>\n",
      "5' CCATTCCTGT...TGGTAC---- 3'\n",
      "3' ----AGGACA...ACCATGCCTC 5'\n",
      "\n",
      "<dna.DNA object; project='pGGA', length='45 bp', sequence='GGAGCGAGACCGCTTTCCAGATCTGATAACTTGTGGTCTCACCAT', topology='linear'>\n",
      "5' GGAGCGAGAC...GTCTCA---- 3'\n",
      "3' ----GCTCTG...CAGAGTGGTA 5'\n",
      "\n",
      "start  end  strand  sequence     \n",
      "348    359  +       GGTCTCACCAT  \n",
      "314    325  -       GGTCTCGCTCC  \n",
      "\n",
      "<dna.DNA object; project='pGGA', length='2137 bp', topology='linear'>\n",
      "5' CCATTCCTGT...TGGTAC---- 3'\n",
      "3' ----AGGACA...ACCATGCCTC 5'\n",
      "\n",
      "<dna.DNA object; project='pGGA', length='45 bp', sequence='GGAGCGAGACCGCTTTCCAGATCTGATAACTTGTGGTCTCACCAT', topology='linear'>\n",
      "5' GGAGCGAGAC...GTCTCA---- 3'\n",
      "3' ----GCTCTG...CAGAGTGGTA 5'\n",
      "\n"
     ]
    }
   ],
   "source": [
    "sites = plasmid.finddna(\"GGTCTCN^NNNN_\", key_attribute=\"sequence\")\n",
    "plasmid.printfeature(sites, attribute=[\"start\",\"end\",\"strand\",\"sequence\"])\n",
    "fragments = cutdna(plasmid,*sites)\n",
    "for fragment in fragments:\n",
    "    print(fragment)\n",
    "    fragment.getdnaseq(display=True, hide_middle=10)\n",
    "    \n",
    "sites = plasmid.finddna(\"GGTCTC(1/5)\", key_attribute=\"sequence\")\n",
    "plasmid.printfeature(sites, attribute=[\"start\",\"end\",\"strand\",\"sequence\"])\n",
    "fragments = cutdna(plasmid,*sites)\n",
    "for fragment in fragments:\n",
    "    print(fragment)\n",
    "    fragment.getdnaseq(display=True, hide_middle=10)"
   ]
  },
  {
   "cell_type": "markdown",
   "metadata": {},
   "source": [
    "**Example code 12: Trim single-stranded DNA on both ends to generate sticky ends**  \n",
    "Sticky ends can be generated by trimming single-stranded DNA sequences when their end structures are given by top and bottom strand strings with \"\\*\" and \"-\" separated by \"/.\" The letters \"-\" show nucleotide letters being trimmed and “\\*” shod nucleotide letters being remained. "
   ]
  },
  {
   "cell_type": "code",
   "execution_count": 14,
   "metadata": {},
   "outputs": [
    {
     "name": "stdout",
     "output_type": "stream",
     "text": [
      "5' CTTAACGTTGGCTTGCCACG 3'\n",
      "3' GAATTGCAACCGAACGGTGC 5'\n",
      "5' ----ACGTTGGCTTGCCACG 3'\n",
      "3' GAATTGCAACCGAACGGT-- 5'\n"
     ]
    },
    {
     "data": {
      "text/plain": [
       "('----ACGTTGGCTTGCCACG', '--TGGCAAGCCAACGTTAAG')"
      ]
     },
     "execution_count": 14,
     "metadata": {},
     "output_type": "execute_result"
    }
   ],
   "source": [
    "fragment = cropdna(plasmid, 100, 120)\n",
    "fragment.getdnaseq(display=True)\n",
    "fragment = modifyends(fragment, \"----/****\", \"**/--\")\n",
    "fragment.getdnaseq(display=True)"
   ]
  },
  {
   "cell_type": "markdown",
   "metadata": {},
   "source": [
    "The following code also can execute same process with the above one."
   ]
  },
  {
   "cell_type": "code",
   "execution_count": 15,
   "metadata": {},
   "outputs": [
    {
     "name": "stdout",
     "output_type": "stream",
     "text": [
      "5' ----ACGTTGGCTTGCCACG 3'\n",
      "3' GAATTGCAACCGAACGGT-- 5'\n"
     ]
    },
    {
     "data": {
      "text/plain": [
       "('----ACGTTGGCTTGCCACG', '--TGGCAAGCCAACGTTAAG')"
      ]
     },
     "execution_count": 15,
     "metadata": {},
     "output_type": "execute_result"
    }
   ],
   "source": [
    "fragment = cropdna(plasmid,'104/100', '120/118')\n",
    "fragment.getdnaseq(display=True)"
   ]
  },
  {
   "cell_type": "markdown",
   "metadata": {},
   "source": [
    "A regex-like format can be used for the end stracture specification."
   ]
  },
  {
   "cell_type": "code",
   "execution_count": 16,
   "metadata": {},
   "outputs": [
    {
     "name": "stdout",
     "output_type": "stream",
     "text": [
      "5' -----CGTTGGCTTGCCACG 3'\n",
      "3' GAATTGCAACCGAAC----- 5'\n"
     ]
    },
    {
     "data": {
      "text/plain": [
       "('-----CGTTGGCTTGCCACG', '-----CAAGCCAACGTTAAG')"
      ]
     },
     "execution_count": 16,
     "metadata": {},
     "output_type": "execute_result"
    }
   ],
   "source": [
    "fragment = cropdna(plasmid, 100, 120)\n",
    "fragment = modifyends(fragment, \"-{5}/*{5}\",\"*{5}/-{5}\")\n",
    "fragment.getdnaseq(display=True)"
   ]
  },
  {
   "cell_type": "markdown",
   "metadata": {},
   "source": [
    "**Example code 13: Add sticky ends to a blunt end DNA object**  \n",
    "If end sequence structures are given with nucleotide letters, they are added to the DNA ends. The same operation can be achieved by the join function described later."
   ]
  },
  {
   "cell_type": "code",
   "execution_count": 17,
   "metadata": {},
   "outputs": [
    {
     "name": "stdout",
     "output_type": "stream",
     "text": [
      "5' ---ATGCCTTAACGTTGGCTTGCCACGTACG--- 3'\n",
      "3' ATGTACGGAATTGCAACCGAACGGTGCATGCTAC 5'\n"
     ]
    },
    {
     "data": {
      "text/plain": [
       "('---ATGCCTTAACGTTGGCTTGCCACGTACG---', 'CATCGTACGTGGCAAGCCAACGTTAAGGCATGTA')"
      ]
     },
     "execution_count": 17,
     "metadata": {},
     "output_type": "execute_result"
    }
   ],
   "source": [
    "fragment = cropdna(plasmid, 100, 120)\n",
    "fragment = modifyends(fragment,\"---ATGC/ATGTACG\",\"TACG---/ATGCTAC\")\n",
    "fragment.getdnaseq(display=True)"
   ]
  },
  {
   "cell_type": "markdown",
   "metadata": {},
   "source": [
    "**Example code 14:  Flip chloramphenicol resistant gene in pGGA plasmid**"
   ]
  },
  {
   "cell_type": "code",
   "execution_count": 18,
   "metadata": {},
   "outputs": [
    {
     "name": "stdout",
     "output_type": "stream",
     "text": [
      "feature_id  feature_type  qualifier:label  start  end   strand  \n",
      "800         CDS           CmR              546    1206  -       \n",
      "\n",
      "feature_id  feature_type  qualifier:label  start  end  strand  \n",
      "100         CDS           CmR              0      660  +       \n",
      "\n"
     ]
    }
   ],
   "source": [
    "site = plasmid.finddna(\"CmR\")[0]\n",
    "fragment1, fragment2 = cutdna(plasmid, site.start, site.end)\n",
    "fragment1   = flipdna(fragment1)\n",
    "new_plasmid = joindna(fragment1, fragment2, topology=\"circular\")\n",
    "plasmid.printfeature(plasmid.finddna(\"CmR\"))\n",
    "new_plasmid.printfeature(new_plasmid.finddna(\"CmR\"))"
   ]
  },
  {
   "cell_type": "markdown",
   "metadata": {},
   "source": [
    "**Example code 16: Break start codon of the CDS features**"
   ]
  },
  {
   "cell_type": "code",
   "execution_count": 19,
   "metadata": {},
   "outputs": [
    {
     "name": "stdout",
     "output_type": "stream",
     "text": [
      "CmR: ATGGAGAAAAAAATCACTGG\n",
      "CmR: GTGGAGAAAAAAATCACTGG\n"
     ]
    }
   ],
   "source": [
    "print(\"CmR:\", plasmid.getdnaseq(plasmid.finddna(\"CDS\")[0])[0:20])\n",
    "new_plasmid = editsequence(plasmid, key_attribute=\"feature_type\", query=\"CDS\", \n",
    "                           target_range=(0,3), old_value=\"ATG\", new_value=\"GTG\")\n",
    "print(\"CmR:\", new_plasmid.getdnaseq(plasmid.finddna(\"CmR\")[0])[0:20])"
   ]
  },
  {
   "cell_type": "markdown",
   "metadata": {},
   "source": [
    "**Example code 16: Convert feature type from ‘CDS’ to ‘gene’**"
   ]
  },
  {
   "cell_type": "code",
   "execution_count": 20,
   "metadata": {},
   "outputs": [
    {
     "name": "stdout",
     "output_type": "stream",
     "text": [
      "feature_id  feature_type  qualifier:label  start  end   strand  \n",
      "800         CDS           CmR              546    1206  -       \n",
      "\n",
      "feature_id  feature_type  qualifier:label  start  end   strand  \n",
      "800         gene          CmR              546    1206  -       \n",
      "\n"
     ]
    }
   ],
   "source": [
    "plasmid.printfeature(plasmid.finddna(\"CDS\"))\n",
    "new_plasmid = editfeature(plasmid, key_attribute=\"feature type\", query=\"CDS\", target_attribute=\"feature type\", operation=replaceattribute(\"gene\"))\n",
    "new_plasmid.printfeature(new_plasmid.finddna(\"gene\"))"
   ]
  },
  {
   "cell_type": "markdown",
   "metadata": {},
   "source": [
    "**Example code 17: Create new features where SpCas9 can bind.** "
   ]
  },
  {
   "cell_type": "code",
   "execution_count": 21,
   "metadata": {},
   "outputs": [],
   "source": [
    "new_plasmid = editfeature(plasmid, key_attribute=\"sequence\", query=\"[ATGC]{20}[ATGC]GG\", target_attribute=\"feature id\", operation=createattribute(\"spCas9_target*\"))\n",
    "new_plasmid = editfeature(new_plasmid, key_attribute=\"feature id\", query=\"spCas9_target[0-9]+\", target_attribute=\"feature type\", operation=replaceattribute(\"misc_bind\"))"
   ]
  },
  {
   "cell_type": "code",
   "execution_count": 22,
   "metadata": {},
   "outputs": [],
   "source": [
    "features = new_plasmid.finddna(\"misc_bind\")"
   ]
  },
  {
   "cell_type": "code",
   "execution_count": 23,
   "metadata": {},
   "outputs": [
    {
     "name": "stdout",
     "output_type": "stream",
     "text": [
      "feature_id        feature_type  start  end   strand  sequence                 \n",
      "spCas9_target1    misc_bind     137    160   +       ACTCTCACTCTTACCGAACTTGG  \n",
      "spCas9_target2    misc_bind     200    223   +       AAACGAATCGACCGATTGTTAGG  \n",
      "spCas9_target3    misc_bind     237    260   +       AGGAAGGTTTAAACGCATTTAGG  \n",
      "spCas9_target4    misc_bind     267    290   +       ATAGAAGTGTGTATCGCTCGAGG  \n",
      "spCas9_target5    misc_bind     293    316   +       CCGAATTCGAAGACTTGGTACGG  \n",
      "spCas9_target6    misc_bind     327    350   +       TTTCCAGATCTGATAACTTGTGG  \n",
      "spCas9_target7    misc_bind     376    399   +       TTAAGACGTCAGAATTCTCGAGG  \n",
      "spCas9_target8    misc_bind     422    445   +       AGTGAGTCGTATTAATTTCGCGG  \n",
      "spCas9_target9    misc_bind     490    513   +       ATCCGCTCATGAGTAGCACCAGG  \n",
      "spCas9_target10   misc_bind     587    610   +       CATTAAGCATTCTGCCGACATGG  \n",
      "spCas9_target11   misc_bind     628    651   +       TGATGAACCTGAATCGCCAGCGG  \n",
      "spCas9_target12   misc_bind     669    692   +       TTGCGTATAATATTTGCCCATGG  \n",
      "spCas9_target13   misc_bind     702    725   +       GGCGAAGAAGTTGTCCATATTGG  \n",
      "spCas9_target14   misc_bind     738    761   +       AAAACTGGTGAAACTCACCCAGG  \n",
      "spCas9_target15   misc_bind     781    804   +       ATATTCTCAATAAACCCTTTAGG  \n",
      "spCas9_target16   misc_bind     845    868   +       AATATATGTGTAGAAACTGCCGG  \n",
      "spCas9_target17   misc_bind     899    922   +       AAAACGTTTCAGTTTGCTCATGG  \n",
      "spCas9_target18   misc_bind     965    988   +       CACCGTCTTTCATTGCCATACGG  \n",
      "spCas9_target19   misc_bind     989    1012  +       ATTCCGGATGAGCATTCATCAGG  \n",
      "spCas9_target20   misc_bind     1015   1038  +       GCAAGAATGTGAATAAAGGCCGG  \n",
      "spCas9_target21   misc_bind     1044   1067  +       CTTGTGCTTATTTTTCTTTACGG  \n",
      "spCas9_target22   misc_bind     1077   1100  +       GGCCGTAATATCCAGCTGAACGG  \n",
      "spCas9_target23   misc_bind     1142   1165  +       AATGTTCTTTACGATGCCATTGG  \n",
      "spCas9_target24   misc_bind     1234   1257  +       GATAACTCAAAAAATACGCCCGG  \n",
      "spCas9_target25   misc_bind     1266   1289  +       TATTTCATTATGGTGAAAGTTGG  \n",
      "spCas9_target26   misc_bind     1380   1403  +       GACCCCGTAGAAAAGATCAAAGG  \n",
      "spCas9_target27   misc_bind     1451   1474  +       AAAAAAACCACCGCTACCAGCGG  \n",
      "spCas9_target28   misc_bind     1496   1519  +       GCTACCAACTCTTTTTCCGAAGG  \n",
      "spCas9_target29   misc_bind     1557   1580  +       CTTCTAGTGTAGCCGTAGTTAGG  \n",
      "spCas9_target30   misc_bind     1622   1645  +       TCTGCTAATCCTGTTACCAGTGG  \n",
      "spCas9_target31   misc_bind     1656   1679  +       GGCGATAAGTCGTGTCTTACCGG  \n",
      "spCas9_target32   misc_bind     1682   1705  +       GGACTCAAGACGATAGTTACCGG  \n",
      "spCas9_target33   misc_bind     1709   1732  +       GGCGCAGCGGTCGGGCTGAACGG  \n",
      "spCas9_target34   misc_bind     1736   1759  +       TTCGTGCACACAGCCCAGCTTGG  \n",
      "spCas9_target35   misc_bind     1806   1829  +       GAAAGCGCCACGCTTCCCGAAGG  \n",
      "spCas9_target36   misc_bind     1836   1859  +       GCGGACAGGTATCCGGTAAGCGG  \n",
      "spCas9_target37   misc_bind     1864   1887  +       TCGGAACAGGAGAGCGCACGAGG  \n",
      "spCas9_target38   misc_bind     1888   1911  +       AGCTTCCAGGGGGAAACGCCTGG  \n",
      "spCas9_target39   misc_bind     1956   1979  +       CGATTTTTGTGATGCTCGTCAGG  \n",
      "spCas9_target40   misc_bind     1991   2014  +       ATGGAAAAACGCCAGCAATGCGG  \n",
      "spCas9_target41   misc_bind     2020   2043  +       TACGGTTCCTGGCCTTTTGCTGG  \n",
      "spCas9_target42   misc_bind     2066   2089  +       TGCGTTATCCCCTGATTCTGTGG  \n",
      "spCas9_target43   misc_bind     2147   2170  +       GCGCAGCGAGTCAGTGAGCGAGG  \n",
      "spCas9_target44   misc_bind     2143   2166  -       GCTCACTGACTCGCTGCGCTCGG  \n",
      "spCas9_target45   misc_bind     2104   2127  -       AGCGGTATCAGCTCACTCAAAGG  \n",
      "spCas9_target46   misc_bind     2076   2099  -       ATACGGTTATCCACAGAATCAGG  \n",
      "spCas9_target47   misc_bind     2043   2066  -       GGAAAGAACATGTGAGCAAAAGG  \n",
      "spCas9_target48   misc_bind     2014   2037  -       AAAGGCCAGGAACCGTAAAAAGG  \n",
      "spCas9_target49   misc_bind     1988   2011  -       CATTGCTGGCGTTTTTCCATAGG  \n",
      "spCas9_target50   misc_bind     1940   1963  -       AAAATCGACGCTCAAGTCAGAGG  \n",
      "spCas9_target51   misc_bind     1906   1929  -       GACAGGACTATAAAGATACCAGG  \n",
      "spCas9_target52   misc_bind     1848   1871  -       GTTCCGACCCTGCCGCTTACCGG  \n",
      "spCas9_target53   misc_bind     1822   1845  -       CCTGTCCGCCTTTCTCCCTTCGG  \n",
      "spCas9_target54   misc_bind     1787   1810  -       TTTCTCATAGCTCACGCTGTAGG  \n",
      "spCas9_target55   misc_bind     1750   1773  -       GTAGGTCGTTCGCTCCAAGCTGG  \n",
      "spCas9_target56   misc_bind     1701   1724  -       CCCGACCGCTGCGCCTTATCCGG  \n",
      "spCas9_target57   misc_bind     1675   1698  -       CTATCGTCTTGAGTCCAACCCGG  \n",
      "spCas9_target58   misc_bind     1651   1674  -       AAGACACGACTTATCGCCACTGG  \n",
      "spCas9_target59   misc_bind     1616   1639  -       GTAACAGGATTAGCAGAGCGAGG  \n",
      "spCas9_target60   misc_bind     1583   1606  -       GTGCTACAGAGTTCTTGAAGTGG  \n",
      "spCas9_target61   misc_bind     1545   1568  -       TACACTAGAAGAACAGTATTTGG  \n",
      "spCas9_target62   misc_bind     1512   1535  -       CTGCTGAAGCCAGTTACCTTCGG  \n",
      "spCas9_target63   misc_bind     1485   1508  -       AGAGTTGGTAGCTCTTGATCCGG  \n",
      "spCas9_target64   misc_bind     1461   1484  -       AAACAAACCACCGCTGGTAGCGG  \n",
      "spCas9_target65   misc_bind     1416   1439  -       CAGATTACGCGCAGAAAAAAAGG  \n",
      "spCas9_target66   misc_bind     1384   1407  -       AGATCCTTTGATCTTTTCTACGG  \n",
      "spCas9_target67   misc_bind     1347   1370  -       TGGAACGAAAACTCACGTTAAGG  \n",
      "spCas9_target68   misc_bind     1323   1346  -       ATTTTGGTCATGACAACTTTTGG  \n",
      "spCas9_target69   misc_bind     1291   1314  -       GACGTTGATCGGCACGTAAGAGG  \n",
      "spCas9_target70   misc_bind     1253   1276  -       TAATGAAATAAGATCACTACCGG  \n",
      "spCas9_target71   misc_bind     1222   1245  -       TTTGAGTTATCGAGATTTTCAGG  \n",
      "spCas9_target72   misc_bind     1186   1209  -       AAAATGGAGAAAAAAATCACTGG  \n",
      "spCas9_target73   misc_bind     1158   1181  -       CCACCGTTGATATATCCCAATGG  \n",
      "spCas9_target74   misc_bind     1088   1111  -       CTATAACCAGACCGTTCAGCTGG  \n",
      "spCas9_target75   misc_bind     1034   1057  -       AAATAAGCACAAGTTTTATCCGG  \n",
      "spCas9_target76   misc_bind     992    1015  -       CCGCCTGATGAATGCTCATCCGG  \n",
      "spCas9_target77   misc_bind     967    990   -       TTCCGTATGGCAATGAAAGACGG  \n",
      "spCas9_target78   misc_bind     888    911   -       CTGAAACGTTTTCATCGCTCTGG  \n",
      "spCas9_target79   misc_bind     864    887   -       GTGAATACCACGACGATTTCCGG  \n",
      "spCas9_target80   misc_bind     833    856   -       ACACATATATTCGCAAGATGTGG  \n",
      "spCas9_target81   misc_bind     796    819   -       AACCTGGCCTATTTCCCTAAAGG  \n",
      "spCas9_target82   misc_bind     756    779   -       TTTTCGTCTCAGCCAATCCCTGG  \n",
      "spCas9_target83   misc_bind     725    748   -       CACCAGTTTTGATTTAAACGTGG  \n",
      "spCas9_target84   misc_bind     686    709   -       CTTCGCCCCCGTTTTCACCATGG  \n",
      "spCas9_target85   misc_bind     659    682   -       ATATTATACGCAAGGCGACAAGG  \n",
      "spCas9_target86   misc_bind     635    658   -       GCTGATGCCGCTGGCGATTCAGG  \n",
      "spCas9_target87   misc_bind     601    624   -       GTTTGTGATGGCTTCCATGTCGG  \n",
      "spCas9_target88   misc_bind     561    584   -       TACAACAGTACTGCGATGAGTGG  \n",
      "spCas9_target89   misc_bind     535    558   -       GGCGGGGCGTAATTTTTTTAAGG  \n",
      "spCas9_target90   misc_bind     508    531   -       TATTGGTGCCCTTAAACGCCTGG  \n",
      "spCas9_target91   misc_bind     453    476   -       ATTTAGAAAAATAAACAAATAGG  \n",
      "spCas9_target92   misc_bind     417    440   -       AAATTAATACGACTCACTATAGG  \n",
      "spCas9_target93   misc_bind     360    383   -       GTCTTAATTAAGAAGACTACAGG  \n",
      "spCas9_target94   misc_bind     330    353   -       AGACCACAAGTTATCAGATCTGG  \n",
      "spCas9_target95   misc_bind     293    316   -       CCGTACCAAGTCTTCGAATTCGG  \n",
      "spCas9_target96   misc_bind     232    255   -       ATGCGTTTAAACCTTCCTGCAGG  \n",
      "spCas9_target97   misc_bind     174    197   -       GTTATGTTTTGTTCTCGCTTTGG  \n",
      "spCas9_target98   misc_bind     150    173   -       TGGCAGGTTACGGCCAAGTTCGG  \n",
      "spCas9_target99   misc_bind     115    138   -       TTTTACAGTCAAGTAATGCGTGG  \n",
      "spCas9_target100  misc_bind     72     95    -       GAGTCGTTTTAAGTGTAATTCGG  \n",
      "spCas9_target101  misc_bind     2173   22    -       TTGTCTGATTATTGATTTTTCGG  \n",
      "\n"
     ]
    }
   ],
   "source": [
    "new_plasmid.printfeature(features, attribute=[\"feature_id\", \"feature_type\", \"start\", \"end\", \"strand\", \"sequence\"])"
   ]
  },
  {
   "cell_type": "code",
   "execution_count": 24,
   "metadata": {},
   "outputs": [
    {
     "name": "stdout",
     "output_type": "stream",
     "text": [
      "feature_id  feature_type  qualifier:label                  start  end   strand  \n",
      "0           source        null                             0      2174  +       \n",
      "1100        source        pGGA                             0      2174  +       \n",
      "100         primer_bind   Forward (CW) Analysis Primer     233    260   +       \n",
      "200         promoter      SP6 promoter                     253    272   +       \n",
      "300         misc_feature  upstream MCS                     282    304   +       \n",
      "101         misc_feature  null                             300    400   +       \n",
      "400         misc_feature  BsaI insert                      314    359   +       \n",
      "500         misc_feature  downstream MCS                   372    406   +       \n",
      "600         primer_bind   Cloning Analysis Reverse Primer  410    436   -       \n",
      "700         promoter      T7 promoter                      417    436   -       \n",
      "800         CDS           CmR                              546    1206  -       \n",
      "900         promoter      cat promoter                     1206   1309  -       \n",
      "1000        rep_origin    ori                              1409   1998  +       \n",
      "\n"
     ]
    }
   ],
   "source": [
    "new_plasmid = editfeature (plasmid, key_attribute=\"sequence:|300..400|\", query=None, target_attribute=\"feature_id\", operation=createattribute())\n",
    "new_plasmid.printfeature()"
   ]
  }
 ],
 "metadata": {
  "kernelspec": {
   "display_name": "Python 3",
   "language": "python",
   "name": "python3"
  },
  "language_info": {
   "codemirror_mode": {
    "name": "ipython",
    "version": 3
   },
   "file_extension": ".py",
   "mimetype": "text/x-python",
   "name": "python",
   "nbconvert_exporter": "python",
   "pygments_lexer": "ipython3",
   "version": "3.9.1"
  }
 },
 "nbformat": 4,
 "nbformat_minor": 5
}
