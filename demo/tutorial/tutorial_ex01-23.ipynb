{
 "cells": [
  {
   "cell_type": "code",
   "execution_count": 1,
   "id": "frank-gilbert",
   "metadata": {},
   "outputs": [],
   "source": [
    "import sys \n",
    "sys.path.append(\"../../\")\n",
    "from QUEEN.queen import *"
   ]
  },
  {
   "cell_type": "markdown",
   "id": "dirty-kinase",
   "metadata": {},
   "source": [
    "----\n",
    "##### Example code 1: : Create a QUEEN object for a blunt-ended dsDNA "
   ]
  },
  {
   "cell_type": "code",
   "execution_count": 2,
   "id": "eligible-pearl",
   "metadata": {},
   "outputs": [],
   "source": [
    "dna = QUEEN(seq=\"CCGGTATGCGTCGA\") "
   ]
  },
  {
   "cell_type": "markdown",
   "id": "czech-weekend",
   "metadata": {},
   "source": [
    "----\n",
    "##### Example code 2: Create a QUEEN object for a sticky-ended dsDNA"
   ]
  },
  {
   "cell_type": "code",
   "execution_count": 3,
   "id": "attached-laptop",
   "metadata": {},
   "outputs": [],
   "source": [
    "dna = QUEEN(seq=\"CCGGTATGCG----/----ATACGCAGCT\") "
   ]
  },
  {
   "cell_type": "markdown",
   "id": "expanded-frost",
   "metadata": {},
   "source": [
    "----\n",
    "##### Example code 3: Create a QUEEN object for a circular dsDNA"
   ]
  },
  {
   "cell_type": "code",
   "execution_count": 4,
   "id": "reverse-behalf",
   "metadata": {},
   "outputs": [],
   "source": [
    "dna = QUEEN(seq=\"CCGGTATGCGTCGA\", topology=\"circular\") "
   ]
  },
  {
   "cell_type": "markdown",
   "id": "commercial-sociology",
   "metadata": {},
   "source": [
    "----\n",
    "##### Example code 4: Create an annotated DNA object from GenBank format file  \n",
    "The pX330 plasmid used as GenBank input in the following example is a cloning vector that contains a Cas9 gene and a gRNA expression cassette. The plasmid is commonly used for genome editing experiments. In the following all example codes, the \"plasmid\" variable represents the QUEEN object of pX330."
   ]
  },
  {
   "cell_type": "code",
   "execution_count": 5,
   "id": "daily-sister",
   "metadata": {},
   "outputs": [],
   "source": [
    "plasmid = QUEEN(record=\"input/pX330.gbk\")"
   ]
  },
  {
   "cell_type": "markdown",
   "id": "accurate-ribbon",
   "metadata": {},
   "source": [
    "----\n",
    "##### Example code 5: Print a dsDNA sequence of sticky ends"
   ]
  },
  {
   "cell_type": "code",
   "execution_count": 6,
   "id": "charged-daniel",
   "metadata": {},
   "outputs": [
    {
     "name": "stdout",
     "output_type": "stream",
     "text": [
      "5' CCGGTATGCG---- 3'\n",
      "3' ----ATACGCAGCT 5'\n",
      "\n"
     ]
    },
    {
     "data": {
      "text/plain": [
       "'CCGGTATGCG----/----ATACGCAGCT'"
      ]
     },
     "execution_count": 6,
     "metadata": {},
     "output_type": "execute_result"
    }
   ],
   "source": [
    "dna = QUEEN(seq=\"CCGGTATGCG----/----ATACGCAGCT\") \n",
    "dna.getdnaseq(display=True)"
   ]
  },
  {
   "cell_type": "markdown",
   "id": "exterior-extension",
   "metadata": {},
   "source": [
    "----\n",
    "##### Example code 6: Print DNA features with a well-formatted table"
   ]
  },
  {
   "cell_type": "code",
   "execution_count": 7,
   "id": "manufactured-brother",
   "metadata": {},
   "outputs": [
    {
     "name": "stdout",
     "output_type": "stream",
     "text": [
      "feature_id  feature_type   qualifier:label     start  end   strand  \n",
      "1           source         null                0      8484  +       \n",
      "100         promoter       U6 promoter         0      241   +       \n",
      "200         primer_bind    hU6-F               0      21    +       \n",
      "300         primer_bind    LKO.1 5'            171    191   +       \n",
      "400         misc_RNA       gRNA scaffold       267    343   +       \n",
      "500         enhancer       CMV enhancer        439    725   +       \n",
      "600         intron         hybrid intron       983    1211  +       \n",
      "700         regulatory     null                1222   1232  +       \n",
      "800         CDS            3xFLAG              1231   1297  +       \n",
      "900         CDS            SV40 NLS            1303   1324  +       \n",
      "1000        CDS            Cas9                1348   5449  +       \n",
      "1100        CDS            nucleoplasmin NLS   5449   5497  +       \n",
      "1200        primer_bind    BGH-rev             5524   5542  -       \n",
      "1300        polyA_signal   bGH poly(A) signal  5530   5738  +       \n",
      "1400        repeat_region  AAV2 ITR            5746   5887  +       \n",
      "1500        repeat_region  AAV2 ITR            5746   5876  +       \n",
      "1600        rep_origin     f1 ori              5961   6417  +       \n",
      "1700        primer_bind    F1ori-R             6048   6068  -       \n",
      "1800        primer_bind    F1ori-F             6258   6280  +       \n",
      "1900        primer_bind    pRS-marker          6433   6453  -       \n",
      "2000        primer_bind    pGEX 3'             6552   6575  +       \n",
      "2100        primer_bind    pBRforEco           6612   6631  -       \n",
      "2200        promoter       AmpR promoter       6698   6803  +       \n",
      "2300        CDS            AmpR                6803   7664  +       \n",
      "2400        primer_bind    Amp-R               7021   7041  -       \n",
      "2500        rep_origin     ori                 7834   8423  +       \n",
      "2600        primer_bind    pBR322ori-F         8323   8343  +       \n",
      "\n"
     ]
    }
   ],
   "source": [
    "plasmid.printfeature()"
   ]
  },
  {
   "cell_type": "markdown",
   "id": "sporting-russell",
   "metadata": {},
   "source": [
    "----\n",
    "##### Example code 7: Search DNA sequences with a regular expression"
   ]
  },
  {
   "cell_type": "code",
   "execution_count": 8,
   "id": "linear-brand",
   "metadata": {},
   "outputs": [
    {
     "name": "stdout",
     "output_type": "stream",
     "text": [
      "start  end   strand  sequence                 \n",
      "115    138   +       GTAGAAAGTAATAATTTCTTGGG  \n",
      "523    546   +       GACTTTCCATTGACGTCAATGGG  \n",
      "816    839   +       GTGCAGCGATGGGGGCGGGGGGG  \n",
      "1372   1395  +       GACATCGGCACCAACTCTGTGGG  \n",
      "1818   1841  +       GGCCCACATGATCAAGTTCCGGG  \n",
      "3097   3120  +       GATCGGTTCAACGCCTCCCTGGG  \n",
      "3300   3323  +       GCGGCGGAGATACACCGGCTGGG  \n",
      "3336   3359  +       GAAGCTGATCAACGGCATCCGGG  \n",
      "3529   3552  +       GGCAGCCCCGCCATTAAGAAGGG  \n",
      "3577   3600  +       GACGAGCTCGTGAAAGTGATGGG  \n",
      "3640   3663  +       GAGAACCAGACCACCCAGAAGGG  \n",
      "3697   3720  +       GAAGAGGGCATCAAAGAGCTGGG  \n",
      "3783   3806  +       GTACTACCTGCAGAATGGGCGGG  \n",
      "3915   3938  +       GACCAGAAGCGACAAGAACCGGG  \n",
      "4303   4326  +       GCCTACCTGAACGCCGTCGTGGG  \n",
      "4552   4575  +       GGGGAGATCGTGTGGGATAAGGG  \n",
      "4701   4724  +       GATCGCCAGAAAGAAGGACTGGG  \n",
      "4777   4800  +       GTGGTGGCCAAAGTGGAAAAGGG  \n",
      "5217   5240  +       GTCCGCCTACAACAAGCACCGGG  \n",
      "5653   5676  +       GTAGGTGTCATTCTATTCTGGGG  \n",
      "5679   5702  +       GGGGTGGGGCAGGACAGCAAGGG  \n",
      "5866   5889  +       GAGCGCGCAGCTGCCTGCAGGGG  \n",
      "6158   6181  +       GACCCCAAAAAACTTGATTTGGG  \n",
      "6303   6326  +       GCTATTCTTTTGATTTATAAGGG  \n",
      "6534   6557  +       GACAAGCTGTGACCGTCTCCGGG  \n",
      "6667   6690  +       GACGTCAGGTGGCACTTTTCGGG  \n",
      "6908   6931  +       GATCAGTTGGGTGCACGAGTGGG  \n",
      "7524   7547  +       GCGGTATCATTGCAGCACTGGGG  \n",
      "8082   8105  +       GCGATAAGTCGTGTCTTACCGGG  \n",
      "8135   8158  +       GCGCAGCGGTCGGGCTGAACGGG  \n",
      "8302   8325  +       GCGCACGAGGGAGCTTCCAGGGG  \n",
      "8334   8357  +       GGTATCTTTATAGTCCTGTCGGG  \n",
      "8382   8405  +       GATTTTTGTGATGCTCGTCAGGG  \n",
      "493    516   -       GCGTTACTATTGACGTCAATGGG  \n",
      "654    677   -       GTCCCATAAGGTCATGTACTGGG  \n",
      "758    781   -       GGTGGGGAGGGGGGGGAGATGGG  \n",
      "1014   1037  -       GCGCGAGGCGGCGGCGGAGCGGG  \n",
      "1301   1324  -       GACCTTCCGCTTCTTCTTTGGGG  \n",
      "1820   1843  -       GCCCCGGAACTTGATCATGTGGG  \n",
      "2090   2113  -       GAAGTTGCTCTTGAAGTTGGGGG  \n",
      "2183   2206  -       GGCGTACTGGTCGCCGATCTGGG  \n",
      "2288   2311  -       GATCATAGAGGCGCTCAGGGGGG  \n",
      "2689   2712  -       GCCAGAGGGCCCACGTAGTAGGG  \n",
      "3534   3557  -       GGATGCCCTTCTTAATGGCGGGG  \n",
      "3653   3676  -       GCTGTTCTTCTGTCCCTTCTGGG  \n",
      "3741   3764  -       GCAGCTGGGTGTTTTCCACGGGG  \n",
      "4154   4177  -       GTCGTACTTAGTGTTCATCCGGG  \n",
      "4214   4237  -       GGACACCAGCTTGGACTTCAGGG  \n",
      "4295   4318  -       GGCGTTCAGGTAGGCGTCGTGGG  \n",
      "4752   4775  -       GCACAGAATAGGCCACGGTGGGG  \n",
      "4949   4972  -       GCCGTTTTCCAGCTCGAACAGGG  \n",
      "5024   5047  -       GTTCACATATTTGGAGGGCAGGG  \n",
      "5088   5111  -       GTTTCTGCTCATTATCCTCGGGG  \n",
      "5381   5404  -       GGTGATGCTCTGGTGGATCAGGG  \n",
      "5565   5588  -       GTCAAGGAAGGCACGGGGGAGGG  \n",
      "5751   5774  -       GTGGCCAACTCCATCACTAGGGG  \n",
      "5966   5989  -       GCGCTTAATGCGCCGCTACAGGG  \n",
      "6044   6067  -       GGGAAGAAAGCGAAAGGAGCGGG  \n",
      "6206   6229  -       GGGCGAAAAACCGTCTATCAGGG  \n",
      "6467   6490  -       GCGGGTGTTGGCGGGTGTCGGGG  \n",
      "6497   6520  -       GGGAGCAGACAAGCCCGTCAGGG  \n",
      "7771   7794  -       GGAACGAAAACTCACGTTAAGGG  \n",
      "7808   7831  -       GATCCTTTGATCTTTTCTACGGG  \n",
      "\n"
     ]
    }
   ],
   "source": [
    "match_list = plasmid.searchsequence(query=\"G[ATGC]{19}GGG\")\n",
    "plasmid.printfeature(match_list, seq=True, attribute=[\"start\", \"end\", \"strand\"])"
   ]
  },
  {
   "cell_type": "markdown",
   "id": "following-entrance",
   "metadata": {},
   "source": [
    "-----\n",
    "##### Example code 8: Search DNA sequences with a fuzzy matching"
   ]
  },
  {
   "cell_type": "code",
   "execution_count": 9,
   "id": "handy-hudson",
   "metadata": {},
   "outputs": [
    {
     "name": "stdout",
     "output_type": "stream",
     "text": [
      "feature_id  feature_type  qualifier:label  start  end   strand  sequence  \n",
      "null        misc_feature  null             5484   5492  +       AAAAAAGA  \n",
      "null        misc_feature  null             6369   6377  +       AACAAAAA  \n",
      "null        misc_feature  null             7872   7880  +       AAACAAAA  \n",
      "null        misc_feature  null             346    354   -       AAAACAAA  \n",
      "null        misc_feature  null             799    807   -       AAAAAATA  \n",
      "null        misc_feature  null             1201   1209  -       GAAAAAAA  \n",
      "null        misc_feature  null             6716   6724  -       AAAAATAA  \n",
      "null        misc_feature  null             7844   7852  -       AGAAAAAA  \n",
      "\n"
     ]
    }
   ],
   "source": [
    "match_list = plasmid.searchsequence(query=\"(?:AAAAAAAA){s<=1}\")\n",
    "plasmid.printfeature(match_list, seq=True)"
   ]
  },
  {
   "cell_type": "markdown",
   "id": "western-ecuador",
   "metadata": {},
   "source": [
    "---- \n",
    "##### Example code 9: Search DNA sequences with IUPAC degenerate nucleotide codes"
   ]
  },
  {
   "cell_type": "code",
   "execution_count": 10,
   "id": "assured-function",
   "metadata": {},
   "outputs": [
    {
     "name": "stdout",
     "output_type": "stream",
     "text": [
      "feature_id  feature_type  qualifier:label  start  end   strand  sequence          \n",
      "null        misc_feature  null             4098   4114  +       GAGACAGCTGGTGGAA  \n",
      "null        misc_feature  null             3550   3566  -       CTGTCTGCAGGATGCC  \n",
      "null        misc_feature  null             5239   5255  -       CTCTGATGGGCTTATC  \n",
      "null        misc_feature  null             6415   6431  -       GAGAGTGCACCATAAA  \n",
      "null        misc_feature  null             8357   8373  -       GTCAGAGGTGGCGAAA  \n",
      "\n"
     ]
    }
   ],
   "source": [
    "match_list = plasmid.searchsequence(query=\"SWSWSWDSDSBHBRHH\")\n",
    "plasmid.printfeature(match_list, seq=True)"
   ]
  },
  {
   "cell_type": "markdown",
   "id": "authorized-reunion",
   "metadata": {},
   "source": [
    "----\n",
    "##### Example code 10: Search for specified seqeunce features  \n",
    "Search for DNAfeature objects with a feature type of \"primer_bind\" and retrieve only primers holding the given sequence from the returned DNAfeature objects."
   ]
  },
  {
   "cell_type": "code",
   "execution_count": 11,
   "id": "electric-monaco",
   "metadata": {},
   "outputs": [
    {
     "name": "stdout",
     "output_type": "stream",
     "text": [
      "feature_id  feature_type  qualifier:label  start  end   strand  \n",
      "200         primer_bind   hU6-F            0      21    +       \n",
      "300         primer_bind   LKO.1 5'         171    191   +       \n",
      "1200        primer_bind   BGH-rev          5524   5542  -       \n",
      "1700        primer_bind   F1ori-R          6048   6068  -       \n",
      "1800        primer_bind   F1ori-F          6258   6280  +       \n",
      "1900        primer_bind   pRS-marker       6433   6453  -       \n",
      "2000        primer_bind   pGEX 3'          6552   6575  +       \n",
      "2100        primer_bind   pBRforEco        6612   6631  -       \n",
      "2400        primer_bind   Amp-R            7021   7041  -       \n",
      "2600        primer_bind   pBR322ori-F      8323   8343  +       \n",
      "\n",
      "feature_id  feature_type  qualifier:label  start  end   strand  \n",
      "1700        primer_bind   F1ori-R          6048   6068  -       \n",
      "2400        primer_bind   Amp-R            7021   7041  -       \n",
      "\n"
     ]
    }
   ],
   "source": [
    "feature_list = plasmid.searchfeature(key_attribute=\"feature_type\", query=\"primer_bind\")\n",
    "plasmid.printfeature(feature_list)\n",
    "sub_feature_list = plasmid.searchfeature(key_attribute=\"qualifier:label\", query=\".+-R$\", source=feature_list)\n",
    "plasmid.printfeature(sub_feature_list)"
   ]
  },
  {
   "cell_type": "markdown",
   "id": "bottom-stress",
   "metadata": {},
   "source": [
    "----\n",
    "#### Example code 11: Cut pX330 plasmid at multiple positions"
   ]
  },
  {
   "cell_type": "code",
   "execution_count": 12,
   "id": "handy-church",
   "metadata": {},
   "outputs": [
    {
     "name": "stdout",
     "output_type": "stream",
     "text": [
      "<queen.QUEEN object; project='pX330', length='8484 bp', topology='circular' >\n",
      "[<queen.QUEEN object; project='pX330', length='1000 bp', topology='linear' >, <queen.QUEEN object; project='pX330', length='2000 bp', topology='linear' >, <queen.QUEEN object; project='pX330', length='5484 bp', topology='linear' >]\n",
      "<queen.QUEEN object; project='pX330', length='500 bp', topology='linear' >\n",
      "<queen.QUEEN object; project='pX330', length='1500 bp', topology='linear' >\n"
     ]
    }
   ],
   "source": [
    "print(plasmid)\n",
    "fragments = cutdna(plasmid ,1000, 2000, 4000)\n",
    "print(fragments)\n",
    "fragment3, fragment4 = cutdna(fragments[1], 500)\n",
    "print(fragment3)\n",
    "print(fragment4)"
   ]
  },
  {
   "cell_type": "markdown",
   "id": "atmospheric-alloy",
   "metadata": {},
   "source": [
    "**Example code 12: Digest pX330 plasmid by EcoRI**  \n",
    "The recognition sequence where EcoRI cut is \"G^AATT_C.\" The pX330 plasmid holding a single EcoRI site is digested as follows.  \n",
    "1. Search the EcoRI sequence from the pX330 plasmid.\n",
    "2. Cut EcoRI seqeunce according to the cut site.\n",
    "3. Linearized pX330 nucleotides are generated."
   ]
  },
  {
   "cell_type": "code",
   "execution_count": 13,
   "id": "patent-marble",
   "metadata": {},
   "outputs": [
    {
     "name": "stdout",
     "output_type": "stream",
     "text": [
      "<queen.QUEEN object; project='pX330', length='8488 bp', topology='linear' >\n",
      "5' AATTCCTAGA...AGTAAG---- 3'\n",
      "3' ----GGATCT...TCATTCTTAA 5'\n",
      "\n"
     ]
    }
   ],
   "source": [
    "sites     = plasmid.searchsequence(\"G^AATT_C\")\n",
    "fragments = cutdna(plasmid, *sites)\n",
    "for fragment in fragments:\n",
    "    print(fragment)\n",
    "    fragment.getdnaseq(display=True, hide_middle=10)"
   ]
  },
  {
   "cell_type": "markdown",
   "id": "american-governor",
   "metadata": {},
   "source": [
    "The following codes generates the same product."
   ]
  },
  {
   "cell_type": "code",
   "execution_count": 14,
   "id": "internal-pharmacy",
   "metadata": {},
   "outputs": [
    {
     "name": "stdout",
     "output_type": "stream",
     "text": [
      "<queen.QUEEN object; project='pX330', length='8488 bp', topology='linear' >\n",
      "5' AATTCCTAGA...AGTAAG---- 3'\n",
      "3' ----GGATCT...TCATTCTTAA 5'\n",
      "\n"
     ]
    }
   ],
   "source": [
    "sites     = plasmid.searchsequence(\"GAATTC(-5/-1)\")\n",
    "fragments = cutdna(plasmid, *sites)\n",
    "for fragment in fragments:\n",
    "    print(fragment)\n",
    "    fragment.getdnaseq(display=True, hide_middle=10)"
   ]
  },
  {
   "cell_type": "code",
   "execution_count": 15,
   "id": "exempt-effect",
   "metadata": {},
   "outputs": [
    {
     "name": "stdout",
     "output_type": "stream",
     "text": [
      "<queen.QUEEN object; project='pX330', length='8488 bp', topology='linear' >\n",
      "5' AATTCCTAGA...AGTAAG---- 3'\n",
      "3' ----GGATCT...TCATTCTTAA 5'\n",
      "\n"
     ]
    }
   ],
   "source": [
    "sites     = plasmid.searchsequence(\"(-1/-5)GAATTC\")\n",
    "fragments = cutdna(plasmid, *sites)\n",
    "for fragment in fragments:\n",
    "    print(fragment)\n",
    "    fragment.getdnaseq(display=True, hide_middle=10)"
   ]
  },
  {
   "cell_type": "markdown",
   "id": "discrete-tucson",
   "metadata": {},
   "source": [
    "Additionally, EcoRI cut site can be imported from \"Queen/RE.py\" as follows."
   ]
  },
  {
   "cell_type": "code",
   "execution_count": 16,
   "id": "premium-basic",
   "metadata": {},
   "outputs": [
    {
     "name": "stdout",
     "output_type": "stream",
     "text": [
      "<queen.QUEEN object; project='pX330', length='8488 bp', topology='linear' >\n",
      "5' AATTCCTAGA...AGTAAG---- 3'\n",
      "3' ----GGATCT...TCATTCTTAA 5'\n",
      "\n"
     ]
    }
   ],
   "source": [
    "from QUEEN.RE import * #Import liberary for restriction enzyme cutsites\n",
    "sites = plasmid.searchsequence(REsites[\"EcoRI\"].cutsite)\n",
    "fragments = cutdna(plasmid, *sites)\n",
    "for fragment in fragments:\n",
    "    print(fragment)\n",
    "    fragment.getdnaseq(display=True, hide_middle=10)"
   ]
  },
  {
   "cell_type": "markdown",
   "id": "whole-sense",
   "metadata": {},
   "source": [
    "**Example code 13: Digest pX330 plasmid by Type-IIS restriction enzyme BbsI**  \n",
    "The recognition sequence where BbsI cut is \"GAAGAC(2/6).\" The pX330 plasmid holding double BbsI sites is digested as follows.  \n",
    "1. Search the BsmBI sequence from the pX330 plasmid.\n",
    "2. Cut BsmBI seqeunce according to the cut site.\n",
    "3. Two linear fragments are generated."
   ]
  },
  {
   "cell_type": "code",
   "execution_count": 17,
   "id": "multiple-convergence",
   "metadata": {},
   "outputs": [
    {
     "name": "stdout",
     "output_type": "stream",
     "text": [
      "<queen.QUEEN object; project='pX330', length='8466 bp', topology='linear' >\n",
      "5' GTTTTAGAGC...ACGAAA---- 3'\n",
      "3' ----ATCTCG...TGCTTTGTGG 5'\n",
      "\n",
      "<queen.QUEEN object; project='pX330', length='26 bp', sequence='CACCGGGTCTTCGAGAAGACCTGTTT', topology='linear'>\n",
      "5' CACCGGGTCT...AGACCT---- 3'\n",
      "3' ----CCCAGA...TCTGGACAAA 5'\n",
      "\n"
     ]
    }
   ],
   "source": [
    "sites = plasmid.searchsequence(\"GAAGAC(2/6)\")\n",
    "fragments = cutdna(plasmid,*sites)\n",
    "for fragment in fragments:\n",
    "    print(fragment)\n",
    "    fragment.getdnaseq(display=True, hide_middle=10)"
   ]
  },
  {
   "cell_type": "markdown",
   "id": "painted-communications",
   "metadata": {},
   "source": [
    "The following codes generates same products."
   ]
  },
  {
   "cell_type": "code",
   "execution_count": 18,
   "id": "cutting-mathematics",
   "metadata": {},
   "outputs": [
    {
     "name": "stdout",
     "output_type": "stream",
     "text": [
      "<queen.QUEEN object; project='pX330', length='26 bp', sequence='CACCGGGTCTTCGAGAAGACCTGTTT', topology='linear'>\n",
      "5' CACCGGGTCT...AGACCT---- 3'\n",
      "3' ----CCCAGA...TCTGGACAAA 5'\n",
      "\n",
      "<queen.QUEEN object; project='pX330', length='8466 bp', topology='linear' >\n",
      "5' GTTTTAGAGC...ACGAAA---- 3'\n",
      "3' ----ATCTCG...TGCTTTGTGG 5'\n",
      "\n"
     ]
    }
   ],
   "source": [
    "sites = plasmid.searchsequence(\"(6/2)GTCTTC\")\n",
    "fragments = cutdna(plasmid,*sites)\n",
    "for fragment in fragments:\n",
    "    print(fragment)\n",
    "    fragment.getdnaseq(display=True, hide_middle=10)"
   ]
  },
  {
   "cell_type": "code",
   "execution_count": 19,
   "id": "sporting-essence",
   "metadata": {},
   "outputs": [
    {
     "name": "stdout",
     "output_type": "stream",
     "text": [
      "<queen.QUEEN object; project='pX330', length='8466 bp', topology='linear' >\n",
      "5' GTTTTAGAGC...ACGAAA---- 3'\n",
      "3' ----ATCTCG...TGCTTTGTGG 5'\n",
      "\n",
      "<queen.QUEEN object; project='pX330', length='26 bp', sequence='CACCGGGTCTTCGAGAAGACCTGTTT', topology='linear'>\n",
      "5' CACCGGGTCT...AGACCT---- 3'\n",
      "3' ----CCCAGA...TCTGGACAAA 5'\n",
      "\n"
     ]
    }
   ],
   "source": [
    "sites = plasmid.searchsequence(\"GAAGACNN^NNNN_\")\n",
    "fragments = cutdna(plasmid,*sites)\n",
    "for fragment in fragments:\n",
    "    print(fragment)\n",
    "    fragment.getdnaseq(display=True, hide_middle=10)"
   ]
  },
  {
   "cell_type": "code",
   "execution_count": 20,
   "id": "primary-jewelry",
   "metadata": {},
   "outputs": [
    {
     "name": "stdout",
     "output_type": "stream",
     "text": [
      "<queen.QUEEN object; project='pX330', length='26 bp', sequence='CACCGGGTCTTCGAGAAGACCTGTTT', topology='linear'>\n",
      "5' CACCGGGTCT...AGACCT---- 3'\n",
      "3' ----CCCAGA...TCTGGACAAA 5'\n",
      "\n",
      "<queen.QUEEN object; project='pX330', length='8466 bp', topology='linear' >\n",
      "5' GTTTTAGAGC...ACGAAA---- 3'\n",
      "3' ----ATCTCG...TGCTTTGTGG 5'\n",
      "\n"
     ]
    }
   ],
   "source": [
    "sites = plasmid.searchsequence(\"^NNNN_NNGTCTTC\")\n",
    "fragments = cutdna(plasmid,*sites)\n",
    "for fragment in fragments:\n",
    "    print(fragment)\n",
    "    fragment.getdnaseq(display=True, hide_middle=10)"
   ]
  },
  {
   "cell_type": "markdown",
   "id": "boring-performer",
   "metadata": {},
   "source": [
    "Additionally, BbsI cut site also can be imported from \"Queen/RE.py\" as follows."
   ]
  },
  {
   "cell_type": "code",
   "execution_count": 21,
   "id": "pacific-missouri",
   "metadata": {},
   "outputs": [
    {
     "name": "stdout",
     "output_type": "stream",
     "text": [
      "<queen.QUEEN object; project='pX330', length='8466 bp', topology='linear' >\n",
      "5' GTTTTAGAGC...ACGAAA---- 3'\n",
      "3' ----ATCTCG...TGCTTTGTGG 5'\n",
      "\n",
      "<queen.QUEEN object; project='pX330', length='26 bp', sequence='CACCGGGTCTTCGAGAAGACCTGTTT', topology='linear'>\n",
      "5' CACCGGGTCT...AGACCT---- 3'\n",
      "3' ----CCCAGA...TCTGGACAAA 5'\n",
      "\n"
     ]
    }
   ],
   "source": [
    "from QUEEN.RE import *\n",
    "sites = plasmid.searchsequence(REsites[\"BbsI\"].cutsite)\n",
    "fragments = cutdna(plasmid,*sites)\n",
    "for fragment in fragments:\n",
    "    print(fragment)\n",
    "    fragment.getdnaseq(display=True, hide_middle=10)"
   ]
  },
  {
   "cell_type": "markdown",
   "id": "ruled-lindsay",
   "metadata": {},
   "source": [
    "**Example code 14: Crop a fragmented dna object in a specific region**  \n",
    "If you want to get only 2nd fragment of ```fragments``` in \"Example code 10\", ```cropdna()``` is avaiable for the purpose."
   ]
  },
  {
   "cell_type": "code",
   "execution_count": 22,
   "id": "combined-roller",
   "metadata": {},
   "outputs": [
    {
     "name": "stdout",
     "output_type": "stream",
     "text": [
      "<queen.QUEEN object; project='pX330', length='2000 bp', topology='linear' >\n"
     ]
    }
   ],
   "source": [
    "fragment2 = cropdna(plasmid ,2000, 4000)\n",
    "print(fragment2)"
   ]
  },
  {
   "cell_type": "markdown",
   "id": "fiscal-barrier",
   "metadata": {},
   "source": [
    "**Example code 15: Trim single-stranded DNA on both ends to generate sticky ends**  \n",
    "Sticky ends can be generated by trimming single-stranded nucleotide sequences when their end structures are given by top and bottom strand strings with \"\\*\" and \"-\" separated by \"/.\" The letters \"-\" show nucleotide letters being trimmed and “\\*” shod nucleotide letters being remained. "
   ]
  },
  {
   "cell_type": "code",
   "execution_count": 23,
   "id": "common-abraham",
   "metadata": {},
   "outputs": [
    {
     "name": "stdout",
     "output_type": "stream",
     "text": [
      "5' TACAAAATACGTGACGTAGA 3'\n",
      "3' ATGTTTTATGCACTGCATCT 5'\n",
      "\n",
      "5' -----AATACGTGACGTAGA 3'\n",
      "3' ATGTTTTATGCACTGCAT-- 5'\n",
      "\n"
     ]
    },
    {
     "data": {
      "text/plain": [
       "'-----AATACGTGACGTAGA/ATGTTTTATGCACTGCAT--'"
      ]
     },
     "execution_count": 23,
     "metadata": {},
     "output_type": "execute_result"
    }
   ],
   "source": [
    "fragment = cropdna(plasmid, 100, 120)\n",
    "fragment.getdnaseq(display=True)\n",
    "fragment = modifyends(fragment, \"-----/*****\", \"**/--\")\n",
    "fragment.getdnaseq(display=True)"
   ]
  },
  {
   "cell_type": "markdown",
   "id": "assured-customer",
   "metadata": {},
   "source": [
    "The following code also can execute same process with the above one."
   ]
  },
  {
   "cell_type": "code",
   "execution_count": 24,
   "id": "acceptable-stopping",
   "metadata": {},
   "outputs": [
    {
     "name": "stdout",
     "output_type": "stream",
     "text": [
      "5' -----AATACGTGACGTAGA 3'\n",
      "3' ATGTTTTATGCACTGCAT-- 5'\n",
      "\n"
     ]
    },
    {
     "data": {
      "text/plain": [
       "'-----AATACGTGACGTAGA/ATGTTTTATGCACTGCAT--'"
      ]
     },
     "execution_count": 24,
     "metadata": {},
     "output_type": "execute_result"
    }
   ],
   "source": [
    "fragment = cropdna(plasmid,'105/100', '120/118')\n",
    "fragment.getdnaseq(display=True)"
   ]
  },
  {
   "cell_type": "markdown",
   "id": "important-trick",
   "metadata": {},
   "source": [
    "A regex-like format can be used for the end stracture specification."
   ]
  },
  {
   "cell_type": "code",
   "execution_count": 25,
   "id": "decimal-amateur",
   "metadata": {},
   "outputs": [
    {
     "name": "stdout",
     "output_type": "stream",
     "text": [
      "5' -----AATACGTGACGTAGA 3'\n",
      "3' ATGTTTTATGCACTGCAT-- 5'\n",
      "\n"
     ]
    },
    {
     "data": {
      "text/plain": [
       "'-----AATACGTGACGTAGA/ATGTTTTATGCACTGCAT--'"
      ]
     },
     "execution_count": 25,
     "metadata": {},
     "output_type": "execute_result"
    }
   ],
   "source": [
    "fragment = modifyends(fragment, \"-{5}/*{5}\",\"*{2}/-{2}\")\n",
    "fragment.getdnaseq(display=True)"
   ]
  },
  {
   "cell_type": "markdown",
   "id": "inclusive-airplane",
   "metadata": {},
   "source": [
    "**Example code 16: Add additional sequences to both ends**  \n",
    "Addtional end sequence structures can also be given using \"modifyends\"."
   ]
  },
  {
   "cell_type": "code",
   "execution_count": 26,
   "id": "dutch-creation",
   "metadata": {},
   "outputs": [
    {
     "name": "stdout",
     "output_type": "stream",
     "text": [
      "5' TACATGCTACAAAATACGTGACGTAGATACGATG 3'\n",
      "3' ATGTACGATGTTTTATGCACTGCATCTATGCTAC 5'\n",
      "\n",
      "5' ---ATGCTACAAAATACGTGACGTAGATACG--- 3'\n",
      "3' ATGTACGATGTTTTATGCACTGCATCTATGCTAC 5'\n",
      "\n"
     ]
    },
    {
     "data": {
      "text/plain": [
       "'---ATGCTACAAAATACGTGACGTAGATACG---/ATGTACGATGTTTTATGCACTGCATCTATGCTAC'"
      ]
     },
     "execution_count": 26,
     "metadata": {},
     "output_type": "execute_result"
    }
   ],
   "source": [
    "#Add blunt-ended dsDNA sequences to both ends\n",
    "fragment = cropdna(plasmid, 100, 120)\n",
    "fragment = modifyends(fragment,\"TACATGC\",\"TACGATG\")\n",
    "fragment.getdnaseq(display=True)\n",
    "\n",
    "#Add sticky-ended dsDNA sequences to both ends\n",
    "fragment = cropdna(plasmid, 100, 120)\n",
    "fragment = modifyends(fragment,\"---ATGC/ATGTACG\",\"TACG---/ATGCTAC\")\n",
    "fragment.getdnaseq(display=True)"
   ]
  },
  {
   "cell_type": "markdown",
   "id": "discrete-score",
   "metadata": {},
   "source": [
    "**Example code 17: Insert EGFP into pX330 using ```cutdna```, ```modifyends``` and, ```joindna```.**  \n",
    "1. Generate QUEEN object for the insert fragment EGFP by loading \"input/EGFP.fasta\".  \n",
    "2. Add EcoRI sites to both ends of EGFP fragment.\n",
    "3. Digest pX330 plasmid by EcoRI.  \n",
    "4. Join pX330 and EGFP fragment."
   ]
  },
  {
   "cell_type": "code",
   "execution_count": 27,
   "id": "victorian-safety",
   "metadata": {},
   "outputs": [
    {
     "name": "stdout",
     "output_type": "stream",
     "text": [
      "5' AATTCGGCAG...ACAAGG---- 3'\n",
      "3' ----GCCGTC...TGTTCCTTAA 5'\n",
      "\n",
      "5' AATTCCTAGA...AGTAAG---- 3'\n",
      "3' ----GGATCT...TCATTCTTAA 5'\n",
      "\n",
      "<queen.QUEEN object; project='pX330', length='8484 bp', topology='circular' >\n",
      "<queen.QUEEN object; project='pX330', length='9267 bp', topology='circular' >\n",
      "feature_id  feature_type   qualifier:label     start  end   strand  \n",
      "1           source         null                774    3757  +       \n",
      "100         primer_bind    BGH-rev             797    815   -       \n",
      "200         polyA_signal   bGH poly(A) signal  803    1011  +       \n",
      "300         repeat_region  AAV2 ITR            1019   1149  +       \n",
      "400         repeat_region  AAV2 ITR            1019   1160  +       \n",
      "500         rep_origin     f1 ori              1234   1690  +       \n",
      "600         primer_bind    F1ori-R             1321   1341  -       \n",
      "700         primer_bind    F1ori-F             1531   1553  +       \n",
      "800         primer_bind    pRS-marker          1706   1726  -       \n",
      "900         primer_bind    pGEX 3'             1825   1848  +       \n",
      "1000        primer_bind    pBRforEco           1885   1904  -       \n",
      "1100        promoter       AmpR promoter       1971   2076  +       \n",
      "1200        CDS            AmpR                2076   2937  +       \n",
      "1300        primer_bind    Amp-R               2294   2314  -       \n",
      "1400        rep_origin     ori                 3107   3696  +       \n",
      "1500        primer_bind    pBR322ori-F         3596   3616  +       \n",
      "1600        primer_bind    hU6-F               3757   3778  +       \n",
      "1700        promoter       U6 promoter         3757   3998  +       \n",
      "1800        source         null                3757   9262  +       \n",
      "1900        primer_bind    LKO.1 5'            3928   3948  +       \n",
      "2000        misc_RNA       gRNA scaffold       4024   4100  +       \n",
      "2100        enhancer       CMV enhancer        4196   4482  +       \n",
      "2200        intron         hybrid intron       4740   4968  +       \n",
      "2300        regulatory     null                4979   4989  +       \n",
      "2400        CDS            3xFLAG              4988   5054  +       \n",
      "2500        CDS            SV40 NLS            5060   5081  +       \n",
      "2600        CDS            Cas9                5105   9206  +       \n",
      "2700        CDS            nucleoplasmin NLS   9206   9254  +       \n",
      "\n"
     ]
    }
   ],
   "source": [
    "EGFP     = QUEEN(record=\"input/EGFP.fasta\")\n",
    "EGFP     = modifyends(EGFP, REsites[\"EcoRI\"].seq, REsites[\"EcoRI\"].seq) #Add EcoRI site\n",
    "sites    = EGFP.searchsequence(REsites[\"EcoRI\"].cutsite) #\n",
    "insert   = cutdna(EGFP, *sites)[1]\n",
    "insert.getdnaseq(display=True, hide_middle=10)\n",
    "sites    = plasmid.searchsequence(REsites[\"EcoRI\"].cutsite)\n",
    "backbone = cutdna(plasmid, *sites)[0]\n",
    "backbone.getdnaseq(display=True, hide_middle=10)\n",
    "pEGFP    = joindna(backbone, insert, topology=\"circular\") \n",
    "print(plasmid)\n",
    "print(pEGFP)\n",
    "pEGFP.printfeature()"
   ]
  },
  {
   "cell_type": "markdown",
   "id": "entire-express",
   "metadata": {},
   "source": [
    "**Example code 18: Insert gRNA sequence into pX330**  \n",
    "The pX330 plasmid gives gRNA insert site flanked by two inverted BbsI cut sites. By the digestion at BbsI sites, any gRNA sequence can be cloned into the pX330 as follows.\n",
    "1. Generate QUEEN object from a gRNA sequence input.  \n",
    "2. Add proper sticky-end sequences that can be joined with the pX330 plasmid digested by BbsI to both ends of the gRNA sequence.\n",
    "3. Digest pX330 plasmid by BbsI. \n",
    "4. Join pX300 and the gRNA sequence. "
   ]
  },
  {
   "cell_type": "code",
   "execution_count": 28,
   "id": "white-yugoslavia",
   "metadata": {},
   "outputs": [
    {
     "name": "stdout",
     "output_type": "stream",
     "text": [
      "<queen.QUEEN object; project='dna', length='8491 bp', topology='circular' >\n",
      "feature_id  feature_type   qualifier:label     start  end   strand  \n",
      "1           source         null                0      245   +       \n",
      "100         primer_bind    LKO.1 5'            167    187   +       \n",
      "200         misc_RNA       gRNA scaffold       270    346   +       \n",
      "300         source         null                270    8487  +       \n",
      "400         enhancer       CMV enhancer        442    728   +       \n",
      "500         intron         hybrid intron       986    1214  +       \n",
      "600         regulatory     null                1225   1235  +       \n",
      "700         CDS            3xFLAG              1234   1300  +       \n",
      "800         CDS            SV40 NLS            1306   1327  +       \n",
      "900         CDS            Cas9                1351   5452  +       \n",
      "1000        CDS            nucleoplasmin NLS   5452   5500  +       \n",
      "1100        primer_bind    BGH-rev             5527   5545  -       \n",
      "1200        polyA_signal   bGH poly(A) signal  5533   5741  +       \n",
      "1300        repeat_region  AAV2 ITR            5749   5879  +       \n",
      "1400        repeat_region  AAV2 ITR            5749   5890  +       \n",
      "1500        rep_origin     f1 ori              5964   6420  +       \n",
      "1600        primer_bind    F1ori-R             6051   6071  -       \n",
      "1700        primer_bind    F1ori-F             6261   6283  +       \n",
      "1800        primer_bind    pRS-marker          6436   6456  -       \n",
      "1900        primer_bind    pGEX 3'             6555   6578  +       \n",
      "2000        primer_bind    pBRforEco           6615   6634  -       \n",
      "2100        promoter       AmpR promoter       6701   6806  +       \n",
      "2200        CDS            AmpR                6806   7667  +       \n",
      "2300        primer_bind    Amp-R               7024   7044  -       \n",
      "2400        rep_origin     ori                 7837   8426  +       \n",
      "2500        primer_bind    pBR322ori-F         8326   8346  +       \n",
      "2600        primer_bind    hU6-F               8487   17    +       \n",
      "2700        promoter       U6 promoter         8487   237   +       \n",
      "2800        source         null                8487   8491  +       \n",
      "\n"
     ]
    }
   ],
   "source": [
    "gRNA      = QUEEN(seq=\"ACCGACCATTGTTCAATATCGTCC\") \n",
    "gRNA      = modifyends(gRNA, \"CACCG/----C\", \"----/CAAA\")\n",
    "sites     = plasmid.searchsequence(REsites[\"BbsI\"].cutsite)\n",
    "fragments = cutdna(plasmid, *sites)\n",
    "backbone  = fragments[0] if len(fragments[0].seq) > len(fragments[1].seq) else fragment[1]\n",
    "pgRNA     = joindna(gRNA, backbone, topology=\"circular\")\n",
    "print(pgRNA)\n",
    "pgRNA.printfeature()"
   ]
  },
  {
   "cell_type": "markdown",
   "id": "immediate-wireless",
   "metadata": {},
   "source": [
    "**Example code 19: Flip ampicillin resistant gene in px330 plasmid**"
   ]
  },
  {
   "cell_type": "code",
   "execution_count": 29,
   "id": "ultimate-crazy",
   "metadata": {},
   "outputs": [
    {
     "name": "stdout",
     "output_type": "stream",
     "text": [
      "type: CDS\n",
      "location: [6803:7664](+)\n",
      "qualifiers:\n",
      "    Key: codon_start, Value: ['1']\n",
      "    Key: gene, Value: ['bla']\n",
      "    Key: label, Value: ['AmpR']\n",
      "    Key: note, Value: ['confers resistance to ampicillin, carbenicillin, and related antibiotics']\n",
      "    Key: product, Value: ['beta-lactamase']\n",
      "    Key: translation, Value: ['MSIQHFRVALIPFFAAFCLPVFAHPETLVKVKDAEDQLGARVGYIELDLNSGKILESFRPEERFPMMSTFKVLLCGAVLSRIDAGQEQLGRRIHYSQNDLVEYSPVTEKHLTDGMTVRELCSAAITMSDNTAANLLLTTIGGPKELTAFLHNMGDHVTRLDRWEPELNEAIPNDERDTTMPVAMATTLRKLLTGELLTLASRQQLIDWMEADKVAGPLLRSALPAGWFIADKSGAGERGSRGIIAALGPDGKPSRIVVIYTTGSQATMDERNRQIAEIGASLIKHW']\n",
      "\n",
      "feature_id  feature_type  qualifier:label  start  end   strand  \n",
      "2300        CDS           AmpR             6803   7664  +       \n",
      "\n",
      "feature_id  feature_type  qualifier:label  start  end   strand  \n",
      "2400        CDS           AmpR             6803   7664  -       \n",
      "\n"
     ]
    }
   ],
   "source": [
    "site         = plasmid.searchfeature(query=\"^AmpR$\")[0]\n",
    "print(site)\n",
    "fragments    = cutdna(plasmid, site.start, site.end)\n",
    "fragments[0] = flipdna(fragments[0])\n",
    "new_plasmid  = joindna(*fragments, topology=\"circular\")\n",
    "plasmid.printfeature(plasmid.searchfeature(query=\"^AmpR$\"))\n",
    "new_plasmid.printfeature(new_plasmid.searchfeature(query=\"^AmpR$\")) #Adjust zero position based on the original product. "
   ]
  },
  {
   "cell_type": "markdown",
   "id": "unable-elephant",
   "metadata": {},
   "source": [
    "**Example code 20: Insert EGFP sequence into pX330 using \"editsequence().\"**  \n",
    "The molecular cloning process described in \"Example code 17\" can be reproduced with more simple codes uding ```editsequence```. "
   ]
  },
  {
   "cell_type": "code",
   "execution_count": 30,
   "id": "metropolitan-planet",
   "metadata": {},
   "outputs": [
    {
     "name": "stdout",
     "output_type": "stream",
     "text": [
      "<queen.QUEEN object; project='pX330', length='8484 bp', topology='circular' >\n",
      "<queen.QUEEN object; project='dna', length='9267 bp', topology='linear' >\n"
     ]
    }
   ],
   "source": [
    "EGFP  = QUEEN(record=\"input/EGFP.fasta\")\n",
    "pEGFP = editsequence(plasmid, \"({})\".format(REsites[\"EcoRI\"].seq), r\"\\1{}\\1\".format(EGFP.seq))\n",
    "print(plasmid)\n",
    "print(pEGFP)"
   ]
  },
  {
   "cell_type": "markdown",
   "id": "electoral-institute",
   "metadata": {},
   "source": [
    "**Example code 21: Insert \"AAAAA\" into the head of CDS features**"
   ]
  },
  {
   "cell_type": "code",
   "execution_count": 31,
   "id": "hearing-turning",
   "metadata": {},
   "outputs": [
    {
     "name": "stdout",
     "output_type": "stream",
     "text": [
      "AAAAAGACAAGAAGTACAGCATCGG\tCas9\n",
      "AAAAAAAAAGGCCGGCGGCCACGAA\tnucleoplasmin NLS\n",
      "AAAAAATGAGTATTCAACATTTCCG\tAmpR\n",
      "AAAAAGACTATAAGGACCACGACGG\t3xFLAG\n",
      "AAAAACCAAAGAAGAAGCGGAAGGT\tSV40 NLS\n"
     ]
    }
   ],
   "source": [
    "new_plasmid  = editfeature(plasmid, key_attribute=\"feature_type\", query=\"CDS\", strand=2, target_attribute=\"sequence\", operation=replaceattribute(r\"(.+)\", r\"AAAAA\\1\"))\n",
    "for feat in new_plasmid.searchfeature(key_attribute=\"feature_type\", query=\"CDS\", strand=2):\n",
    "    print(new_plasmid.getdnaseq(feat.start-5, feat.start+20, strand=1), feat.qualifiers[\"label\"][0], sep=\"\\t\")"
   ]
  },
  {
   "cell_type": "markdown",
   "id": "nearby-academy",
   "metadata": {},
   "source": [
    "**Example code 22: Change feature type from \"CDS\" to \"gene\"**   "
   ]
  },
  {
   "cell_type": "code",
   "execution_count": 32,
   "id": "ceramic-shield",
   "metadata": {},
   "outputs": [
    {
     "name": "stdout",
     "output_type": "stream",
     "text": [
      "feature_id  feature_type   qualifier:label     start  end   strand  \n",
      "1           source         null                0      8484  +       \n",
      "100         promoter       U6 promoter         0      241   +       \n",
      "200         primer_bind    hU6-F               0      21    +       \n",
      "300         primer_bind    LKO.1 5'            171    191   +       \n",
      "400         misc_RNA       gRNA scaffold       267    343   +       \n",
      "500         enhancer       CMV enhancer        439    725   +       \n",
      "600         intron         hybrid intron       983    1211  +       \n",
      "700         regulatory     null                1222   1232  +       \n",
      "800         gene           3xFLAG              1231   1297  +       \n",
      "900         gene           SV40 NLS            1303   1324  +       \n",
      "1000        gene           Cas9                1348   5449  +       \n",
      "1100        gene           nucleoplasmin NLS   5449   5497  +       \n",
      "1200        primer_bind    BGH-rev             5524   5542  -       \n",
      "1300        polyA_signal   bGH poly(A) signal  5530   5738  +       \n",
      "1400        repeat_region  AAV2 ITR            5746   5887  +       \n",
      "1500        repeat_region  AAV2 ITR            5746   5876  +       \n",
      "1600        rep_origin     f1 ori              5961   6417  +       \n",
      "1700        primer_bind    F1ori-R             6048   6068  -       \n",
      "1800        primer_bind    F1ori-F             6258   6280  +       \n",
      "1900        primer_bind    pRS-marker          6433   6453  -       \n",
      "2000        primer_bind    pGEX 3'             6552   6575  +       \n",
      "2100        primer_bind    pBRforEco           6612   6631  -       \n",
      "2200        promoter       AmpR promoter       6698   6803  +       \n",
      "2300        gene           AmpR                6803   7664  +       \n",
      "2400        primer_bind    Amp-R               7021   7041  -       \n",
      "2500        rep_origin     ori                 7834   8423  +       \n",
      "2600        primer_bind    pBR322ori-F         8323   8343  +       \n",
      "\n"
     ]
    }
   ],
   "source": [
    "new_plasmid = editfeature(plasmid, key_attribute=\"feature_type\", query=\"CDS\", target_attribute=\"feature_type\", operation=replaceattribute(\"gene\"))\n",
    "new_plasmid.printfeature()"
   ]
  },
  {
   "cell_type": "markdown",
   "id": "intense-mortality",
   "metadata": {},
   "source": [
    "----\n",
    "##### Example code 23: Annotate recognition sites for unique cutters on pX330\n",
    "1. Search for the unique cutters in pX330 from the restriction enzymes provided by NEW England Biolabs.\n",
    "2. Add sequence features for the unique cutters into pX330.   "
   ]
  },
  {
   "cell_type": "code",
   "execution_count": 33,
   "id": "unauthorized-passion",
   "metadata": {},
   "outputs": [
    {
     "name": "stdout",
     "output_type": "stream",
     "text": [
      "feature_id  feature_type  qualifier:label  start  end   strand  sequence      \n",
      "RE-1        misc_bind     Acc65I           433    439   +       GGTACC        \n",
      "RE-2        misc_bind     AflIII           8478   8484  +       ACATGT        \n",
      "RE-3        misc_bind     AgeI             1216   1222  +       ACCGGT        \n",
      "RE-4        misc_bind     ApaI             2700   2706  +       GGGCCC        \n",
      "RE-5        misc_bind     BglII            1595   1601  +       AGATCT        \n",
      "RE-6        misc_bind     BsaBI            4839   4849  +       GATCACCATC    \n",
      "RE-7        misc_bind     BseRI            1098   1104  -       GAGGAG        \n",
      "RE-8        misc_bind     BsmI             4979   4985  +       GAATGC        \n",
      "RE-9        misc_bind     CspCI            4127   4139  +       CAAAGCACGTGG  \n",
      "RE-10       misc_bind     EcoRI            5500   5506  +       GAATTC        \n",
      "RE-11       misc_bind     EcoRV            3196   3202  +       GATATC        \n",
      "RE-12       misc_bind     FseI             5472   5480  +       GGCCGGCC      \n",
      "RE-13       misc_bind     FspI             7365   7371  +       TGCGCA        \n",
      "RE-14       misc_bind     KasI             5887   5893  +       GGCGCC        \n",
      "RE-18       misc_bind     NotI             5738   5746  +       GCGGCCGC      \n",
      "RE-19       misc_bind     PaqCI            1184   1191  +       CACCTGC       \n",
      "RE-22       misc_bind     PmlI             4132   4138  +       CACGTG        \n",
      "RE-23       misc_bind     PsiI             6317   6323  +       TTATAA        \n",
      "RE-25       misc_bind     PvuI             7218   7224  +       CGATCG        \n",
      "RE-26       misc_bind     SacII            7522   7528  +       CCGCGG        \n",
      "RE-27       misc_bind     SbfI             5879   5887  +       CCTGCAGG      \n",
      "RE-29       misc_bind     SnaBI            698    704   +       TACGTA        \n",
      "RE-30       misc_bind     XbaI             427    433   +       TCTAGA        \n",
      "\n"
     ]
    }
   ],
   "source": [
    "from QUEEN.RE import *\n",
    "unique_cutters = []\n",
    "for key, re in REsites.items():\n",
    "    sites = plasmid.searchsequence(re.cutsite)\n",
    "    if len(sites) == 1: \n",
    "        unique_cutters.append(sites[0])\n",
    "    else:\n",
    "        pass \n",
    "new_plasmid = editfeature(plasmid, source=unique_cutters, target_attribute=\"feature_id\", operation=createattribute(\"RE\"))\n",
    "new_plasmid = editfeature(new_plasmid, key_attribute=\"feature_id\", query=\"RE\", target_attribute=\"feature_type\", operation=replaceattribute(\"misc_bind\"))\n",
    "features    = new_plasmid.searchfeature(key_attribute=\"feature_type\", query=\"misc_bind\")\n",
    "new_plasmid.printfeature(features, seq=True)"
   ]
  },
  {
   "cell_type": "code",
   "execution_count": null,
   "id": "capable-composer",
   "metadata": {},
   "outputs": [],
   "source": []
  }
 ],
 "metadata": {
  "kernelspec": {
   "display_name": "Python 3",
   "language": "python",
   "name": "python3"
  },
  "language_info": {
   "codemirror_mode": {
    "name": "ipython",
    "version": 3
   },
   "file_extension": ".py",
   "mimetype": "text/x-python",
   "name": "python",
   "nbconvert_exporter": "python",
   "pygments_lexer": "ipython3",
   "version": "3.9.5"
  }
 },
 "nbformat": 4,
 "nbformat_minor": 5
}
