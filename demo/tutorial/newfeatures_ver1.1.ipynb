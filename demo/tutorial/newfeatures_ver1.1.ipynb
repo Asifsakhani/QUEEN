{
 "cells": [
  {
   "cell_type": "markdown",
   "metadata": {},
   "source": [
    "#### Example code: Create a gRNA expression plasmid\n",
    "pX330 serves as a standard gRNA expression backbone plasmid. A gRNA spacer can simply be cloned into a BbsI-digested destination site of pX330 as follows:\n",
    "1. Generate QUEEN object for a sticky-ended gRNA spacer dsDNA,\n",
    "2. Digest pX330 by BbsI, and\n",
    "3. Assemble the spacer with the BbsI-digested pX330."
   ]
  },
  {
   "cell_type": "code",
   "execution_count": 10,
   "metadata": {},
   "outputs": [
    {
     "name": "stdout",
     "output_type": "stream",
     "text": [
      "5' CACCGACCATTGTTCAATATCGTCC---- 3'\n",
      "3' ----CTGGTAACAAGTTATAGCAGGCAAA 5'\n",
      "\n",
      "feature_id  feature_type   qualifier:label     start  end   strand  \n",
      "0           primer_bind    hU6-F               0      21    +       \n",
      "100         promoter       U6 promoter         0      241   +       \n",
      "200         source         source              0      249   +       \n",
      "300         primer_bind    LKO.1 5'            171    191   +       \n",
      "gRNA-1      gRNA           gRNA                245    274   +       \n",
      "500         misc_RNA       gRNA scaffold       270    346   +       \n",
      "600         source         source              270    8487  +       \n",
      "700         enhancer       CMV enhancer        442    728   +       \n",
      "800         intron         hybrid intron       986    1214  +       \n",
      "900         regulatory     Kozak sequence      1225   1235  +       \n",
      "1000        CDS            3xFLAG              1234   1300  +       \n",
      "1100        CDS            SV40 NLS            1306   1327  +       \n",
      "1200        CDS            Cas9                1351   5452  +       \n",
      "1300        CDS            nucleoplasmin NLS   5452   5500  +       \n",
      "1400        primer_bind    BGH-rev             5527   5545  -       \n",
      "1500        polyA_signal   bGH poly(A) signal  5533   5741  +       \n",
      "1600        repeat_region  AAV2 ITR            5749   5879  +       \n",
      "1700        repeat_region  AAV2 ITR            5749   5890  +       \n",
      "1800        rep_origin     f1 ori              5964   6420  +       \n",
      "1900        primer_bind    F1ori-R             6051   6071  -       \n",
      "2000        primer_bind    F1ori-F             6261   6283  +       \n",
      "2100        primer_bind    pRS-marker          6436   6456  -       \n",
      "2200        primer_bind    pGEX 3'             6555   6578  +       \n",
      "2300        primer_bind    pBRforEco           6615   6634  -       \n",
      "2400        promoter       AmpR promoter       6701   6806  +       \n",
      "2500        CDS            AmpR                6806   7667  +       \n",
      "2600        primer_bind    Amp-R               7024   7044  -       \n",
      "2700        rep_origin     ori                 7837   8426  +       \n",
      "2800        primer_bind    pBR322ori-F         8326   8346  +       \n",
      "\n"
     ]
    }
   ],
   "source": [
    "px330       = QUEEN(record=\"https://benchling.com/s/seq-U4pePb09KHutQzjyOPQV\", dbtype=\"benchling\", product=\"px330\")\n",
    "gRNA_top    = QUEEN(seq=\"CACCGACCATTGTTCAATATCGTCC\", ssdna=True)\n",
    "gRNA_bottom = QUEEN(seq=\"AAACGGACGATATTGAACAATGGTC\", ssdna=True)\n",
    "gRNA        = joindna(gRNA_top, gRNA_bottom, setfeature={\"feature_id\":\"gRNA-1\", \"feature_type\":\"gRNA\", \"qualifier:label\":\"gRNA\"})\n",
    "sites       = px330.searchsequence(cutsite.lib[\"BbsI\"])\n",
    "fragments   = cutdna(px330, *sites)\n",
    "backbone    = fragments[0] if len(fragments[0].seq) > len(fragments[1].seq) else fragment[1]\n",
    "pgRNA       = joindna(gRNA, backbone, topology=\"circular\", product=\"pgRNA\")\n",
    "gRNA.printsequence(display=True)\n",
    "pgRNA.printfeature()"
   ]
  }
 ],
 "metadata": {
  "kernelspec": {
   "display_name": "Python 3",
   "language": "python",
   "name": "python3"
  },
  "language_info": {
   "codemirror_mode": {
    "name": "ipython",
    "version": 3
   },
   "file_extension": ".py",
   "mimetype": "text/x-python",
   "name": "python",
   "nbconvert_exporter": "python",
   "pygments_lexer": "ipython3",
   "version": "3.9.6"
  }
 },
 "nbformat": 4,
 "nbformat_minor": 5
}
