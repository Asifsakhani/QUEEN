{
 "cells": [
  {
   "cell_type": "code",
   "execution_count": 1,
   "id": "wireless-motor",
   "metadata": {},
   "outputs": [],
   "source": [
    "import sys \n",
    "sys.path.append(\"../../\")\n",
    "from dna import *"
   ]
  },
  {
   "cell_type": "markdown",
   "id": "ethical-bunch",
   "metadata": {},
   "source": [
    "**pCMV-Target-AID construction**  \n",
    "The Target-AID plasmid (pCMV-Target-AID) was constructed by assembling two fragments encoding the N- and C-terminus halves of Target-AID, which were both amplified from pcDNA3.1_pCMV-nCas-PmCDA1-ugi pH1-gRNA(HPRT) (Addgene 79620) using primer pairs RS045/HM129 and HM128/RS046, respectively, with a backbone fragment amplified from pCMV-ABE7.10 using RS047/RS048. "
   ]
  },
  {
   "cell_type": "code",
   "execution_count": 2,
   "id": "conventional-wisdom",
   "metadata": {},
   "outputs": [],
   "source": [
    "pCMV_ABE             = DNA(record=\"input/addgene_102919.gbk\",project=\"pCMV_ABE\")\n",
    "pCMV_nCas_PmCDA1_ugi = DNA(record=\"input/addgene_79620.gbk\", project=\"pCMV-nCas-PmCDA1-ugi\")"
   ]
  },
  {
   "cell_type": "code",
   "execution_count": 3,
   "id": "dying-reproduction",
   "metadata": {},
   "outputs": [],
   "source": [
    "#Extract each fragmet\n",
    "#frag_a0 = joindna(RS047, cropdna(pCMV_ABE,*FW,*RV), flipdna(RS048)) \n",
    "frag_a  = cropdna(pCMV_ABE, 5257, 8636)\n",
    "frag_b  = cropdna(pCMV_nCas_PmCDA1_ugi, 3894, 6477)\n",
    "frag_c  = cropdna(pCMV_nCas_PmCDA1_ugi, 6449, 9267)"
   ]
  },
  {
   "cell_type": "code",
   "execution_count": 4,
   "id": "composed-geometry",
   "metadata": {},
   "outputs": [
    {
     "name": "stdout",
     "output_type": "stream",
     "text": [
      "3403\n"
     ]
    }
   ],
   "source": [
    "#Add overlap seqeunces\n",
    "frag_a  = joindna(DNA(\"ATCAAGATGCTATAA\"),frag_a,DNA(\"GCACCGAAG\")) \n",
    "print(len(frag_a.seq))\n",
    "frag_b  = joindna(DNA(\"GAGAGCCGCCACC\"),frag_b)\n",
    "frag_c  = joindna(frag_c, DNA(\"TAATGAGTTTAAA\"))"
   ]
  },
  {
   "cell_type": "code",
   "execution_count": 5,
   "id": "patent-visit",
   "metadata": {},
   "outputs": [],
   "source": [
    "#Set end seqeunces at both ends\n",
    "frag_a = modifyends(frag_a,\"*{25}/-{25}\",\"-{25}/*{25}\")\n",
    "frag_b = modifyends(frag_b,\"*{25}/-{25}\",\"-{28}/*{28}\")\n",
    "frag_c = modifyends(frag_c,\"*{28}/-{28}\",\"-{25}/*{25}\")"
   ]
  },
  {
   "cell_type": "code",
   "execution_count": 6,
   "id": "signed-picnic",
   "metadata": {},
   "outputs": [],
   "source": [
    "#Join fragments\n",
    "pCMV_Target_AID = joindna(frag_a,frag_b,frag_c,topology=\"circular\",project=\"pCMV-Target-AID\")\n",
    "pCMV_Target_AID.writedna(\"pCMV-Target-AID.gbk\")"
   ]
  },
  {
   "cell_type": "markdown",
   "id": "approved-terrain",
   "metadata": {},
   "source": [
    "**pCMV-Target-ACE construction**  \n",
    "The Target-ACE plasmid (pCMV-Target-ACE) was constructed with a fragment encoding a plasmid backbone as well as ABE7.10 amplified from pCMV-ABE7.10 using RS047/RS052 and a fragment encoding the C-terminus region of Target-AID amplified from pcDNA-pCMV-nCas9 using RS051/RS046."
   ]
  },
  {
   "cell_type": "code",
   "execution_count": 7,
   "id": "dedicated-collect",
   "metadata": {},
   "outputs": [],
   "source": [
    "#Extract each fragmet\n",
    "frag_a = cropdna(pCMV_ABE, 5257, 5198)\n",
    "frag_b = cropdna(pCMV_nCas_PmCDA1_ugi, 8082, 9267)"
   ]
  },
  {
   "cell_type": "code",
   "execution_count": 8,
   "id": "wound-explosion",
   "metadata": {},
   "outputs": [],
   "source": [
    "frag_a = joindna(DNA(\"ATCAAGATGCTATAA\"),frag_a, DNA(\"GGTGGAGGAGGT\")) \n",
    "frag_b = joindna(DNA(\"GCTTGGGGGTGAC\"), frag_b, DNA(\"TAATGAGTTTAAA\"))"
   ]
  },
  {
   "cell_type": "code",
   "execution_count": 9,
   "id": "future-phoenix",
   "metadata": {},
   "outputs": [],
   "source": [
    "frag_a = modifyends(frag_a,\"*{25}/-{25}\",\"-{25}/*{25}\")\n",
    "frag_b = modifyends(frag_b,\"*{25}/-{25}\",\"-{25}/*{25}\")"
   ]
  },
  {
   "cell_type": "code",
   "execution_count": 10,
   "id": "centered-profession",
   "metadata": {},
   "outputs": [],
   "source": [
    "#Join fragments\n",
    "pCMV_Target_ACE = joindna(frag_a,frag_b,topology=\"circular\",project=\"pCMV-Target-ACE\")\n",
    "pCMV_Target_ACE.writedna(\"pCMV-Target-ACE.gbk\")"
   ]
  },
  {
   "cell_type": "markdown",
   "id": "decreased-candle",
   "metadata": {},
   "source": [
    "**pCMV-Target-AIDmax construction**  \n",
    "To construct the Target-AIDmax plasmid (pCMV-Target-AIDmax), the pUC-optimized-PmCDA1-ugi plasmid encoding the codon-optimized C-terminal region of Target-AIDmax was first constructed by the gene synthesis service of GenScript. This C terminus fragment was then amplified with primer pair SI1304/SI1307 and assembled with a nCas9 fragment amplified from pCMV-BE4max using SI1308/SI1305 and a backbone fragment amplified from pCMV-ABEmax using SI1310/SI1309. "
   ]
  },
  {
   "cell_type": "code",
   "execution_count": 11,
   "id": "verified-steel",
   "metadata": {},
   "outputs": [],
   "source": [
    "pCMV_ABEmax = DNA(record=\"input/addgene_112095.gbk\", project=\"pCMV-ABEmax\")\n",
    "pCMV_BE4max = DNA(record=\"input/addgene_112093.gbk\", project=\"pCMV-BE4max\")\n",
    "opt_pmCDA1_ugi = DNA(record=\"input/puc-optimized-pmcda1-ugi.gb\", project=\"opt-pmCDA1-ugi\")"
   ]
  },
  {
   "cell_type": "code",
   "execution_count": 12,
   "id": "impressive-reggae",
   "metadata": {},
   "outputs": [],
   "source": [
    "frag_a = cropdna(pCMV_ABEmax, 5843, 465) #TGATAA, #\n",
    "frag_b = cropdna(pCMV_BE4max, 1244, 5346) #ACCAAAGAAGAAGCGGAAAGT, #\n",
    "frag_c = cropdna(opt_pmCDA1_ugi, 501, 1690) #CCTGTCTCAGCTGGGAGGTGA, $TAATGAGTTTAAACCCGCTGA"
   ]
  },
  {
   "cell_type": "code",
   "execution_count": 13,
   "id": "interesting-alberta",
   "metadata": {},
   "outputs": [],
   "source": [
    "frag_a = joindna(DNA(\"TGATAA\"), frag_a)\n",
    "frag_b = joindna(DNA(\"ACCAAAGAAGAAGCGGAAAGT\"), frag_b)  \n",
    "frag_c = joindna(DNA(\"CCTGTCTCAGCTGGGAGGTGA\"), frag_c, DNA(\"TAATGAGTTTAAACCCGCTGA\")) "
   ]
  },
  {
   "cell_type": "code",
   "execution_count": 15,
   "id": "roman-spread",
   "metadata": {},
   "outputs": [
    {
     "name": "stdout",
     "output_type": "stream",
     "text": [
      "<dna.DNA object; project='dna', length='3439 bp', topology='linear'>\n"
     ]
    },
    {
     "ename": "ValueError",
     "evalue": "End location (3439) must be greater than or equal to start location (8562)",
     "output_type": "error",
     "traceback": [
      "\u001b[0;31m---------------------------------------------------------------------------\u001b[0m",
      "\u001b[0;31mValueError\u001b[0m                                Traceback (most recent call last)",
      "\u001b[0;32m<ipython-input-15-60b36a279392>\u001b[0m in \u001b[0;36m<module>\u001b[0;34m\u001b[0m\n\u001b[1;32m      1\u001b[0m \u001b[0;31m#Set end seqeunces at both ends\u001b[0m\u001b[0;34m\u001b[0m\u001b[0;34m\u001b[0m\u001b[0;34m\u001b[0m\u001b[0m\n\u001b[1;32m      2\u001b[0m \u001b[0mprint\u001b[0m\u001b[0;34m(\u001b[0m\u001b[0mfrag_a\u001b[0m\u001b[0;34m)\u001b[0m\u001b[0;34m\u001b[0m\u001b[0;34m\u001b[0m\u001b[0m\n\u001b[0;32m----> 3\u001b[0;31m \u001b[0mfrag_a\u001b[0m \u001b[0;34m=\u001b[0m \u001b[0mmodifyends\u001b[0m\u001b[0;34m(\u001b[0m\u001b[0mfrag_a\u001b[0m\u001b[0;34m,\u001b[0m\u001b[0;34m\"*{24}/-{24}\"\u001b[0m\u001b[0;34m,\u001b[0m\u001b[0;34m\"-{22}/*{22}\"\u001b[0m\u001b[0;34m)\u001b[0m\u001b[0;34m\u001b[0m\u001b[0;34m\u001b[0m\u001b[0m\n\u001b[0m\u001b[1;32m      4\u001b[0m \u001b[0mfrag_b\u001b[0m \u001b[0;34m=\u001b[0m \u001b[0mmodifyends\u001b[0m\u001b[0;34m(\u001b[0m\u001b[0mfrag_b\u001b[0m\u001b[0;34m,\u001b[0m\u001b[0;34m\"*{22}/-{22}\"\u001b[0m\u001b[0;34m,\u001b[0m\u001b[0;34m\"-{22}/*{22}\"\u001b[0m\u001b[0;34m)\u001b[0m\u001b[0;34m\u001b[0m\u001b[0;34m\u001b[0m\u001b[0m\n\u001b[1;32m      5\u001b[0m \u001b[0mfrag_c\u001b[0m \u001b[0;34m=\u001b[0m \u001b[0mmodifyends\u001b[0m\u001b[0;34m(\u001b[0m\u001b[0mfrag_c\u001b[0m\u001b[0;34m,\u001b[0m\u001b[0;34m\"*{22}/-{22}\"\u001b[0m\u001b[0;34m,\u001b[0m\u001b[0;34m\"-{24}/*{24}\"\u001b[0m\u001b[0;34m)\u001b[0m\u001b[0;34m\u001b[0m\u001b[0;34m\u001b[0m\u001b[0m\n",
      "\u001b[0;32m/Volumes/Mac_mini_ext/Dropbox (Yachie Lab)/HIDETO_MORI.LAB/Experiments/Project/Dbrick/github/dna.py\u001b[0m in \u001b[0;36mmodifyends\u001b[0;34m(dna, left, right, add, add_right, add_left, project, comment, __direct)\u001b[0m\n\u001b[1;32m   1010\u001b[0m         \u001b[0mright_end_bottom\u001b[0m \u001b[0;34m=\u001b[0m \u001b[0;36m1\u001b[0m\u001b[0;34m\u001b[0m\u001b[0;34m\u001b[0m\u001b[0m\n\u001b[1;32m   1011\u001b[0m \u001b[0;34m\u001b[0m\u001b[0m\n\u001b[0;32m-> 1012\u001b[0;31m     \u001b[0;32mif\u001b[0m \u001b[0madd\u001b[0m \u001b[0;34m==\u001b[0m \u001b[0;36m1\u001b[0m \u001b[0;32mor\u001b[0m \u001b[0;34m(\u001b[0m\u001b[0mleft_end\u001b[0m \u001b[0;34m!=\u001b[0m \u001b[0mdna\u001b[0m\u001b[0;34m.\u001b[0m\u001b[0mseq\u001b[0m\u001b[0;34m[\u001b[0m\u001b[0mleft_end_length\u001b[0m\u001b[0;34m-\u001b[0m\u001b[0mleft_length\u001b[0m\u001b[0;34m:\u001b[0m\u001b[0mleft_end_length\u001b[0m\u001b[0;34m-\u001b[0m\u001b[0mleft_length\u001b[0m\u001b[0;34m+\u001b[0m\u001b[0mlen\u001b[0m\u001b[0;34m(\u001b[0m\u001b[0mleft_end\u001b[0m\u001b[0;34m)\u001b[0m\u001b[0;34m]\u001b[0m \u001b[0;32mor\u001b[0m \u001b[0mright_end\u001b[0m \u001b[0;34m!=\u001b[0m \u001b[0mstr\u001b[0m\u001b[0;34m(\u001b[0m\u001b[0mdna\u001b[0m\u001b[0;34m[\u001b[0m\u001b[0mlen\u001b[0m\u001b[0;34m(\u001b[0m\u001b[0mdna\u001b[0m\u001b[0;34m.\u001b[0m\u001b[0mseq\u001b[0m\u001b[0;34m)\u001b[0m\u001b[0;34m-\u001b[0m\u001b[0mright_end_length\u001b[0m \u001b[0;34m+\u001b[0m \u001b[0mright_length\u001b[0m \u001b[0;34m-\u001b[0m \u001b[0mlen\u001b[0m\u001b[0;34m(\u001b[0m\u001b[0mright_end\u001b[0m\u001b[0;34m)\u001b[0m\u001b[0;34m:\u001b[0m\u001b[0mlen\u001b[0m\u001b[0;34m(\u001b[0m\u001b[0mdna\u001b[0m\u001b[0;34m.\u001b[0m\u001b[0mseq\u001b[0m\u001b[0;34m)\u001b[0m\u001b[0;34m-\u001b[0m\u001b[0mright_end_length\u001b[0m \u001b[0;34m+\u001b[0m \u001b[0mright_length\u001b[0m\u001b[0;34m]\u001b[0m\u001b[0;34m.\u001b[0m\u001b[0mseq\u001b[0m\u001b[0;34m)\u001b[0m\u001b[0;34m)\u001b[0m\u001b[0;34m:\u001b[0m\u001b[0;34m\u001b[0m\u001b[0;34m\u001b[0m\u001b[0m\n\u001b[0m\u001b[1;32m   1013\u001b[0m         \u001b[0mleft_end\u001b[0m  \u001b[0;34m=\u001b[0m \u001b[0mDNA\u001b[0m\u001b[0;34m(\u001b[0m\u001b[0mseq\u001b[0m\u001b[0;34m=\u001b[0m\u001b[0mleft_end\u001b[0m\u001b[0;34m,\u001b[0m  \u001b[0m_direct\u001b[0m\u001b[0;34m=\u001b[0m\u001b[0;36m0\u001b[0m\u001b[0;34m)\u001b[0m\u001b[0;34m\u001b[0m\u001b[0;34m\u001b[0m\u001b[0m\n\u001b[1;32m   1014\u001b[0m         \u001b[0mright_end\u001b[0m \u001b[0;34m=\u001b[0m \u001b[0mDNA\u001b[0m\u001b[0;34m(\u001b[0m\u001b[0mseq\u001b[0m\u001b[0;34m=\u001b[0m\u001b[0mright_end\u001b[0m\u001b[0;34m,\u001b[0m \u001b[0m_direct\u001b[0m\u001b[0;34m=\u001b[0m\u001b[0;36m0\u001b[0m\u001b[0;34m)\u001b[0m\u001b[0;34m\u001b[0m\u001b[0;34m\u001b[0m\u001b[0m\n",
      "\u001b[0;32m/Volumes/Mac_mini_ext/Dropbox (Yachie Lab)/HIDETO_MORI.LAB/Experiments/Project/Dbrick/github/dna.py\u001b[0m in \u001b[0;36m__getitem__\u001b[0;34m(self, item)\u001b[0m\n\u001b[1;32m   2498\u001b[0m                 \u001b[0;32mif\u001b[0m \u001b[0mend\u001b[0m \u001b[0;34m<\u001b[0m \u001b[0;36m0\u001b[0m\u001b[0;34m:\u001b[0m\u001b[0;34m\u001b[0m\u001b[0;34m\u001b[0m\u001b[0m\n\u001b[1;32m   2499\u001b[0m                     \u001b[0mend\u001b[0m \u001b[0;34m=\u001b[0m \u001b[0mlen\u001b[0m\u001b[0;34m(\u001b[0m\u001b[0mself\u001b[0m\u001b[0;34m.\u001b[0m\u001b[0mseq\u001b[0m\u001b[0;34m)\u001b[0m \u001b[0;34m-\u001b[0m \u001b[0mabs\u001b[0m\u001b[0;34m(\u001b[0m\u001b[0mend\u001b[0m\u001b[0;34m)\u001b[0m\u001b[0;34m\u001b[0m\u001b[0;34m\u001b[0m\u001b[0m\n\u001b[0;32m-> 2500\u001b[0;31m                 \u001b[0msubdna\u001b[0m \u001b[0;34m=\u001b[0m \u001b[0mcropdna\u001b[0m\u001b[0;34m(\u001b[0m\u001b[0mself\u001b[0m\u001b[0;34m,\u001b[0m\u001b[0mstart\u001b[0m\u001b[0;34m,\u001b[0m\u001b[0mend\u001b[0m\u001b[0;34m,\u001b[0m\u001b[0m__direct\u001b[0m\u001b[0;34m=\u001b[0m\u001b[0;36m0\u001b[0m\u001b[0;34m)\u001b[0m\u001b[0;34m\u001b[0m\u001b[0;34m\u001b[0m\u001b[0m\n\u001b[0m\u001b[1;32m   2501\u001b[0m \u001b[0;34m\u001b[0m\u001b[0m\n\u001b[1;32m   2502\u001b[0m             \u001b[0;32melse\u001b[0m\u001b[0;34m:\u001b[0m\u001b[0;34m\u001b[0m\u001b[0;34m\u001b[0m\u001b[0m\n",
      "\u001b[0;32m/Volumes/Mac_mini_ext/Dropbox (Yachie Lab)/HIDETO_MORI.LAB/Experiments/Project/Dbrick/github/dna.py\u001b[0m in \u001b[0;36mcropdna\u001b[0;34m(dna, start, end, project, comment, __direct)\u001b[0m\n\u001b[1;32m    206\u001b[0m                 \u001b[0;32mif\u001b[0m \u001b[0mlen\u001b[0m\u001b[0;34m(\u001b[0m\u001b[0mfeat\u001b[0m\u001b[0;34m.\u001b[0m\u001b[0mlocation\u001b[0m\u001b[0;34m.\u001b[0m\u001b[0mparts\u001b[0m\u001b[0;34m)\u001b[0m \u001b[0;34m==\u001b[0m \u001b[0;36m1\u001b[0m\u001b[0;34m:\u001b[0m\u001b[0;34m\u001b[0m\u001b[0;34m\u001b[0m\u001b[0m\n\u001b[1;32m    207\u001b[0m                     \u001b[0mlength\u001b[0m \u001b[0;34m=\u001b[0m \u001b[0mlen\u001b[0m\u001b[0;34m(\u001b[0m\u001b[0mdna\u001b[0m\u001b[0;34m.\u001b[0m\u001b[0mseq\u001b[0m\u001b[0;34m)\u001b[0m \u001b[0;34m-\u001b[0m \u001b[0ms\u001b[0m \u001b[0;34m+\u001b[0m \u001b[0me\u001b[0m\u001b[0;34m\u001b[0m\u001b[0;34m\u001b[0m\u001b[0m\n\u001b[0;32m--> 208\u001b[0;31m                     \u001b[0mlocations\u001b[0m \u001b[0;34m=\u001b[0m \u001b[0;34m[\u001b[0m\u001b[0mFeatureLocation\u001b[0m\u001b[0;34m(\u001b[0m\u001b[0ms\u001b[0m\u001b[0;34m,\u001b[0m\u001b[0mlen\u001b[0m\u001b[0;34m(\u001b[0m\u001b[0mdna\u001b[0m\u001b[0;34m.\u001b[0m\u001b[0mseq\u001b[0m\u001b[0;34m)\u001b[0m\u001b[0;34m)\u001b[0m\u001b[0;34m,\u001b[0m\u001b[0mFeatureLocation\u001b[0m\u001b[0;34m(\u001b[0m\u001b[0;36m0\u001b[0m\u001b[0;34m,\u001b[0m\u001b[0me\u001b[0m\u001b[0;34m)\u001b[0m\u001b[0;34m]\u001b[0m\u001b[0;34m\u001b[0m\u001b[0;34m\u001b[0m\u001b[0m\n\u001b[0m\u001b[1;32m    209\u001b[0m                     \u001b[0;32mif\u001b[0m \u001b[0mstrand\u001b[0m \u001b[0;34m==\u001b[0m \u001b[0;34m-\u001b[0m\u001b[0;36m1\u001b[0m\u001b[0;34m:\u001b[0m\u001b[0;34m\u001b[0m\u001b[0;34m\u001b[0m\u001b[0m\n\u001b[1;32m    210\u001b[0m                         \u001b[0mlocations\u001b[0m\u001b[0;34m.\u001b[0m\u001b[0mreverse\u001b[0m\u001b[0;34m(\u001b[0m\u001b[0;34m)\u001b[0m\u001b[0;34m\u001b[0m\u001b[0;34m\u001b[0m\u001b[0m\n",
      "\u001b[0;32m/usr/local/lib/python3.9/site-packages/Bio/SeqFeature.py\u001b[0m in \u001b[0;36m__init__\u001b[0;34m(self, start, end, strand, ref, ref_db)\u001b[0m\n\u001b[1;32m    796\u001b[0m             \u001b[0;32mand\u001b[0m \u001b[0mself\u001b[0m\u001b[0;34m.\u001b[0m\u001b[0mstart\u001b[0m \u001b[0;34m>\u001b[0m \u001b[0mself\u001b[0m\u001b[0;34m.\u001b[0m\u001b[0mend\u001b[0m\u001b[0;34m\u001b[0m\u001b[0;34m\u001b[0m\u001b[0m\n\u001b[1;32m    797\u001b[0m         ):\n\u001b[0;32m--> 798\u001b[0;31m             raise ValueError(\n\u001b[0m\u001b[1;32m    799\u001b[0m                 \u001b[0;34mf\"End location ({self.end}) must be greater than \"\u001b[0m\u001b[0;34m\u001b[0m\u001b[0;34m\u001b[0m\u001b[0m\n\u001b[1;32m    800\u001b[0m                 \u001b[0;34mf\"or equal to start location ({self.start})\"\u001b[0m\u001b[0;34m\u001b[0m\u001b[0;34m\u001b[0m\u001b[0m\n",
      "\u001b[0;31mValueError\u001b[0m: End location (3439) must be greater than or equal to start location (8562)"
     ]
    }
   ],
   "source": [
    "#Set end seqeunces at both ends\n",
    "print(frag_a)\n",
    "frag_a = modifyends(frag_a,\"*{24}/-{24}\",\"-{22}/*{22}\")\n",
    "frag_b = modifyends(frag_b,\"*{22}/-{22}\",\"-{22}/*{22}\")\n",
    "frag_c = modifyends(frag_c,\"*{22}/-{22}\",\"-{24}/*{24}\")\n",
    "frag_a.getdnaseq(display=True,whole=False,end_length=30)\n",
    "frag_b.getdnaseq(display=True,whole=False,end_length=30)\n",
    "frag_c.getdnaseq(display=True,whole=False,end_length=30)"
   ]
  },
  {
   "cell_type": "code",
   "execution_count": null,
   "id": "understood-nashville",
   "metadata": {},
   "outputs": [],
   "source": [
    "pCMV_Target_AIDmax = joindna(frag_a,frag_b,frag_c,topology=\"circular\",project=\"pCMV-Target-AIDmax\")\n",
    "pCMV_Target_AIDmax.writedna(\"pCMV-Target-AIDmax.gbk\")"
   ]
  },
  {
   "cell_type": "markdown",
   "id": "alternative-synthesis",
   "metadata": {},
   "source": [
    "**pCMV-BE4max(C) construction**  \n",
    "The BE4max(C) plasmid (pCMV-BE4max(C)) was constructed to replace the C-terminal region of Target-AIDmax with the codon-optimized rAPOBEC1 and 2×UGI domains of BE4max. To this end, an nCas9 fragment obtained from pCMV-Target-AIDmax using SI447/SI1105 was assembled with rAPOBEC1 and 2×UGI fragments obtained from BE4max using SI1352/SI1357 and SI1359/SI1350, respectively, and a backbone obtained from pCMV-BE4max using SI1351/SI448. "
   ]
  },
  {
   "cell_type": "code",
   "execution_count": null,
   "id": "confident-given",
   "metadata": {},
   "outputs": [],
   "source": [
    "frag_a = cropdna(pCMV_Target_AIDmax, 2123, 7813) #, #\n",
    "frag_b = cropdna(pCMV_BE4max, 464,  1149) #GATGACGATGACAAGTCTGG, #\n",
    "frag_c = cropdna(pCMV_BE4max, 5376, 5970) #ATCCTGTGGGCCACAGGCCTGAAG, $TAATGAGTTTAAACCCGCTGATC\n",
    "frag_d = cropdna(pCMV_BE4max, 5993, 8135) #TAATAA"
   ]
  },
  {
   "cell_type": "code",
   "execution_count": 15,
   "id": "british-fence",
   "metadata": {},
   "outputs": [
    {
     "ename": "NameError",
     "evalue": "name 'frag_d' is not defined",
     "output_type": "error",
     "traceback": [
      "\u001b[0;31m---------------------------------------------------------------------------\u001b[0m",
      "\u001b[0;31mNameError\u001b[0m                                 Traceback (most recent call last)",
      "\u001b[0;32m<ipython-input-15-a4af28f55844>\u001b[0m in \u001b[0;36m<module>\u001b[0;34m\u001b[0m\n\u001b[1;32m      1\u001b[0m \u001b[0mfrag_b\u001b[0m \u001b[0;34m=\u001b[0m \u001b[0mjoindna\u001b[0m\u001b[0;34m(\u001b[0m\u001b[0mDNA\u001b[0m\u001b[0;34m(\u001b[0m\u001b[0;34m\"GATGACGATGACAAGTCTGG\"\u001b[0m\u001b[0;34m)\u001b[0m\u001b[0;34m,\u001b[0m \u001b[0mfrag_b\u001b[0m\u001b[0;34m)\u001b[0m\u001b[0;34m\u001b[0m\u001b[0;34m\u001b[0m\u001b[0m\n\u001b[1;32m      2\u001b[0m \u001b[0mfrag_c\u001b[0m \u001b[0;34m=\u001b[0m \u001b[0mjoindna\u001b[0m\u001b[0;34m(\u001b[0m\u001b[0mDNA\u001b[0m\u001b[0;34m(\u001b[0m\u001b[0;34m\"ATCCTGTGGGCCACAGGCCTGAAG\"\u001b[0m\u001b[0;34m)\u001b[0m\u001b[0;34m,\u001b[0m \u001b[0mfrag_c\u001b[0m\u001b[0;34m,\u001b[0m \u001b[0mDNA\u001b[0m\u001b[0;34m(\u001b[0m\u001b[0;34m\"TAATGAGTTTAAACCCGCTGATC\"\u001b[0m\u001b[0;34m)\u001b[0m\u001b[0;34m)\u001b[0m\u001b[0;34m\u001b[0m\u001b[0;34m\u001b[0m\u001b[0m\n\u001b[0;32m----> 3\u001b[0;31m \u001b[0mfrag_d\u001b[0m \u001b[0;34m=\u001b[0m \u001b[0mjoindna\u001b[0m\u001b[0;34m(\u001b[0m\u001b[0mDNA\u001b[0m\u001b[0;34m(\u001b[0m\u001b[0;34m\"TAATAA\"\u001b[0m\u001b[0;34m)\u001b[0m\u001b[0;34m,\u001b[0m \u001b[0mfrag_d\u001b[0m\u001b[0;34m)\u001b[0m\u001b[0;34m\u001b[0m\u001b[0;34m\u001b[0m\u001b[0m\n\u001b[0m",
      "\u001b[0;31mNameError\u001b[0m: name 'frag_d' is not defined"
     ]
    }
   ],
   "source": [
    "frag_b = joindna(DNA(\"GATGACGATGACAAGTCTGG\"), frag_b)\n",
    "frag_c = joindna(DNA(\"ATCCTGTGGGCCACAGGCCTGAAG\"), frag_c, DNA(\"TAATGAGTTTAAACCCGCTGATC\"))\n",
    "frag_d = joindna(DNA(\"TAATAA\"), frag_d)"
   ]
  },
  {
   "cell_type": "code",
   "execution_count": 16,
   "id": "rural-marathon",
   "metadata": {},
   "outputs": [
    {
     "ename": "ValueError",
     "evalue": "End location (3439) must be greater than or equal to start location (8562)",
     "output_type": "error",
     "traceback": [
      "\u001b[0;31m---------------------------------------------------------------------------\u001b[0m",
      "\u001b[0;31mValueError\u001b[0m                                Traceback (most recent call last)",
      "\u001b[0;32m<ipython-input-16-ab5b5bfa7014>\u001b[0m in \u001b[0;36m<module>\u001b[0;34m\u001b[0m\n\u001b[0;32m----> 1\u001b[0;31m \u001b[0mfrag_a\u001b[0m \u001b[0;34m=\u001b[0m \u001b[0mmodifyends\u001b[0m\u001b[0;34m(\u001b[0m\u001b[0mfrag_a\u001b[0m\u001b[0;34m,\u001b[0m\u001b[0;34m\"*{25}/-{25}\"\u001b[0m\u001b[0;34m,\u001b[0m\u001b[0;34m\"-{15}/*{15}\"\u001b[0m\u001b[0;34m)\u001b[0m\u001b[0;34m\u001b[0m\u001b[0;34m\u001b[0m\u001b[0m\n\u001b[0m\u001b[1;32m      2\u001b[0m \u001b[0mfrag_b\u001b[0m \u001b[0;34m=\u001b[0m \u001b[0mmodifyends\u001b[0m\u001b[0;34m(\u001b[0m\u001b[0mfrag_b\u001b[0m\u001b[0;34m,\u001b[0m\u001b[0;34m\"*{15}/-{15}\"\u001b[0m\u001b[0;34m,\u001b[0m\u001b[0;34m\"-{24}/*{24}\"\u001b[0m\u001b[0;34m)\u001b[0m\u001b[0;34m\u001b[0m\u001b[0;34m\u001b[0m\u001b[0m\n\u001b[1;32m      3\u001b[0m \u001b[0mfrag_c\u001b[0m \u001b[0;34m=\u001b[0m \u001b[0mmodifyends\u001b[0m\u001b[0;34m(\u001b[0m\u001b[0mfrag_c\u001b[0m\u001b[0;34m,\u001b[0m\u001b[0;34m\"*{24}/-{24}\"\u001b[0m\u001b[0;34m,\u001b[0m\u001b[0;34m\"-{26}/*{26}\"\u001b[0m\u001b[0;34m)\u001b[0m\u001b[0;34m\u001b[0m\u001b[0;34m\u001b[0m\u001b[0m\n\u001b[1;32m      4\u001b[0m \u001b[0mfrag_d\u001b[0m \u001b[0;34m=\u001b[0m \u001b[0mmodifyends\u001b[0m\u001b[0;34m(\u001b[0m\u001b[0mfrag_d\u001b[0m\u001b[0;34m,\u001b[0m\u001b[0;34m\"*{26}/-{26}\"\u001b[0m\u001b[0;34m,\u001b[0m\u001b[0;34m\"-{25}/*{25}\"\u001b[0m\u001b[0;34m)\u001b[0m\u001b[0;34m\u001b[0m\u001b[0;34m\u001b[0m\u001b[0m\n\u001b[1;32m      5\u001b[0m \u001b[0mfrag_a\u001b[0m\u001b[0;34m.\u001b[0m\u001b[0mgetdnaseq\u001b[0m\u001b[0;34m(\u001b[0m\u001b[0mdisplay\u001b[0m\u001b[0;34m=\u001b[0m\u001b[0;32mTrue\u001b[0m\u001b[0;34m,\u001b[0m\u001b[0mwhole\u001b[0m\u001b[0;34m=\u001b[0m\u001b[0;32mFalse\u001b[0m\u001b[0;34m,\u001b[0m\u001b[0mend_length\u001b[0m\u001b[0;34m=\u001b[0m\u001b[0;36m30\u001b[0m\u001b[0;34m)\u001b[0m\u001b[0;34m\u001b[0m\u001b[0;34m\u001b[0m\u001b[0m\n",
      "\u001b[0;32m/Volumes/Mac_mini_ext/Dropbox (Yachie Lab)/HIDETO_MORI.LAB/Experiments/Project/Dbrick/github/dna.py\u001b[0m in \u001b[0;36mmodifyends\u001b[0;34m(dna, left, right, add, add_right, add_left, project, comment, __direct)\u001b[0m\n\u001b[1;32m   1010\u001b[0m         \u001b[0mright_end_bottom\u001b[0m \u001b[0;34m=\u001b[0m \u001b[0;36m1\u001b[0m\u001b[0;34m\u001b[0m\u001b[0;34m\u001b[0m\u001b[0m\n\u001b[1;32m   1011\u001b[0m \u001b[0;34m\u001b[0m\u001b[0m\n\u001b[0;32m-> 1012\u001b[0;31m     \u001b[0;32mif\u001b[0m \u001b[0madd\u001b[0m \u001b[0;34m==\u001b[0m \u001b[0;36m1\u001b[0m \u001b[0;32mor\u001b[0m \u001b[0;34m(\u001b[0m\u001b[0mleft_end\u001b[0m \u001b[0;34m!=\u001b[0m \u001b[0mdna\u001b[0m\u001b[0;34m.\u001b[0m\u001b[0mseq\u001b[0m\u001b[0;34m[\u001b[0m\u001b[0mleft_end_length\u001b[0m\u001b[0;34m-\u001b[0m\u001b[0mleft_length\u001b[0m\u001b[0;34m:\u001b[0m\u001b[0mleft_end_length\u001b[0m\u001b[0;34m-\u001b[0m\u001b[0mleft_length\u001b[0m\u001b[0;34m+\u001b[0m\u001b[0mlen\u001b[0m\u001b[0;34m(\u001b[0m\u001b[0mleft_end\u001b[0m\u001b[0;34m)\u001b[0m\u001b[0;34m]\u001b[0m \u001b[0;32mor\u001b[0m \u001b[0mright_end\u001b[0m \u001b[0;34m!=\u001b[0m \u001b[0mstr\u001b[0m\u001b[0;34m(\u001b[0m\u001b[0mdna\u001b[0m\u001b[0;34m[\u001b[0m\u001b[0mlen\u001b[0m\u001b[0;34m(\u001b[0m\u001b[0mdna\u001b[0m\u001b[0;34m.\u001b[0m\u001b[0mseq\u001b[0m\u001b[0;34m)\u001b[0m\u001b[0;34m-\u001b[0m\u001b[0mright_end_length\u001b[0m \u001b[0;34m+\u001b[0m \u001b[0mright_length\u001b[0m \u001b[0;34m-\u001b[0m \u001b[0mlen\u001b[0m\u001b[0;34m(\u001b[0m\u001b[0mright_end\u001b[0m\u001b[0;34m)\u001b[0m\u001b[0;34m:\u001b[0m\u001b[0mlen\u001b[0m\u001b[0;34m(\u001b[0m\u001b[0mdna\u001b[0m\u001b[0;34m.\u001b[0m\u001b[0mseq\u001b[0m\u001b[0;34m)\u001b[0m\u001b[0;34m-\u001b[0m\u001b[0mright_end_length\u001b[0m \u001b[0;34m+\u001b[0m \u001b[0mright_length\u001b[0m\u001b[0;34m]\u001b[0m\u001b[0;34m.\u001b[0m\u001b[0mseq\u001b[0m\u001b[0;34m)\u001b[0m\u001b[0;34m)\u001b[0m\u001b[0;34m:\u001b[0m\u001b[0;34m\u001b[0m\u001b[0;34m\u001b[0m\u001b[0m\n\u001b[0m\u001b[1;32m   1013\u001b[0m         \u001b[0mleft_end\u001b[0m  \u001b[0;34m=\u001b[0m \u001b[0mDNA\u001b[0m\u001b[0;34m(\u001b[0m\u001b[0mseq\u001b[0m\u001b[0;34m=\u001b[0m\u001b[0mleft_end\u001b[0m\u001b[0;34m,\u001b[0m  \u001b[0m_direct\u001b[0m\u001b[0;34m=\u001b[0m\u001b[0;36m0\u001b[0m\u001b[0;34m)\u001b[0m\u001b[0;34m\u001b[0m\u001b[0;34m\u001b[0m\u001b[0m\n\u001b[1;32m   1014\u001b[0m         \u001b[0mright_end\u001b[0m \u001b[0;34m=\u001b[0m \u001b[0mDNA\u001b[0m\u001b[0;34m(\u001b[0m\u001b[0mseq\u001b[0m\u001b[0;34m=\u001b[0m\u001b[0mright_end\u001b[0m\u001b[0;34m,\u001b[0m \u001b[0m_direct\u001b[0m\u001b[0;34m=\u001b[0m\u001b[0;36m0\u001b[0m\u001b[0;34m)\u001b[0m\u001b[0;34m\u001b[0m\u001b[0;34m\u001b[0m\u001b[0m\n",
      "\u001b[0;32m/Volumes/Mac_mini_ext/Dropbox (Yachie Lab)/HIDETO_MORI.LAB/Experiments/Project/Dbrick/github/dna.py\u001b[0m in \u001b[0;36m__getitem__\u001b[0;34m(self, item)\u001b[0m\n\u001b[1;32m   2498\u001b[0m                 \u001b[0;32mif\u001b[0m \u001b[0mend\u001b[0m \u001b[0;34m<\u001b[0m \u001b[0;36m0\u001b[0m\u001b[0;34m:\u001b[0m\u001b[0;34m\u001b[0m\u001b[0;34m\u001b[0m\u001b[0m\n\u001b[1;32m   2499\u001b[0m                     \u001b[0mend\u001b[0m \u001b[0;34m=\u001b[0m \u001b[0mlen\u001b[0m\u001b[0;34m(\u001b[0m\u001b[0mself\u001b[0m\u001b[0;34m.\u001b[0m\u001b[0mseq\u001b[0m\u001b[0;34m)\u001b[0m \u001b[0;34m-\u001b[0m \u001b[0mabs\u001b[0m\u001b[0;34m(\u001b[0m\u001b[0mend\u001b[0m\u001b[0;34m)\u001b[0m\u001b[0;34m\u001b[0m\u001b[0;34m\u001b[0m\u001b[0m\n\u001b[0;32m-> 2500\u001b[0;31m                 \u001b[0msubdna\u001b[0m \u001b[0;34m=\u001b[0m \u001b[0mcropdna\u001b[0m\u001b[0;34m(\u001b[0m\u001b[0mself\u001b[0m\u001b[0;34m,\u001b[0m\u001b[0mstart\u001b[0m\u001b[0;34m,\u001b[0m\u001b[0mend\u001b[0m\u001b[0;34m,\u001b[0m\u001b[0m__direct\u001b[0m\u001b[0;34m=\u001b[0m\u001b[0;36m0\u001b[0m\u001b[0;34m)\u001b[0m\u001b[0;34m\u001b[0m\u001b[0;34m\u001b[0m\u001b[0m\n\u001b[0m\u001b[1;32m   2501\u001b[0m \u001b[0;34m\u001b[0m\u001b[0m\n\u001b[1;32m   2502\u001b[0m             \u001b[0;32melse\u001b[0m\u001b[0;34m:\u001b[0m\u001b[0;34m\u001b[0m\u001b[0;34m\u001b[0m\u001b[0m\n",
      "\u001b[0;32m/Volumes/Mac_mini_ext/Dropbox (Yachie Lab)/HIDETO_MORI.LAB/Experiments/Project/Dbrick/github/dna.py\u001b[0m in \u001b[0;36mcropdna\u001b[0;34m(dna, start, end, project, comment, __direct)\u001b[0m\n\u001b[1;32m    206\u001b[0m                 \u001b[0;32mif\u001b[0m \u001b[0mlen\u001b[0m\u001b[0;34m(\u001b[0m\u001b[0mfeat\u001b[0m\u001b[0;34m.\u001b[0m\u001b[0mlocation\u001b[0m\u001b[0;34m.\u001b[0m\u001b[0mparts\u001b[0m\u001b[0;34m)\u001b[0m \u001b[0;34m==\u001b[0m \u001b[0;36m1\u001b[0m\u001b[0;34m:\u001b[0m\u001b[0;34m\u001b[0m\u001b[0;34m\u001b[0m\u001b[0m\n\u001b[1;32m    207\u001b[0m                     \u001b[0mlength\u001b[0m \u001b[0;34m=\u001b[0m \u001b[0mlen\u001b[0m\u001b[0;34m(\u001b[0m\u001b[0mdna\u001b[0m\u001b[0;34m.\u001b[0m\u001b[0mseq\u001b[0m\u001b[0;34m)\u001b[0m \u001b[0;34m-\u001b[0m \u001b[0ms\u001b[0m \u001b[0;34m+\u001b[0m \u001b[0me\u001b[0m\u001b[0;34m\u001b[0m\u001b[0;34m\u001b[0m\u001b[0m\n\u001b[0;32m--> 208\u001b[0;31m                     \u001b[0mlocations\u001b[0m \u001b[0;34m=\u001b[0m \u001b[0;34m[\u001b[0m\u001b[0mFeatureLocation\u001b[0m\u001b[0;34m(\u001b[0m\u001b[0ms\u001b[0m\u001b[0;34m,\u001b[0m\u001b[0mlen\u001b[0m\u001b[0;34m(\u001b[0m\u001b[0mdna\u001b[0m\u001b[0;34m.\u001b[0m\u001b[0mseq\u001b[0m\u001b[0;34m)\u001b[0m\u001b[0;34m)\u001b[0m\u001b[0;34m,\u001b[0m\u001b[0mFeatureLocation\u001b[0m\u001b[0;34m(\u001b[0m\u001b[0;36m0\u001b[0m\u001b[0;34m,\u001b[0m\u001b[0me\u001b[0m\u001b[0;34m)\u001b[0m\u001b[0;34m]\u001b[0m\u001b[0;34m\u001b[0m\u001b[0;34m\u001b[0m\u001b[0m\n\u001b[0m\u001b[1;32m    209\u001b[0m                     \u001b[0;32mif\u001b[0m \u001b[0mstrand\u001b[0m \u001b[0;34m==\u001b[0m \u001b[0;34m-\u001b[0m\u001b[0;36m1\u001b[0m\u001b[0;34m:\u001b[0m\u001b[0;34m\u001b[0m\u001b[0;34m\u001b[0m\u001b[0m\n\u001b[1;32m    210\u001b[0m                         \u001b[0mlocations\u001b[0m\u001b[0;34m.\u001b[0m\u001b[0mreverse\u001b[0m\u001b[0;34m(\u001b[0m\u001b[0;34m)\u001b[0m\u001b[0;34m\u001b[0m\u001b[0;34m\u001b[0m\u001b[0m\n",
      "\u001b[0;32m/usr/local/lib/python3.9/site-packages/Bio/SeqFeature.py\u001b[0m in \u001b[0;36m__init__\u001b[0;34m(self, start, end, strand, ref, ref_db)\u001b[0m\n\u001b[1;32m    796\u001b[0m             \u001b[0;32mand\u001b[0m \u001b[0mself\u001b[0m\u001b[0;34m.\u001b[0m\u001b[0mstart\u001b[0m \u001b[0;34m>\u001b[0m \u001b[0mself\u001b[0m\u001b[0;34m.\u001b[0m\u001b[0mend\u001b[0m\u001b[0;34m\u001b[0m\u001b[0;34m\u001b[0m\u001b[0m\n\u001b[1;32m    797\u001b[0m         ):\n\u001b[0;32m--> 798\u001b[0;31m             raise ValueError(\n\u001b[0m\u001b[1;32m    799\u001b[0m                 \u001b[0;34mf\"End location ({self.end}) must be greater than \"\u001b[0m\u001b[0;34m\u001b[0m\u001b[0;34m\u001b[0m\u001b[0m\n\u001b[1;32m    800\u001b[0m                 \u001b[0;34mf\"or equal to start location ({self.start})\"\u001b[0m\u001b[0;34m\u001b[0m\u001b[0;34m\u001b[0m\u001b[0m\n",
      "\u001b[0;31mValueError\u001b[0m: End location (3439) must be greater than or equal to start location (8562)"
     ]
    }
   ],
   "source": [
    "frag_a = modifyends(frag_a,\"*{25}/-{25}\",\"-{15}/*{15}\")\n",
    "frag_b = modifyends(frag_b,\"*{15}/-{15}\",\"-{24}/*{24}\")\n",
    "frag_c = modifyends(frag_c,\"*{24}/-{24}\",\"-{26}/*{26}\")\n",
    "frag_d = modifyends(frag_d,\"*{26}/-{26}\",\"-{25}/*{25}\")\n",
    "frag_a.getdnaseq(display=True,whole=False,end_length=30)\n",
    "frag_b.getdnaseq(display=True,whole=False,end_length=30)\n",
    "frag_c.getdnaseq(display=True,whole=False,end_length=30)\n",
    "frag_d.getdnaseq(display=True,whole=False,end_length=30)"
   ]
  },
  {
   "cell_type": "code",
   "execution_count": 19,
   "id": "pressed-workshop",
   "metadata": {},
   "outputs": [],
   "source": [
    "pCMV_Target_BE4maxC = joindna(frag_a,frag_b,frag_c,frag_d,topology=\"circular\",project=\"pCMV-Target-BE4max(C)\")\n",
    "pCMV_Target_BE4maxC.writedna(\"pCMV-Target-BE4maxC.gbk\")"
   ]
  },
  {
   "cell_type": "markdown",
   "id": "active-holly",
   "metadata": {},
   "source": [
    "**pCMV-Target-ACEmax construction**  \n",
    "The Target-ACEmax plasmid (pCMV-Target-ACEmax) was constructed by assembling an ABEmax fragment obtained from pCMV-ABEmax using SI945/SI1305, a fragment encoding the C-terminus region of Target-AIDmax obtained from pUC-optimized-PmCDA1-ugi using SI1304/SI1307, and a plasmid backbone obtained from pCMV-ABEmax using SI1310/SI1309. "
   ]
  },
  {
   "cell_type": "code",
   "execution_count": 29,
   "id": "utility-bouquet",
   "metadata": {},
   "outputs": [],
   "source": [
    "frag_a = cropdna(pCMV_ABEmax, 5843, 465)\n",
    "frag_b = cropdna(pCMV_ABEmax, 362, 5754)\n",
    "frag_c = cropdna(opt_pmCDA1_ugi, 501, 1690)"
   ]
  },
  {
   "cell_type": "code",
   "execution_count": 30,
   "id": "continuous-thailand",
   "metadata": {},
   "outputs": [],
   "source": [
    "frag_a = frag_a = joindna(DNA(\"TGATAA\"), frag_a)\n",
    "frag_c = joindna(DNA(\"CCTGTCTCAGCTGGGAGGTGA\"), frag_c, DNA(\"TAATGAGTTTAAACCCGCTGA\")) "
   ]
  },
  {
   "cell_type": "code",
   "execution_count": 31,
   "id": "curious-bones",
   "metadata": {},
   "outputs": [
    {
     "name": "stdout",
     "output_type": "stream",
     "text": [
      "5' TGATAATGAGTTTAAACCCGCTGATCAGCCTCGACTGTGCCTTCTAGTTGCCAGCCATCTGTTGTTTGCCCCTCCCCCGTGCCTTCCTTGACCCTGGAAGGTGCC...AG------------------------------------------------------------------------------------------------------- 3'\n",
      "3' ------------------------AGTCGGAGCTGACACGGAAGATCAACGGTCGGTAGACAACAAACGGGGAGGGGGCACGGAAGGAACTGGGACCTTCCACGG...TCTCTAGGCGCCGGCGATTATGCTGAGTGATATCCCTCTCGGCGGTGGTACTTTGCCTGTCGGCTGCCTTCGCTCAAGCTCAGTGGTTTCTTCTTCGCCTTTCAG 5'\n",
      "\n",
      "5' AGATCCGCGGCCGCTAATACGACTCACTATAGGGAGAGCCGCCACCATGAAACGGACAGCCGACGGAAGCGAGTTCGAGTCACCAAAGAAGAAGCGGAAAGTCTC...AAGAGGTACACCAGCACCAAAGAGGTGCTGGACGCCACCCTGATCCACCAGAGCATCACCGGCCTGTACGAGACACGGATCGA---------------------- 3'\n",
      "3' -------------------------------------------------------------------------------------------------------AG...TTCTCCATGTGGTCGTGGTTTCTCCACGACCTGCGGTGGGACTAGGTGGTCTCGTAGTGGCCGGACATGCTCTGTGCCTAGCTGGACAGAGTCGACCCTCCACTG 5'\n",
      "\n",
      "5' CCTGTCTCAGCTGGGAGGTGACGGCGGAGG...ATGCTG------------------------ 3'\n",
      "3' ----------------------CCGCCTCC...TACGACACTATTACTCAAATTTGGGCGACT 5'\n",
      "\n",
      "5' TAATAATGAGTTTAAACCCGCTGATCAGCC...ACCGC------------------------- 3'\n",
      "3' --------------------------TCGG...TGGCGCGGTGTATCGTCTTGAAATTTTCAC 5'\n",
      "\n"
     ]
    }
   ],
   "source": [
    "frag_a = modifyends(frag_a,\"*{24}/-{24}\",\"-{103}/*{103}\")\n",
    "frag_b = modifyends(frag_b,\"*{103}/-{103}\",\"-{22}/*{22}\")\n",
    "frag_c = modifyends(frag_c,\"*{22}/-{22}\",\"-{24}/*{24}\")\n",
    "#frag_a.getdnaseq(display=True,whole=False,end_length=30)\n",
    "#frag_b.getdnaseq(display=True,whole=False,end_length=30)\n",
    "#frag_c.getdnaseq(display=True,whole=False,end_length=30)\n",
    "#frag_d.getdnaseq(display=True,whole=False,end_length=30)"
   ]
  },
  {
   "cell_type": "code",
   "execution_count": 32,
   "id": "horizontal-radiation",
   "metadata": {},
   "outputs": [],
   "source": [
    "pCMV_Target_ACEmax = joindna(frag_a,frag_b,frag_c,topology=\"circular\",project=\"pCMV-Target-ACEmax\")\n",
    "pCMV_Target_ACEmax.writedna(\"pCMV-Target-ACEmax.gbk\")"
   ]
  },
  {
   "cell_type": "markdown",
   "id": "imposed-george",
   "metadata": {},
   "source": [
    "**pCMV-ACBEmax construction**  \n",
    "the ACBEmax plasmid (pCMV-ACBEmax) was constructed by assembling an ABEmax fragment obtained from pCMV-Target-ACEmax using SI447/SI1105 with the three fragments encoding the rAPOBEC1 domain, 2×UGI domain, and the two backbone fragments that were prepared to construct pCMV-BE4max(C). "
   ]
  },
  {
   "cell_type": "code",
   "execution_count": null,
   "id": "whole-reading",
   "metadata": {},
   "outputs": [],
   "source": []
  }
 ],
 "metadata": {
  "kernelspec": {
   "display_name": "Python 3",
   "language": "python",
   "name": "python3"
  },
  "language_info": {
   "codemirror_mode": {
    "name": "ipython",
    "version": 3
   },
   "file_extension": ".py",
   "mimetype": "text/x-python",
   "name": "python",
   "nbconvert_exporter": "python",
   "pygments_lexer": "ipython3",
   "version": "3.9.1"
  }
 },
 "nbformat": 4,
 "nbformat_minor": 5
}
